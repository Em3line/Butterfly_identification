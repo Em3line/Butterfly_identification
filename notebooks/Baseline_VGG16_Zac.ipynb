{
 "cells": [
  {
   "cell_type": "code",
   "execution_count": 1,
   "id": "58daaecf",
   "metadata": {},
   "outputs": [],
   "source": [
    "import pandas as pd\n",
    "import matplotlib.pyplot as plt\n",
    "from PIL import Image\n",
    "import numpy as np\n",
    "import tensorflow as tf\n",
    "from tensorflow.keras.applications.vgg16 import preprocess_input\n",
    "from tensorflow.compat.v1 import ConfigProto , Session, InteractiveSession\n",
    "from tensorflow.compat.v1.keras.backend import set_session\n",
    "from tensorflow.keras.applications.vgg16 import VGG16\n",
    "from tensorflow.keras import optimizers, layers, models\n",
    "from tensorflow.keras.callbacks import EarlyStopping\n",
    "from sklearn.preprocessing import OneHotEncoder\n",
    "from tensorflow.keras.utils import image_dataset_from_directory"
   ]
  },
  {
   "cell_type": "code",
   "execution_count": 2,
   "id": "ea071814",
   "metadata": {},
   "outputs": [],
   "source": [
    "import gc"
   ]
  },
  {
   "cell_type": "code",
   "execution_count": 3,
   "id": "53281afc",
   "metadata": {},
   "outputs": [
    {
     "name": "stderr",
     "output_type": "stream",
     "text": [
      "2021-08-27 09:21:42.571374: I tensorflow/core/platform/cpu_feature_guard.cc:142] This TensorFlow binary is optimized with oneAPI Deep Neural Network Library (oneDNN) to use the following CPU instructions in performance-critical operations:  AVX2 FMA\n",
      "To enable them in other operations, rebuild TensorFlow with the appropriate compiler flags.\n",
      "2021-08-27 09:21:43.091209: I tensorflow/stream_executor/cuda/cuda_gpu_executor.cc:937] successful NUMA node read from SysFS had negative value (-1), but there must be at least one NUMA node, so returning NUMA node zero\n",
      "2021-08-27 09:21:44.216079: I tensorflow/stream_executor/cuda/cuda_gpu_executor.cc:937] successful NUMA node read from SysFS had negative value (-1), but there must be at least one NUMA node, so returning NUMA node zero\n",
      "2021-08-27 09:21:44.217423: I tensorflow/stream_executor/cuda/cuda_gpu_executor.cc:937] successful NUMA node read from SysFS had negative value (-1), but there must be at least one NUMA node, so returning NUMA node zero\n",
      "2021-08-27 09:21:51.731544: I tensorflow/stream_executor/cuda/cuda_gpu_executor.cc:937] successful NUMA node read from SysFS had negative value (-1), but there must be at least one NUMA node, so returning NUMA node zero\n",
      "2021-08-27 09:21:51.732768: I tensorflow/stream_executor/cuda/cuda_gpu_executor.cc:937] successful NUMA node read from SysFS had negative value (-1), but there must be at least one NUMA node, so returning NUMA node zero\n",
      "2021-08-27 09:21:51.733835: I tensorflow/stream_executor/cuda/cuda_gpu_executor.cc:937] successful NUMA node read from SysFS had negative value (-1), but there must be at least one NUMA node, so returning NUMA node zero\n",
      "2021-08-27 09:21:51.734826: I tensorflow/core/common_runtime/gpu/gpu_device.cc:1510] Created device /job:localhost/replica:0/task:0/device:GPU:0 with 2021 MB memory:  -> device: 0, name: NVIDIA GeForce GTX 1050 Ti, pci bus id: 0000:01:00.0, compute capability: 6.1\n",
      "2021-08-27 09:21:51.763636: I tensorflow/stream_executor/cuda/cuda_gpu_executor.cc:937] successful NUMA node read from SysFS had negative value (-1), but there must be at least one NUMA node, so returning NUMA node zero\n",
      "2021-08-27 09:21:51.764953: I tensorflow/stream_executor/cuda/cuda_gpu_executor.cc:937] successful NUMA node read from SysFS had negative value (-1), but there must be at least one NUMA node, so returning NUMA node zero\n",
      "2021-08-27 09:21:51.766111: I tensorflow/stream_executor/cuda/cuda_gpu_executor.cc:937] successful NUMA node read from SysFS had negative value (-1), but there must be at least one NUMA node, so returning NUMA node zero\n",
      "2021-08-27 09:21:51.767661: I tensorflow/stream_executor/cuda/cuda_gpu_executor.cc:937] successful NUMA node read from SysFS had negative value (-1), but there must be at least one NUMA node, so returning NUMA node zero\n",
      "2021-08-27 09:21:51.769363: I tensorflow/stream_executor/cuda/cuda_gpu_executor.cc:937] successful NUMA node read from SysFS had negative value (-1), but there must be at least one NUMA node, so returning NUMA node zero\n",
      "2021-08-27 09:21:51.770384: I tensorflow/core/common_runtime/gpu/gpu_device.cc:1510] Created device /job:localhost/replica:0/task:0/device:GPU:0 with 2021 MB memory:  -> device: 0, name: NVIDIA GeForce GTX 1050 Ti, pci bus id: 0000:01:00.0, compute capability: 6.1\n"
     ]
    }
   ],
   "source": [
    "config = ConfigProto()\n",
    "config.gpu_options.per_process_gpu_memory_fraction = 0.5\n",
    "set_session(Session(config=config));\n",
    "config.gpu_options.allow_growth = True\n",
    "session = InteractiveSession(config=config)"
   ]
  },
  {
   "cell_type": "markdown",
   "id": "ab68e3d4",
   "metadata": {},
   "source": [
    "# Préparation des échantillons"
   ]
  },
  {
   "cell_type": "code",
   "execution_count": 4,
   "id": "18d23d8d",
   "metadata": {},
   "outputs": [],
   "source": [
    "def data_transformation(df):\n",
    "    data = df.T\n",
    "    data[\"path_to_image\"]=\"../raw_data/IMG/\"+data[\"image_name\"]\n",
    "    data['species'] = data['genus']+' '+data['specific_epithet']\n",
    "    return data"
   ]
  },
  {
   "cell_type": "code",
   "execution_count": 5,
   "id": "79006a74",
   "metadata": {},
   "outputs": [],
   "source": [
    "def X_y_from_df(df, sample_size, resize_size=256):\n",
    "    data_sample = df.sample(sample_size, random_state = 818)\n",
    "    image = []\n",
    "\n",
    "    for i in data_sample['path_to_image'] :\n",
    "        img = Image.open(i)\n",
    "        img = img.resize((resize_size, resize_size))\n",
    "        image.append(np.array(img))\n",
    "\n",
    "    X = np.array(image)\n",
    "    y = np.array(data_sample['species'])\n",
    "    return X, y"
   ]
  },
  {
   "cell_type": "code",
   "execution_count": 6,
   "id": "2126db2c",
   "metadata": {},
   "outputs": [
    {
     "data": {
      "text/plain": [
       "'/home/zac/code/Em3line/Butterfly_identification/notebooks'"
      ]
     },
     "execution_count": 6,
     "metadata": {},
     "output_type": "execute_result"
    }
   ],
   "source": [
    "pwd"
   ]
  },
  {
   "cell_type": "code",
   "execution_count": 7,
   "id": "77f59502",
   "metadata": {},
   "outputs": [
    {
     "name": "stdout",
     "output_type": "stream",
     "text": [
      "Found 92694 files belonging to 2 classes.\n"
     ]
    },
    {
     "name": "stderr",
     "output_type": "stream",
     "text": [
      "2021-08-27 09:21:59.962860: I tensorflow/stream_executor/cuda/cuda_gpu_executor.cc:937] successful NUMA node read from SysFS had negative value (-1), but there must be at least one NUMA node, so returning NUMA node zero\n",
      "2021-08-27 09:21:59.963205: I tensorflow/stream_executor/cuda/cuda_gpu_executor.cc:937] successful NUMA node read from SysFS had negative value (-1), but there must be at least one NUMA node, so returning NUMA node zero\n",
      "2021-08-27 09:21:59.963452: I tensorflow/stream_executor/cuda/cuda_gpu_executor.cc:937] successful NUMA node read from SysFS had negative value (-1), but there must be at least one NUMA node, so returning NUMA node zero\n",
      "2021-08-27 09:21:59.963866: I tensorflow/stream_executor/cuda/cuda_gpu_executor.cc:937] successful NUMA node read from SysFS had negative value (-1), but there must be at least one NUMA node, so returning NUMA node zero\n",
      "2021-08-27 09:21:59.964115: I tensorflow/stream_executor/cuda/cuda_gpu_executor.cc:937] successful NUMA node read from SysFS had negative value (-1), but there must be at least one NUMA node, so returning NUMA node zero\n",
      "2021-08-27 09:21:59.964354: I tensorflow/stream_executor/cuda/cuda_gpu_executor.cc:937] successful NUMA node read from SysFS had negative value (-1), but there must be at least one NUMA node, so returning NUMA node zero\n",
      "2021-08-27 09:21:59.964628: I tensorflow/stream_executor/cuda/cuda_gpu_executor.cc:937] successful NUMA node read from SysFS had negative value (-1), but there must be at least one NUMA node, so returning NUMA node zero\n",
      "2021-08-27 09:21:59.964872: I tensorflow/stream_executor/cuda/cuda_gpu_executor.cc:937] successful NUMA node read from SysFS had negative value (-1), but there must be at least one NUMA node, so returning NUMA node zero\n",
      "2021-08-27 09:21:59.965085: I tensorflow/core/common_runtime/gpu/gpu_device.cc:1510] Created device /job:localhost/replica:0/task:0/device:GPU:0 with 2021 MB memory:  -> device: 0, name: NVIDIA GeForce GTX 1050 Ti, pci bus id: 0000:01:00.0, compute capability: 6.1\n"
     ]
    }
   ],
   "source": [
    "ds = image_dataset_from_directory(\n",
    "  \"/home/zac/code/Em3line/Butterfly_identification/raw_data\",\n",
    "  batch_size=32,\n",
    "  image_size=(128, 128))"
   ]
  },
  {
   "cell_type": "code",
   "execution_count": 8,
   "id": "ea86511f",
   "metadata": {},
   "outputs": [
    {
     "name": "stderr",
     "output_type": "stream",
     "text": [
      "2021-08-27 09:22:00.388916: I tensorflow/compiler/mlir/mlir_graph_optimization_pass.cc:185] None of the MLIR Optimization Passes are enabled (registered 2)\n"
     ]
    },
    {
     "name": "stdout",
     "output_type": "stream",
     "text": [
      "tf.Tensor([0 0 1 0 0 1 0 0 1 0 1 1 1 0 0 1 0 0 1 1 1 1 0 1 0 0 0 1 1 0 0 0], shape=(32,), dtype=int32)\n"
     ]
    }
   ],
   "source": [
    "for i, j in ds:\n",
    "    #print(i)\n",
    "    print(j)\n",
    "    break"
   ]
  },
  {
   "cell_type": "markdown",
   "id": "5cba1af8",
   "metadata": {},
   "source": [
    "# Lancement du modèle"
   ]
  },
  {
   "cell_type": "code",
   "execution_count": 9,
   "id": "2fd27521",
   "metadata": {},
   "outputs": [],
   "source": [
    "def model_VGG16( X_train, y_train_cat, X_val, y_val_cat, X_test, y_test_cat, image_size,  patience=2, learning_rate=0.001, nb_epochs=15, nb_couches_dense_layer=130):\n",
    "    \n",
    "    model = VGG16(weights=\"imagenet\", include_top=False, input_shape = image_size)\n",
    "\n",
    "\n",
    "\n",
    "    model.trainable = False\n",
    "    \n",
    "    #add last layers\n",
    "    flatten_layer = layers.Flatten()\n",
    "    dense_layer = layers.Dense(nb_couches_dense_layer, activation='relu')\n",
    "    dropout_layer1 = layers.Dropout(.2, input_shape=(2,))\n",
    "    dense_layer2 = layers.Dense(1000, activation='relu')\n",
    "    dropout_layer2 = layers.Dropout(.2, input_shape=(2,))\n",
    "    prediction_layer = layers.Dense(366, activation='softmax')\n",
    "    model = models.Sequential([\n",
    "        model,\n",
    "        flatten_layer,\n",
    "        dense_layer,\n",
    "        dropout_layer1,\n",
    "        dense_layer2,\n",
    "        dropout_layer2,\n",
    "        prediction_layer\n",
    "    ])\n",
    "    \n",
    "    #build model\n",
    "    opt = optimizers.Adam(learning_rate=learning_rate)\n",
    "    model.compile(loss='categorical_crossentropy',\n",
    "                  optimizer=opt,\n",
    "                  metrics=['accuracy'])\n",
    "    model.summary()\n",
    "    \n",
    "    #set earlystopping\n",
    "    es = EarlyStopping(monitor='val_loss', patience=patience, verbose=1, restore_best_weights=True)\n",
    "    \n",
    "    #launch model\n",
    "    history = model.fit(X_train, y_train_cat, \n",
    "                    validation_data=(X_val, y_val_cat), \n",
    "                    epochs=nb_epochs, \n",
    "                    batch_size=32, \n",
    "                    callbacks=[es])\n",
    "    \n",
    "    #evaluate model\n",
    "    res_vgg = model.evaluate(X_test, y_test_cat)\n",
    "    \n",
    "    test_accuracy_vgg = res_vgg[-1]\n",
    "    \n",
    "    return (f\"test_accuracy_vgg = {round(test_accuracy_vgg,2)*100} %\"), history"
   ]
  },
  {
   "cell_type": "markdown",
   "id": "01f94475",
   "metadata": {},
   "source": [
    "# Courbes d'apprentissage"
   ]
  },
  {
   "cell_type": "code",
   "execution_count": 10,
   "id": "d3aafbe5",
   "metadata": {},
   "outputs": [],
   "source": [
    "def plot_history(history, title='', axs=None, exp_name=\"\"):\n",
    "    if axs is not None:\n",
    "        ax1, ax2 = axs\n",
    "    else:\n",
    "        f, (ax1, ax2) = plt.subplots(1, 2, figsize=(12, 4))\n",
    "    \n",
    "    if len(exp_name) > 0 and exp_name[0] != '_':\n",
    "        exp_name = '_' + exp_name\n",
    "    ax1.plot(history.history['loss'], label='train' + exp_name)\n",
    "    ax1.plot(history.history['val_loss'], label='val' + exp_name)\n",
    "    #ax1.set_ylim(0., 2.2)\n",
    "    ax1.set_title('loss')\n",
    "    ax1.legend()\n",
    "\n",
    "    ax2.plot(history.history['accuracy'], label='train accuracy'  + exp_name)\n",
    "    ax2.plot(history.history['val_accuracy'], label='val accuracy'  + exp_name)\n",
    "    #ax2.set_ylim(0.25, 1.)\n",
    "    ax2.set_title('Accuracy')\n",
    "    ax2.legend()\n",
    "    return (ax1, ax2)"
   ]
  },
  {
   "cell_type": "code",
   "execution_count": 11,
   "id": "a5f94e9e",
   "metadata": {},
   "outputs": [],
   "source": [
    "df_train = data_transformation(pd.read_json('~/code/Em3line/Butterfly_identification/raw_data/ETHEC_dataset/splits/train.json'))\n",
    "df_val = data_transformation(pd.read_json('~/code/Em3line/Butterfly_identification/raw_data/ETHEC_dataset/splits/val.json'))\n",
    "df_test = data_transformation(pd.read_json('~/code/Em3line/Butterfly_identification/raw_data/ETHEC_dataset/splits/test.json'))\n",
    "\n",
    "X_val, y_val = X_y_from_df(df_val, 800, 128)\n",
    "X_test, y_test = X_y_from_df(df_test, 800, 128)\n",
    "X_train, y_train = X_y_from_df(df_train, 4000, 128)\n",
    "\n",
    "y_train = y_train.reshape(4000, 1)\n",
    "y_val = y_val.reshape(800, 1)\n",
    "y_test = y_test.reshape(800, 1)\n",
    "\n",
    "\n",
    "X_train = preprocess_input(X_train)\n",
    "X_val = preprocess_input(X_val)\n",
    "X_test = preprocess_input(X_test)\n",
    "\n",
    "del df_train\n",
    "del df_test\n",
    "del df_val\n",
    "\n"
   ]
  },
  {
   "cell_type": "code",
   "execution_count": 12,
   "id": "b3803399",
   "metadata": {},
   "outputs": [
    {
     "name": "stdout",
     "output_type": "stream",
     "text": [
      "0    366\n",
      "dtype: int64\n"
     ]
    }
   ],
   "source": [
    "\n",
    "ohe = OneHotEncoder(sparse=False, handle_unknown = 'ignore')\n",
    "ohe.fit(y_train)\n",
    "print(pd.DataFrame(y_train).nunique())\n",
    "y_train_cat = ohe.transform(y_train)\n",
    "y_val_cat = ohe.transform(y_val)\n",
    "y_test_cat = ohe.transform(y_test)\n",
    "del y_train\n",
    "del y_test\n",
    "del y_val\n",
    "del ohe\n",
    "gc.collect();"
   ]
  },
  {
   "cell_type": "code",
   "execution_count": 13,
   "id": "153a480f",
   "metadata": {},
   "outputs": [
    {
     "data": {
      "text/plain": [
       "[]"
      ]
     },
     "execution_count": 13,
     "metadata": {},
     "output_type": "execute_result"
    }
   ],
   "source": [
    "gc.garbage"
   ]
  },
  {
   "cell_type": "code",
   "execution_count": 14,
   "id": "e90fef69",
   "metadata": {
    "scrolled": true
   },
   "outputs": [
    {
     "name": "stdout",
     "output_type": "stream",
     "text": [
      "Model: \"sequential\"\n",
      "_________________________________________________________________\n",
      "Layer (type)                 Output Shape              Param #   \n",
      "=================================================================\n",
      "vgg16 (Functional)           (None, 4, 4, 512)         14714688  \n",
      "_________________________________________________________________\n",
      "flatten (Flatten)            (None, 8192)              0         \n",
      "_________________________________________________________________\n",
      "dense (Dense)                (None, 2000)              16386000  \n",
      "_________________________________________________________________\n",
      "dropout (Dropout)            (None, 2000)              0         \n",
      "_________________________________________________________________\n",
      "dense_1 (Dense)              (None, 1000)              2001000   \n",
      "_________________________________________________________________\n",
      "dropout_1 (Dropout)          (None, 1000)              0         \n",
      "_________________________________________________________________\n",
      "dense_2 (Dense)              (None, 366)               366366    \n",
      "=================================================================\n",
      "Total params: 33,468,054\n",
      "Trainable params: 18,753,366\n",
      "Non-trainable params: 14,714,688\n",
      "_________________________________________________________________\n"
     ]
    },
    {
     "name": "stderr",
     "output_type": "stream",
     "text": [
      "2021-08-27 09:24:42.057356: W tensorflow/core/framework/cpu_allocator_impl.cc:80] Allocation of 786432000 exceeds 10% of free system memory.\n",
      "2021-08-27 09:24:42.559306: W tensorflow/core/framework/cpu_allocator_impl.cc:80] Allocation of 786432000 exceeds 10% of free system memory.\n"
     ]
    },
    {
     "name": "stdout",
     "output_type": "stream",
     "text": [
      "Epoch 1/50\n"
     ]
    },
    {
     "name": "stderr",
     "output_type": "stream",
     "text": [
      "2021-08-27 09:24:45.524717: I tensorflow/stream_executor/cuda/cuda_dnn.cc:369] Loaded cuDNN version 8202\n",
      "2021-08-27 09:24:50.452092: W tensorflow/core/common_runtime/bfc_allocator.cc:272] Allocator (GPU_0_bfc) ran out of memory trying to allocate 1.02GiB with freed_by_count=0. The caller indicates that this is not a failure, but may mean that there could be performance gains if more memory were available.\n",
      "2021-08-27 09:24:55.081701: W tensorflow/core/common_runtime/bfc_allocator.cc:272] Allocator (GPU_0_bfc) ran out of memory trying to allocate 1.14GiB with freed_by_count=0. The caller indicates that this is not a failure, but may mean that there could be performance gains if more memory were available.\n",
      "2021-08-27 09:24:55.081772: W tensorflow/core/common_runtime/bfc_allocator.cc:272] Allocator (GPU_0_bfc) ran out of memory trying to allocate 3.04GiB with freed_by_count=0. The caller indicates that this is not a failure, but may mean that there could be performance gains if more memory were available.\n",
      "2021-08-27 09:24:55.116976: W tensorflow/core/common_runtime/bfc_allocator.cc:272] Allocator (GPU_0_bfc) ran out of memory trying to allocate 592.56MiB with freed_by_count=0. The caller indicates that this is not a failure, but may mean that there could be performance gains if more memory were available.\n",
      "2021-08-27 09:24:55.418360: W tensorflow/core/common_runtime/bfc_allocator.cc:272] Allocator (GPU_0_bfc) ran out of memory trying to allocate 1.29GiB with freed_by_count=0. The caller indicates that this is not a failure, but may mean that there could be performance gains if more memory were available.\n",
      "2021-08-27 09:24:56.013970: W tensorflow/core/common_runtime/bfc_allocator.cc:272] Allocator (GPU_0_bfc) ran out of memory trying to allocate 2.55GiB with freed_by_count=0. The caller indicates that this is not a failure, but may mean that there could be performance gains if more memory were available.\n",
      "2021-08-27 09:24:56.347620: W tensorflow/core/common_runtime/bfc_allocator.cc:272] Allocator (GPU_0_bfc) ran out of memory trying to allocate 1.18GiB with freed_by_count=0. The caller indicates that this is not a failure, but may mean that there could be performance gains if more memory were available.\n",
      "2021-08-27 09:24:56.935986: W tensorflow/core/common_runtime/bfc_allocator.cc:272] Allocator (GPU_0_bfc) ran out of memory trying to allocate 2.34GiB with freed_by_count=0. The caller indicates that this is not a failure, but may mean that there could be performance gains if more memory were available.\n",
      "2021-08-27 09:24:57.277840: W tensorflow/core/common_runtime/bfc_allocator.cc:272] Allocator (GPU_0_bfc) ran out of memory trying to allocate 1.15GiB with freed_by_count=0. The caller indicates that this is not a failure, but may mean that there could be performance gains if more memory were available.\n",
      "2021-08-27 09:24:57.868824: W tensorflow/core/common_runtime/bfc_allocator.cc:272] Allocator (GPU_0_bfc) ran out of memory trying to allocate 2.28GiB with freed_by_count=0. The caller indicates that this is not a failure, but may mean that there could be performance gains if more memory were available.\n"
     ]
    },
    {
     "name": "stdout",
     "output_type": "stream",
     "text": [
      "125/125 [==============================] - 29s 107ms/step - loss: 6.1997 - accuracy: 0.2425 - val_loss: 2.6101 - val_accuracy: 0.3837\n",
      "Epoch 2/50\n",
      "125/125 [==============================] - 13s 104ms/step - loss: 2.4940 - accuracy: 0.4688 - val_loss: 1.9043 - val_accuracy: 0.4800\n",
      "Epoch 3/50\n",
      "125/125 [==============================] - 13s 106ms/step - loss: 1.9593 - accuracy: 0.5495 - val_loss: 1.6334 - val_accuracy: 0.4938\n",
      "Epoch 4/50\n",
      "125/125 [==============================] - 13s 105ms/step - loss: 1.6149 - accuracy: 0.5970 - val_loss: 1.2442 - val_accuracy: 0.5950\n",
      "Epoch 5/50\n",
      "125/125 [==============================] - 13s 107ms/step - loss: 1.2731 - accuracy: 0.6740 - val_loss: 1.1984 - val_accuracy: 0.6175\n",
      "Epoch 6/50\n",
      "125/125 [==============================] - 13s 108ms/step - loss: 1.2156 - accuracy: 0.6873 - val_loss: 1.1957 - val_accuracy: 0.6087\n",
      "Epoch 7/50\n",
      "125/125 [==============================] - 14s 109ms/step - loss: 1.1313 - accuracy: 0.7035 - val_loss: 1.1897 - val_accuracy: 0.6237\n",
      "Epoch 8/50\n",
      "125/125 [==============================] - 14s 109ms/step - loss: 1.0272 - accuracy: 0.7203 - val_loss: 1.1071 - val_accuracy: 0.6263\n",
      "Epoch 9/50\n",
      "125/125 [==============================] - 14s 110ms/step - loss: 0.9037 - accuracy: 0.7513 - val_loss: 0.9916 - val_accuracy: 0.6712\n",
      "Epoch 10/50\n",
      "125/125 [==============================] - 14s 111ms/step - loss: 0.8588 - accuracy: 0.7625 - val_loss: 1.2694 - val_accuracy: 0.6187\n",
      "Epoch 11/50\n",
      "125/125 [==============================] - 14s 111ms/step - loss: 0.8653 - accuracy: 0.7632 - val_loss: 1.3064 - val_accuracy: 0.6225\n",
      "Epoch 12/50\n",
      "125/125 [==============================] - 14s 111ms/step - loss: 0.8885 - accuracy: 0.7642 - val_loss: 1.2200 - val_accuracy: 0.6350\n",
      "Restoring model weights from the end of the best epoch.\n",
      "Epoch 00012: early stopping\n",
      "25/25 [==============================] - 2s 86ms/step - loss: 2.2041 - accuracy: 0.5238\n"
     ]
    }
   ],
   "source": [
    "check, model = model_VGG16(X_train, y_train_cat, X_val, y_val_cat, X_test, y_test_cat, X_train[0].shape, 3, 0.001, 50, 2000)"
   ]
  },
  {
   "cell_type": "code",
   "execution_count": 15,
   "id": "efaf37c5",
   "metadata": {},
   "outputs": [
    {
     "data": {
      "text/plain": [
       "(<AxesSubplot:title={'center':'loss'}>,\n",
       " <AxesSubplot:title={'center':'Accuracy'}>)"
      ]
     },
     "execution_count": 15,
     "metadata": {},
     "output_type": "execute_result"
    },
    {
     "data": {
      "image/png": "[encoded data removed]",
      "text/plain": [
       "<Figure size 864x288 with 2 Axes>"
      ]
     },
     "metadata": {
      "needs_background": "light"
     },
     "output_type": "display_data"
    }
   ],
   "source": [
    "plot_history(model)"
   ]
  },
  {
   "cell_type": "code",
   "execution_count": null,
   "id": "ac61533d",
   "metadata": {},
   "outputs": [],
   "source": [
    "del check\n",
    "del model\n"
   ]
  },
  {
   "cell_type": "code",
   "execution_count": null,
   "id": "9a9a96c4",
   "metadata": {},
   "outputs": [],
   "source": [
    "del ohe"
   ]
  },
  {
   "cell_type": "code",
   "execution_count": null,
   "id": "84711923",
   "metadata": {},
   "outputs": [],
   "source": [
    "gc.collect()"
   ]
  },
  {
   "cell_type": "code",
   "execution_count": 17,
   "id": "77b7ba86",
   "metadata": {},
   "outputs": [
    {
     "data": {
      "text/plain": [
       "[]"
      ]
     },
     "execution_count": 17,
     "metadata": {},
     "output_type": "execute_result"
    }
   ],
   "source": [
    "gc.garbage"
   ]
  },
  {
   "cell_type": "code",
   "execution_count": null,
   "id": "b125c666",
   "metadata": {},
   "outputs": [],
   "source": [
    "#plot_history(model_256)"
   ]
  },
  {
   "cell_type": "markdown",
   "id": "d3422796",
   "metadata": {},
   "source": [
    "# Historique"
   ]
  },
  {
   "cell_type": "code",
   "execution_count": null,
   "id": "329e77a6",
   "metadata": {},
   "outputs": [],
   "source": [
    "plt.imshow(X_train[0])"
   ]
  },
  {
   "cell_type": "code",
   "execution_count": null,
   "id": "6569cb16",
   "metadata": {},
   "outputs": [],
   "source": [
    "X_train[0].shape"
   ]
  },
  {
   "cell_type": "code",
   "execution_count": null,
   "id": "accc3500",
   "metadata": {},
   "outputs": [],
   "source": [
    "model_VGG16(X_train, y_train_cat, X_val, y_val_cat, X_test, y_test_cat, X_train[0].shape, 5, 0.001, 15, 130)"
   ]
  },
  {
   "cell_type": "code",
   "execution_count": null,
   "id": "a8c8d144",
   "metadata": {
    "scrolled": true
   },
   "outputs": [],
   "source": [
    "#model = load_model()\n",
    "#model.summary()"
   ]
  },
  {
   "cell_type": "code",
   "execution_count": null,
   "id": "e96057c5",
   "metadata": {},
   "outputs": [],
   "source": [
    "def set_nontrainable_layers(model):\n",
    "    # Set the first layers to be untrainable\n",
    "    model.trainable = False\n",
    "    \n",
    "    return model\n",
    "\n",
    "model\n",
    "model = set_nontrainable_layers(model)\n",
    "\n",
    "model.summary()"
   ]
  },
  {
   "cell_type": "code",
   "execution_count": null,
   "id": "8d4c2ce8",
   "metadata": {},
   "outputs": [],
   "source": [
    "from tensorflow.keras import layers, models\n",
    "\n",
    "def add_last_layers(model):\n",
    "    '''Take a pre-trained model, set its parameters as non-trainables, and add additional trainable layers on top'''\n",
    "    # $CHALLENGIFY_BEGIN\n",
    "    base_model = set_nontrainable_layers(model)\n",
    "    flatten_layer = layers.Flatten()\n",
    "    dense_layer = layers.Dense(130, activation='relu')\n",
    "    prediction_layer = layers.Dense(248, activation='softmax')\n",
    "    \n",
    "    \n",
    "    model = models.Sequential([\n",
    "        base_model,\n",
    "        flatten_layer,\n",
    "        dense_layer,\n",
    "        prediction_layer\n",
    "    ])\n",
    "    # $CHALLENGIFY_END\n",
    "    return model"
   ]
  },
  {
   "cell_type": "code",
   "execution_count": null,
   "id": "c651dada",
   "metadata": {},
   "outputs": [],
   "source": [
    "model = add_last_layers(model)\n",
    "model.summary()"
   ]
  },
  {
   "cell_type": "code",
   "execution_count": null,
   "id": "9b24d911",
   "metadata": {},
   "outputs": [],
   "source": [
    "from tensorflow.keras import optimizers\n",
    "\n",
    "def build_model():\n",
    "    # $CHALLENGIFY_BEGIN    \n",
    "    model = load_model()\n",
    "    model = add_last_layers(model)\n",
    "    \n",
    "    opt = optimizers.Adam(learning_rate=1e-3)\n",
    "    model.compile(loss='categorical_crossentropy',\n",
    "                  optimizer=opt,\n",
    "                  metrics=['accuracy'])\n",
    "    return model\n",
    "    # $CHALLENGIFY_END"
   ]
  },
  {
   "cell_type": "code",
   "execution_count": null,
   "id": "4c91629d",
   "metadata": {},
   "outputs": [],
   "source": [
    "model = build_model()"
   ]
  },
  {
   "cell_type": "code",
   "execution_count": null,
   "id": "8ee1121c",
   "metadata": {},
   "outputs": [],
   "source": [
    "from tensorflow.keras.applications.vgg16 import VGG16\n",
    "\n",
    "def load_model():\n",
    "    # $CHALLENGIFY_BEGIN\n",
    "    model = VGG16(weights=\"imagenet\", include_top=False, input_shape=image[0].shape)\n",
    "    # $CHALLENGIFY_END\n",
    "    \n",
    "    return model"
   ]
  },
  {
   "cell_type": "code",
   "execution_count": null,
   "id": "6e58f45f",
   "metadata": {},
   "outputs": [],
   "source": [
    "X_train.shape"
   ]
  },
  {
   "cell_type": "code",
   "execution_count": null,
   "id": "285fd348",
   "metadata": {},
   "outputs": [],
   "source": [
    "X_val.shape"
   ]
  },
  {
   "cell_type": "code",
   "execution_count": null,
   "id": "ca2d83b8",
   "metadata": {},
   "outputs": [],
   "source": [
    "y_train"
   ]
  },
  {
   "cell_type": "code",
   "execution_count": null,
   "id": "1a636cfc",
   "metadata": {
    "scrolled": true
   },
   "outputs": [],
   "source": [
    "y_train.shape"
   ]
  },
  {
   "cell_type": "code",
   "execution_count": null,
   "id": "373dc7d2",
   "metadata": {
    "scrolled": true
   },
   "outputs": [],
   "source": [
    "y_val.shape"
   ]
  },
  {
   "cell_type": "code",
   "execution_count": null,
   "id": "cccbd91a",
   "metadata": {},
   "outputs": [],
   "source": [
    "y_cat.shape"
   ]
  },
  {
   "cell_type": "code",
   "execution_count": null,
   "id": "b8494bd2",
   "metadata": {},
   "outputs": [],
   "source": [
    "y_val_cat.shape"
   ]
  },
  {
   "cell_type": "code",
   "execution_count": null,
   "id": "f5b744d4",
   "metadata": {
    "scrolled": true
   },
   "outputs": [],
   "source": [
    "X_train.shape"
   ]
  },
  {
   "cell_type": "code",
   "execution_count": null,
   "id": "9794fd8d",
   "metadata": {},
   "outputs": [],
   "source": [
    "X_val.shape"
   ]
  },
  {
   "cell_type": "code",
   "execution_count": null,
   "id": "d58c31b5",
   "metadata": {},
   "outputs": [],
   "source": [
    "from tensorflow.keras.callbacks import EarlyStopping\n",
    "\n",
    "es = EarlyStopping(monitor='val_loss', mode='max', patience=2, verbose=1, restore_best_weights=True)\n",
    "\n",
    "history = model.fit(X_train, y_cat, \n",
    "                    validation_data=(X_val, y_val_cat), \n",
    "                    epochs=20, \n",
    "                    batch_size=16, \n",
    "                    callbacks=[es])"
   ]
  },
  {
   "cell_type": "code",
   "execution_count": null,
   "id": "3430842f",
   "metadata": {},
   "outputs": [],
   "source": [
    "res_vgg = model.evaluate(X_test, y_test_cat)\n",
    "\n",
    "test_accuracy_vgg = res_vgg[-1]\n",
    "\n",
    "print(f\"test_accuracy_vgg = {round(test_accuracy_vgg,2)*100} %\")"
   ]
  }
 ],
 "metadata": {
  "kernelspec": {
   "display_name": "Python 3",
   "language": "python",
   "name": "python3"
  },
  "language_info": {
   "codemirror_mode": {
    "name": "ipython",
    "version": 3
   },
   "file_extension": ".py",
   "mimetype": "text/x-python",
   "name": "python",
   "nbconvert_exporter": "python",
   "pygments_lexer": "ipython3",
   "version": "3.8.6"
  },
  "toc": {
   "base_numbering": 1,
   "nav_menu": {},
   "number_sections": true,
   "sideBar": true,
   "skip_h1_title": false,
   "title_cell": "Table of Contents",
   "title_sidebar": "Contents",
   "toc_cell": false,
   "toc_position": {},
   "toc_section_display": true,
   "toc_window_display": false
  }
 },
 "nbformat": 4,
 "nbformat_minor": 5
}

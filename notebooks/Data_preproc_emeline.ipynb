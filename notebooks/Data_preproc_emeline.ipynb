{
 "cells": [
  {
   "cell_type": "code",
   "execution_count": null,
   "id": "75611c8f",
   "metadata": {},
   "outputs": [],
   "source": [
    "# Créer un script qui fait tourner le modèle et l'enregistre\n",
    "\n",
    "# Créer une fonction qui réduit l'image du papillon à partir du sample\n",
    "\n",
    "# Voir à suppr les photo pieridea sur fond gris si < 20\n",
    "\n",
    "# Modèle tester avec que les classes bien représentées\n",
    "# Modèle avec balance 30 et que les espèce > 30\n",
    "# Idem > 10\n",
    "# Modèle avec data val que pour ces espèces"
   ]
  },
  {
   "cell_type": "markdown",
   "id": "e1a8524b",
   "metadata": {},
   "source": [
    "# Get data"
   ]
  },
  {
   "cell_type": "markdown",
   "id": "48eb5d50",
   "metadata": {},
   "source": [
    "## Import"
   ]
  },
  {
   "cell_type": "code",
   "execution_count": 1,
   "id": "719860e1",
   "metadata": {
    "ExecuteTime": {
     "end_time": "2021-08-26T13:55:38.979009Z",
     "start_time": "2021-08-26T13:55:21.218315Z"
    }
   },
   "outputs": [
    {
     "name": "stderr",
     "output_type": "stream",
     "text": [
      "2021-08-26 15:55:28.974842: W tensorflow/stream_executor/platform/default/dso_loader.cc:64] Could not load dynamic library 'libcudart.so.11.0'; dlerror: libcudart.so.11.0: cannot open shared object file: No such file or directory; LD_LIBRARY_PATH: /usr/local/cuda-11.4/lib64\n",
      "2021-08-26 15:55:28.974866: I tensorflow/stream_executor/cuda/cudart_stub.cc:29] Ignore above cudart dlerror if you do not have a GPU set up on your machine.\n"
     ]
    }
   ],
   "source": [
    "import pandas as pd\n",
    "import numpy as np\n",
    "import matplotlib.pyplot as plt\n",
    "import seaborn as sns\n",
    "from PIL import Image\n",
    "from sklearn.preprocessing import OneHotEncoder\n",
    "from tensorflow.keras.optimizers import Adam\n",
    "from tensorflow.keras import layers, models, Sequential"
   ]
  },
  {
   "cell_type": "markdown",
   "id": "2edd73c8",
   "metadata": {},
   "source": [
    "## Fonctions"
   ]
  },
  {
   "cell_type": "code",
   "execution_count": 2,
   "id": "365c7251",
   "metadata": {
    "ExecuteTime": {
     "end_time": "2021-08-26T13:55:38.996071Z",
     "start_time": "2021-08-26T13:55:38.980870Z"
    }
   },
   "outputs": [],
   "source": [
    "def image_resizing(img,size=None):\n",
    "    '''Function that resize a picture. Size is a tuple of 2 integers : (lenght,width).'''\n",
    "    img = img.resize(size)\n",
    "    return img\n",
    "\n",
    "def cat_encoder (y_train,y_val=None,y_test=None):\n",
    "    '''This function return encoded targets : (y_train_cat,y_val_cat,y_test_cat).'''\n",
    "    #----------- adding a second dimension to the target in order to proceed to the ohe ---------\n",
    "    y_train = y_train.reshape(y_train.shape[0],1)\n",
    "    y_val = y_val.reshape(y_val.shape[0],1)\n",
    "    y_test = y_test.reshape(y_test.shape[0],1)\n",
    "    #--------------------------------------- OneHotEncoding ---------------------------------\n",
    "    ohe = OneHotEncoder(handle_unknown = \"ignore\",sparse=False)\n",
    "    ohe.fit(y_train)\n",
    "    result = []\n",
    "    y_train_cat = ohe.transform(y_train)\n",
    "    result.append(y_train_cat)\n",
    "    if y_val is not None :\n",
    "        y_val_cat = ohe.transform(y_val)\n",
    "        result.append(y_val_cat)\n",
    "    if y_test is not None:\n",
    "        y_test_cat = ohe.transform(y_test)\n",
    "        result.append(y_test_cat)\n",
    "    return tuple(result)\n",
    "\n",
    "def feature_engineering(df):\n",
    "    '''That function add a species columns thanks to the genus and epithet columns'''\n",
    "    df[\"path_to_image\"]=\"../raw_data/IMG/\"+df[\"image_name\"]\n",
    "    df['species'] = df['genus']+'_'+df['specific_epithet'] \n",
    "    return df\n",
    "\n",
    "def set_nontrainable_layers(imported_model):\n",
    "    '''set imported model layers' as non trainable'''\n",
    "    imported_model.trainable = False\n",
    "    return imported_model\n",
    "\n",
    "def get_X_y(df,sample_size):\n",
    "    '''This function return the features and target from a dataset'''\n",
    "    data_sample = df.sample(sample_size, random_state = 818)\n",
    "    image = []\n",
    "    for i in data_sample['path_to_image'] :\n",
    "        img = Image.open(i)\n",
    "        #img = image_resizing(img)\n",
    "        image.append(np.array(img))\n",
    "    X = np.array(image)\n",
    "    y = np.array(data_sample['species'])\n",
    "    #careful, the feature X here is not resized and the target need to be reshaped before the onehotencoder\n",
    "    return X, y\n",
    "\n",
    "def get_data (data=[\"train\",\"val\",\"test\"]):\n",
    "    '''Function to get Train, Val and Test data. That function get in input a list of\n",
    "    the desired data and return a tuple containing the 3 datasets : \n",
    "    (data_train,data_val,data_test)'''\n",
    "\n",
    "    data_train = pd.read_json('../raw_data/splits/train.json').T\n",
    "    data_val = pd.read_json('../raw_data/splits/val.json').T\n",
    "    data_test = pd.read_json('../raw_data/splits/test.json').T\n",
    "\n",
    "    data_dict = {\"train\":data_train,\"val\":data_val,\"test\":data_test}\n",
    "\n",
    "    result = []\n",
    "    for i in data :\n",
    "        result.append(data_dict[i])\n",
    "    return tuple(result)\n",
    "\n",
    "def get_updated_model(imported_model,target):\n",
    "    '''Take a pre-trained model, set its parameters as non-trainables, and add additional \n",
    "    trainable layers'''\n",
    "    \n",
    "    n_classes = pd.Series(target).nunique()\n",
    "    imported_model = set_nontrainable_layers(imported_model)\n",
    "\n",
    "    flattening_layer = layers.Flatten()\n",
    "    dense_layer = layers.Dense(130, activation='relu')\n",
    "    prediction_layer = layers.Dense(n_classes, activation='softmax')\n",
    "\n",
    "    model = Sequential([imported_model,flattening_layer,dense_layer,prediction_layer])\n",
    "    return model\n",
    "\n",
    "def model_compile(model,learning_rate=0.001, beta_1=0.9, beta_2=0.999, epsilon=1e-07):\n",
    "    adam = Adam(learning_rate=learning_rate, beta_1=beta_1, beta_2=beta_2, epsilon=epsilon, amsgrad=False,\n",
    "    name='Adam', **kwargs)\n",
    "    model.compile(loss='categorical_crossentropy',\n",
    "              optimizer=adam,\n",
    "              metrics=['accuracy'])\n",
    "    return model"
   ]
  },
  {
   "cell_type": "markdown",
   "id": "8c6868bf",
   "metadata": {},
   "source": [
    "## Code"
   ]
  },
  {
   "cell_type": "code",
   "execution_count": 80,
   "id": "6daa5819",
   "metadata": {
    "ExecuteTime": {
     "end_time": "2021-08-26T15:51:20.274694Z",
     "start_time": "2021-08-26T15:51:02.873816Z"
    }
   },
   "outputs": [],
   "source": [
    "data_train,data_val,data_test = get_data (data=[\"train\",\"val\",\"test\"])\n",
    "data_train=feature_engineering(data_train)\n",
    "data_val=feature_engineering(data_val)\n",
    "data_test=feature_engineering(data_test)\n",
    "X_train,y_train = get_X_y(data_train,sample_size=1000)\n",
    "X_val,y_val = get_X_y(data_val,sample_size=200)\n",
    "X_test,y_test = get_X_y(data_test,sample_size=200)\n",
    "y_train_cat,y_val_cat,y_test_cat = cat_encoder (y_train,y_val,y_test)"
   ]
  },
  {
   "cell_type": "markdown",
   "id": "19281bb7",
   "metadata": {},
   "source": [
    "# Analyse du data_sample "
   ]
  },
  {
   "cell_type": "markdown",
   "id": "59afdd2f",
   "metadata": {},
   "source": [
    "## Check n_unique() de species"
   ]
  },
  {
   "cell_type": "markdown",
   "id": "13635286",
   "metadata": {},
   "source": [
    "### Data_train"
   ]
  },
  {
   "cell_type": "code",
   "execution_count": 15,
   "id": "228d6727",
   "metadata": {
    "ExecuteTime": {
     "end_time": "2021-08-26T14:34:57.672128Z",
     "start_time": "2021-08-26T14:34:57.660147Z"
    }
   },
   "outputs": [
    {
     "name": "stdout",
     "output_type": "stream",
     "text": [
      "248\n"
     ]
    }
   ],
   "source": [
    "print(pd.Series(y_train).nunique())\n",
    "y_t_un = pd.Series(y_train).unique()"
   ]
  },
  {
   "cell_type": "markdown",
   "id": "c9627591",
   "metadata": {},
   "source": [
    "### Data_val"
   ]
  },
  {
   "cell_type": "code",
   "execution_count": 16,
   "id": "b6c3f626",
   "metadata": {
    "ExecuteTime": {
     "end_time": "2021-08-26T14:34:58.925667Z",
     "start_time": "2021-08-26T14:34:58.913672Z"
    }
   },
   "outputs": [
    {
     "name": "stdout",
     "output_type": "stream",
     "text": [
      "131\n"
     ]
    }
   ],
   "source": [
    "print(pd.Series(y_val).nunique())\n",
    "y_v_un = pd.Series(y_val).unique()"
   ]
  },
  {
   "cell_type": "markdown",
   "id": "3a691dbf",
   "metadata": {},
   "source": [
    "### Data_test"
   ]
  },
  {
   "cell_type": "code",
   "execution_count": 17,
   "id": "a0ff3a70",
   "metadata": {
    "ExecuteTime": {
     "end_time": "2021-08-26T14:34:59.641553Z",
     "start_time": "2021-08-26T14:34:59.629835Z"
    }
   },
   "outputs": [
    {
     "name": "stdout",
     "output_type": "stream",
     "text": [
      "137\n"
     ]
    }
   ],
   "source": [
    "print(pd.Series(y_test).nunique())\n",
    "y_test_un = pd.Series(y_test).unique()"
   ]
  },
  {
   "cell_type": "markdown",
   "id": "48a0d54a",
   "metadata": {},
   "source": [
    "### Conclusion"
   ]
  },
  {
   "cell_type": "markdown",
   "id": "8f0997c3",
   "metadata": {
    "ExecuteTime": {
     "end_time": "2021-08-26T08:25:37.308667Z",
     "start_time": "2021-08-26T08:25:37.304222Z"
    }
   },
   "source": [
    "**Combien y a-t-il d'spèce dans data_val qu'il n'y a pas dans le data_train ?**"
   ]
  },
  {
   "cell_type": "code",
   "execution_count": 18,
   "id": "96ead6e3",
   "metadata": {
    "ExecuteTime": {
     "end_time": "2021-08-26T14:35:01.413344Z",
     "start_time": "2021-08-26T14:35:01.396748Z"
    }
   },
   "outputs": [
    {
     "data": {
      "text/plain": [
       "30"
      ]
     },
     "execution_count": 18,
     "metadata": {},
     "output_type": "execute_result"
    }
   ],
   "source": [
    "count = 0\n",
    "for i in y_v_un:\n",
    "    if i not in y_t_un:\n",
    "        count +=1\n",
    "count"
   ]
  },
  {
   "cell_type": "code",
   "execution_count": 19,
   "id": "b09c45be",
   "metadata": {
    "ExecuteTime": {
     "end_time": "2021-08-26T14:35:01.980623Z",
     "start_time": "2021-08-26T14:35:01.970474Z"
    }
   },
   "outputs": [
    {
     "data": {
      "text/plain": [
       "0.22900763358778625"
      ]
     },
     "execution_count": 19,
     "metadata": {},
     "output_type": "execute_result"
    }
   ],
   "source": [
    "30/131"
   ]
  },
  {
   "cell_type": "markdown",
   "id": "cf77232d",
   "metadata": {
    "ExecuteTime": {
     "end_time": "2021-08-26T08:27:28.961809Z",
     "start_time": "2021-08-26T08:27:28.958347Z"
    }
   },
   "source": [
    "**Combien y a-t-il d'espèce dans data_test qu'il n'y a pas dans le data_train ?**"
   ]
  },
  {
   "cell_type": "code",
   "execution_count": 20,
   "id": "4a33c595",
   "metadata": {
    "ExecuteTime": {
     "end_time": "2021-08-26T14:35:03.751442Z",
     "start_time": "2021-08-26T14:35:03.734979Z"
    }
   },
   "outputs": [
    {
     "data": {
      "text/plain": [
       "28"
      ]
     },
     "execution_count": 20,
     "metadata": {},
     "output_type": "execute_result"
    }
   ],
   "source": [
    "count = 0\n",
    "for i in y_test_un:\n",
    "    if i not in y_t_un:\n",
    "        count +=1\n",
    "count"
   ]
  },
  {
   "cell_type": "code",
   "execution_count": 21,
   "id": "d5648a2f",
   "metadata": {
    "ExecuteTime": {
     "end_time": "2021-08-26T14:35:07.232200Z",
     "start_time": "2021-08-26T14:35:07.221438Z"
    }
   },
   "outputs": [
    {
     "data": {
      "text/plain": [
       "0.20437956204379562"
      ]
     },
     "execution_count": 21,
     "metadata": {},
     "output_type": "execute_result"
    }
   ],
   "source": [
    "28/137"
   ]
  },
  {
   "cell_type": "markdown",
   "id": "7709c228",
   "metadata": {},
   "source": [
    "## Check la balance des species"
   ]
  },
  {
   "cell_type": "markdown",
   "id": "f2b8a202",
   "metadata": {},
   "source": [
    "### Vérifier la balance"
   ]
  },
  {
   "cell_type": "markdown",
   "id": "8b3e96cb",
   "metadata": {},
   "source": [
    "### Data_train"
   ]
  },
  {
   "cell_type": "code",
   "execution_count": 26,
   "id": "9a6a1988",
   "metadata": {
    "ExecuteTime": {
     "end_time": "2021-08-26T14:36:13.499937Z",
     "start_time": "2021-08-26T14:36:13.477562Z"
    }
   },
   "outputs": [
    {
     "data": {
      "text/plain": [
       "Parnassius_apollo     1414\n",
       "Pieris_napi            633\n",
       "Polyommatus_icarus     610\n",
       "Plebejus_idas          573\n",
       "Melitaea_athalia       519\n",
       "Lysandra_coridon       459\n",
       "Melitaea_didyma        439\n",
       "Pieris_rapae           431\n",
       "Cyaniris_semiargus     419\n",
       "Lysandra_bellargus     396\n",
       "Name: species, dtype: int64"
      ]
     },
     "execution_count": 26,
     "metadata": {},
     "output_type": "execute_result"
    }
   ],
   "source": [
    "data_train.species.value_counts().head(10)"
   ]
  },
  {
   "cell_type": "code",
   "execution_count": 27,
   "id": "6ffda4fb",
   "metadata": {
    "ExecuteTime": {
     "end_time": "2021-08-26T14:36:34.423360Z",
     "start_time": "2021-08-26T14:36:34.408435Z"
    }
   },
   "outputs": [
    {
     "data": {
      "text/plain": [
       "Parnassius_apollo       35\n",
       "Pieris_napi             25\n",
       "Cyaniris_semiargus      17\n",
       "Melitaea_didyma         16\n",
       "Polyommatus_icarus      16\n",
       "Pieris_rapae            16\n",
       "Parnassius_mnemosyne    14\n",
       "Erebia_euryale          14\n",
       "Lycaena_tityrus         14\n",
       "Plebejus_idas           12\n",
       "dtype: int64"
      ]
     },
     "execution_count": 27,
     "metadata": {},
     "output_type": "execute_result"
    }
   ],
   "source": [
    "pd.Series(y_train).value_counts().head(10)"
   ]
  },
  {
   "cell_type": "markdown",
   "id": "0f0d8404",
   "metadata": {},
   "source": [
    "### Data_val"
   ]
  },
  {
   "cell_type": "code",
   "execution_count": null,
   "id": "ed6b0b19",
   "metadata": {
    "ExecuteTime": {
     "end_time": "2021-08-26T13:47:50.413617Z",
     "start_time": "2021-08-26T13:47:50.325299Z"
    }
   },
   "outputs": [],
   "source": [
    "pd.Series(y_val).value_counts()"
   ]
  },
  {
   "cell_type": "markdown",
   "id": "43da2962",
   "metadata": {},
   "source": [
    "### Data_test"
   ]
  },
  {
   "cell_type": "code",
   "execution_count": null,
   "id": "92931867",
   "metadata": {
    "ExecuteTime": {
     "end_time": "2021-08-26T13:47:50.522280Z",
     "start_time": "2021-08-26T13:47:50.415250Z"
    }
   },
   "outputs": [],
   "source": [
    "pd.Series(y_test).value_counts()"
   ]
  },
  {
   "cell_type": "markdown",
   "id": "b3b6e963",
   "metadata": {},
   "source": [
    "### Conclusion"
   ]
  },
  {
   "cell_type": "markdown",
   "id": "f07f9c72",
   "metadata": {},
   "source": [
    "**Le data_sample n'était pas balance sur le train**"
   ]
  },
  {
   "cell_type": "markdown",
   "id": "186cf8c8",
   "metadata": {},
   "source": [
    "# Data_set clean et balance"
   ]
  },
  {
   "cell_type": "markdown",
   "id": "793f14b2",
   "metadata": {},
   "source": [
    "## Exploration"
   ]
  },
  {
   "cell_type": "code",
   "execution_count": null,
   "id": "18cb7c95",
   "metadata": {
    "ExecuteTime": {
     "end_time": "2021-08-26T13:47:50.623745Z",
     "start_time": "2021-08-26T13:47:50.523691Z"
    }
   },
   "outputs": [],
   "source": [
    "# Prendre 20 sample pour les espèce > 20 images\n",
    "# Regarder la taille du data_set\n",
    "# Garder les mêmes espèces pour le data_val et data_test = sample 300 while espèce in y_train"
   ]
  },
  {
   "cell_type": "code",
   "execution_count": null,
   "id": "718ca176",
   "metadata": {
    "ExecuteTime": {
     "end_time": "2021-08-26T13:47:50.727065Z",
     "start_time": "2021-08-26T13:47:50.625166Z"
    }
   },
   "outputs": [],
   "source": [
    "data_train.columns"
   ]
  },
  {
   "cell_type": "markdown",
   "id": "ba6592ae",
   "metadata": {},
   "source": [
    "### Récupère un df de 20 images par espèces"
   ]
  },
  {
   "cell_type": "code",
   "execution_count": null,
   "id": "fa1f9127",
   "metadata": {
    "ExecuteTime": {
     "end_time": "2021-08-26T13:47:50.875212Z",
     "start_time": "2021-08-26T13:47:50.728450Z"
    }
   },
   "outputs": [],
   "source": [
    "data_tr_clean = data_train.loc[:,['species','path_to_image']]\n",
    "data_tr_clean"
   ]
  },
  {
   "cell_type": "code",
   "execution_count": null,
   "id": "55984e30",
   "metadata": {
    "ExecuteTime": {
     "end_time": "2021-08-26T13:47:50.947048Z",
     "start_time": "2021-08-26T13:47:50.879391Z"
    }
   },
   "outputs": [],
   "source": [
    "tri_species = data_tr_clean['species'].value_counts().reset_index()\n",
    "tri_species.columns = ['species','nombre']\n",
    "tri_species"
   ]
  },
  {
   "cell_type": "code",
   "execution_count": null,
   "id": "07bd3bd1",
   "metadata": {
    "ExecuteTime": {
     "end_time": "2021-08-26T13:47:51.038352Z",
     "start_time": "2021-08-26T13:47:50.949132Z"
    }
   },
   "outputs": [],
   "source": [
    "# Enregistre les espèces à garder\n",
    "tri_species['nombre'] = tri_species['nombre'].astype('uint16')\n",
    "keep_species = tri_species[tri_species['nombre']>19]['species']\n",
    "keep_species = np.array(keep_species)\n",
    "keep_species.shape"
   ]
  },
  {
   "cell_type": "code",
   "execution_count": null,
   "id": "86af2fbc",
   "metadata": {
    "ExecuteTime": {
     "end_time": "2021-08-26T13:47:51.553952Z",
     "start_time": "2021-08-26T13:47:51.040380Z"
    }
   },
   "outputs": [],
   "source": [
    "# Créer une colonne pour filter\n",
    "data_tr_clean['triage'] = [ i in keep_species for i in data_tr_clean['species']]\n",
    "# Récupère le DF en filtrant sur les espèces de plus de 20 photos\n",
    "data_cleaned20 = data_tr_clean.loc[data_tr_clean['triage'] == True, ['species', 'path_to_image']]"
   ]
  },
  {
   "cell_type": "code",
   "execution_count": null,
   "id": "28dfcc1a",
   "metadata": {
    "ExecuteTime": {
     "end_time": "2021-08-26T13:47:51.568650Z",
     "start_time": "2021-08-26T13:47:51.556873Z"
    }
   },
   "outputs": [],
   "source": [
    "data_cleaned20.species.nunique()"
   ]
  },
  {
   "cell_type": "code",
   "execution_count": null,
   "id": "1fb56b08",
   "metadata": {
    "ExecuteTime": {
     "end_time": "2021-08-26T13:47:51.680445Z",
     "start_time": "2021-08-26T13:47:51.570546Z"
    }
   },
   "outputs": [],
   "source": [
    "data_cleaned20['triage']=[False for i in data_cleaned20['species']]"
   ]
  },
  {
   "cell_type": "code",
   "execution_count": null,
   "id": "df179b23",
   "metadata": {
    "ExecuteTime": {
     "end_time": "2021-08-26T13:47:51.818269Z",
     "start_time": "2021-08-26T13:47:51.682447Z"
    }
   },
   "outputs": [],
   "source": [
    "data_cleaned20.drop('triage', axis = 1, inplace = True)"
   ]
  },
  {
   "cell_type": "code",
   "execution_count": 4,
   "id": "a6ef401f",
   "metadata": {
    "ExecuteTime": {
     "end_time": "2021-08-26T13:56:16.674518Z",
     "start_time": "2021-08-26T13:56:16.665231Z"
    }
   },
   "outputs": [],
   "source": [
    "def get_data_minphoto(df, nb_min_photo_by_species = 20):\n",
    "    # Détermine les espèces à garder\n",
    "    tri_species = pd.DataFrame(df['species'].value_counts()).reset_index()\n",
    "    tri_species.columns = ['species','nombre']\n",
    "    tri_species['nombre'] = tri_species['nombre'].astype('uint16')\n",
    "    # Enregistre les espèces à garder\n",
    "    keep_species = tri_species[tri_species['nombre']>=nb_min_photo_by_species]['species']\n",
    "    keep_species = np.array(keep_species)\n",
    "    # Créer une colonne pour filter\n",
    "    df['triage'] = [ i in keep_species for i in df['species']]\n",
    "    # Récupère le DF en filtrant sur les espèces de plus de 20 photos\n",
    "    df_clean = df.loc[df['triage'] == True].copy()\n",
    "    # Drop la colonne de filtre\n",
    "    df_clean.drop('triage', axis = 1, inplace = True)\n",
    "    return df_clean"
   ]
  },
  {
   "cell_type": "code",
   "execution_count": null,
   "id": "6a99e2fd",
   "metadata": {
    "ExecuteTime": {
     "end_time": "2021-08-26T13:47:52.747837Z",
     "start_time": "2021-08-26T13:47:51.930126Z"
    }
   },
   "outputs": [],
   "source": [
    "get_data_minphoto(data_train,i).species.nunique()"
   ]
  },
  {
   "cell_type": "markdown",
   "id": "6119bca3",
   "metadata": {},
   "source": [
    "## Visualisation"
   ]
  },
  {
   "cell_type": "markdown",
   "id": "4ecdfc0f",
   "metadata": {},
   "source": [
    "### Nombre d'espèces en fonction du nombre de photos"
   ]
  },
  {
   "cell_type": "code",
   "execution_count": 35,
   "id": "b6de2bb0",
   "metadata": {
    "ExecuteTime": {
     "end_time": "2021-08-26T14:56:35.153816Z",
     "start_time": "2021-08-26T14:55:52.277907Z"
    },
    "scrolled": true
   },
   "outputs": [],
   "source": [
    "liste = []\n",
    "for i in range(1,100):\n",
    "    liste.append(get_data_minphoto(data_train,i).species.nunique())"
   ]
  },
  {
   "cell_type": "code",
   "execution_count": 36,
   "id": "cf0a658c",
   "metadata": {
    "ExecuteTime": {
     "end_time": "2021-08-26T14:56:35.628976Z",
     "start_time": "2021-08-26T14:56:35.156346Z"
    }
   },
   "outputs": [
    {
     "data": {
      "text/plain": [
       "[<matplotlib.lines.Line2D at 0x7ff2d9013040>]"
      ]
     },
     "execution_count": 36,
     "metadata": {},
     "output_type": "execute_result"
    },
    {
     "data": {
      "image/png": "[encoded data removed]",
      "text/plain": [
       "<Figure size 432x288 with 1 Axes>"
      ]
     },
     "metadata": {
      "needs_background": "light"
     },
     "output_type": "display_data"
    }
   ],
   "source": [
    "plt.xlim(0,50)\n",
    "plt.plot(liste)"
   ]
  },
  {
   "cell_type": "markdown",
   "id": "883ac900",
   "metadata": {},
   "source": [
    "### Nombre de photos par espèce"
   ]
  },
  {
   "cell_type": "code",
   "execution_count": 37,
   "id": "656690a4",
   "metadata": {
    "ExecuteTime": {
     "end_time": "2021-08-26T14:56:41.359253Z",
     "start_time": "2021-08-26T14:56:35.634273Z"
    }
   },
   "outputs": [
    {
     "data": {
      "text/plain": [
       "<AxesSubplot:xlabel='species', ylabel='Count'>"
      ]
     },
     "execution_count": 37,
     "metadata": {},
     "output_type": "execute_result"
    },
    {
     "data": {
      "image/png": "[encoded data removed]",
      "text/plain": [
       "<Figure size 432x288 with 1 Axes>"
      ]
     },
     "metadata": {
      "needs_background": "light"
     },
     "output_type": "display_data"
    }
   ],
   "source": [
    "plt.ylim(50,500)\n",
    "sns.histplot(get_data_minphoto(data_train,3).species)"
   ]
  },
  {
   "cell_type": "code",
   "execution_count": 38,
   "id": "39d803f6",
   "metadata": {
    "ExecuteTime": {
     "end_time": "2021-08-26T14:56:41.893720Z",
     "start_time": "2021-08-26T14:56:41.361244Z"
    }
   },
   "outputs": [
    {
     "data": {
      "text/html": [
       "<div>\n",
       "<style scoped>\n",
       "    .dataframe tbody tr th:only-of-type {\n",
       "        vertical-align: middle;\n",
       "    }\n",
       "\n",
       "    .dataframe tbody tr th {\n",
       "        vertical-align: top;\n",
       "    }\n",
       "\n",
       "    .dataframe thead th {\n",
       "        text-align: right;\n",
       "    }\n",
       "</style>\n",
       "<table border=\"1\" class=\"dataframe\">\n",
       "  <thead>\n",
       "    <tr style=\"text-align: right;\">\n",
       "      <th></th>\n",
       "      <th>species</th>\n",
       "      <th>nb</th>\n",
       "    </tr>\n",
       "  </thead>\n",
       "  <tbody>\n",
       "    <tr>\n",
       "      <th>340</th>\n",
       "      <td>Erebia_palarica</td>\n",
       "      <td>3</td>\n",
       "    </tr>\n",
       "    <tr>\n",
       "      <th>332</th>\n",
       "      <td>Hipparchia_syriaca</td>\n",
       "      <td>3</td>\n",
       "    </tr>\n",
       "    <tr>\n",
       "      <th>333</th>\n",
       "      <td>Polyommatus_ripartii</td>\n",
       "      <td>3</td>\n",
       "    </tr>\n",
       "    <tr>\n",
       "      <th>334</th>\n",
       "      <td>Pamiria_omphisa</td>\n",
       "      <td>3</td>\n",
       "    </tr>\n",
       "    <tr>\n",
       "      <th>339</th>\n",
       "      <td>Allancastria_deyrollei</td>\n",
       "      <td>3</td>\n",
       "    </tr>\n",
       "    <tr>\n",
       "      <th>...</th>\n",
       "      <td>...</td>\n",
       "      <td>...</td>\n",
       "    </tr>\n",
       "    <tr>\n",
       "      <th>4</th>\n",
       "      <td>Melitaea_athalia</td>\n",
       "      <td>519</td>\n",
       "    </tr>\n",
       "    <tr>\n",
       "      <th>3</th>\n",
       "      <td>Plebejus_idas</td>\n",
       "      <td>573</td>\n",
       "    </tr>\n",
       "    <tr>\n",
       "      <th>2</th>\n",
       "      <td>Polyommatus_icarus</td>\n",
       "      <td>610</td>\n",
       "    </tr>\n",
       "    <tr>\n",
       "      <th>1</th>\n",
       "      <td>Pieris_napi</td>\n",
       "      <td>633</td>\n",
       "    </tr>\n",
       "    <tr>\n",
       "      <th>0</th>\n",
       "      <td>Parnassius_apollo</td>\n",
       "      <td>1414</td>\n",
       "    </tr>\n",
       "  </tbody>\n",
       "</table>\n",
       "<p>341 rows × 2 columns</p>\n",
       "</div>"
      ],
      "text/plain": [
       "                    species    nb\n",
       "340         Erebia_palarica     3\n",
       "332      Hipparchia_syriaca     3\n",
       "333    Polyommatus_ripartii     3\n",
       "334         Pamiria_omphisa     3\n",
       "339  Allancastria_deyrollei     3\n",
       "..                      ...   ...\n",
       "4          Melitaea_athalia   519\n",
       "3             Plebejus_idas   573\n",
       "2        Polyommatus_icarus   610\n",
       "1               Pieris_napi   633\n",
       "0         Parnassius_apollo  1414\n",
       "\n",
       "[341 rows x 2 columns]"
      ]
     },
     "execution_count": 38,
     "metadata": {},
     "output_type": "execute_result"
    }
   ],
   "source": [
    "df_viz = pd.DataFrame(get_data_minphoto(data_train,3).species.value_counts()).reset_index()\n",
    "df_viz.columns = ['species','nb']\n",
    "df_viz.sort_values(by='nb')"
   ]
  },
  {
   "cell_type": "code",
   "execution_count": 39,
   "id": "489e9e0b",
   "metadata": {
    "ExecuteTime": {
     "end_time": "2021-08-26T14:56:41.905482Z",
     "start_time": "2021-08-26T14:56:41.896634Z"
    },
    "scrolled": true
   },
   "outputs": [
    {
     "data": {
      "text/html": [
       "<div>\n",
       "<style scoped>\n",
       "    .dataframe tbody tr th:only-of-type {\n",
       "        vertical-align: middle;\n",
       "    }\n",
       "\n",
       "    .dataframe tbody tr th {\n",
       "        vertical-align: top;\n",
       "    }\n",
       "\n",
       "    .dataframe thead th {\n",
       "        text-align: right;\n",
       "    }\n",
       "</style>\n",
       "<table border=\"1\" class=\"dataframe\">\n",
       "  <thead>\n",
       "    <tr style=\"text-align: right;\">\n",
       "      <th></th>\n",
       "      <th>species</th>\n",
       "      <th>nb</th>\n",
       "    </tr>\n",
       "  </thead>\n",
       "  <tbody>\n",
       "    <tr>\n",
       "      <th>0</th>\n",
       "      <td>Parnassius_apollo</td>\n",
       "      <td>1414</td>\n",
       "    </tr>\n",
       "    <tr>\n",
       "      <th>1</th>\n",
       "      <td>Pieris_napi</td>\n",
       "      <td>633</td>\n",
       "    </tr>\n",
       "    <tr>\n",
       "      <th>2</th>\n",
       "      <td>Polyommatus_icarus</td>\n",
       "      <td>610</td>\n",
       "    </tr>\n",
       "    <tr>\n",
       "      <th>3</th>\n",
       "      <td>Plebejus_idas</td>\n",
       "      <td>573</td>\n",
       "    </tr>\n",
       "    <tr>\n",
       "      <th>4</th>\n",
       "      <td>Melitaea_athalia</td>\n",
       "      <td>519</td>\n",
       "    </tr>\n",
       "    <tr>\n",
       "      <th>...</th>\n",
       "      <td>...</td>\n",
       "      <td>...</td>\n",
       "    </tr>\n",
       "    <tr>\n",
       "      <th>195</th>\n",
       "      <td>Euchloe_crameri</td>\n",
       "      <td>45</td>\n",
       "    </tr>\n",
       "    <tr>\n",
       "      <th>196</th>\n",
       "      <td>Argynnis_pandora</td>\n",
       "      <td>45</td>\n",
       "    </tr>\n",
       "    <tr>\n",
       "      <th>197</th>\n",
       "      <td>Nymphalis_egea</td>\n",
       "      <td>45</td>\n",
       "    </tr>\n",
       "    <tr>\n",
       "      <th>198</th>\n",
       "      <td>Satyrium_pruni</td>\n",
       "      <td>44</td>\n",
       "    </tr>\n",
       "    <tr>\n",
       "      <th>199</th>\n",
       "      <td>Pyronia_bathseba</td>\n",
       "      <td>44</td>\n",
       "    </tr>\n",
       "  </tbody>\n",
       "</table>\n",
       "<p>200 rows × 2 columns</p>\n",
       "</div>"
      ],
      "text/plain": [
       "                species    nb\n",
       "0     Parnassius_apollo  1414\n",
       "1           Pieris_napi   633\n",
       "2    Polyommatus_icarus   610\n",
       "3         Plebejus_idas   573\n",
       "4      Melitaea_athalia   519\n",
       "..                  ...   ...\n",
       "195     Euchloe_crameri    45\n",
       "196    Argynnis_pandora    45\n",
       "197      Nymphalis_egea    45\n",
       "198      Satyrium_pruni    44\n",
       "199    Pyronia_bathseba    44\n",
       "\n",
       "[200 rows x 2 columns]"
      ]
     },
     "execution_count": 39,
     "metadata": {},
     "output_type": "execute_result"
    }
   ],
   "source": [
    "df_viz.head(200)"
   ]
  },
  {
   "cell_type": "markdown",
   "id": "adeae9db",
   "metadata": {},
   "source": [
    "### Nombre de photos totales en fonction du nombre de photo par espèce"
   ]
  },
  {
   "cell_type": "code",
   "execution_count": 192,
   "id": "a64241a4",
   "metadata": {
    "ExecuteTime": {
     "end_time": "2021-08-26T22:09:51.603368Z",
     "start_time": "2021-08-26T22:09:39.787502Z"
    }
   },
   "outputs": [],
   "source": [
    "liste = []\n",
    "for i in range(1,10,1):\n",
    "    liste.append(get_data_minphoto(data_train,i).species.nunique()*i)\n",
    "for i in range(10,205,10):\n",
    "    liste.append(get_data_minphoto(data_train,i).species.nunique()*i)"
   ]
  },
  {
   "cell_type": "code",
   "execution_count": 205,
   "id": "d6e2de17",
   "metadata": {
    "ExecuteTime": {
     "end_time": "2021-08-26T22:12:58.751125Z",
     "start_time": "2021-08-26T22:12:58.518191Z"
    }
   },
   "outputs": [
    {
     "data": {
      "image/png": "[encoded data removed]",
      "text/plain": [
       "<Figure size 864x288 with 2 Axes>"
      ]
     },
     "metadata": {
      "needs_background": "light"
     },
     "output_type": "display_data"
    }
   ],
   "source": [
    "plt.figure(figsize=(12,4))\n",
    "plt.title(\"Nombre de photos totales en fonction du nombre de photo par espèce\")\n",
    "plt.subplot(1,2,1)\n",
    "plt.xlabel('Nombre de photos')\n",
    "plt.ylabel(\"Nombre d'espèces\")\n",
    "plt.plot(liste[0:10])\n",
    "plt.subplot(1,2,2)\n",
    "plt.xlabel('Nombre de photos')\n",
    "plt.ylabel(\"Nombre d'espèces\")\n",
    "plt.plot([i for i in range(10,201,10)], liste[9:]);"
   ]
  },
  {
   "cell_type": "code",
   "execution_count": 209,
   "id": "d1c79190",
   "metadata": {
    "ExecuteTime": {
     "end_time": "2021-08-26T22:15:10.872497Z",
     "start_time": "2021-08-26T22:15:10.857137Z"
    }
   },
   "outputs": [
    {
     "data": {
      "text/html": [
       "<div>\n",
       "<style scoped>\n",
       "    .dataframe tbody tr th:only-of-type {\n",
       "        vertical-align: middle;\n",
       "    }\n",
       "\n",
       "    .dataframe tbody tr th {\n",
       "        vertical-align: top;\n",
       "    }\n",
       "\n",
       "    .dataframe thead th {\n",
       "        text-align: right;\n",
       "    }\n",
       "</style>\n",
       "<table border=\"1\" class=\"dataframe\">\n",
       "  <thead>\n",
       "    <tr style=\"text-align: right;\">\n",
       "      <th></th>\n",
       "      <th>0</th>\n",
       "      <th>1</th>\n",
       "      <th>2</th>\n",
       "      <th>3</th>\n",
       "      <th>4</th>\n",
       "      <th>5</th>\n",
       "      <th>6</th>\n",
       "      <th>7</th>\n",
       "      <th>8</th>\n",
       "      <th>9</th>\n",
       "      <th>...</th>\n",
       "      <th>19</th>\n",
       "      <th>20</th>\n",
       "      <th>21</th>\n",
       "      <th>22</th>\n",
       "      <th>23</th>\n",
       "      <th>24</th>\n",
       "      <th>25</th>\n",
       "      <th>26</th>\n",
       "      <th>27</th>\n",
       "      <th>28</th>\n",
       "    </tr>\n",
       "  </thead>\n",
       "  <tbody>\n",
       "    <tr>\n",
       "      <th>0</th>\n",
       "      <td>705</td>\n",
       "      <td>996</td>\n",
       "      <td>1023</td>\n",
       "      <td>1328</td>\n",
       "      <td>1655</td>\n",
       "      <td>1980</td>\n",
       "      <td>2296</td>\n",
       "      <td>2568</td>\n",
       "      <td>2727</td>\n",
       "      <td>2970</td>\n",
       "      <td>...</td>\n",
       "      <td>13970</td>\n",
       "      <td>13320</td>\n",
       "      <td>13260</td>\n",
       "      <td>13440</td>\n",
       "      <td>12450</td>\n",
       "      <td>12160</td>\n",
       "      <td>11390</td>\n",
       "      <td>10980</td>\n",
       "      <td>10640</td>\n",
       "      <td>10600</td>\n",
       "    </tr>\n",
       "    <tr>\n",
       "      <th>1</th>\n",
       "      <td>1</td>\n",
       "      <td>2</td>\n",
       "      <td>3</td>\n",
       "      <td>4</td>\n",
       "      <td>5</td>\n",
       "      <td>6</td>\n",
       "      <td>7</td>\n",
       "      <td>8</td>\n",
       "      <td>9</td>\n",
       "      <td>10</td>\n",
       "      <td>...</td>\n",
       "      <td>110</td>\n",
       "      <td>120</td>\n",
       "      <td>130</td>\n",
       "      <td>140</td>\n",
       "      <td>150</td>\n",
       "      <td>160</td>\n",
       "      <td>170</td>\n",
       "      <td>180</td>\n",
       "      <td>190</td>\n",
       "      <td>200</td>\n",
       "    </tr>\n",
       "  </tbody>\n",
       "</table>\n",
       "<p>2 rows × 29 columns</p>\n",
       "</div>"
      ],
      "text/plain": [
       "    0    1     2     3     4     5     6     7     8     9   ...     19  \\\n",
       "0  705  996  1023  1328  1655  1980  2296  2568  2727  2970  ...  13970   \n",
       "1    1    2     3     4     5     6     7     8     9    10  ...    110   \n",
       "\n",
       "      20     21     22     23     24     25     26     27     28  \n",
       "0  13320  13260  13440  12450  12160  11390  10980  10640  10600  \n",
       "1    120    130    140    150    160    170    180    190    200  \n",
       "\n",
       "[2 rows x 29 columns]"
      ]
     },
     "execution_count": 209,
     "metadata": {},
     "output_type": "execute_result"
    }
   ],
   "source": [
    "# Tableaux du nombre de photos totales selon le nombre de photos par classe \n",
    "# pour un dataset balanced (les classes n'ayant pas assez de photos étant écartées)\n",
    "pd.DataFrame([liste,[i for i in range(1,10,1)]+[i for i in range(10,201,10)]])"
   ]
  },
  {
   "cell_type": "code",
   "execution_count": 216,
   "id": "8b7080ee",
   "metadata": {
    "ExecuteTime": {
     "end_time": "2021-08-26T22:21:36.128507Z",
     "start_time": "2021-08-26T22:21:31.411421Z"
    }
   },
   "outputs": [
    {
     "data": {
      "text/plain": [
       "<matplotlib.collections.PathCollection at 0x7ff2d079b250>"
      ]
     },
     "execution_count": 216,
     "metadata": {},
     "output_type": "execute_result"
    },
    {
     "data": {
      "image/png": "[encoded data removed]",
      "text/plain": [
       "<Figure size 432x288 with 1 Axes>"
      ]
     },
     "metadata": {
      "needs_background": "light"
     },
     "output_type": "display_data"
    }
   ],
   "source": [
    "liste2 = []\n",
    "for i in range(20,31,1):\n",
    "    liste2.append(get_data_minphoto(data_train,i).species.nunique()*i)\n",
    "plt.scatter([i for i in range(20,31)], liste2)"
   ]
  },
  {
   "cell_type": "markdown",
   "id": "13a06064",
   "metadata": {},
   "source": [
    "## Generator"
   ]
  },
  {
   "cell_type": "raw",
   "id": "bd3444e8",
   "metadata": {
    "ExecuteTime": {
     "end_time": "2021-08-26T15:14:55.842004Z",
     "start_time": "2021-08-26T15:14:55.836003Z"
    }
   },
   "source": [
    "from tensorflow.keras.utils import get_file\n",
    "from pathlib import Path"
   ]
  },
  {
   "cell_type": "raw",
   "id": "4828a18f",
   "metadata": {},
   "source": [
    "data_dir = get_file(origin=dmin_train['path_to_image'], \n",
    "                                   fname=dmin_train['image_name'], \n",
    "                                   untar=True)\n",
    "data_dir = pathlib.Path(data_dir)"
   ]
  },
  {
   "cell_type": "markdown",
   "id": "1592ad49",
   "metadata": {},
   "source": [
    "## Under sampling"
   ]
  },
  {
   "cell_type": "raw",
   "id": "b277f8ea",
   "metadata": {
    "ExecuteTime": {
     "end_time": "2021-08-26T14:54:43.479865Z",
     "start_time": "2021-08-26T14:54:42.942957Z"
    }
   },
   "source": [
    "def get_X(df):\n",
    "    image = []\n",
    "    for i in df['path_to_image'] :\n",
    "        img = plt(i)\n",
    "        #img = image_resizing(img)\n",
    "        image.append(np.array(img))\n",
    "    X = np.array(image)\n",
    "\n",
    "dmin_train = get_data_minphoto(data_train,25)\n",
    "dmin_val = get_data_minphoto(data_val,25)\n",
    "dmin_test = get_data_minphoto(data_test,25)"
   ]
  },
  {
   "cell_type": "raw",
   "id": "0ed77cce",
   "metadata": {
    "ExecuteTime": {
     "end_time": "2021-08-26T13:58:07.703399Z",
     "start_time": "2021-08-26T13:58:07.694924Z"
    }
   },
   "source": [
    "dmin_train.species.nunique()"
   ]
  },
  {
   "cell_type": "raw",
   "id": "e3afef53",
   "metadata": {
    "ExecuteTime": {
     "end_time": "2021-08-26T13:59:46.880748Z",
     "start_time": "2021-08-26T13:59:11.549376Z"
    }
   },
   "source": [
    "Xmin_val, ymin_val = get_X(dmin_val), dmin_val['species']"
   ]
  },
  {
   "cell_type": "raw",
   "id": "87c98fe4",
   "metadata": {
    "ExecuteTime": {
     "end_time": "2021-08-26T13:57:21.780067Z",
     "start_time": "2021-08-26T13:56:45.806678Z"
    }
   },
   "source": [
    "Xmin_train, ymin_train = get_X(dmin_train), dmin_train['species']\n",
    "Xmin_val, ymin_val = get_X(dmin_val), dmin_val['species']\n",
    "Xmin_test, ymin_test = get_X(dmin_test), dmin_test['species']"
   ]
  },
  {
   "cell_type": "raw",
   "id": "31d4e88d",
   "metadata": {
    "ExecuteTime": {
     "end_time": "2021-08-26T13:53:20.700859Z",
     "start_time": "2021-08-26T13:48:23.683255Z"
    }
   },
   "source": [
    "def get_X(df):\n",
    "    image = []\n",
    "    for i in df['path_to_image'] :\n",
    "        img = Image.open(i)\n",
    "        #img = image_resizing(img)\n",
    "        image.append(np.array(img))\n",
    "    X = np.array(image)\n",
    "    \n",
    "dmin_train = get_data_minphoto(data_train,25)\n",
    "\n",
    "y_train_cat,y_val_cat,y_test_cat = cat_encoder (ymin_train,ymin_val,ymin_test)\n",
    "\n",
    "from imblearn.under_sampling import RandomUnderSampler"
   ]
  },
  {
   "cell_type": "raw",
   "id": "555a58ae",
   "metadata": {},
   "source": [
    "rus = RandomUnderSampler(random_state=0)\n",
    "y_resampled = rus.fit_resample(ymin_train)"
   ]
  },
  {
   "cell_type": "raw",
   "id": "6b87060c",
   "metadata": {},
   "source": [
    "pd.Series(y_resampled).value_counts()"
   ]
  },
  {
   "cell_type": "markdown",
   "id": "fa5553fb",
   "metadata": {},
   "source": [
    "### Tri le df val à partir des espèces du train"
   ]
  },
  {
   "cell_type": "code",
   "execution_count": 89,
   "id": "f0c7a487",
   "metadata": {
    "ExecuteTime": {
     "end_time": "2021-08-26T15:52:52.978973Z",
     "start_time": "2021-08-26T15:52:52.967292Z"
    }
   },
   "outputs": [],
   "source": [
    "def filter_val_test(df_train, df_to_filter):\n",
    "    def filtre(x):\n",
    "        if x not in espece:\n",
    "            return False\n",
    "        else :\n",
    "            return True\n",
    "    espece = df_train.species.unique()\n",
    "    df_to_filter['filter'] = df_to_filter['species'].apply(filtre)\n",
    "    df_filtered = df_to_filter.loc[df_to_filter['filter'] == True].copy()\n",
    "    df_filtered.drop('filter', axis = 1, inplace = True)\n",
    "    return df_filtered"
   ]
  },
  {
   "cell_type": "markdown",
   "id": "32729577",
   "metadata": {},
   "source": [
    "### Prend un sampling des espèces de plus de x photos"
   ]
  },
  {
   "cell_type": "code",
   "execution_count": 171,
   "id": "79254f30",
   "metadata": {
    "ExecuteTime": {
     "end_time": "2021-08-26T21:39:49.749239Z",
     "start_time": "2021-08-26T21:39:49.744513Z"
    }
   },
   "outputs": [],
   "source": [
    "def resampling(df):\n",
    "    count = pd.DataFrame(df['species'].value_counts().reset_index())\n",
    "    count.columns = ['species', 'nombre']\n",
    "    minimum = min(count['nombre'])\n",
    "    begin = True\n",
    "    for i in count['species']:\n",
    "        if begin:\n",
    "            new_df = df.loc[df['species'] == i].sample(minimum)\n",
    "            begin = False\n",
    "        elif i not in new_df['species']:\n",
    "            add_to = df.loc[df['species'] == i].sample(minimum)\n",
    "            new_df = pd.concat([new_df, add_to],axis = 0)\n",
    "    # Shuffle the dataset\n",
    "    new_df.sample(frac=1)\n",
    "    return new_df"
   ]
  },
  {
   "cell_type": "markdown",
   "id": "5951e3b9",
   "metadata": {
    "ExecuteTime": {
     "end_time": "2021-08-26T08:55:40.450636Z",
     "start_time": "2021-08-26T08:55:40.448302Z"
    }
   },
   "source": [
    "# Trier les espèces en supprimant les pays peu représentés"
   ]
  },
  {
   "cell_type": "code",
   "execution_count": 215,
   "id": "87b17a3b",
   "metadata": {
    "ExecuteTime": {
     "end_time": "2021-08-26T22:20:17.389136Z",
     "start_time": "2021-08-26T22:20:17.376546Z"
    }
   },
   "outputs": [
    {
     "data": {
      "text/plain": [
       "Switzerland                  26126\n",
       "France                        1861\n",
       "Italy                         1632\n",
       "Germany                       1326\n",
       "Austria                        856\n",
       "                             ...  \n",
       "Biasca                           1\n",
       "Cavaglia                         1\n",
       "/ V. Bedretto                    1\n",
       "Tujetsch GR : Sedrun sura        1\n",
       "Palestine                        1\n",
       "Name: country, Length: 86, dtype: int64"
      ]
     },
     "execution_count": 215,
     "metadata": {},
     "output_type": "execute_result"
    }
   ],
   "source": [
    "data_train.country.value_counts()"
   ]
  },
  {
   "cell_type": "code",
   "execution_count": null,
   "id": "ad4f241b",
   "metadata": {},
   "outputs": [],
   "source": []
  },
  {
   "cell_type": "code",
   "execution_count": null,
   "id": "8ebd2279",
   "metadata": {},
   "outputs": [],
   "source": []
  }
 ],
 "metadata": {
  "kernelspec": {
   "display_name": "Python 3 (ipykernel)",
   "language": "python",
   "name": "python3"
  },
  "language_info": {
   "codemirror_mode": {
    "name": "ipython",
    "version": 3
   },
   "file_extension": ".py",
   "mimetype": "text/x-python",
   "name": "python",
   "nbconvert_exporter": "python",
   "pygments_lexer": "ipython3",
   "version": "3.8.6"
  },
  "toc": {
   "base_numbering": 1,
   "nav_menu": {},
   "number_sections": true,
   "sideBar": true,
   "skip_h1_title": false,
   "title_cell": "Table of Contents",
   "title_sidebar": "Contents",
   "toc_cell": false,
   "toc_position": {},
   "toc_section_display": true,
   "toc_window_display": false
  }
 },
 "nbformat": 4,
 "nbformat_minor": 5
}

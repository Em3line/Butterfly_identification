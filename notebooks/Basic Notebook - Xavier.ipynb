{
 "cells": [
  {
   "cell_type": "code",
   "execution_count": 1,
   "id": "1364514a",
   "metadata": {},
   "outputs": [],
   "source": [
    "%load_ext autoreload\n",
    "%autoreload 2"
   ]
  },
  {
   "cell_type": "code",
   "execution_count": 2,
   "id": "d0f7b6d2",
   "metadata": {},
   "outputs": [],
   "source": [
    "import pandas as pd\n",
    "import numpy as np\n",
    "from PIL import Image\n",
    "from sklearn.preprocessing import OneHotEncoder\n",
    "import Butterfly_identification.preprocessbutterfly as preproc"
   ]
  },
  {
   "cell_type": "markdown",
   "id": "11431f06",
   "metadata": {},
   "source": [
    "# Get Data"
   ]
  },
  {
   "cell_type": "code",
   "execution_count": 6,
   "id": "45833058",
   "metadata": {},
   "outputs": [],
   "source": [
    "df_train,df_val,df_test = preproc.get_data()"
   ]
  },
  {
   "cell_type": "code",
   "execution_count": 12,
   "id": "837fb93e",
   "metadata": {},
   "outputs": [
    {
     "data": {
      "text/plain": [
       "(36536, 17)"
      ]
     },
     "execution_count": 12,
     "metadata": {},
     "output_type": "execute_result"
    }
   ],
   "source": [
    "df_train.shape"
   ]
  },
  {
   "cell_type": "code",
   "execution_count": 11,
   "id": "9412c7f8",
   "metadata": {},
   "outputs": [],
   "source": [
    "df_train = preproc.feature_engineering(df_train)\n",
    "df_val = preproc.feature_engineering(df_val)\n",
    "df_test = preproc.feature_engineering(df_test)"
   ]
  },
  {
   "cell_type": "code",
   "execution_count": 15,
   "id": "91e5ea7f",
   "metadata": {},
   "outputs": [],
   "source": [
    "df_train = preproc.get_data_minphoto(df_train)"
   ]
  },
  {
   "cell_type": "code",
   "execution_count": 18,
   "id": "9bae0476",
   "metadata": {},
   "outputs": [],
   "source": [
    "df_val = preproc.filter_val_test(df_train, df_val)\n",
    "df_test = preproc.filter_val_test(df_train, df_test)"
   ]
  },
  {
   "cell_type": "code",
   "execution_count": 20,
   "id": "521ef8a6",
   "metadata": {},
   "outputs": [],
   "source": [
    "df_train = preproc.resampling(df_train)"
   ]
  },
  {
   "cell_type": "code",
   "execution_count": null,
   "id": "ccb4cce0",
   "metadata": {},
   "outputs": [],
   "source": [
    "# X_y creation based on generator --> to be updated"
   ]
  },
  {
   "cell_type": "code",
   "execution_count": null,
   "id": "1afa627a",
   "metadata": {},
   "outputs": [],
   "source": [
    "preproc.cat_encoder(y_train, y_val, y_test)"
   ]
  },
  {
   "cell_type": "markdown",
   "id": "fd626289",
   "metadata": {},
   "source": [
    "# Data Augmentation"
   ]
  },
  {
   "cell_type": "code",
   "execution_count": null,
   "id": "c2eb7a18",
   "metadata": {},
   "outputs": [],
   "source": []
  },
  {
   "cell_type": "markdown",
   "id": "15ad7144",
   "metadata": {},
   "source": [
    "# Model"
   ]
  },
  {
   "cell_type": "code",
   "execution_count": null,
   "id": "d261229e",
   "metadata": {},
   "outputs": [],
   "source": []
  }
 ],
 "metadata": {
  "kernelspec": {
   "display_name": "Python 3 (ipykernel)",
   "language": "python",
   "name": "python3"
  },
  "language_info": {
   "codemirror_mode": {
    "name": "ipython",
    "version": 3
   },
   "file_extension": ".py",
   "mimetype": "text/x-python",
   "name": "python",
   "nbconvert_exporter": "python",
   "pygments_lexer": "ipython3",
   "version": "3.8.6"
  },
  "toc": {
   "base_numbering": 1,
   "nav_menu": {},
   "number_sections": true,
   "sideBar": true,
   "skip_h1_title": false,
   "title_cell": "Table of Contents",
   "title_sidebar": "Contents",
   "toc_cell": false,
   "toc_position": {},
   "toc_section_display": true,
   "toc_window_display": false
  }
 },
 "nbformat": 4,
 "nbformat_minor": 5
}

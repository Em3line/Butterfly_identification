{
 "cells": [
  {
   "cell_type": "code",
   "execution_count": 3,
   "id": "fb69a061",
   "metadata": {
    "ExecuteTime": {
     "end_time": "2021-08-23T10:25:19.318222Z",
     "start_time": "2021-08-23T10:25:17.754877Z"
    }
   },
   "outputs": [],
   "source": [
    "import matplotlib.pyplot as plt"
   ]
  },
  {
   "cell_type": "code",
   "execution_count": 3,
   "id": "a1bef4f5",
   "metadata": {
    "ExecuteTime": {
     "end_time": "2021-08-21T09:35:19.867539Z",
     "start_time": "2021-08-21T09:35:10.389216Z"
    }
   },
   "outputs": [],
   "source": [
    "import pandas as pd\n",
    "df = pd.read_json('train.json')"
   ]
  },
  {
   "cell_type": "code",
   "execution_count": 4,
   "id": "24301e3f",
   "metadata": {
    "ExecuteTime": {
     "end_time": "2021-08-21T09:35:19.927585Z",
     "start_time": "2021-08-21T09:35:19.869466Z"
    },
    "scrolled": true
   },
   "outputs": [
    {
     "data": {
      "text/html": [
       "<div>\n",
       "<style scoped>\n",
       "    .dataframe tbody tr th:only-of-type {\n",
       "        vertical-align: middle;\n",
       "    }\n",
       "\n",
       "    .dataframe tbody tr th {\n",
       "        vertical-align: top;\n",
       "    }\n",
       "\n",
       "    .dataframe thead th {\n",
       "        text-align: right;\n",
       "    }\n",
       "</style>\n",
       "<table border=\"1\" class=\"dataframe\">\n",
       "  <thead>\n",
       "    <tr style=\"text-align: right;\">\n",
       "      <th></th>\n",
       "      <th>author</th>\n",
       "      <th>barcode</th>\n",
       "      <th>country</th>\n",
       "      <th>dec_lat</th>\n",
       "      <th>dec_long</th>\n",
       "      <th>family</th>\n",
       "      <th>genus</th>\n",
       "      <th>image_name</th>\n",
       "      <th>image_path</th>\n",
       "      <th>infraspecific_epithet</th>\n",
       "      <th>primary_division</th>\n",
       "      <th>specific_epithet</th>\n",
       "      <th>subfamily</th>\n",
       "      <th>subspecific_epithet</th>\n",
       "      <th>token</th>\n",
       "    </tr>\n",
       "  </thead>\n",
       "  <tbody>\n",
       "    <tr>\n",
       "      <th>0000e73d-4d1e-4241-a577-88103fc0961c</th>\n",
       "      <td>(Mayer, 1851)</td>\n",
       "      <td>ETHZ-ENT0012714</td>\n",
       "      <td>Switzerland</td>\n",
       "      <td>46.31</td>\n",
       "      <td>7.8</td>\n",
       "      <td>Pieridae</td>\n",
       "      <td>Pieris</td>\n",
       "      <td>ETHZ_ENT01_2017_04_03_010614.JPG</td>\n",
       "      <td>2017_04_03R</td>\n",
       "      <td>None</td>\n",
       "      <td>Valais</td>\n",
       "      <td>mannii</td>\n",
       "      <td>Pierinae</td>\n",
       "      <td>None</td>\n",
       "      <td>0000e73d-4d1e-4241-a577-88103fc0961c</td>\n",
       "    </tr>\n",
       "    <tr>\n",
       "      <th>000156fb-6f29-4057-b26f-eca7ce9e9460</th>\n",
       "      <td>(Hübner, 1806)</td>\n",
       "      <td>ETHZ-ENT0015323</td>\n",
       "      <td>Switzerland</td>\n",
       "      <td>46.76594</td>\n",
       "      <td>9.89316</td>\n",
       "      <td>Pieridae</td>\n",
       "      <td>Pieris</td>\n",
       "      <td>ETHZ_ENT01_2017_04_07_013503.JPG</td>\n",
       "      <td>2017_04_07R</td>\n",
       "      <td>None</td>\n",
       "      <td>Grisons</td>\n",
       "      <td>bryoniae</td>\n",
       "      <td>Pierinae</td>\n",
       "      <td>None</td>\n",
       "      <td>000156fb-6f29-4057-b26f-eca7ce9e9460</td>\n",
       "    </tr>\n",
       "    <tr>\n",
       "      <th>00025400-f7bd-477b-9363-18defd2d5466</th>\n",
       "      <td>(Linnaeus, 1767)</td>\n",
       "      <td>ETHZ-ENT0019906</td>\n",
       "      <td>Morocco</td>\n",
       "      <td>30.2804</td>\n",
       "      <td>-9.1599</td>\n",
       "      <td>Lycaenidae</td>\n",
       "      <td>Leptotes</td>\n",
       "      <td>ETHZ_ENT01_2017_04_24_018779.JPG</td>\n",
       "      <td>2017_04_24R</td>\n",
       "      <td>None</td>\n",
       "      <td>Souss-Massa</td>\n",
       "      <td>pirithous</td>\n",
       "      <td>Polyommatinae</td>\n",
       "      <td>None</td>\n",
       "      <td>00025400-f7bd-477b-9363-18defd2d5466</td>\n",
       "    </tr>\n",
       "    <tr>\n",
       "      <th>0006c590-29cd-4a3d-8d81-26023ac346a0</th>\n",
       "      <td>(Rottemburg, 1775)</td>\n",
       "      <td>ETHZ-ENT0013615</td>\n",
       "      <td>Switzerland</td>\n",
       "      <td>47.37659</td>\n",
       "      <td>7.740225</td>\n",
       "      <td>Nymphalidae</td>\n",
       "      <td>Melitaea</td>\n",
       "      <td>ETHZ_ENT01_2017_04_06_012762.JPG</td>\n",
       "      <td>2017_04_06R</td>\n",
       "      <td>None</td>\n",
       "      <td>Basel-Landschaft</td>\n",
       "      <td>athalia</td>\n",
       "      <td>Nymphalinae</td>\n",
       "      <td>None</td>\n",
       "      <td>0006c590-29cd-4a3d-8d81-26023ac346a0</td>\n",
       "    </tr>\n",
       "    <tr>\n",
       "      <th>000b01ec-1bc7-4a3c-8599-0ad88fa654e3</th>\n",
       "      <td>(Denis &amp; Schiffermüller, 1775)</td>\n",
       "      <td>ETHZ-ENT0042254</td>\n",
       "      <td>Switzerland</td>\n",
       "      <td>47.36836</td>\n",
       "      <td>7.73113</td>\n",
       "      <td>Nymphalidae</td>\n",
       "      <td>Erebia</td>\n",
       "      <td>ETHZ_ENT01_2017_06_13_043879.JPG</td>\n",
       "      <td>2017_06_13R</td>\n",
       "      <td>None</td>\n",
       "      <td>Basel-Landschaft</td>\n",
       "      <td>medusa</td>\n",
       "      <td>Satyrinae</td>\n",
       "      <td>None</td>\n",
       "      <td>000b01ec-1bc7-4a3c-8599-0ad88fa654e3</td>\n",
       "    </tr>\n",
       "    <tr>\n",
       "      <th>...</th>\n",
       "      <td>...</td>\n",
       "      <td>...</td>\n",
       "      <td>...</td>\n",
       "      <td>...</td>\n",
       "      <td>...</td>\n",
       "      <td>...</td>\n",
       "      <td>...</td>\n",
       "      <td>...</td>\n",
       "      <td>...</td>\n",
       "      <td>...</td>\n",
       "      <td>...</td>\n",
       "      <td>...</td>\n",
       "      <td>...</td>\n",
       "      <td>...</td>\n",
       "      <td>...</td>\n",
       "    </tr>\n",
       "    <tr>\n",
       "      <th>14ce36f1-427c-11ea-871b-887873dd81ef</th>\n",
       "      <td>Bremer, 1864</td>\n",
       "      <td>ETHZ-ENT0012306</td>\n",
       "      <td>Russia</td>\n",
       "      <td>None</td>\n",
       "      <td>None</td>\n",
       "      <td>Nymphalidae</td>\n",
       "      <td>Erebia</td>\n",
       "      <td>ETHZ_ENT01_2017_03_31_010161.JPG</td>\n",
       "      <td>2017_03_31R</td>\n",
       "      <td>None</td>\n",
       "      <td>Primorsky</td>\n",
       "      <td>wanga</td>\n",
       "      <td>Satyrinae</td>\n",
       "      <td>None</td>\n",
       "      <td>14ce36f1-427c-11ea-871b-887873dd81ef</td>\n",
       "    </tr>\n",
       "    <tr>\n",
       "      <th>14ce36f2-427c-11ea-91d2-887873dd81ef</th>\n",
       "      <td>Butler, 1868</td>\n",
       "      <td>ETHZ-ENT0012301</td>\n",
       "      <td>Spain</td>\n",
       "      <td>None</td>\n",
       "      <td>None</td>\n",
       "      <td>Nymphalidae</td>\n",
       "      <td>Erebia</td>\n",
       "      <td>ETHZ_ENT01_2017_03_31_010156.JPG</td>\n",
       "      <td>2017_03_31R</td>\n",
       "      <td>None</td>\n",
       "      <td>Andalusia</td>\n",
       "      <td>hispania</td>\n",
       "      <td>Satyrinae</td>\n",
       "      <td>None</td>\n",
       "      <td>14ce36f2-427c-11ea-91d2-887873dd81ef</td>\n",
       "    </tr>\n",
       "    <tr>\n",
       "      <th>14ce36f3-427c-11ea-ab8b-887873dd81ef</th>\n",
       "      <td>(Gerhard, 1850)</td>\n",
       "      <td>ETHZ-ENT0013111</td>\n",
       "      <td>Turkey</td>\n",
       "      <td>None</td>\n",
       "      <td>None</td>\n",
       "      <td>Lycaenidae</td>\n",
       "      <td>Lycaena</td>\n",
       "      <td>ETHZ_ENT01_2017_04_04_011035.JPG</td>\n",
       "      <td>2017_04_04R</td>\n",
       "      <td>None</td>\n",
       "      <td>None</td>\n",
       "      <td>asabinus</td>\n",
       "      <td>Lycaeninae</td>\n",
       "      <td>None</td>\n",
       "      <td>14ce36f3-427c-11ea-ab8b-887873dd81ef</td>\n",
       "    </tr>\n",
       "    <tr>\n",
       "      <th>14ce36f4-427c-11ea-a529-887873dd81ef</th>\n",
       "      <td>(Klug, 1832)</td>\n",
       "      <td>ETHZ-ENT0039040</td>\n",
       "      <td>Palestine</td>\n",
       "      <td>None</td>\n",
       "      <td>None</td>\n",
       "      <td>Nymphalidae</td>\n",
       "      <td>Ypthima</td>\n",
       "      <td>ETHZ_ENT01_2017_06_06_040263.JPG</td>\n",
       "      <td>2017_06_06R</td>\n",
       "      <td>None</td>\n",
       "      <td>Jericho</td>\n",
       "      <td>asterope</td>\n",
       "      <td>Satyrinae</td>\n",
       "      <td>None</td>\n",
       "      <td>14ce36f4-427c-11ea-a529-887873dd81ef</td>\n",
       "    </tr>\n",
       "    <tr>\n",
       "      <th>14ce36f5-427c-11ea-b737-887873dd81ef</th>\n",
       "      <td>(Staudinger, 1882)</td>\n",
       "      <td>ETHZ-ENT0012316</td>\n",
       "      <td>Tajikistan</td>\n",
       "      <td>None</td>\n",
       "      <td>None</td>\n",
       "      <td>Nymphalidae</td>\n",
       "      <td>Paralasa</td>\n",
       "      <td>ETHZ_ENT01_2017_03_31_010173.JPG</td>\n",
       "      <td>2017_03_31R</td>\n",
       "      <td>None</td>\n",
       "      <td>Sughd</td>\n",
       "      <td>hades</td>\n",
       "      <td>Satyrinae</td>\n",
       "      <td>None</td>\n",
       "      <td>14ce36f5-427c-11ea-b737-887873dd81ef</td>\n",
       "    </tr>\n",
       "  </tbody>\n",
       "</table>\n",
       "<p>36536 rows × 15 columns</p>\n",
       "</div>"
      ],
      "text/plain": [
       "                                                              author  \\\n",
       "0000e73d-4d1e-4241-a577-88103fc0961c                   (Mayer, 1851)   \n",
       "000156fb-6f29-4057-b26f-eca7ce9e9460                  (Hübner, 1806)   \n",
       "00025400-f7bd-477b-9363-18defd2d5466                (Linnaeus, 1767)   \n",
       "0006c590-29cd-4a3d-8d81-26023ac346a0              (Rottemburg, 1775)   \n",
       "000b01ec-1bc7-4a3c-8599-0ad88fa654e3  (Denis & Schiffermüller, 1775)   \n",
       "...                                                              ...   \n",
       "14ce36f1-427c-11ea-871b-887873dd81ef                    Bremer, 1864   \n",
       "14ce36f2-427c-11ea-91d2-887873dd81ef                    Butler, 1868   \n",
       "14ce36f3-427c-11ea-ab8b-887873dd81ef                 (Gerhard, 1850)   \n",
       "14ce36f4-427c-11ea-a529-887873dd81ef                    (Klug, 1832)   \n",
       "14ce36f5-427c-11ea-b737-887873dd81ef              (Staudinger, 1882)   \n",
       "\n",
       "                                              barcode      country   dec_lat  \\\n",
       "0000e73d-4d1e-4241-a577-88103fc0961c  ETHZ-ENT0012714  Switzerland     46.31   \n",
       "000156fb-6f29-4057-b26f-eca7ce9e9460  ETHZ-ENT0015323  Switzerland  46.76594   \n",
       "00025400-f7bd-477b-9363-18defd2d5466  ETHZ-ENT0019906      Morocco   30.2804   \n",
       "0006c590-29cd-4a3d-8d81-26023ac346a0  ETHZ-ENT0013615  Switzerland  47.37659   \n",
       "000b01ec-1bc7-4a3c-8599-0ad88fa654e3  ETHZ-ENT0042254  Switzerland  47.36836   \n",
       "...                                               ...          ...       ...   \n",
       "14ce36f1-427c-11ea-871b-887873dd81ef  ETHZ-ENT0012306       Russia      None   \n",
       "14ce36f2-427c-11ea-91d2-887873dd81ef  ETHZ-ENT0012301        Spain      None   \n",
       "14ce36f3-427c-11ea-ab8b-887873dd81ef  ETHZ-ENT0013111       Turkey      None   \n",
       "14ce36f4-427c-11ea-a529-887873dd81ef  ETHZ-ENT0039040    Palestine      None   \n",
       "14ce36f5-427c-11ea-b737-887873dd81ef  ETHZ-ENT0012316   Tajikistan      None   \n",
       "\n",
       "                                      dec_long       family     genus  \\\n",
       "0000e73d-4d1e-4241-a577-88103fc0961c       7.8     Pieridae    Pieris   \n",
       "000156fb-6f29-4057-b26f-eca7ce9e9460   9.89316     Pieridae    Pieris   \n",
       "00025400-f7bd-477b-9363-18defd2d5466   -9.1599   Lycaenidae  Leptotes   \n",
       "0006c590-29cd-4a3d-8d81-26023ac346a0  7.740225  Nymphalidae  Melitaea   \n",
       "000b01ec-1bc7-4a3c-8599-0ad88fa654e3   7.73113  Nymphalidae    Erebia   \n",
       "...                                        ...          ...       ...   \n",
       "14ce36f1-427c-11ea-871b-887873dd81ef      None  Nymphalidae    Erebia   \n",
       "14ce36f2-427c-11ea-91d2-887873dd81ef      None  Nymphalidae    Erebia   \n",
       "14ce36f3-427c-11ea-ab8b-887873dd81ef      None   Lycaenidae   Lycaena   \n",
       "14ce36f4-427c-11ea-a529-887873dd81ef      None  Nymphalidae   Ypthima   \n",
       "14ce36f5-427c-11ea-b737-887873dd81ef      None  Nymphalidae  Paralasa   \n",
       "\n",
       "                                                            image_name  \\\n",
       "0000e73d-4d1e-4241-a577-88103fc0961c  ETHZ_ENT01_2017_04_03_010614.JPG   \n",
       "000156fb-6f29-4057-b26f-eca7ce9e9460  ETHZ_ENT01_2017_04_07_013503.JPG   \n",
       "00025400-f7bd-477b-9363-18defd2d5466  ETHZ_ENT01_2017_04_24_018779.JPG   \n",
       "0006c590-29cd-4a3d-8d81-26023ac346a0  ETHZ_ENT01_2017_04_06_012762.JPG   \n",
       "000b01ec-1bc7-4a3c-8599-0ad88fa654e3  ETHZ_ENT01_2017_06_13_043879.JPG   \n",
       "...                                                                ...   \n",
       "14ce36f1-427c-11ea-871b-887873dd81ef  ETHZ_ENT01_2017_03_31_010161.JPG   \n",
       "14ce36f2-427c-11ea-91d2-887873dd81ef  ETHZ_ENT01_2017_03_31_010156.JPG   \n",
       "14ce36f3-427c-11ea-ab8b-887873dd81ef  ETHZ_ENT01_2017_04_04_011035.JPG   \n",
       "14ce36f4-427c-11ea-a529-887873dd81ef  ETHZ_ENT01_2017_06_06_040263.JPG   \n",
       "14ce36f5-427c-11ea-b737-887873dd81ef  ETHZ_ENT01_2017_03_31_010173.JPG   \n",
       "\n",
       "                                       image_path infraspecific_epithet  \\\n",
       "0000e73d-4d1e-4241-a577-88103fc0961c  2017_04_03R                  None   \n",
       "000156fb-6f29-4057-b26f-eca7ce9e9460  2017_04_07R                  None   \n",
       "00025400-f7bd-477b-9363-18defd2d5466  2017_04_24R                  None   \n",
       "0006c590-29cd-4a3d-8d81-26023ac346a0  2017_04_06R                  None   \n",
       "000b01ec-1bc7-4a3c-8599-0ad88fa654e3  2017_06_13R                  None   \n",
       "...                                           ...                   ...   \n",
       "14ce36f1-427c-11ea-871b-887873dd81ef  2017_03_31R                  None   \n",
       "14ce36f2-427c-11ea-91d2-887873dd81ef  2017_03_31R                  None   \n",
       "14ce36f3-427c-11ea-ab8b-887873dd81ef  2017_04_04R                  None   \n",
       "14ce36f4-427c-11ea-a529-887873dd81ef  2017_06_06R                  None   \n",
       "14ce36f5-427c-11ea-b737-887873dd81ef  2017_03_31R                  None   \n",
       "\n",
       "                                      primary_division specific_epithet  \\\n",
       "0000e73d-4d1e-4241-a577-88103fc0961c            Valais           mannii   \n",
       "000156fb-6f29-4057-b26f-eca7ce9e9460           Grisons         bryoniae   \n",
       "00025400-f7bd-477b-9363-18defd2d5466       Souss-Massa        pirithous   \n",
       "0006c590-29cd-4a3d-8d81-26023ac346a0  Basel-Landschaft          athalia   \n",
       "000b01ec-1bc7-4a3c-8599-0ad88fa654e3  Basel-Landschaft           medusa   \n",
       "...                                                ...              ...   \n",
       "14ce36f1-427c-11ea-871b-887873dd81ef         Primorsky            wanga   \n",
       "14ce36f2-427c-11ea-91d2-887873dd81ef         Andalusia         hispania   \n",
       "14ce36f3-427c-11ea-ab8b-887873dd81ef              None         asabinus   \n",
       "14ce36f4-427c-11ea-a529-887873dd81ef           Jericho         asterope   \n",
       "14ce36f5-427c-11ea-b737-887873dd81ef             Sughd            hades   \n",
       "\n",
       "                                          subfamily subspecific_epithet  \\\n",
       "0000e73d-4d1e-4241-a577-88103fc0961c       Pierinae                None   \n",
       "000156fb-6f29-4057-b26f-eca7ce9e9460       Pierinae                None   \n",
       "00025400-f7bd-477b-9363-18defd2d5466  Polyommatinae                None   \n",
       "0006c590-29cd-4a3d-8d81-26023ac346a0    Nymphalinae                None   \n",
       "000b01ec-1bc7-4a3c-8599-0ad88fa654e3      Satyrinae                None   \n",
       "...                                             ...                 ...   \n",
       "14ce36f1-427c-11ea-871b-887873dd81ef      Satyrinae                None   \n",
       "14ce36f2-427c-11ea-91d2-887873dd81ef      Satyrinae                None   \n",
       "14ce36f3-427c-11ea-ab8b-887873dd81ef     Lycaeninae                None   \n",
       "14ce36f4-427c-11ea-a529-887873dd81ef      Satyrinae                None   \n",
       "14ce36f5-427c-11ea-b737-887873dd81ef      Satyrinae                None   \n",
       "\n",
       "                                                                     token  \n",
       "0000e73d-4d1e-4241-a577-88103fc0961c  0000e73d-4d1e-4241-a577-88103fc0961c  \n",
       "000156fb-6f29-4057-b26f-eca7ce9e9460  000156fb-6f29-4057-b26f-eca7ce9e9460  \n",
       "00025400-f7bd-477b-9363-18defd2d5466  00025400-f7bd-477b-9363-18defd2d5466  \n",
       "0006c590-29cd-4a3d-8d81-26023ac346a0  0006c590-29cd-4a3d-8d81-26023ac346a0  \n",
       "000b01ec-1bc7-4a3c-8599-0ad88fa654e3  000b01ec-1bc7-4a3c-8599-0ad88fa654e3  \n",
       "...                                                                    ...  \n",
       "14ce36f1-427c-11ea-871b-887873dd81ef  14ce36f1-427c-11ea-871b-887873dd81ef  \n",
       "14ce36f2-427c-11ea-91d2-887873dd81ef  14ce36f2-427c-11ea-91d2-887873dd81ef  \n",
       "14ce36f3-427c-11ea-ab8b-887873dd81ef  14ce36f3-427c-11ea-ab8b-887873dd81ef  \n",
       "14ce36f4-427c-11ea-a529-887873dd81ef  14ce36f4-427c-11ea-a529-887873dd81ef  \n",
       "14ce36f5-427c-11ea-b737-887873dd81ef  14ce36f5-427c-11ea-b737-887873dd81ef  \n",
       "\n",
       "[36536 rows x 15 columns]"
      ]
     },
     "execution_count": 4,
     "metadata": {},
     "output_type": "execute_result"
    }
   ],
   "source": [
    "df.T"
   ]
  },
  {
   "cell_type": "code",
   "execution_count": 5,
   "id": "b0adb3a6",
   "metadata": {
    "ExecuteTime": {
     "end_time": "2021-08-21T09:35:20.822216Z",
     "start_time": "2021-08-21T09:35:19.928870Z"
    }
   },
   "outputs": [],
   "source": [
    "data = df.T"
   ]
  },
  {
   "cell_type": "markdown",
   "id": "ea2a1fde",
   "metadata": {},
   "source": [
    "# Data TaxRef"
   ]
  },
  {
   "cell_type": "markdown",
   "id": "575a57ae",
   "metadata": {},
   "source": [
    "## Creation du TaxRef des 6 familles de Lépi"
   ]
  },
  {
   "cell_type": "code",
   "execution_count": 13,
   "id": "850bfe68",
   "metadata": {
    "ExecuteTime": {
     "end_time": "2021-08-20T22:08:12.117649Z",
     "start_time": "2021-08-20T22:08:12.113615Z"
    }
   },
   "outputs": [
    {
     "data": {
      "text/plain": [
       "(403, 1443, 2270, 1516, 300, 830)"
      ]
     },
     "execution_count": 13,
     "metadata": {},
     "output_type": "execute_result"
    }
   ],
   "source": [
    "29279-28876, 19899 - 18456, 28255-25985,17871-16355, 28860 - 28560, 32460 - 31630"
   ]
  },
  {
   "cell_type": "code",
   "execution_count": 29,
   "id": "301b1237",
   "metadata": {
    "ExecuteTime": {
     "end_time": "2021-08-20T22:15:48.456051Z",
     "start_time": "2021-08-20T22:15:48.452997Z"
    }
   },
   "outputs": [],
   "source": [
    "test = [(29279,28876), (19899,18456), (28255,25985),(17871,16355), (28860,28560), (32460,31630)]"
   ]
  },
  {
   "cell_type": "code",
   "execution_count": 32,
   "id": "96bba0b9",
   "metadata": {
    "ExecuteTime": {
     "end_time": "2021-08-20T22:17:31.873888Z",
     "start_time": "2021-08-20T22:17:31.868020Z"
    }
   },
   "outputs": [
    {
     "data": {
      "text/plain": [
       "585"
      ]
     },
     "execution_count": 32,
     "metadata": {},
     "output_type": "execute_result"
    }
   ],
   "source": [
    "2106-1521"
   ]
  },
  {
   "cell_type": "code",
   "execution_count": 31,
   "id": "125b9173",
   "metadata": {
    "ExecuteTime": {
     "end_time": "2021-08-20T22:16:02.186591Z",
     "start_time": "2021-08-20T22:16:02.175344Z"
    },
    "collapsed": true
   },
   "outputs": [
    {
     "data": {
      "text/plain": [
       "[(12929, 12526),\n",
       " (3549, 2106),\n",
       " (11905, 9635),\n",
       " (1521, 5),\n",
       " (12510, 12210),\n",
       " (16110, 15280)]"
      ]
     },
     "execution_count": 31,
     "metadata": {},
     "output_type": "execute_result"
    }
   ],
   "source": [
    "test2 = [(a-16350,b-16350) for (a,b) in test]\n",
    "test2"
   ]
  },
  {
   "cell_type": "code",
   "execution_count": 37,
   "id": "fd04741b",
   "metadata": {
    "ExecuteTime": {
     "end_time": "2021-08-20T22:18:51.921688Z",
     "start_time": "2021-08-20T22:18:51.917855Z"
    },
    "collapsed": true
   },
   "outputs": [
    {
     "data": {
      "text/plain": [
       "[(12345, 11942),\n",
       " (2965, 1522),\n",
       " (11321, 9051),\n",
       " (937, -579),\n",
       " (11926, 11626),\n",
       " (15526, 14696)]"
      ]
     },
     "execution_count": 37,
     "metadata": {},
     "output_type": "execute_result"
    }
   ],
   "source": [
    "test3 = [(a-584,b-584) for (a,b) in test2]\n",
    "test3"
   ]
  },
  {
   "cell_type": "code",
   "execution_count": 43,
   "id": "13a2677b",
   "metadata": {
    "ExecuteTime": {
     "end_time": "2021-08-20T22:26:35.420038Z",
     "start_time": "2021-08-20T22:26:35.415740Z"
    }
   },
   "outputs": [
    {
     "data": {
      "text/plain": [
       "304"
      ]
     },
     "execution_count": 43,
     "metadata": {},
     "output_type": "execute_result"
    }
   ],
   "source": [
    "5541-5236-1"
   ]
  },
  {
   "cell_type": "code",
   "execution_count": 42,
   "id": "0cdece3d",
   "metadata": {
    "ExecuteTime": {
     "end_time": "2021-08-20T22:24:47.491787Z",
     "start_time": "2021-08-20T22:24:47.479023Z"
    },
    "collapsed": true
   },
   "outputs": [
    {
     "data": {
      "text/plain": [
       "[(6260, 5857),\n",
       " (-3120, -4563),\n",
       " (5236, 2966),\n",
       " (-5148, -6664),\n",
       " (5841, 5541),\n",
       " (9441, 8611)]"
      ]
     },
     "execution_count": 42,
     "metadata": {},
     "output_type": "execute_result"
    }
   ],
   "source": [
    "test4 = [(a-6085,b-6085) for (a,b) in test3]\n",
    "test4"
   ]
  },
  {
   "cell_type": "code",
   "execution_count": 44,
   "id": "e7fb7ac8",
   "metadata": {
    "ExecuteTime": {
     "end_time": "2021-08-20T22:26:57.521189Z",
     "start_time": "2021-08-20T22:26:57.517242Z"
    },
    "collapsed": true
   },
   "outputs": [
    {
     "data": {
      "text/plain": [
       "[(5956, 5553),\n",
       " (-3424, -4867),\n",
       " (4932, 2662),\n",
       " (-5452, -6968),\n",
       " (5537, 5237),\n",
       " (9137, 8307)]"
      ]
     },
     "execution_count": 44,
     "metadata": {},
     "output_type": "execute_result"
    }
   ],
   "source": [
    "test5 = [(a-304,b-304) for (a,b) in test4]\n",
    "test5"
   ]
  },
  {
   "cell_type": "markdown",
   "id": "bb3c3a39",
   "metadata": {},
   "source": [
    "## Bilan du TaxRef"
   ]
  },
  {
   "cell_type": "code",
   "execution_count": 7,
   "id": "53af3fc9",
   "metadata": {
    "ExecuteTime": {
     "end_time": "2021-08-21T09:40:38.966537Z",
     "start_time": "2021-08-21T09:40:38.961480Z"
    }
   },
   "outputs": [],
   "source": [
    "dico = {'Pieridae' : 403, 'Lycaenidae' : 1443, 'Nymphalidae' : 2270, \n",
    "      'Hesperiidae' : 1516, 'Papilionidae' : 300, 'Riodinidae' : 830}"
   ]
  },
  {
   "cell_type": "code",
   "execution_count": 8,
   "id": "f439244f",
   "metadata": {
    "ExecuteTime": {
     "end_time": "2021-08-21T09:40:39.368144Z",
     "start_time": "2021-08-21T09:40:39.357531Z"
    }
   },
   "outputs": [
    {
     "name": "stdout",
     "output_type": "stream",
     "text": [
      "Nombre d'espèces totales sur les 6 familles étudiées :  6762\n"
     ]
    }
   ],
   "source": [
    "import numpy as np\n",
    "# nombre d'espèces pour les \n",
    "print(\"Nombre d'espèces totales sur les 6 familles étudiées : \",np.array([i for i in dico.values()]).sum())"
   ]
  },
  {
   "cell_type": "code",
   "execution_count": 9,
   "id": "0a86ba43",
   "metadata": {
    "ExecuteTime": {
     "end_time": "2021-08-21T09:40:40.926499Z",
     "start_time": "2021-08-21T09:40:40.872836Z"
    }
   },
   "outputs": [],
   "source": [
    "TF = pd.read_table('TAXREFLEPIfam.txt')"
   ]
  },
  {
   "cell_type": "code",
   "execution_count": 10,
   "id": "264d31af",
   "metadata": {
    "ExecuteTime": {
     "end_time": "2021-08-21T09:40:41.797132Z",
     "start_time": "2021-08-21T09:40:41.791426Z"
    }
   },
   "outputs": [
    {
     "data": {
      "text/plain": [
       "Index(['REGNE', 'PHYLUM', 'CLASSE', 'ORDRE', 'FAMILLE', 'SOUS_FAMILLE',\n",
       "       'TRIBU', 'GROUP1_INPN', 'GROUP2_INPN', 'CD_NOM', 'CD_TAXSUP', 'CD_SUP',\n",
       "       'CD_REF', 'RANG', 'LB_NOM', 'LB_AUTEUR', 'NOM_COMPLET',\n",
       "       'NOM_COMPLET_HTML', 'NOM_VALIDE', 'NOM_VERN', 'NOM_VERN_ENG', 'HABITAT',\n",
       "       'FR', 'GF', 'MAR', 'GUA', 'SM', 'SB', 'SPM', 'MAY', 'EPA', 'REU', 'SA',\n",
       "       'TA', 'TAAF', 'PF', 'NC', 'WF', 'CLI', 'URL', 'Unnamed: 40',\n",
       "       'Unnamed: 41', 'Unnamed: 42', 'Unnamed: 43', 'Unnamed: 44',\n",
       "       'Unnamed: 45', 'Unnamed: 46'],\n",
       "      dtype='object')"
      ]
     },
     "execution_count": 10,
     "metadata": {},
     "output_type": "execute_result"
    }
   ],
   "source": [
    "TF.columns"
   ]
  },
  {
   "cell_type": "code",
   "execution_count": 23,
   "id": "9f541b6c",
   "metadata": {
    "ExecuteTime": {
     "end_time": "2021-08-20T22:48:10.562520Z",
     "start_time": "2021-08-20T22:48:10.553767Z"
    }
   },
   "outputs": [
    {
     "data": {
      "text/plain": [
       "REGNE                                                Animalia\n",
       "PHYLUM                                             Arthropoda\n",
       "CLASSE                                                Insecta\n",
       "ORDRE                                             Lepidoptera\n",
       "FAMILLE                                           Hesperiidae\n",
       "SOUS_FAMILLE                                      Coeliadinae\n",
       "TRIBU                                                     NaN\n",
       "GROUP1_INPN                                       Arthropodes\n",
       "GROUP2_INPN                                          Insectes\n",
       "CD_NOM                                                 777944\n",
       "CD_TAXSUP                                                 NaN\n",
       "CD_SUP                                                    NaN\n",
       "CD_REF                                                 777943\n",
       "RANG                                                       ES\n",
       "LB_NOM                                         Hesperia atrox\n",
       "LB_AUTEUR                                        Butler, 1877\n",
       "NOM_COMPLET                       Hesperia atrox Butler, 1877\n",
       "NOM_COMPLET_HTML           <i>Hesperia atrox</i> Butler, 1877\n",
       "NOM_VALIDE                       Badamia atrox (Butler, 1877)\n",
       "NOM_VERN                                                  NaN\n",
       "NOM_VERN_ENG                                              NaN\n",
       "HABITAT                                                   3.0\n",
       "FR                                                        NaN\n",
       "GF                                                        NaN\n",
       "MAR                                                       NaN\n",
       "GUA                                                       NaN\n",
       "SM                                                        NaN\n",
       "SB                                                        NaN\n",
       "SPM                                                       NaN\n",
       "MAY                                                       NaN\n",
       "EPA                                                       NaN\n",
       "REU                                                       NaN\n",
       "SA                                                        NaN\n",
       "TA                                                        NaN\n",
       "TAAF                                                      NaN\n",
       "PF                                                          P\n",
       "NC                                                          P\n",
       "WF                                                        NaN\n",
       "CLI                                                       NaN\n",
       "URL                 https://inpn.mnhn.fr/espece/cd_nom/777944\n",
       "Unnamed: 40                                               NaN\n",
       "Unnamed: 41                                               NaN\n",
       "Unnamed: 42                                               NaN\n",
       "Unnamed: 43                                               NaN\n",
       "Unnamed: 44                                               NaN\n",
       "Unnamed: 45                                               NaN\n",
       "Unnamed: 46                                               NaN\n",
       "Name: 5, dtype: object"
      ]
     },
     "execution_count": 23,
     "metadata": {},
     "output_type": "execute_result"
    }
   ],
   "source": [
    "TF.iloc[5,:]"
   ]
  },
  {
   "cell_type": "code",
   "execution_count": 34,
   "id": "1729233c",
   "metadata": {
    "ExecuteTime": {
     "end_time": "2021-08-20T22:58:01.050584Z",
     "start_time": "2021-08-20T22:58:01.040391Z"
    }
   },
   "outputs": [
    {
     "name": "stdout",
     "output_type": "stream",
     "text": [
      "Nombre de genre total sur les 6 familles étudiées : 801\n"
     ]
    }
   ],
   "source": [
    "def get_split1(texte):\n",
    "    liste = texte.split()\n",
    "    return liste[0]\n",
    "\n",
    "print(\"Nombre de genre total sur les 6 familles étudiées :\", TF.NOM_VALIDE.apply(get_split1).nunique())"
   ]
  },
  {
   "cell_type": "markdown",
   "id": "4fabf4ed",
   "metadata": {},
   "source": [
    "# Data ETH"
   ]
  },
  {
   "cell_type": "code",
   "execution_count": 23,
   "id": "d17afac2",
   "metadata": {
    "ExecuteTime": {
     "end_time": "2021-08-15T14:52:50.356393Z",
     "start_time": "2021-08-15T14:52:50.345333Z"
    }
   },
   "outputs": [
    {
     "data": {
      "text/plain": [
       "86"
      ]
     },
     "execution_count": 23,
     "metadata": {},
     "output_type": "execute_result"
    }
   ],
   "source": [
    "data.country.nunique()"
   ]
  },
  {
   "cell_type": "code",
   "execution_count": 56,
   "id": "000470a4",
   "metadata": {
    "ExecuteTime": {
     "end_time": "2021-08-20T23:08:05.470319Z",
     "start_time": "2021-08-20T23:08:05.422844Z"
    }
   },
   "outputs": [
    {
     "name": "stdout",
     "output_type": "stream",
     "text": [
      "<class 'pandas.core.frame.DataFrame'>\n",
      "Index: 36536 entries, 0000e73d-4d1e-4241-a577-88103fc0961c to 14ce36f5-427c-11ea-b737-887873dd81ef\n",
      "Data columns (total 15 columns):\n",
      " #   Column                 Non-Null Count  Dtype \n",
      "---  ------                 --------------  ----- \n",
      " 0   author                 36531 non-null  object\n",
      " 1   barcode                36536 non-null  object\n",
      " 2   country                35639 non-null  object\n",
      " 3   dec_lat                34651 non-null  object\n",
      " 4   dec_long               34677 non-null  object\n",
      " 5   family                 36536 non-null  object\n",
      " 6   genus                  36536 non-null  object\n",
      " 7   image_name             36536 non-null  object\n",
      " 8   image_path             36536 non-null  object\n",
      " 9   infraspecific_epithet  346 non-null    object\n",
      " 10  primary_division       35338 non-null  object\n",
      " 11  specific_epithet       36536 non-null  object\n",
      " 12  subfamily              36536 non-null  object\n",
      " 13  subspecific_epithet    4433 non-null   object\n",
      " 14  token                  36536 non-null  object\n",
      "dtypes: object(15)\n",
      "memory usage: 5.5+ MB\n"
     ]
    }
   ],
   "source": [
    "data.info()"
   ]
  },
  {
   "cell_type": "code",
   "execution_count": 38,
   "id": "2492ef97",
   "metadata": {
    "ExecuteTime": {
     "end_time": "2021-08-20T23:01:21.700925Z",
     "start_time": "2021-08-20T23:01:21.670150Z"
    }
   },
   "outputs": [
    {
     "name": "stdout",
     "output_type": "stream",
     "text": [
      "Nombre de familles : 6\n",
      "Nombre de sous-familles : 21\n",
      "Nombre de genres : 153\n",
      "Nombre d'espèces : 685\n"
     ]
    }
   ],
   "source": [
    "print(\"Nombre de familles :\", data.family.nunique())\n",
    "print(\"Nombre de sous-familles :\", data.subfamily.nunique())\n",
    "print(\"Nombre de genres :\", data.genus.nunique())\n",
    "print(\"Nombre d'espèces :\", data.specific_epithet.nunique())"
   ]
  },
  {
   "cell_type": "code",
   "execution_count": 53,
   "id": "ce3cc46a",
   "metadata": {
    "ExecuteTime": {
     "end_time": "2021-08-20T23:07:37.828088Z",
     "start_time": "2021-08-20T23:07:37.825203Z"
    }
   },
   "outputs": [],
   "source": [
    "image1 = f'{data.image_path[0]}/{data.image_name[0]}'"
   ]
  },
  {
   "cell_type": "code",
   "execution_count": 55,
   "id": "12044195",
   "metadata": {
    "ExecuteTime": {
     "end_time": "2021-08-20T23:07:55.546301Z",
     "start_time": "2021-08-20T23:07:55.438414Z"
    }
   },
   "outputs": [
    {
     "ename": "TypeError",
     "evalue": "Image data of dtype <U44 cannot be converted to float",
     "output_type": "error",
     "traceback": [
      "\u001b[0;31m---------------------------------------------------------------------------\u001b[0m",
      "\u001b[0;31mTypeError\u001b[0m                                 Traceback (most recent call last)",
      "\u001b[0;32m/tmp/ipykernel_140396/902860728.py\u001b[0m in \u001b[0;36m<module>\u001b[0;34m\u001b[0m\n\u001b[0;32m----> 1\u001b[0;31m \u001b[0mplt\u001b[0m\u001b[0;34m.\u001b[0m\u001b[0mimshow\u001b[0m\u001b[0;34m(\u001b[0m\u001b[0mimage1\u001b[0m\u001b[0;34m)\u001b[0m\u001b[0;34m\u001b[0m\u001b[0;34m\u001b[0m\u001b[0m\n\u001b[0m",
      "\u001b[0;32m~/.pyenv/versions/3.8.6/envs/lewagon/lib/python3.8/site-packages/matplotlib/pyplot.py\u001b[0m in \u001b[0;36mimshow\u001b[0;34m(X, cmap, norm, aspect, interpolation, alpha, vmin, vmax, origin, extent, filternorm, filterrad, resample, url, data, **kwargs)\u001b[0m\n\u001b[1;32m   2901\u001b[0m         \u001b[0mfilternorm\u001b[0m\u001b[0;34m=\u001b[0m\u001b[0;32mTrue\u001b[0m\u001b[0;34m,\u001b[0m \u001b[0mfilterrad\u001b[0m\u001b[0;34m=\u001b[0m\u001b[0;36m4.0\u001b[0m\u001b[0;34m,\u001b[0m \u001b[0mresample\u001b[0m\u001b[0;34m=\u001b[0m\u001b[0;32mNone\u001b[0m\u001b[0;34m,\u001b[0m \u001b[0murl\u001b[0m\u001b[0;34m=\u001b[0m\u001b[0;32mNone\u001b[0m\u001b[0;34m,\u001b[0m\u001b[0;34m\u001b[0m\u001b[0;34m\u001b[0m\u001b[0m\n\u001b[1;32m   2902\u001b[0m         data=None, **kwargs):\n\u001b[0;32m-> 2903\u001b[0;31m     __ret = gca().imshow(\n\u001b[0m\u001b[1;32m   2904\u001b[0m         \u001b[0mX\u001b[0m\u001b[0;34m,\u001b[0m \u001b[0mcmap\u001b[0m\u001b[0;34m=\u001b[0m\u001b[0mcmap\u001b[0m\u001b[0;34m,\u001b[0m \u001b[0mnorm\u001b[0m\u001b[0;34m=\u001b[0m\u001b[0mnorm\u001b[0m\u001b[0;34m,\u001b[0m \u001b[0maspect\u001b[0m\u001b[0;34m=\u001b[0m\u001b[0maspect\u001b[0m\u001b[0;34m,\u001b[0m\u001b[0;34m\u001b[0m\u001b[0;34m\u001b[0m\u001b[0m\n\u001b[1;32m   2905\u001b[0m         \u001b[0minterpolation\u001b[0m\u001b[0;34m=\u001b[0m\u001b[0minterpolation\u001b[0m\u001b[0;34m,\u001b[0m \u001b[0malpha\u001b[0m\u001b[0;34m=\u001b[0m\u001b[0malpha\u001b[0m\u001b[0;34m,\u001b[0m \u001b[0mvmin\u001b[0m\u001b[0;34m=\u001b[0m\u001b[0mvmin\u001b[0m\u001b[0;34m,\u001b[0m\u001b[0;34m\u001b[0m\u001b[0;34m\u001b[0m\u001b[0m\n",
      "\u001b[0;32m~/.pyenv/versions/3.8.6/envs/lewagon/lib/python3.8/site-packages/matplotlib/__init__.py\u001b[0m in \u001b[0;36minner\u001b[0;34m(ax, data, *args, **kwargs)\u001b[0m\n\u001b[1;32m   1359\u001b[0m     \u001b[0;32mdef\u001b[0m \u001b[0minner\u001b[0m\u001b[0;34m(\u001b[0m\u001b[0max\u001b[0m\u001b[0;34m,\u001b[0m \u001b[0;34m*\u001b[0m\u001b[0margs\u001b[0m\u001b[0;34m,\u001b[0m \u001b[0mdata\u001b[0m\u001b[0;34m=\u001b[0m\u001b[0;32mNone\u001b[0m\u001b[0;34m,\u001b[0m \u001b[0;34m**\u001b[0m\u001b[0mkwargs\u001b[0m\u001b[0;34m)\u001b[0m\u001b[0;34m:\u001b[0m\u001b[0;34m\u001b[0m\u001b[0;34m\u001b[0m\u001b[0m\n\u001b[1;32m   1360\u001b[0m         \u001b[0;32mif\u001b[0m \u001b[0mdata\u001b[0m \u001b[0;32mis\u001b[0m \u001b[0;32mNone\u001b[0m\u001b[0;34m:\u001b[0m\u001b[0;34m\u001b[0m\u001b[0;34m\u001b[0m\u001b[0m\n\u001b[0;32m-> 1361\u001b[0;31m             \u001b[0;32mreturn\u001b[0m \u001b[0mfunc\u001b[0m\u001b[0;34m(\u001b[0m\u001b[0max\u001b[0m\u001b[0;34m,\u001b[0m \u001b[0;34m*\u001b[0m\u001b[0mmap\u001b[0m\u001b[0;34m(\u001b[0m\u001b[0msanitize_sequence\u001b[0m\u001b[0;34m,\u001b[0m \u001b[0margs\u001b[0m\u001b[0;34m)\u001b[0m\u001b[0;34m,\u001b[0m \u001b[0;34m**\u001b[0m\u001b[0mkwargs\u001b[0m\u001b[0;34m)\u001b[0m\u001b[0;34m\u001b[0m\u001b[0;34m\u001b[0m\u001b[0m\n\u001b[0m\u001b[1;32m   1362\u001b[0m \u001b[0;34m\u001b[0m\u001b[0m\n\u001b[1;32m   1363\u001b[0m         \u001b[0mbound\u001b[0m \u001b[0;34m=\u001b[0m \u001b[0mnew_sig\u001b[0m\u001b[0;34m.\u001b[0m\u001b[0mbind\u001b[0m\u001b[0;34m(\u001b[0m\u001b[0max\u001b[0m\u001b[0;34m,\u001b[0m \u001b[0;34m*\u001b[0m\u001b[0margs\u001b[0m\u001b[0;34m,\u001b[0m \u001b[0;34m**\u001b[0m\u001b[0mkwargs\u001b[0m\u001b[0;34m)\u001b[0m\u001b[0;34m\u001b[0m\u001b[0;34m\u001b[0m\u001b[0m\n",
      "\u001b[0;32m~/.pyenv/versions/3.8.6/envs/lewagon/lib/python3.8/site-packages/matplotlib/axes/_axes.py\u001b[0m in \u001b[0;36mimshow\u001b[0;34m(self, X, cmap, norm, aspect, interpolation, alpha, vmin, vmax, origin, extent, filternorm, filterrad, resample, url, **kwargs)\u001b[0m\n\u001b[1;32m   5607\u001b[0m                               resample=resample, **kwargs)\n\u001b[1;32m   5608\u001b[0m \u001b[0;34m\u001b[0m\u001b[0m\n\u001b[0;32m-> 5609\u001b[0;31m         \u001b[0mim\u001b[0m\u001b[0;34m.\u001b[0m\u001b[0mset_data\u001b[0m\u001b[0;34m(\u001b[0m\u001b[0mX\u001b[0m\u001b[0;34m)\u001b[0m\u001b[0;34m\u001b[0m\u001b[0;34m\u001b[0m\u001b[0m\n\u001b[0m\u001b[1;32m   5610\u001b[0m         \u001b[0mim\u001b[0m\u001b[0;34m.\u001b[0m\u001b[0mset_alpha\u001b[0m\u001b[0;34m(\u001b[0m\u001b[0malpha\u001b[0m\u001b[0;34m)\u001b[0m\u001b[0;34m\u001b[0m\u001b[0;34m\u001b[0m\u001b[0m\n\u001b[1;32m   5611\u001b[0m         \u001b[0;32mif\u001b[0m \u001b[0mim\u001b[0m\u001b[0;34m.\u001b[0m\u001b[0mget_clip_path\u001b[0m\u001b[0;34m(\u001b[0m\u001b[0;34m)\u001b[0m \u001b[0;32mis\u001b[0m \u001b[0;32mNone\u001b[0m\u001b[0;34m:\u001b[0m\u001b[0;34m\u001b[0m\u001b[0;34m\u001b[0m\u001b[0m\n",
      "\u001b[0;32m~/.pyenv/versions/3.8.6/envs/lewagon/lib/python3.8/site-packages/matplotlib/image.py\u001b[0m in \u001b[0;36mset_data\u001b[0;34m(self, A)\u001b[0m\n\u001b[1;32m    698\u001b[0m         if (self._A.dtype != np.uint8 and\n\u001b[1;32m    699\u001b[0m                 not np.can_cast(self._A.dtype, float, \"same_kind\")):\n\u001b[0;32m--> 700\u001b[0;31m             raise TypeError(\"Image data of dtype {} cannot be converted to \"\n\u001b[0m\u001b[1;32m    701\u001b[0m                             \"float\".format(self._A.dtype))\n\u001b[1;32m    702\u001b[0m \u001b[0;34m\u001b[0m\u001b[0m\n",
      "\u001b[0;31mTypeError\u001b[0m: Image data of dtype <U44 cannot be converted to float"
     ]
    },
    {
     "data": {
      "image/png": "[encoded data removed]",
      "text/plain": [
       "<Figure size 432x288 with 1 Axes>"
      ]
     },
     "metadata": {
      "needs_background": "light"
     },
     "output_type": "display_data"
    }
   ],
   "source": [
    "plt.imshow(f'{data.image_path[0]}/{data.image_name[0]}')"
   ]
  },
  {
   "cell_type": "code",
   "execution_count": 17,
   "id": "c61661db",
   "metadata": {
    "ExecuteTime": {
     "end_time": "2021-08-15T14:32:25.863316Z",
     "start_time": "2021-08-15T14:32:25.852600Z"
    }
   },
   "outputs": [
    {
     "data": {
      "text/plain": [
       "True"
      ]
     },
     "execution_count": 17,
     "metadata": {},
     "output_type": "execute_result"
    }
   ],
   "source": [
    "'Papilio' in data.genus.unique()"
   ]
  },
  {
   "cell_type": "code",
   "execution_count": 22,
   "id": "b4f3cb15",
   "metadata": {
    "ExecuteTime": {
     "end_time": "2021-08-15T14:50:58.168078Z",
     "start_time": "2021-08-15T14:50:58.142610Z"
    }
   },
   "outputs": [
    {
     "data": {
      "text/html": [
       "<div>\n",
       "<style scoped>\n",
       "    .dataframe tbody tr th:only-of-type {\n",
       "        vertical-align: middle;\n",
       "    }\n",
       "\n",
       "    .dataframe tbody tr th {\n",
       "        vertical-align: top;\n",
       "    }\n",
       "\n",
       "    .dataframe thead th {\n",
       "        text-align: right;\n",
       "    }\n",
       "</style>\n",
       "<table border=\"1\" class=\"dataframe\">\n",
       "  <thead>\n",
       "    <tr style=\"text-align: right;\">\n",
       "      <th></th>\n",
       "      <th>author</th>\n",
       "      <th>barcode</th>\n",
       "      <th>country</th>\n",
       "      <th>dec_lat</th>\n",
       "      <th>dec_long</th>\n",
       "      <th>family</th>\n",
       "      <th>genus</th>\n",
       "      <th>image_name</th>\n",
       "      <th>image_path</th>\n",
       "      <th>infraspecific_epithet</th>\n",
       "      <th>primary_division</th>\n",
       "      <th>specific_epithet</th>\n",
       "      <th>subfamily</th>\n",
       "      <th>subspecific_epithet</th>\n",
       "      <th>token</th>\n",
       "    </tr>\n",
       "  </thead>\n",
       "  <tbody>\n",
       "    <tr>\n",
       "      <th>0034583f-36db-4d76-acf4-04891b0a6c42</th>\n",
       "      <td>Linnaeus, 1758</td>\n",
       "      <td>ETHZ-ENT0007429</td>\n",
       "      <td>Germany</td>\n",
       "      <td>49.483611</td>\n",
       "      <td>8.463056</td>\n",
       "      <td>Papilionidae</td>\n",
       "      <td>Papilio</td>\n",
       "      <td>ETHZ_ENT01_2017_03_17_004392.JPG</td>\n",
       "      <td>2017_03_17R</td>\n",
       "      <td>None</td>\n",
       "      <td>Baden-Württemberg</td>\n",
       "      <td>machaon</td>\n",
       "      <td>Papilioninae</td>\n",
       "      <td>None</td>\n",
       "      <td>0034583f-36db-4d76-acf4-04891b0a6c42</td>\n",
       "    </tr>\n",
       "    <tr>\n",
       "      <th>01cde278-7552-4e6f-b4cc-737453fbf6a5</th>\n",
       "      <td>Linnaeus, 1758</td>\n",
       "      <td>ETHZ-ENT0007515</td>\n",
       "      <td>Switzerland</td>\n",
       "      <td>46.909717</td>\n",
       "      <td>7.470835</td>\n",
       "      <td>Papilionidae</td>\n",
       "      <td>Papilio</td>\n",
       "      <td>ETHZ_ENT01_2017_03_18_004506.JPG</td>\n",
       "      <td>2017_03_18R</td>\n",
       "      <td>None</td>\n",
       "      <td>Bern</td>\n",
       "      <td>machaon</td>\n",
       "      <td>Papilioninae</td>\n",
       "      <td>None</td>\n",
       "      <td>01cde278-7552-4e6f-b4cc-737453fbf6a5</td>\n",
       "    </tr>\n",
       "    <tr>\n",
       "      <th>044eca01-a795-40d9-98a9-357cf9336923</th>\n",
       "      <td>Linnaeus, 1758</td>\n",
       "      <td>ETHZ-ENT0007595</td>\n",
       "      <td>Switzerland</td>\n",
       "      <td>46.77529</td>\n",
       "      <td>7.62424</td>\n",
       "      <td>Papilionidae</td>\n",
       "      <td>Papilio</td>\n",
       "      <td>ETHZ_ENT01_2017_03_20_004599.JPG</td>\n",
       "      <td>2017_03_20R</td>\n",
       "      <td>None</td>\n",
       "      <td>Bern</td>\n",
       "      <td>machaon</td>\n",
       "      <td>Papilioninae</td>\n",
       "      <td>None</td>\n",
       "      <td>044eca01-a795-40d9-98a9-357cf9336923</td>\n",
       "    </tr>\n",
       "    <tr>\n",
       "      <th>06597b36-94f9-484b-8301-2ba341c66ae2</th>\n",
       "      <td>Linnaeus, 1758</td>\n",
       "      <td>ETHZ-ENT0007594</td>\n",
       "      <td>Switzerland</td>\n",
       "      <td>46.77529</td>\n",
       "      <td>7.62424</td>\n",
       "      <td>Papilionidae</td>\n",
       "      <td>Papilio</td>\n",
       "      <td>ETHZ_ENT01_2017_03_20_004598.JPG</td>\n",
       "      <td>2017_03_20R</td>\n",
       "      <td>None</td>\n",
       "      <td>Bern</td>\n",
       "      <td>machaon</td>\n",
       "      <td>Papilioninae</td>\n",
       "      <td>None</td>\n",
       "      <td>06597b36-94f9-484b-8301-2ba341c66ae2</td>\n",
       "    </tr>\n",
       "    <tr>\n",
       "      <th>07c51472-04a4-4b1f-9f38-ef34f4f6880a</th>\n",
       "      <td>Linnaeus, 1758</td>\n",
       "      <td>ETHZ-ENT0007492</td>\n",
       "      <td>Switzerland</td>\n",
       "      <td>46.46</td>\n",
       "      <td>9.796</td>\n",
       "      <td>Papilionidae</td>\n",
       "      <td>Papilio</td>\n",
       "      <td>ETHZ_ENT01_2017_03_18_004469.JPG</td>\n",
       "      <td>2017_03_18R</td>\n",
       "      <td>None</td>\n",
       "      <td>Grisons</td>\n",
       "      <td>machaon</td>\n",
       "      <td>Papilioninae</td>\n",
       "      <td>None</td>\n",
       "      <td>07c51472-04a4-4b1f-9f38-ef34f4f6880a</td>\n",
       "    </tr>\n",
       "    <tr>\n",
       "      <th>...</th>\n",
       "      <td>...</td>\n",
       "      <td>...</td>\n",
       "      <td>...</td>\n",
       "      <td>...</td>\n",
       "      <td>...</td>\n",
       "      <td>...</td>\n",
       "      <td>...</td>\n",
       "      <td>...</td>\n",
       "      <td>...</td>\n",
       "      <td>...</td>\n",
       "      <td>...</td>\n",
       "      <td>...</td>\n",
       "      <td>...</td>\n",
       "      <td>...</td>\n",
       "      <td>...</td>\n",
       "    </tr>\n",
       "    <tr>\n",
       "      <th>faed0d4e-c97b-46ff-bcdf-d3d0a905b616</th>\n",
       "      <td>Linnaeus, 1758</td>\n",
       "      <td>ETHZ-ENT0007502</td>\n",
       "      <td>Switzerland</td>\n",
       "      <td>47.37174</td>\n",
       "      <td>8.54225</td>\n",
       "      <td>Papilionidae</td>\n",
       "      <td>Papilio</td>\n",
       "      <td>ETHZ_ENT01_2017_03_18_004486.JPG</td>\n",
       "      <td>2017_03_18R</td>\n",
       "      <td>None</td>\n",
       "      <td>Zurich</td>\n",
       "      <td>machaon</td>\n",
       "      <td>Papilioninae</td>\n",
       "      <td>None</td>\n",
       "      <td>faed0d4e-c97b-46ff-bcdf-d3d0a905b616</td>\n",
       "    </tr>\n",
       "    <tr>\n",
       "      <th>fb99c7ed-1287-4539-9409-5547e25f40c1</th>\n",
       "      <td>Linnaeus, 1758</td>\n",
       "      <td>ETHZ-ENT0007547</td>\n",
       "      <td>Switzerland</td>\n",
       "      <td>47.401979</td>\n",
       "      <td>8.499374</td>\n",
       "      <td>Papilionidae</td>\n",
       "      <td>Papilio</td>\n",
       "      <td>ETHZ_ENT01_2017_03_20_004546.JPG</td>\n",
       "      <td>2017_03_20R</td>\n",
       "      <td>None</td>\n",
       "      <td>Zurich</td>\n",
       "      <td>machaon</td>\n",
       "      <td>Papilioninae</td>\n",
       "      <td>None</td>\n",
       "      <td>fb99c7ed-1287-4539-9409-5547e25f40c1</td>\n",
       "    </tr>\n",
       "    <tr>\n",
       "      <th>fd1871a3-63a3-4dba-9f4a-b7e8c059e8b6</th>\n",
       "      <td>Linnaeus, 1758</td>\n",
       "      <td>ETHZ-ENT0007586</td>\n",
       "      <td>Switzerland</td>\n",
       "      <td>47.74639</td>\n",
       "      <td>8.55693</td>\n",
       "      <td>Papilionidae</td>\n",
       "      <td>Papilio</td>\n",
       "      <td>ETHZ_ENT01_2017_03_20_004590.JPG</td>\n",
       "      <td>2017_03_20R</td>\n",
       "      <td>None</td>\n",
       "      <td>Schaffhausen</td>\n",
       "      <td>machaon</td>\n",
       "      <td>Papilioninae</td>\n",
       "      <td>None</td>\n",
       "      <td>fd1871a3-63a3-4dba-9f4a-b7e8c059e8b6</td>\n",
       "    </tr>\n",
       "    <tr>\n",
       "      <th>fd336c36-fd52-403b-8755-ff7d9cc56b53</th>\n",
       "      <td>Linnaeus, 1758</td>\n",
       "      <td>ETHZ-ENT0007440</td>\n",
       "      <td>Switzerland</td>\n",
       "      <td>47.36591</td>\n",
       "      <td>8.35644</td>\n",
       "      <td>Papilionidae</td>\n",
       "      <td>Papilio</td>\n",
       "      <td>ETHZ_ENT01_2017_03_18_004403.JPG</td>\n",
       "      <td>2017_03_18R</td>\n",
       "      <td>None</td>\n",
       "      <td>Aargau</td>\n",
       "      <td>machaon</td>\n",
       "      <td>Papilioninae</td>\n",
       "      <td>None</td>\n",
       "      <td>fd336c36-fd52-403b-8755-ff7d9cc56b53</td>\n",
       "    </tr>\n",
       "    <tr>\n",
       "      <th>ff55099a-370d-49f3-a63b-86ad0de59138</th>\n",
       "      <td>Linnaeus, 1758</td>\n",
       "      <td>ETHZ-ENT0007506</td>\n",
       "      <td>Italy</td>\n",
       "      <td>40.833333</td>\n",
       "      <td>14.25</td>\n",
       "      <td>Papilionidae</td>\n",
       "      <td>Papilio</td>\n",
       "      <td>ETHZ_ENT01_2017_03_18_004492.JPG</td>\n",
       "      <td>2017_03_18R</td>\n",
       "      <td>None</td>\n",
       "      <td>Campania</td>\n",
       "      <td>machaon</td>\n",
       "      <td>Papilioninae</td>\n",
       "      <td>None</td>\n",
       "      <td>ff55099a-370d-49f3-a63b-86ad0de59138</td>\n",
       "    </tr>\n",
       "  </tbody>\n",
       "</table>\n",
       "<p>229 rows × 15 columns</p>\n",
       "</div>"
      ],
      "text/plain": [
       "                                              author          barcode  \\\n",
       "0034583f-36db-4d76-acf4-04891b0a6c42  Linnaeus, 1758  ETHZ-ENT0007429   \n",
       "01cde278-7552-4e6f-b4cc-737453fbf6a5  Linnaeus, 1758  ETHZ-ENT0007515   \n",
       "044eca01-a795-40d9-98a9-357cf9336923  Linnaeus, 1758  ETHZ-ENT0007595   \n",
       "06597b36-94f9-484b-8301-2ba341c66ae2  Linnaeus, 1758  ETHZ-ENT0007594   \n",
       "07c51472-04a4-4b1f-9f38-ef34f4f6880a  Linnaeus, 1758  ETHZ-ENT0007492   \n",
       "...                                              ...              ...   \n",
       "faed0d4e-c97b-46ff-bcdf-d3d0a905b616  Linnaeus, 1758  ETHZ-ENT0007502   \n",
       "fb99c7ed-1287-4539-9409-5547e25f40c1  Linnaeus, 1758  ETHZ-ENT0007547   \n",
       "fd1871a3-63a3-4dba-9f4a-b7e8c059e8b6  Linnaeus, 1758  ETHZ-ENT0007586   \n",
       "fd336c36-fd52-403b-8755-ff7d9cc56b53  Linnaeus, 1758  ETHZ-ENT0007440   \n",
       "ff55099a-370d-49f3-a63b-86ad0de59138  Linnaeus, 1758  ETHZ-ENT0007506   \n",
       "\n",
       "                                          country    dec_lat  dec_long  \\\n",
       "0034583f-36db-4d76-acf4-04891b0a6c42      Germany  49.483611  8.463056   \n",
       "01cde278-7552-4e6f-b4cc-737453fbf6a5  Switzerland  46.909717  7.470835   \n",
       "044eca01-a795-40d9-98a9-357cf9336923  Switzerland   46.77529   7.62424   \n",
       "06597b36-94f9-484b-8301-2ba341c66ae2  Switzerland   46.77529   7.62424   \n",
       "07c51472-04a4-4b1f-9f38-ef34f4f6880a  Switzerland      46.46     9.796   \n",
       "...                                           ...        ...       ...   \n",
       "faed0d4e-c97b-46ff-bcdf-d3d0a905b616  Switzerland   47.37174   8.54225   \n",
       "fb99c7ed-1287-4539-9409-5547e25f40c1  Switzerland  47.401979  8.499374   \n",
       "fd1871a3-63a3-4dba-9f4a-b7e8c059e8b6  Switzerland   47.74639   8.55693   \n",
       "fd336c36-fd52-403b-8755-ff7d9cc56b53  Switzerland   47.36591   8.35644   \n",
       "ff55099a-370d-49f3-a63b-86ad0de59138        Italy  40.833333     14.25   \n",
       "\n",
       "                                            family    genus  \\\n",
       "0034583f-36db-4d76-acf4-04891b0a6c42  Papilionidae  Papilio   \n",
       "01cde278-7552-4e6f-b4cc-737453fbf6a5  Papilionidae  Papilio   \n",
       "044eca01-a795-40d9-98a9-357cf9336923  Papilionidae  Papilio   \n",
       "06597b36-94f9-484b-8301-2ba341c66ae2  Papilionidae  Papilio   \n",
       "07c51472-04a4-4b1f-9f38-ef34f4f6880a  Papilionidae  Papilio   \n",
       "...                                            ...      ...   \n",
       "faed0d4e-c97b-46ff-bcdf-d3d0a905b616  Papilionidae  Papilio   \n",
       "fb99c7ed-1287-4539-9409-5547e25f40c1  Papilionidae  Papilio   \n",
       "fd1871a3-63a3-4dba-9f4a-b7e8c059e8b6  Papilionidae  Papilio   \n",
       "fd336c36-fd52-403b-8755-ff7d9cc56b53  Papilionidae  Papilio   \n",
       "ff55099a-370d-49f3-a63b-86ad0de59138  Papilionidae  Papilio   \n",
       "\n",
       "                                                            image_name  \\\n",
       "0034583f-36db-4d76-acf4-04891b0a6c42  ETHZ_ENT01_2017_03_17_004392.JPG   \n",
       "01cde278-7552-4e6f-b4cc-737453fbf6a5  ETHZ_ENT01_2017_03_18_004506.JPG   \n",
       "044eca01-a795-40d9-98a9-357cf9336923  ETHZ_ENT01_2017_03_20_004599.JPG   \n",
       "06597b36-94f9-484b-8301-2ba341c66ae2  ETHZ_ENT01_2017_03_20_004598.JPG   \n",
       "07c51472-04a4-4b1f-9f38-ef34f4f6880a  ETHZ_ENT01_2017_03_18_004469.JPG   \n",
       "...                                                                ...   \n",
       "faed0d4e-c97b-46ff-bcdf-d3d0a905b616  ETHZ_ENT01_2017_03_18_004486.JPG   \n",
       "fb99c7ed-1287-4539-9409-5547e25f40c1  ETHZ_ENT01_2017_03_20_004546.JPG   \n",
       "fd1871a3-63a3-4dba-9f4a-b7e8c059e8b6  ETHZ_ENT01_2017_03_20_004590.JPG   \n",
       "fd336c36-fd52-403b-8755-ff7d9cc56b53  ETHZ_ENT01_2017_03_18_004403.JPG   \n",
       "ff55099a-370d-49f3-a63b-86ad0de59138  ETHZ_ENT01_2017_03_18_004492.JPG   \n",
       "\n",
       "                                       image_path infraspecific_epithet  \\\n",
       "0034583f-36db-4d76-acf4-04891b0a6c42  2017_03_17R                  None   \n",
       "01cde278-7552-4e6f-b4cc-737453fbf6a5  2017_03_18R                  None   \n",
       "044eca01-a795-40d9-98a9-357cf9336923  2017_03_20R                  None   \n",
       "06597b36-94f9-484b-8301-2ba341c66ae2  2017_03_20R                  None   \n",
       "07c51472-04a4-4b1f-9f38-ef34f4f6880a  2017_03_18R                  None   \n",
       "...                                           ...                   ...   \n",
       "faed0d4e-c97b-46ff-bcdf-d3d0a905b616  2017_03_18R                  None   \n",
       "fb99c7ed-1287-4539-9409-5547e25f40c1  2017_03_20R                  None   \n",
       "fd1871a3-63a3-4dba-9f4a-b7e8c059e8b6  2017_03_20R                  None   \n",
       "fd336c36-fd52-403b-8755-ff7d9cc56b53  2017_03_18R                  None   \n",
       "ff55099a-370d-49f3-a63b-86ad0de59138  2017_03_18R                  None   \n",
       "\n",
       "                                       primary_division specific_epithet  \\\n",
       "0034583f-36db-4d76-acf4-04891b0a6c42  Baden-Württemberg          machaon   \n",
       "01cde278-7552-4e6f-b4cc-737453fbf6a5               Bern          machaon   \n",
       "044eca01-a795-40d9-98a9-357cf9336923               Bern          machaon   \n",
       "06597b36-94f9-484b-8301-2ba341c66ae2               Bern          machaon   \n",
       "07c51472-04a4-4b1f-9f38-ef34f4f6880a            Grisons          machaon   \n",
       "...                                                 ...              ...   \n",
       "faed0d4e-c97b-46ff-bcdf-d3d0a905b616             Zurich          machaon   \n",
       "fb99c7ed-1287-4539-9409-5547e25f40c1             Zurich          machaon   \n",
       "fd1871a3-63a3-4dba-9f4a-b7e8c059e8b6       Schaffhausen          machaon   \n",
       "fd336c36-fd52-403b-8755-ff7d9cc56b53             Aargau          machaon   \n",
       "ff55099a-370d-49f3-a63b-86ad0de59138           Campania          machaon   \n",
       "\n",
       "                                         subfamily subspecific_epithet  \\\n",
       "0034583f-36db-4d76-acf4-04891b0a6c42  Papilioninae                None   \n",
       "01cde278-7552-4e6f-b4cc-737453fbf6a5  Papilioninae                None   \n",
       "044eca01-a795-40d9-98a9-357cf9336923  Papilioninae                None   \n",
       "06597b36-94f9-484b-8301-2ba341c66ae2  Papilioninae                None   \n",
       "07c51472-04a4-4b1f-9f38-ef34f4f6880a  Papilioninae                None   \n",
       "...                                            ...                 ...   \n",
       "faed0d4e-c97b-46ff-bcdf-d3d0a905b616  Papilioninae                None   \n",
       "fb99c7ed-1287-4539-9409-5547e25f40c1  Papilioninae                None   \n",
       "fd1871a3-63a3-4dba-9f4a-b7e8c059e8b6  Papilioninae                None   \n",
       "fd336c36-fd52-403b-8755-ff7d9cc56b53  Papilioninae                None   \n",
       "ff55099a-370d-49f3-a63b-86ad0de59138  Papilioninae                None   \n",
       "\n",
       "                                                                     token  \n",
       "0034583f-36db-4d76-acf4-04891b0a6c42  0034583f-36db-4d76-acf4-04891b0a6c42  \n",
       "01cde278-7552-4e6f-b4cc-737453fbf6a5  01cde278-7552-4e6f-b4cc-737453fbf6a5  \n",
       "044eca01-a795-40d9-98a9-357cf9336923  044eca01-a795-40d9-98a9-357cf9336923  \n",
       "06597b36-94f9-484b-8301-2ba341c66ae2  06597b36-94f9-484b-8301-2ba341c66ae2  \n",
       "07c51472-04a4-4b1f-9f38-ef34f4f6880a  07c51472-04a4-4b1f-9f38-ef34f4f6880a  \n",
       "...                                                                    ...  \n",
       "faed0d4e-c97b-46ff-bcdf-d3d0a905b616  faed0d4e-c97b-46ff-bcdf-d3d0a905b616  \n",
       "fb99c7ed-1287-4539-9409-5547e25f40c1  fb99c7ed-1287-4539-9409-5547e25f40c1  \n",
       "fd1871a3-63a3-4dba-9f4a-b7e8c059e8b6  fd1871a3-63a3-4dba-9f4a-b7e8c059e8b6  \n",
       "fd336c36-fd52-403b-8755-ff7d9cc56b53  fd336c36-fd52-403b-8755-ff7d9cc56b53  \n",
       "ff55099a-370d-49f3-a63b-86ad0de59138  ff55099a-370d-49f3-a63b-86ad0de59138  \n",
       "\n",
       "[229 rows x 15 columns]"
      ]
     },
     "execution_count": 22,
     "metadata": {},
     "output_type": "execute_result"
    }
   ],
   "source": [
    "data[data.specific_epithet == 'machaon']"
   ]
  },
  {
   "cell_type": "code",
   "execution_count": 4,
   "id": "7bf4ea68",
   "metadata": {
    "ExecuteTime": {
     "end_time": "2021-08-23T10:25:26.892328Z",
     "start_time": "2021-08-23T10:25:26.832230Z"
    }
   },
   "outputs": [
    {
     "name": "stdout",
     "output_type": "stream",
     "text": [
      "(1380, 1732, 3)\n"
     ]
    }
   ],
   "source": [
    "# import required libraries\n",
    "from PIL import Image\n",
    "import numpy as np\n",
    "  \n",
    "# read an image\n",
    "img = Image.open('20180815_110738.jpg')\n",
    "  \n",
    "# convert image object into array\n",
    "imageToMatrice = np.asarray(img)\n",
    "  \n",
    "# printing shape of image\n",
    "print(imageToMatrice.shape)"
   ]
  },
  {
   "cell_type": "code",
   "execution_count": 5,
   "id": "fc367bb7",
   "metadata": {
    "ExecuteTime": {
     "end_time": "2021-08-23T10:25:30.766482Z",
     "start_time": "2021-08-23T10:25:28.931652Z"
    }
   },
   "outputs": [
    {
     "data": {
      "text/plain": [
       "<matplotlib.image.AxesImage at 0x7faf8b084f40>"
      ]
     },
     "execution_count": 5,
     "metadata": {},
     "output_type": "execute_result"
    },
    {
     "data": {
      "image/png": "[encoded data removed]",
      "text/plain": [
       "<Figure size 432x288 with 1 Axes>"
      ]
     },
     "metadata": {
      "needs_background": "light"
     },
     "output_type": "display_data"
    }
   ],
   "source": [
    "plt.imshow(img)"
   ]
  },
  {
   "cell_type": "code",
   "execution_count": 29,
   "id": "cde103ae",
   "metadata": {
    "ExecuteTime": {
     "end_time": "2021-08-15T15:03:00.536917Z",
     "start_time": "2021-08-15T15:03:00.532525Z"
    }
   },
   "outputs": [
    {
     "data": {
      "text/plain": [
       "(36536, 15)"
      ]
     },
     "execution_count": 29,
     "metadata": {},
     "output_type": "execute_result"
    }
   ],
   "source": [
    "data.shape"
   ]
  },
  {
   "cell_type": "code",
   "execution_count": 34,
   "id": "819b55fd",
   "metadata": {
    "ExecuteTime": {
     "end_time": "2021-08-15T15:06:16.714006Z",
     "start_time": "2021-08-15T15:06:15.474802Z"
    }
   },
   "outputs": [
    {
     "data": {
      "text/plain": [
       "(15, 5017)"
      ]
     },
     "execution_count": 34,
     "metadata": {},
     "output_type": "execute_result"
    }
   ],
   "source": [
    "data_val = pd.read_json('val.json')\n",
    "data_val.shape"
   ]
  },
  {
   "cell_type": "code",
   "execution_count": 31,
   "id": "f5d0f470",
   "metadata": {
    "ExecuteTime": {
     "end_time": "2021-08-15T15:05:54.416832Z",
     "start_time": "2021-08-15T15:05:53.350524Z"
    }
   },
   "outputs": [],
   "source": [
    "data_test = pd.read_json('test.json')"
   ]
  },
  {
   "cell_type": "code",
   "execution_count": 33,
   "id": "1ced54b9",
   "metadata": {
    "ExecuteTime": {
     "end_time": "2021-08-15T15:06:06.036257Z",
     "start_time": "2021-08-15T15:06:06.031924Z"
    }
   },
   "outputs": [
    {
     "data": {
      "text/plain": [
       "(15, 4794)"
      ]
     },
     "execution_count": 33,
     "metadata": {},
     "output_type": "execute_result"
    }
   ],
   "source": [
    "data_test.shape"
   ]
  },
  {
   "cell_type": "code",
   "execution_count": 35,
   "id": "f63f88b3",
   "metadata": {
    "ExecuteTime": {
     "end_time": "2021-08-15T15:06:29.870182Z",
     "start_time": "2021-08-15T15:06:29.866814Z"
    }
   },
   "outputs": [
    {
     "data": {
      "text/plain": [
       "46347"
      ]
     },
     "execution_count": 35,
     "metadata": {},
     "output_type": "execute_result"
    }
   ],
   "source": [
    "4794+5017+36536"
   ]
  },
  {
   "cell_type": "markdown",
   "id": "2034a4dc",
   "metadata": {},
   "source": [
    "# Tri TF"
   ]
  },
  {
   "cell_type": "code",
   "execution_count": 57,
   "id": "f2988e11",
   "metadata": {
    "ExecuteTime": {
     "end_time": "2021-08-20T23:12:11.031849Z",
     "start_time": "2021-08-20T23:12:11.021444Z"
    }
   },
   "outputs": [
    {
     "data": {
      "text/plain": [
       "array(['Pierinae', 'Polyommatinae', 'Nymphalinae', 'Satyrinae',\n",
       "       'Hesperiinae', 'Parnassiinae', 'Apaturinae', 'Heliconiinae',\n",
       "       'Coliadinae', 'Papilioninae', 'Pyrginae', 'Dismorphiinae',\n",
       "       'Limenitidinae', 'Nemeobiinae', 'Lycaeninae', 'Theclinae',\n",
       "       'Heteropterinae', 'Libytheinae', 'Charaxinae', 'Aphnaeinae',\n",
       "       'Danainae'], dtype=object)"
      ]
     },
     "execution_count": 57,
     "metadata": {},
     "output_type": "execute_result"
    }
   ],
   "source": [
    "subfam = data.subfamily.unique()"
   ]
  },
  {
   "cell_type": "code",
   "execution_count": 61,
   "id": "5369b92c",
   "metadata": {
    "ExecuteTime": {
     "end_time": "2021-08-20T23:15:09.209431Z",
     "start_time": "2021-08-20T23:15:09.185946Z"
    }
   },
   "outputs": [
    {
     "data": {
      "text/html": [
       "<div>\n",
       "<style scoped>\n",
       "    .dataframe tbody tr th:only-of-type {\n",
       "        vertical-align: middle;\n",
       "    }\n",
       "\n",
       "    .dataframe tbody tr th {\n",
       "        vertical-align: top;\n",
       "    }\n",
       "\n",
       "    .dataframe thead th {\n",
       "        text-align: right;\n",
       "    }\n",
       "</style>\n",
       "<table border=\"1\" class=\"dataframe\">\n",
       "  <thead>\n",
       "    <tr style=\"text-align: right;\">\n",
       "      <th></th>\n",
       "      <th>SOUS_FAMILLE</th>\n",
       "      <th>NOM_VALIDE</th>\n",
       "    </tr>\n",
       "  </thead>\n",
       "  <tbody>\n",
       "    <tr>\n",
       "      <th>0</th>\n",
       "      <td>NaN</td>\n",
       "      <td>Hesperiidae Latreille, 1809</td>\n",
       "    </tr>\n",
       "    <tr>\n",
       "      <th>1</th>\n",
       "      <td>NaN</td>\n",
       "      <td>Hesperiidae Latreille, 1809</td>\n",
       "    </tr>\n",
       "    <tr>\n",
       "      <th>867</th>\n",
       "      <td>NaN</td>\n",
       "      <td>Erionota Mabille, 1878</td>\n",
       "    </tr>\n",
       "    <tr>\n",
       "      <th>868</th>\n",
       "      <td>NaN</td>\n",
       "      <td>Erionota torus Evans, 1941</td>\n",
       "    </tr>\n",
       "    <tr>\n",
       "      <th>1517</th>\n",
       "      <td>NaN</td>\n",
       "      <td>Lycaenidae Leach, 1815</td>\n",
       "    </tr>\n",
       "    <tr>\n",
       "      <th>2961</th>\n",
       "      <td>NaN</td>\n",
       "      <td>Nymphalidae Rafinesque, 1815</td>\n",
       "    </tr>\n",
       "    <tr>\n",
       "      <th>5232</th>\n",
       "      <td>NaN</td>\n",
       "      <td>Papilionidae Latreille, 1802</td>\n",
       "    </tr>\n",
       "    <tr>\n",
       "      <th>5533</th>\n",
       "      <td>NaN</td>\n",
       "      <td>Pieridae Swainson, 1820</td>\n",
       "    </tr>\n",
       "    <tr>\n",
       "      <th>6023</th>\n",
       "      <td>NaN</td>\n",
       "      <td>Pseudolivendula Hall, 2018</td>\n",
       "    </tr>\n",
       "    <tr>\n",
       "      <th>6024</th>\n",
       "      <td>NaN</td>\n",
       "      <td>Pseudolivendula tenuis Brévignon, 2019</td>\n",
       "    </tr>\n",
       "  </tbody>\n",
       "</table>\n",
       "</div>"
      ],
      "text/plain": [
       "     SOUS_FAMILLE                              NOM_VALIDE\n",
       "0             NaN             Hesperiidae Latreille, 1809\n",
       "1             NaN             Hesperiidae Latreille, 1809\n",
       "867           NaN                  Erionota Mabille, 1878\n",
       "868           NaN              Erionota torus Evans, 1941\n",
       "1517          NaN                  Lycaenidae Leach, 1815\n",
       "2961          NaN            Nymphalidae Rafinesque, 1815\n",
       "5232          NaN            Papilionidae Latreille, 1802\n",
       "5533          NaN                 Pieridae Swainson, 1820\n",
       "6023          NaN              Pseudolivendula Hall, 2018\n",
       "6024          NaN  Pseudolivendula tenuis Brévignon, 2019"
      ]
     },
     "execution_count": 61,
     "metadata": {},
     "output_type": "execute_result"
    }
   ],
   "source": [
    "TF.loc[TF['SOUS_FAMILLE'].isna(),['SOUS_FAMILLE','NOM_VALIDE']]"
   ]
  },
  {
   "cell_type": "code",
   "execution_count": 60,
   "id": "8153ec50",
   "metadata": {
    "ExecuteTime": {
     "end_time": "2021-08-20T23:14:46.637740Z",
     "start_time": "2021-08-20T23:14:46.633339Z"
    }
   },
   "outputs": [
    {
     "data": {
      "text/plain": [
       "10"
      ]
     },
     "execution_count": 60,
     "metadata": {},
     "output_type": "execute_result"
    }
   ],
   "source": [
    "TF.SOUS_FAMILLE.isna().sum()"
   ]
  },
  {
   "cell_type": "code",
   "execution_count": 6,
   "id": "27f4f583",
   "metadata": {
    "ExecuteTime": {
     "end_time": "2021-08-21T09:40:24.556169Z",
     "start_time": "2021-08-21T09:40:24.517888Z"
    }
   },
   "outputs": [
    {
     "data": {
      "text/html": [
       "<div>\n",
       "<style scoped>\n",
       "    .dataframe tbody tr th:only-of-type {\n",
       "        vertical-align: middle;\n",
       "    }\n",
       "\n",
       "    .dataframe tbody tr th {\n",
       "        vertical-align: top;\n",
       "    }\n",
       "\n",
       "    .dataframe thead th {\n",
       "        text-align: right;\n",
       "    }\n",
       "</style>\n",
       "<table border=\"1\" class=\"dataframe\">\n",
       "  <thead>\n",
       "    <tr style=\"text-align: right;\">\n",
       "      <th></th>\n",
       "      <th>author</th>\n",
       "      <th>barcode</th>\n",
       "      <th>country</th>\n",
       "      <th>dec_lat</th>\n",
       "      <th>dec_long</th>\n",
       "      <th>family</th>\n",
       "      <th>genus</th>\n",
       "      <th>image_name</th>\n",
       "      <th>image_path</th>\n",
       "      <th>infraspecific_epithet</th>\n",
       "      <th>primary_division</th>\n",
       "      <th>specific_epithet</th>\n",
       "      <th>subfamily</th>\n",
       "      <th>subspecific_epithet</th>\n",
       "      <th>token</th>\n",
       "    </tr>\n",
       "  </thead>\n",
       "  <tbody>\n",
       "    <tr>\n",
       "      <th>0000e73d-4d1e-4241-a577-88103fc0961c</th>\n",
       "      <td>(Mayer, 1851)</td>\n",
       "      <td>ETHZ-ENT0012714</td>\n",
       "      <td>Switzerland</td>\n",
       "      <td>46.31</td>\n",
       "      <td>7.8</td>\n",
       "      <td>Pieridae</td>\n",
       "      <td>Pieris</td>\n",
       "      <td>ETHZ_ENT01_2017_04_03_010614.JPG</td>\n",
       "      <td>2017_04_03R</td>\n",
       "      <td>None</td>\n",
       "      <td>Valais</td>\n",
       "      <td>mannii</td>\n",
       "      <td>Pierinae</td>\n",
       "      <td>None</td>\n",
       "      <td>0000e73d-4d1e-4241-a577-88103fc0961c</td>\n",
       "    </tr>\n",
       "    <tr>\n",
       "      <th>000156fb-6f29-4057-b26f-eca7ce9e9460</th>\n",
       "      <td>(Hübner, 1806)</td>\n",
       "      <td>ETHZ-ENT0015323</td>\n",
       "      <td>Switzerland</td>\n",
       "      <td>46.76594</td>\n",
       "      <td>9.89316</td>\n",
       "      <td>Pieridae</td>\n",
       "      <td>Pieris</td>\n",
       "      <td>ETHZ_ENT01_2017_04_07_013503.JPG</td>\n",
       "      <td>2017_04_07R</td>\n",
       "      <td>None</td>\n",
       "      <td>Grisons</td>\n",
       "      <td>bryoniae</td>\n",
       "      <td>Pierinae</td>\n",
       "      <td>None</td>\n",
       "      <td>000156fb-6f29-4057-b26f-eca7ce9e9460</td>\n",
       "    </tr>\n",
       "    <tr>\n",
       "      <th>00025400-f7bd-477b-9363-18defd2d5466</th>\n",
       "      <td>(Linnaeus, 1767)</td>\n",
       "      <td>ETHZ-ENT0019906</td>\n",
       "      <td>Morocco</td>\n",
       "      <td>30.2804</td>\n",
       "      <td>-9.1599</td>\n",
       "      <td>Lycaenidae</td>\n",
       "      <td>Leptotes</td>\n",
       "      <td>ETHZ_ENT01_2017_04_24_018779.JPG</td>\n",
       "      <td>2017_04_24R</td>\n",
       "      <td>None</td>\n",
       "      <td>Souss-Massa</td>\n",
       "      <td>pirithous</td>\n",
       "      <td>Polyommatinae</td>\n",
       "      <td>None</td>\n",
       "      <td>00025400-f7bd-477b-9363-18defd2d5466</td>\n",
       "    </tr>\n",
       "    <tr>\n",
       "      <th>0006c590-29cd-4a3d-8d81-26023ac346a0</th>\n",
       "      <td>(Rottemburg, 1775)</td>\n",
       "      <td>ETHZ-ENT0013615</td>\n",
       "      <td>Switzerland</td>\n",
       "      <td>47.37659</td>\n",
       "      <td>7.740225</td>\n",
       "      <td>Nymphalidae</td>\n",
       "      <td>Melitaea</td>\n",
       "      <td>ETHZ_ENT01_2017_04_06_012762.JPG</td>\n",
       "      <td>2017_04_06R</td>\n",
       "      <td>None</td>\n",
       "      <td>Basel-Landschaft</td>\n",
       "      <td>athalia</td>\n",
       "      <td>Nymphalinae</td>\n",
       "      <td>None</td>\n",
       "      <td>0006c590-29cd-4a3d-8d81-26023ac346a0</td>\n",
       "    </tr>\n",
       "    <tr>\n",
       "      <th>000b01ec-1bc7-4a3c-8599-0ad88fa654e3</th>\n",
       "      <td>(Denis &amp; Schiffermüller, 1775)</td>\n",
       "      <td>ETHZ-ENT0042254</td>\n",
       "      <td>Switzerland</td>\n",
       "      <td>47.36836</td>\n",
       "      <td>7.73113</td>\n",
       "      <td>Nymphalidae</td>\n",
       "      <td>Erebia</td>\n",
       "      <td>ETHZ_ENT01_2017_06_13_043879.JPG</td>\n",
       "      <td>2017_06_13R</td>\n",
       "      <td>None</td>\n",
       "      <td>Basel-Landschaft</td>\n",
       "      <td>medusa</td>\n",
       "      <td>Satyrinae</td>\n",
       "      <td>None</td>\n",
       "      <td>000b01ec-1bc7-4a3c-8599-0ad88fa654e3</td>\n",
       "    </tr>\n",
       "    <tr>\n",
       "      <th>...</th>\n",
       "      <td>...</td>\n",
       "      <td>...</td>\n",
       "      <td>...</td>\n",
       "      <td>...</td>\n",
       "      <td>...</td>\n",
       "      <td>...</td>\n",
       "      <td>...</td>\n",
       "      <td>...</td>\n",
       "      <td>...</td>\n",
       "      <td>...</td>\n",
       "      <td>...</td>\n",
       "      <td>...</td>\n",
       "      <td>...</td>\n",
       "      <td>...</td>\n",
       "      <td>...</td>\n",
       "    </tr>\n",
       "    <tr>\n",
       "      <th>14ce36f1-427c-11ea-871b-887873dd81ef</th>\n",
       "      <td>Bremer, 1864</td>\n",
       "      <td>ETHZ-ENT0012306</td>\n",
       "      <td>Russia</td>\n",
       "      <td>None</td>\n",
       "      <td>None</td>\n",
       "      <td>Nymphalidae</td>\n",
       "      <td>Erebia</td>\n",
       "      <td>ETHZ_ENT01_2017_03_31_010161.JPG</td>\n",
       "      <td>2017_03_31R</td>\n",
       "      <td>None</td>\n",
       "      <td>Primorsky</td>\n",
       "      <td>wanga</td>\n",
       "      <td>Satyrinae</td>\n",
       "      <td>None</td>\n",
       "      <td>14ce36f1-427c-11ea-871b-887873dd81ef</td>\n",
       "    </tr>\n",
       "    <tr>\n",
       "      <th>14ce36f2-427c-11ea-91d2-887873dd81ef</th>\n",
       "      <td>Butler, 1868</td>\n",
       "      <td>ETHZ-ENT0012301</td>\n",
       "      <td>Spain</td>\n",
       "      <td>None</td>\n",
       "      <td>None</td>\n",
       "      <td>Nymphalidae</td>\n",
       "      <td>Erebia</td>\n",
       "      <td>ETHZ_ENT01_2017_03_31_010156.JPG</td>\n",
       "      <td>2017_03_31R</td>\n",
       "      <td>None</td>\n",
       "      <td>Andalusia</td>\n",
       "      <td>hispania</td>\n",
       "      <td>Satyrinae</td>\n",
       "      <td>None</td>\n",
       "      <td>14ce36f2-427c-11ea-91d2-887873dd81ef</td>\n",
       "    </tr>\n",
       "    <tr>\n",
       "      <th>14ce36f3-427c-11ea-ab8b-887873dd81ef</th>\n",
       "      <td>(Gerhard, 1850)</td>\n",
       "      <td>ETHZ-ENT0013111</td>\n",
       "      <td>Turkey</td>\n",
       "      <td>None</td>\n",
       "      <td>None</td>\n",
       "      <td>Lycaenidae</td>\n",
       "      <td>Lycaena</td>\n",
       "      <td>ETHZ_ENT01_2017_04_04_011035.JPG</td>\n",
       "      <td>2017_04_04R</td>\n",
       "      <td>None</td>\n",
       "      <td>None</td>\n",
       "      <td>asabinus</td>\n",
       "      <td>Lycaeninae</td>\n",
       "      <td>None</td>\n",
       "      <td>14ce36f3-427c-11ea-ab8b-887873dd81ef</td>\n",
       "    </tr>\n",
       "    <tr>\n",
       "      <th>14ce36f4-427c-11ea-a529-887873dd81ef</th>\n",
       "      <td>(Klug, 1832)</td>\n",
       "      <td>ETHZ-ENT0039040</td>\n",
       "      <td>Palestine</td>\n",
       "      <td>None</td>\n",
       "      <td>None</td>\n",
       "      <td>Nymphalidae</td>\n",
       "      <td>Ypthima</td>\n",
       "      <td>ETHZ_ENT01_2017_06_06_040263.JPG</td>\n",
       "      <td>2017_06_06R</td>\n",
       "      <td>None</td>\n",
       "      <td>Jericho</td>\n",
       "      <td>asterope</td>\n",
       "      <td>Satyrinae</td>\n",
       "      <td>None</td>\n",
       "      <td>14ce36f4-427c-11ea-a529-887873dd81ef</td>\n",
       "    </tr>\n",
       "    <tr>\n",
       "      <th>14ce36f5-427c-11ea-b737-887873dd81ef</th>\n",
       "      <td>(Staudinger, 1882)</td>\n",
       "      <td>ETHZ-ENT0012316</td>\n",
       "      <td>Tajikistan</td>\n",
       "      <td>None</td>\n",
       "      <td>None</td>\n",
       "      <td>Nymphalidae</td>\n",
       "      <td>Paralasa</td>\n",
       "      <td>ETHZ_ENT01_2017_03_31_010173.JPG</td>\n",
       "      <td>2017_03_31R</td>\n",
       "      <td>None</td>\n",
       "      <td>Sughd</td>\n",
       "      <td>hades</td>\n",
       "      <td>Satyrinae</td>\n",
       "      <td>None</td>\n",
       "      <td>14ce36f5-427c-11ea-b737-887873dd81ef</td>\n",
       "    </tr>\n",
       "  </tbody>\n",
       "</table>\n",
       "<p>36536 rows × 15 columns</p>\n",
       "</div>"
      ],
      "text/plain": [
       "                                                              author  \\\n",
       "0000e73d-4d1e-4241-a577-88103fc0961c                   (Mayer, 1851)   \n",
       "000156fb-6f29-4057-b26f-eca7ce9e9460                  (Hübner, 1806)   \n",
       "00025400-f7bd-477b-9363-18defd2d5466                (Linnaeus, 1767)   \n",
       "0006c590-29cd-4a3d-8d81-26023ac346a0              (Rottemburg, 1775)   \n",
       "000b01ec-1bc7-4a3c-8599-0ad88fa654e3  (Denis & Schiffermüller, 1775)   \n",
       "...                                                              ...   \n",
       "14ce36f1-427c-11ea-871b-887873dd81ef                    Bremer, 1864   \n",
       "14ce36f2-427c-11ea-91d2-887873dd81ef                    Butler, 1868   \n",
       "14ce36f3-427c-11ea-ab8b-887873dd81ef                 (Gerhard, 1850)   \n",
       "14ce36f4-427c-11ea-a529-887873dd81ef                    (Klug, 1832)   \n",
       "14ce36f5-427c-11ea-b737-887873dd81ef              (Staudinger, 1882)   \n",
       "\n",
       "                                              barcode      country   dec_lat  \\\n",
       "0000e73d-4d1e-4241-a577-88103fc0961c  ETHZ-ENT0012714  Switzerland     46.31   \n",
       "000156fb-6f29-4057-b26f-eca7ce9e9460  ETHZ-ENT0015323  Switzerland  46.76594   \n",
       "00025400-f7bd-477b-9363-18defd2d5466  ETHZ-ENT0019906      Morocco   30.2804   \n",
       "0006c590-29cd-4a3d-8d81-26023ac346a0  ETHZ-ENT0013615  Switzerland  47.37659   \n",
       "000b01ec-1bc7-4a3c-8599-0ad88fa654e3  ETHZ-ENT0042254  Switzerland  47.36836   \n",
       "...                                               ...          ...       ...   \n",
       "14ce36f1-427c-11ea-871b-887873dd81ef  ETHZ-ENT0012306       Russia      None   \n",
       "14ce36f2-427c-11ea-91d2-887873dd81ef  ETHZ-ENT0012301        Spain      None   \n",
       "14ce36f3-427c-11ea-ab8b-887873dd81ef  ETHZ-ENT0013111       Turkey      None   \n",
       "14ce36f4-427c-11ea-a529-887873dd81ef  ETHZ-ENT0039040    Palestine      None   \n",
       "14ce36f5-427c-11ea-b737-887873dd81ef  ETHZ-ENT0012316   Tajikistan      None   \n",
       "\n",
       "                                      dec_long       family     genus  \\\n",
       "0000e73d-4d1e-4241-a577-88103fc0961c       7.8     Pieridae    Pieris   \n",
       "000156fb-6f29-4057-b26f-eca7ce9e9460   9.89316     Pieridae    Pieris   \n",
       "00025400-f7bd-477b-9363-18defd2d5466   -9.1599   Lycaenidae  Leptotes   \n",
       "0006c590-29cd-4a3d-8d81-26023ac346a0  7.740225  Nymphalidae  Melitaea   \n",
       "000b01ec-1bc7-4a3c-8599-0ad88fa654e3   7.73113  Nymphalidae    Erebia   \n",
       "...                                        ...          ...       ...   \n",
       "14ce36f1-427c-11ea-871b-887873dd81ef      None  Nymphalidae    Erebia   \n",
       "14ce36f2-427c-11ea-91d2-887873dd81ef      None  Nymphalidae    Erebia   \n",
       "14ce36f3-427c-11ea-ab8b-887873dd81ef      None   Lycaenidae   Lycaena   \n",
       "14ce36f4-427c-11ea-a529-887873dd81ef      None  Nymphalidae   Ypthima   \n",
       "14ce36f5-427c-11ea-b737-887873dd81ef      None  Nymphalidae  Paralasa   \n",
       "\n",
       "                                                            image_name  \\\n",
       "0000e73d-4d1e-4241-a577-88103fc0961c  ETHZ_ENT01_2017_04_03_010614.JPG   \n",
       "000156fb-6f29-4057-b26f-eca7ce9e9460  ETHZ_ENT01_2017_04_07_013503.JPG   \n",
       "00025400-f7bd-477b-9363-18defd2d5466  ETHZ_ENT01_2017_04_24_018779.JPG   \n",
       "0006c590-29cd-4a3d-8d81-26023ac346a0  ETHZ_ENT01_2017_04_06_012762.JPG   \n",
       "000b01ec-1bc7-4a3c-8599-0ad88fa654e3  ETHZ_ENT01_2017_06_13_043879.JPG   \n",
       "...                                                                ...   \n",
       "14ce36f1-427c-11ea-871b-887873dd81ef  ETHZ_ENT01_2017_03_31_010161.JPG   \n",
       "14ce36f2-427c-11ea-91d2-887873dd81ef  ETHZ_ENT01_2017_03_31_010156.JPG   \n",
       "14ce36f3-427c-11ea-ab8b-887873dd81ef  ETHZ_ENT01_2017_04_04_011035.JPG   \n",
       "14ce36f4-427c-11ea-a529-887873dd81ef  ETHZ_ENT01_2017_06_06_040263.JPG   \n",
       "14ce36f5-427c-11ea-b737-887873dd81ef  ETHZ_ENT01_2017_03_31_010173.JPG   \n",
       "\n",
       "                                       image_path infraspecific_epithet  \\\n",
       "0000e73d-4d1e-4241-a577-88103fc0961c  2017_04_03R                  None   \n",
       "000156fb-6f29-4057-b26f-eca7ce9e9460  2017_04_07R                  None   \n",
       "00025400-f7bd-477b-9363-18defd2d5466  2017_04_24R                  None   \n",
       "0006c590-29cd-4a3d-8d81-26023ac346a0  2017_04_06R                  None   \n",
       "000b01ec-1bc7-4a3c-8599-0ad88fa654e3  2017_06_13R                  None   \n",
       "...                                           ...                   ...   \n",
       "14ce36f1-427c-11ea-871b-887873dd81ef  2017_03_31R                  None   \n",
       "14ce36f2-427c-11ea-91d2-887873dd81ef  2017_03_31R                  None   \n",
       "14ce36f3-427c-11ea-ab8b-887873dd81ef  2017_04_04R                  None   \n",
       "14ce36f4-427c-11ea-a529-887873dd81ef  2017_06_06R                  None   \n",
       "14ce36f5-427c-11ea-b737-887873dd81ef  2017_03_31R                  None   \n",
       "\n",
       "                                      primary_division specific_epithet  \\\n",
       "0000e73d-4d1e-4241-a577-88103fc0961c            Valais           mannii   \n",
       "000156fb-6f29-4057-b26f-eca7ce9e9460           Grisons         bryoniae   \n",
       "00025400-f7bd-477b-9363-18defd2d5466       Souss-Massa        pirithous   \n",
       "0006c590-29cd-4a3d-8d81-26023ac346a0  Basel-Landschaft          athalia   \n",
       "000b01ec-1bc7-4a3c-8599-0ad88fa654e3  Basel-Landschaft           medusa   \n",
       "...                                                ...              ...   \n",
       "14ce36f1-427c-11ea-871b-887873dd81ef         Primorsky            wanga   \n",
       "14ce36f2-427c-11ea-91d2-887873dd81ef         Andalusia         hispania   \n",
       "14ce36f3-427c-11ea-ab8b-887873dd81ef              None         asabinus   \n",
       "14ce36f4-427c-11ea-a529-887873dd81ef           Jericho         asterope   \n",
       "14ce36f5-427c-11ea-b737-887873dd81ef             Sughd            hades   \n",
       "\n",
       "                                          subfamily subspecific_epithet  \\\n",
       "0000e73d-4d1e-4241-a577-88103fc0961c       Pierinae                None   \n",
       "000156fb-6f29-4057-b26f-eca7ce9e9460       Pierinae                None   \n",
       "00025400-f7bd-477b-9363-18defd2d5466  Polyommatinae                None   \n",
       "0006c590-29cd-4a3d-8d81-26023ac346a0    Nymphalinae                None   \n",
       "000b01ec-1bc7-4a3c-8599-0ad88fa654e3      Satyrinae                None   \n",
       "...                                             ...                 ...   \n",
       "14ce36f1-427c-11ea-871b-887873dd81ef      Satyrinae                None   \n",
       "14ce36f2-427c-11ea-91d2-887873dd81ef      Satyrinae                None   \n",
       "14ce36f3-427c-11ea-ab8b-887873dd81ef     Lycaeninae                None   \n",
       "14ce36f4-427c-11ea-a529-887873dd81ef      Satyrinae                None   \n",
       "14ce36f5-427c-11ea-b737-887873dd81ef      Satyrinae                None   \n",
       "\n",
       "                                                                     token  \n",
       "0000e73d-4d1e-4241-a577-88103fc0961c  0000e73d-4d1e-4241-a577-88103fc0961c  \n",
       "000156fb-6f29-4057-b26f-eca7ce9e9460  000156fb-6f29-4057-b26f-eca7ce9e9460  \n",
       "00025400-f7bd-477b-9363-18defd2d5466  00025400-f7bd-477b-9363-18defd2d5466  \n",
       "0006c590-29cd-4a3d-8d81-26023ac346a0  0006c590-29cd-4a3d-8d81-26023ac346a0  \n",
       "000b01ec-1bc7-4a3c-8599-0ad88fa654e3  000b01ec-1bc7-4a3c-8599-0ad88fa654e3  \n",
       "...                                                                    ...  \n",
       "14ce36f1-427c-11ea-871b-887873dd81ef  14ce36f1-427c-11ea-871b-887873dd81ef  \n",
       "14ce36f2-427c-11ea-91d2-887873dd81ef  14ce36f2-427c-11ea-91d2-887873dd81ef  \n",
       "14ce36f3-427c-11ea-ab8b-887873dd81ef  14ce36f3-427c-11ea-ab8b-887873dd81ef  \n",
       "14ce36f4-427c-11ea-a529-887873dd81ef  14ce36f4-427c-11ea-a529-887873dd81ef  \n",
       "14ce36f5-427c-11ea-b737-887873dd81ef  14ce36f5-427c-11ea-b737-887873dd81ef  \n",
       "\n",
       "[36536 rows x 15 columns]"
      ]
     },
     "execution_count": 6,
     "metadata": {},
     "output_type": "execute_result"
    }
   ],
   "source": [
    "data"
   ]
  },
  {
   "cell_type": "code",
   "execution_count": 18,
   "id": "305fa634",
   "metadata": {
    "ExecuteTime": {
     "end_time": "2021-08-21T09:50:39.539641Z",
     "start_time": "2021-08-21T09:50:39.527965Z"
    }
   },
   "outputs": [
    {
     "data": {
      "text/plain": [
       "float"
      ]
     },
     "execution_count": 18,
     "metadata": {},
     "output_type": "execute_result"
    }
   ],
   "source": [
    "type(TF.SOUS_FAMILLE.unique()[0])"
   ]
  },
  {
   "cell_type": "code",
   "execution_count": 24,
   "id": "63a3f7c1",
   "metadata": {
    "ExecuteTime": {
     "end_time": "2021-08-21T09:53:22.378307Z",
     "start_time": "2021-08-21T09:53:22.373143Z"
    }
   },
   "outputs": [],
   "source": [
    "# Replace NAN by Z\n",
    "def replace_nan(texte):\n",
    "    if isinstance(texte, float):\n",
    "        texte = 'Z'\n",
    "    return texte\n",
    "TF.SOUS_FAMILLE = TF.SOUS_FAMILLE.apply(replace_nan)"
   ]
  },
  {
   "cell_type": "code",
   "execution_count": 28,
   "id": "f2ef73c7",
   "metadata": {
    "ExecuteTime": {
     "end_time": "2021-08-21T09:54:24.359546Z",
     "start_time": "2021-08-21T09:54:24.350944Z"
    }
   },
   "outputs": [],
   "source": [
    "tf_subf = sorted(TF.SOUS_FAMILLE.unique())"
   ]
  },
  {
   "cell_type": "code",
   "execution_count": 27,
   "id": "2be87c57",
   "metadata": {
    "ExecuteTime": {
     "end_time": "2021-08-21T09:54:22.508279Z",
     "start_time": "2021-08-21T09:54:22.499197Z"
    },
    "scrolled": false
   },
   "outputs": [],
   "source": [
    "df_subf = sorted(data.subfamily.unique())"
   ]
  },
  {
   "cell_type": "code",
   "execution_count": 29,
   "id": "f5bffc43",
   "metadata": {
    "ExecuteTime": {
     "end_time": "2021-08-21T09:56:21.384416Z",
     "start_time": "2021-08-21T09:56:21.379301Z"
    }
   },
   "outputs": [
    {
     "name": "stdout",
     "output_type": "stream",
     "text": [
      "Aphnaeinae not in taxref\n",
      "Biblidinae not in data\n",
      "Brassolinae not in data\n",
      "Coeliadinae not in data\n",
      "Cyrestinae not in data\n",
      "Eudaminae not in data\n",
      "Euselasiinae not in data\n",
      "Miletinae not in data\n",
      "Riodininae not in data\n",
      "Z not in data\n"
     ]
    }
   ],
   "source": [
    "for i in df_subf:\n",
    "    if i not in tf_subf:\n",
    "        print(i, 'not in taxref')\n",
    "for j in tf_subf:\n",
    "    if j not in df_subf:\n",
    "        print(j,'not in data')"
   ]
  },
  {
   "cell_type": "code",
   "execution_count": null,
   "id": "0bf9c188",
   "metadata": {},
   "outputs": [],
   "source": [
    "subf_notin_data = {'Pieridae' : [], 'Lycaenidae' : ['Miletinae'], 'Nymphalidae' : ['Biblidinae', 'Brassolinae', 'Cyrestinae'], \n",
    "      'Hesperiidae' : ['Coeliadinae', 'Eudaminae'], 'Papilionidae' : [], 'Riodinidae' : ['Euselasiinae','Riodininae']}"
   ]
  },
  {
   "cell_type": "markdown",
   "id": "16f06c55",
   "metadata": {},
   "source": [
    "### Genre"
   ]
  },
  {
   "cell_type": "code",
   "execution_count": 30,
   "id": "f3774c9f",
   "metadata": {
    "ExecuteTime": {
     "end_time": "2021-08-21T10:09:27.026877Z",
     "start_time": "2021-08-21T10:09:26.985147Z"
    }
   },
   "outputs": [],
   "source": [
    "TF_sf = pd.read_table('TAXREFLEPIsubf.txt')"
   ]
  },
  {
   "cell_type": "code",
   "execution_count": 31,
   "id": "3297b5d9",
   "metadata": {
    "ExecuteTime": {
     "end_time": "2021-08-21T10:09:33.607399Z",
     "start_time": "2021-08-21T10:09:33.602622Z"
    }
   },
   "outputs": [
    {
     "data": {
      "text/plain": [
       "(5436, 47)"
      ]
     },
     "execution_count": 31,
     "metadata": {},
     "output_type": "execute_result"
    }
   ],
   "source": [
    "TF_sf.shape"
   ]
  },
  {
   "cell_type": "code",
   "execution_count": 32,
   "id": "f290871a",
   "metadata": {
    "ExecuteTime": {
     "end_time": "2021-08-21T10:13:52.077140Z",
     "start_time": "2021-08-21T10:13:52.024493Z"
    }
   },
   "outputs": [
    {
     "data": {
      "text/html": [
       "<div>\n",
       "<style scoped>\n",
       "    .dataframe tbody tr th:only-of-type {\n",
       "        vertical-align: middle;\n",
       "    }\n",
       "\n",
       "    .dataframe tbody tr th {\n",
       "        vertical-align: top;\n",
       "    }\n",
       "\n",
       "    .dataframe thead th {\n",
       "        text-align: right;\n",
       "    }\n",
       "</style>\n",
       "<table border=\"1\" class=\"dataframe\">\n",
       "  <thead>\n",
       "    <tr style=\"text-align: right;\">\n",
       "      <th></th>\n",
       "      <th>author</th>\n",
       "      <th>barcode</th>\n",
       "      <th>country</th>\n",
       "      <th>dec_lat</th>\n",
       "      <th>dec_long</th>\n",
       "      <th>family</th>\n",
       "      <th>genus</th>\n",
       "      <th>image_name</th>\n",
       "      <th>image_path</th>\n",
       "      <th>infraspecific_epithet</th>\n",
       "      <th>primary_division</th>\n",
       "      <th>specific_epithet</th>\n",
       "      <th>subfamily</th>\n",
       "      <th>subspecific_epithet</th>\n",
       "      <th>token</th>\n",
       "    </tr>\n",
       "  </thead>\n",
       "  <tbody>\n",
       "    <tr>\n",
       "      <th>0e335c1e-77ae-4211-9aaf-b59dbe6e3723</th>\n",
       "      <td>Oberthür, 1909</td>\n",
       "      <td>ETHZ-ENT0019027</td>\n",
       "      <td>Morocco</td>\n",
       "      <td>30.933333</td>\n",
       "      <td>-8.4</td>\n",
       "      <td>Lycaenidae</td>\n",
       "      <td>Cigaritis</td>\n",
       "      <td>ETHZ_ENT01_2017_04_20_017772.JPG</td>\n",
       "      <td>2017_04_20R</td>\n",
       "      <td>None</td>\n",
       "      <td>None</td>\n",
       "      <td>allardi</td>\n",
       "      <td>Aphnaeinae</td>\n",
       "      <td>None</td>\n",
       "      <td>0e335c1e-77ae-4211-9aaf-b59dbe6e3723</td>\n",
       "    </tr>\n",
       "    <tr>\n",
       "      <th>b7dbd10b-e473-4cd3-b5fd-a6cc512cbb2c</th>\n",
       "      <td>Oberthür, 1909</td>\n",
       "      <td>ETHZ-ENT0019027</td>\n",
       "      <td>Morocco</td>\n",
       "      <td>30.933333</td>\n",
       "      <td>-8.4</td>\n",
       "      <td>Lycaenidae</td>\n",
       "      <td>Cigaritis</td>\n",
       "      <td>ETHZ_ENT01_2017_04_20_017773.JPG</td>\n",
       "      <td>2017_04_20R</td>\n",
       "      <td>None</td>\n",
       "      <td>None</td>\n",
       "      <td>allardi</td>\n",
       "      <td>Aphnaeinae</td>\n",
       "      <td>None</td>\n",
       "      <td>b7dbd10b-e473-4cd3-b5fd-a6cc512cbb2c</td>\n",
       "    </tr>\n",
       "    <tr>\n",
       "      <th>faa0e040-a248-4c2a-b318-8c327301e570</th>\n",
       "      <td>(Lucas, 1849)</td>\n",
       "      <td>ETHZ-ENT0019022</td>\n",
       "      <td>Algeria</td>\n",
       "      <td>36.7</td>\n",
       "      <td>3.216667</td>\n",
       "      <td>Lycaenidae</td>\n",
       "      <td>Cigaritis</td>\n",
       "      <td>ETHZ_ENT01_2017_04_20_017767.JPG</td>\n",
       "      <td>2017_04_20R</td>\n",
       "      <td>None</td>\n",
       "      <td>None</td>\n",
       "      <td>siphax</td>\n",
       "      <td>Aphnaeinae</td>\n",
       "      <td>None</td>\n",
       "      <td>faa0e040-a248-4c2a-b318-8c327301e570</td>\n",
       "    </tr>\n",
       "    <tr>\n",
       "      <th>14ce0fe4-427c-11ea-bbb9-887873dd81ef</th>\n",
       "      <td>Donzel, 1847</td>\n",
       "      <td>ETHZ-ENT0019025</td>\n",
       "      <td>Algeria</td>\n",
       "      <td>None</td>\n",
       "      <td>None</td>\n",
       "      <td>Lycaenidae</td>\n",
       "      <td>Cigaritis</td>\n",
       "      <td>ETHZ_ENT01_2017_04_20_017770.JPG</td>\n",
       "      <td>2017_04_20R</td>\n",
       "      <td>None</td>\n",
       "      <td>Annaba</td>\n",
       "      <td>zohra</td>\n",
       "      <td>Aphnaeinae</td>\n",
       "      <td>None</td>\n",
       "      <td>14ce0fe4-427c-11ea-bbb9-887873dd81ef</td>\n",
       "    </tr>\n",
       "    <tr>\n",
       "      <th>14ce0fea-427c-11ea-a62d-887873dd81ef</th>\n",
       "      <td>Donzel, 1847</td>\n",
       "      <td>ETHZ-ENT0019026</td>\n",
       "      <td>Algeria</td>\n",
       "      <td>None</td>\n",
       "      <td>None</td>\n",
       "      <td>Lycaenidae</td>\n",
       "      <td>Cigaritis</td>\n",
       "      <td>ETHZ_ENT01_2017_04_20_017771.JPG</td>\n",
       "      <td>2017_04_20R</td>\n",
       "      <td>None</td>\n",
       "      <td>Annaba</td>\n",
       "      <td>zohra</td>\n",
       "      <td>Aphnaeinae</td>\n",
       "      <td>None</td>\n",
       "      <td>14ce0fea-427c-11ea-a62d-887873dd81ef</td>\n",
       "    </tr>\n",
       "    <tr>\n",
       "      <th>14ce369d-427c-11ea-8237-887873dd81ef</th>\n",
       "      <td>Lederer, 1861</td>\n",
       "      <td>ETHZ-ENT0019020</td>\n",
       "      <td>Turkey</td>\n",
       "      <td>None</td>\n",
       "      <td>None</td>\n",
       "      <td>Lycaenidae</td>\n",
       "      <td>Cigaritis</td>\n",
       "      <td>ETHZ_ENT01_2017_04_20_017765.JPG</td>\n",
       "      <td>2017_04_20R</td>\n",
       "      <td>None</td>\n",
       "      <td>Izmir</td>\n",
       "      <td>cilissa</td>\n",
       "      <td>Aphnaeinae</td>\n",
       "      <td>None</td>\n",
       "      <td>14ce369d-427c-11ea-8237-887873dd81ef</td>\n",
       "    </tr>\n",
       "    <tr>\n",
       "      <th>14ce36bb-427c-11ea-a6cf-887873dd81ef</th>\n",
       "      <td>Lederer, 1861</td>\n",
       "      <td>ETHZ-ENT0019019</td>\n",
       "      <td>Turkey</td>\n",
       "      <td>None</td>\n",
       "      <td>None</td>\n",
       "      <td>Lycaenidae</td>\n",
       "      <td>Cigaritis</td>\n",
       "      <td>ETHZ_ENT01_2017_04_20_017764.JPG</td>\n",
       "      <td>2017_04_20R</td>\n",
       "      <td>None</td>\n",
       "      <td>Izmir</td>\n",
       "      <td>cilissa</td>\n",
       "      <td>Aphnaeinae</td>\n",
       "      <td>None</td>\n",
       "      <td>14ce36bb-427c-11ea-a6cf-887873dd81ef</td>\n",
       "    </tr>\n",
       "  </tbody>\n",
       "</table>\n",
       "</div>"
      ],
      "text/plain": [
       "                                              author          barcode  \\\n",
       "0e335c1e-77ae-4211-9aaf-b59dbe6e3723  Oberthür, 1909  ETHZ-ENT0019027   \n",
       "b7dbd10b-e473-4cd3-b5fd-a6cc512cbb2c  Oberthür, 1909  ETHZ-ENT0019027   \n",
       "faa0e040-a248-4c2a-b318-8c327301e570   (Lucas, 1849)  ETHZ-ENT0019022   \n",
       "14ce0fe4-427c-11ea-bbb9-887873dd81ef    Donzel, 1847  ETHZ-ENT0019025   \n",
       "14ce0fea-427c-11ea-a62d-887873dd81ef    Donzel, 1847  ETHZ-ENT0019026   \n",
       "14ce369d-427c-11ea-8237-887873dd81ef   Lederer, 1861  ETHZ-ENT0019020   \n",
       "14ce36bb-427c-11ea-a6cf-887873dd81ef   Lederer, 1861  ETHZ-ENT0019019   \n",
       "\n",
       "                                      country    dec_lat  dec_long  \\\n",
       "0e335c1e-77ae-4211-9aaf-b59dbe6e3723  Morocco  30.933333      -8.4   \n",
       "b7dbd10b-e473-4cd3-b5fd-a6cc512cbb2c  Morocco  30.933333      -8.4   \n",
       "faa0e040-a248-4c2a-b318-8c327301e570  Algeria       36.7  3.216667   \n",
       "14ce0fe4-427c-11ea-bbb9-887873dd81ef  Algeria       None      None   \n",
       "14ce0fea-427c-11ea-a62d-887873dd81ef  Algeria       None      None   \n",
       "14ce369d-427c-11ea-8237-887873dd81ef   Turkey       None      None   \n",
       "14ce36bb-427c-11ea-a6cf-887873dd81ef   Turkey       None      None   \n",
       "\n",
       "                                          family      genus  \\\n",
       "0e335c1e-77ae-4211-9aaf-b59dbe6e3723  Lycaenidae  Cigaritis   \n",
       "b7dbd10b-e473-4cd3-b5fd-a6cc512cbb2c  Lycaenidae  Cigaritis   \n",
       "faa0e040-a248-4c2a-b318-8c327301e570  Lycaenidae  Cigaritis   \n",
       "14ce0fe4-427c-11ea-bbb9-887873dd81ef  Lycaenidae  Cigaritis   \n",
       "14ce0fea-427c-11ea-a62d-887873dd81ef  Lycaenidae  Cigaritis   \n",
       "14ce369d-427c-11ea-8237-887873dd81ef  Lycaenidae  Cigaritis   \n",
       "14ce36bb-427c-11ea-a6cf-887873dd81ef  Lycaenidae  Cigaritis   \n",
       "\n",
       "                                                            image_name  \\\n",
       "0e335c1e-77ae-4211-9aaf-b59dbe6e3723  ETHZ_ENT01_2017_04_20_017772.JPG   \n",
       "b7dbd10b-e473-4cd3-b5fd-a6cc512cbb2c  ETHZ_ENT01_2017_04_20_017773.JPG   \n",
       "faa0e040-a248-4c2a-b318-8c327301e570  ETHZ_ENT01_2017_04_20_017767.JPG   \n",
       "14ce0fe4-427c-11ea-bbb9-887873dd81ef  ETHZ_ENT01_2017_04_20_017770.JPG   \n",
       "14ce0fea-427c-11ea-a62d-887873dd81ef  ETHZ_ENT01_2017_04_20_017771.JPG   \n",
       "14ce369d-427c-11ea-8237-887873dd81ef  ETHZ_ENT01_2017_04_20_017765.JPG   \n",
       "14ce36bb-427c-11ea-a6cf-887873dd81ef  ETHZ_ENT01_2017_04_20_017764.JPG   \n",
       "\n",
       "                                       image_path infraspecific_epithet  \\\n",
       "0e335c1e-77ae-4211-9aaf-b59dbe6e3723  2017_04_20R                  None   \n",
       "b7dbd10b-e473-4cd3-b5fd-a6cc512cbb2c  2017_04_20R                  None   \n",
       "faa0e040-a248-4c2a-b318-8c327301e570  2017_04_20R                  None   \n",
       "14ce0fe4-427c-11ea-bbb9-887873dd81ef  2017_04_20R                  None   \n",
       "14ce0fea-427c-11ea-a62d-887873dd81ef  2017_04_20R                  None   \n",
       "14ce369d-427c-11ea-8237-887873dd81ef  2017_04_20R                  None   \n",
       "14ce36bb-427c-11ea-a6cf-887873dd81ef  2017_04_20R                  None   \n",
       "\n",
       "                                     primary_division specific_epithet  \\\n",
       "0e335c1e-77ae-4211-9aaf-b59dbe6e3723             None          allardi   \n",
       "b7dbd10b-e473-4cd3-b5fd-a6cc512cbb2c             None          allardi   \n",
       "faa0e040-a248-4c2a-b318-8c327301e570             None           siphax   \n",
       "14ce0fe4-427c-11ea-bbb9-887873dd81ef           Annaba            zohra   \n",
       "14ce0fea-427c-11ea-a62d-887873dd81ef           Annaba            zohra   \n",
       "14ce369d-427c-11ea-8237-887873dd81ef            Izmir          cilissa   \n",
       "14ce36bb-427c-11ea-a6cf-887873dd81ef            Izmir          cilissa   \n",
       "\n",
       "                                       subfamily subspecific_epithet  \\\n",
       "0e335c1e-77ae-4211-9aaf-b59dbe6e3723  Aphnaeinae                None   \n",
       "b7dbd10b-e473-4cd3-b5fd-a6cc512cbb2c  Aphnaeinae                None   \n",
       "faa0e040-a248-4c2a-b318-8c327301e570  Aphnaeinae                None   \n",
       "14ce0fe4-427c-11ea-bbb9-887873dd81ef  Aphnaeinae                None   \n",
       "14ce0fea-427c-11ea-a62d-887873dd81ef  Aphnaeinae                None   \n",
       "14ce369d-427c-11ea-8237-887873dd81ef  Aphnaeinae                None   \n",
       "14ce36bb-427c-11ea-a6cf-887873dd81ef  Aphnaeinae                None   \n",
       "\n",
       "                                                                     token  \n",
       "0e335c1e-77ae-4211-9aaf-b59dbe6e3723  0e335c1e-77ae-4211-9aaf-b59dbe6e3723  \n",
       "b7dbd10b-e473-4cd3-b5fd-a6cc512cbb2c  b7dbd10b-e473-4cd3-b5fd-a6cc512cbb2c  \n",
       "faa0e040-a248-4c2a-b318-8c327301e570  faa0e040-a248-4c2a-b318-8c327301e570  \n",
       "14ce0fe4-427c-11ea-bbb9-887873dd81ef  14ce0fe4-427c-11ea-bbb9-887873dd81ef  \n",
       "14ce0fea-427c-11ea-a62d-887873dd81ef  14ce0fea-427c-11ea-a62d-887873dd81ef  \n",
       "14ce369d-427c-11ea-8237-887873dd81ef  14ce369d-427c-11ea-8237-887873dd81ef  \n",
       "14ce36bb-427c-11ea-a6cf-887873dd81ef  14ce36bb-427c-11ea-a6cf-887873dd81ef  "
      ]
     },
     "execution_count": 32,
     "metadata": {},
     "output_type": "execute_result"
    }
   ],
   "source": [
    "data.loc[data.subfamily == 'Aphnaeinae']"
   ]
  },
  {
   "cell_type": "code",
   "execution_count": 34,
   "id": "d9e7ec90",
   "metadata": {
    "ExecuteTime": {
     "end_time": "2021-08-21T10:19:25.640301Z",
     "start_time": "2021-08-21T10:19:25.620435Z"
    }
   },
   "outputs": [
    {
     "data": {
      "text/plain": [
       "array(['Thecla', 'Satyrium', 'Callophrys', 'Neolycaena', 'Favonius',\n",
       "       'Laeosopis', 'Tomares', 'Chrysozephyrus', 'Coreana', 'Japonica',\n",
       "       'Ussuriana', 'Artopoetes'], dtype=object)"
      ]
     },
     "execution_count": 34,
     "metadata": {},
     "output_type": "execute_result"
    }
   ],
   "source": [
    "data.loc[data.subfamily == 'Theclinae','genus'].unique()"
   ]
  },
  {
   "cell_type": "code",
   "execution_count": 37,
   "id": "1072b83f",
   "metadata": {
    "ExecuteTime": {
     "end_time": "2021-08-21T10:21:05.309238Z",
     "start_time": "2021-08-21T10:21:05.301892Z"
    }
   },
   "outputs": [],
   "source": [
    "thecl_genre = TF_sf.loc[TF.SOUS_FAMILLE == 'Theclinae', 'NOM_VALIDE']"
   ]
  },
  {
   "cell_type": "code",
   "execution_count": 38,
   "id": "c1c92d0c",
   "metadata": {
    "ExecuteTime": {
     "end_time": "2021-08-21T10:21:59.394207Z",
     "start_time": "2021-08-21T10:21:59.390397Z"
    }
   },
   "outputs": [],
   "source": [
    "def get_genus(texte):\n",
    "    liste = texte.split()\n",
    "    return liste[0]\n",
    "thecl_genre = thecl_genre.apply(get_genus)"
   ]
  },
  {
   "cell_type": "code",
   "execution_count": 43,
   "id": "40962f06",
   "metadata": {
    "ExecuteTime": {
     "end_time": "2021-08-21T10:32:10.985214Z",
     "start_time": "2021-08-21T10:32:10.982429Z"
    }
   },
   "outputs": [],
   "source": [
    "thecl_genre = sorted(thecl_genre.unique())"
   ]
  },
  {
   "cell_type": "code",
   "execution_count": 42,
   "id": "31bd7c8e",
   "metadata": {
    "ExecuteTime": {
     "end_time": "2021-08-21T10:31:37.047794Z",
     "start_time": "2021-08-21T10:31:37.044670Z"
    }
   },
   "outputs": [],
   "source": [
    "aphnae = ['Aloeides', 'Aphnaeus', 'Apharitis', 'Cigaritis', 'Cesa', 'Spindasis', \n",
    "          'Axiocerses', 'Zeritis' , 'Chloroselas', 'Desmolycaena' , 'Vansomerenia',\n",
    "          'Lipaphnaeus', 'Chrysoritis', 'Crudaria', 'Erikssonia', 'Phasis', 'Pseudaletis',\n",
    "          'Tylopaedia', 'Argyraspodes', 'Trimenia']"
   ]
  },
  {
   "cell_type": "code",
   "execution_count": 44,
   "id": "7eaa99de",
   "metadata": {
    "ExecuteTime": {
     "end_time": "2021-08-21T10:32:48.907423Z",
     "start_time": "2021-08-21T10:32:48.905051Z"
    }
   },
   "outputs": [],
   "source": [
    "for i in aphnae:\n",
    "    if i in thecl_genre:\n",
    "        print(i)"
   ]
  },
  {
   "cell_type": "raw",
   "id": "c1bbb1ae",
   "metadata": {
    "ExecuteTime": {
     "end_time": "2021-08-21T09:53:22.378307Z",
     "start_time": "2021-08-21T09:53:22.373143Z"
    }
   },
   "source": [
    "# Replace NAN by Z\n",
    "def replace_nan(texte):\n",
    "    if isinstance(texte, float):\n",
    "        texte = 'Z'\n",
    "    return texte\n",
    "TF.SOUS_FAMILLE = TF.SOUS_FAMILLE.apply(replace_nan)"
   ]
  },
  {
   "cell_type": "raw",
   "id": "23720e51",
   "metadata": {
    "ExecuteTime": {
     "end_time": "2021-08-21T09:54:24.359546Z",
     "start_time": "2021-08-21T09:54:24.350944Z"
    }
   },
   "source": [
    "tf_subf = sorted(TF.SOUS_FAMILLE.unique())"
   ]
  },
  {
   "cell_type": "raw",
   "id": "a085371f",
   "metadata": {
    "ExecuteTime": {
     "end_time": "2021-08-21T09:54:22.508279Z",
     "start_time": "2021-08-21T09:54:22.499197Z"
    },
    "scrolled": false
   },
   "source": [
    "df_subf = sorted(data.subfamily.unique())"
   ]
  },
  {
   "cell_type": "raw",
   "id": "a00a8312",
   "metadata": {
    "ExecuteTime": {
     "end_time": "2021-08-21T09:56:21.384416Z",
     "start_time": "2021-08-21T09:56:21.379301Z"
    }
   },
   "source": [
    "for i in df_subf:\n",
    "    if i not in tf_subf:\n",
    "        print(i, 'not in taxref')\n",
    "for j in tf_subf:\n",
    "    if j not in df_subf:\n",
    "        print(j,'not in data')"
   ]
  },
  {
   "cell_type": "raw",
   "id": "eb0decb5",
   "metadata": {},
   "source": [
    "subf_notin_data = {'Pieridae' : [], 'Lycaenidae' : ['Miletinae'], 'Nymphalidae' : ['Biblidinae', 'Brassolinae', 'Cyrestinae'], \n",
    "      'Hesperiidae' : ['Coeliadinae', 'Eudaminae'], 'Papilionidae' : [], 'Riodinidae' : ['Euselasiinae','Riodininae']}"
   ]
  }
 ],
 "metadata": {
  "kernelspec": {
   "display_name": "Python 3 (ipykernel)",
   "language": "python",
   "name": "python3"
  },
  "language_info": {
   "codemirror_mode": {
    "name": "ipython",
    "version": 3
   },
   "file_extension": ".py",
   "mimetype": "text/x-python",
   "name": "python",
   "nbconvert_exporter": "python",
   "pygments_lexer": "ipython3",
   "version": "3.8.6"
  },
  "toc": {
   "base_numbering": 1,
   "nav_menu": {},
   "number_sections": true,
   "sideBar": true,
   "skip_h1_title": false,
   "title_cell": "Table of Contents",
   "title_sidebar": "Contents",
   "toc_cell": false,
   "toc_position": {},
   "toc_section_display": true,
   "toc_window_display": false
  }
 },
 "nbformat": 4,
 "nbformat_minor": 5
}

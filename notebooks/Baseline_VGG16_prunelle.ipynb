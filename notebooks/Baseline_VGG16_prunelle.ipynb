{
 "cells": [
  {
   "cell_type": "code",
   "execution_count": 1,
   "id": "58daaecf",
   "metadata": {},
   "outputs": [],
   "source": [
    "import pandas as pd\n",
    "import matplotlib.pyplot as plt\n",
    "from PIL import Image\n",
    "import numpy as np\n",
    "import tensorflow as tf\n",
    "from tensorflow.keras.applications.vgg16 import preprocess_input"
   ]
  },
  {
   "cell_type": "markdown",
   "id": "ab68e3d4",
   "metadata": {},
   "source": [
    "# Préparation des échantillons"
   ]
  },
  {
   "cell_type": "code",
   "execution_count": 2,
   "id": "18d23d8d",
   "metadata": {},
   "outputs": [],
   "source": [
    "def data_transformation(df):\n",
    "    data = df.T\n",
    "    data[\"path_to_image\"]=\"../raw_data/IMG/\"+data[\"image_name\"]\n",
    "    data['species'] = data['genus']+' '+data['specific_epithet'] \n",
    "    return data"
   ]
  },
  {
   "cell_type": "code",
   "execution_count": 36,
   "id": "79006a74",
   "metadata": {},
   "outputs": [],
   "source": [
    "def X_y_from_df(df, sample_size):\n",
    "    data_sample = df.sample(sample_size, random_state = 818)\n",
    "    image = []\n",
    "\n",
    "    for i in data_sample['path_to_image'] :\n",
    "        img = Image.open(i)\n",
    "        img = img.resize((256,256))\n",
    "        image.append(np.array(img))\n",
    "\n",
    "    X = np.array(image)\n",
    "    y = np.array(data_sample['species'])\n",
    "    return X, y"
   ]
  },
  {
   "cell_type": "code",
   "execution_count": 37,
   "id": "77f59502",
   "metadata": {},
   "outputs": [],
   "source": [
    "df_train = data_transformation(pd.read_json('../raw_data/splits/train.json'))\n",
    "df_val = data_transformation(pd.read_json('../raw_data/splits/val.json'))\n",
    "df_test = data_transformation(pd.read_json('../raw_data/splits/test.json'))\n",
    "\n",
    "X_val, y_val = X_y_from_df(df_val, 200)\n",
    "X_test, y_test = X_y_from_df(df_test, 200)\n",
    "X_train, y_train = X_y_from_df(df_train, 1000)\n",
    "\n",
    "y_train = y_train.reshape(1000, 1)\n",
    "y_val = y_val.reshape(200, 1)\n",
    "y_test = y_test.reshape(200, 1)\n",
    "\n",
    "\n",
    "X_train = preprocess_input(X_train)\n",
    "X_val = preprocess_input(X_val)\n",
    "X_test = preprocess_input(X_test)"
   ]
  },
  {
   "cell_type": "code",
   "execution_count": 38,
   "id": "9f8af777",
   "metadata": {},
   "outputs": [],
   "source": [
    "from sklearn.preprocessing import OneHotEncoder\n",
    "ohe = OneHotEncoder(sparse=False, handle_unknown = 'ignore')\n",
    "ohe.fit(y_train)\n",
    "y_train_cat = ohe.transform(y_train)\n",
    "y_val_cat = ohe.transform(y_val)\n",
    "y_test_cat = ohe.transform(y_test)"
   ]
  },
  {
   "cell_type": "markdown",
   "id": "5cba1af8",
   "metadata": {},
   "source": [
    "# Lancement du modèle"
   ]
  },
  {
   "cell_type": "code",
   "execution_count": 42,
   "id": "2fd27521",
   "metadata": {},
   "outputs": [],
   "source": [
    "from tensorflow.keras.applications.vgg16 import VGG16\n",
    "from tensorflow.keras import optimizers, layers, models\n",
    "from tensorflow.keras.callbacks import EarlyStopping\n",
    "\n",
    "\n",
    "def model_VGG16( X_train, y_train_cat, X_val, y_val_cat, X_test, y_test_cat, image_size,  patience=2, learning_rate=0.001, nb_epochs=15, nb_couches_dense_layer=130):\n",
    "    \n",
    "    model = VGG16(weights=\"imagenet\", include_top=False, input_shape = image_size)\n",
    "    # Set the first layers to be untrainable\n",
    "    model.trainable = False\n",
    "    \n",
    "    #add last layers\n",
    "    flatten_layer = layers.Flatten()\n",
    "    dense_layer = layers.Dense(nb_couches_dense_layer, activation='relu')\n",
    "    prediction_layer = layers.Dense(248, activation='softmax')\n",
    "    model = models.Sequential([\n",
    "        model,\n",
    "        flatten_layer,\n",
    "        dense_layer,\n",
    "        prediction_layer\n",
    "    ])\n",
    "    \n",
    "    #build model\n",
    "    opt = optimizers.Adam(learning_rate=learning_rate)\n",
    "    model.compile(loss='categorical_crossentropy',\n",
    "                  optimizer=opt,\n",
    "                  metrics=['accuracy'])\n",
    "    \n",
    "    #set earlystopping\n",
    "    es = EarlyStopping(monitor='val_loss', mode='max', patience=patience, verbose=1, restore_best_weights=True)\n",
    "    \n",
    "    #launch model\n",
    "    history = model.fit(X_train, y_train_cat, \n",
    "                    validation_data=(X_val, y_val_cat), \n",
    "                    epochs=nb_epochs, \n",
    "                    batch_size=16, \n",
    "                    callbacks=[es])\n",
    "    \n",
    "    #evaluate model\n",
    "    res_vgg = model.evaluate(X_test, y_test_cat)\n",
    "    \n",
    "    test_accuracy_vgg = res_vgg[-1]\n",
    "    \n",
    "    return (f\"test_accuracy_vgg = {round(test_accuracy_vgg,2)*100} %\"), history"
   ]
  },
  {
   "cell_type": "markdown",
   "id": "01f94475",
   "metadata": {},
   "source": [
    "# Courbes d'apprentissage"
   ]
  },
  {
   "cell_type": "code",
   "execution_count": null,
   "id": "d3aafbe5",
   "metadata": {},
   "outputs": [],
   "source": [
    "def plot_history(history, title='', axs=None, exp_name=\"\"):\n",
    "    if axs is not None:\n",
    "        ax1, ax2 = axs\n",
    "    else:\n",
    "        f, (ax1, ax2) = plt.subplots(1, 2, figsize=(12, 4))\n",
    "    \n",
    "    if len(exp_name) > 0 and exp_name[0] != '_':\n",
    "        exp_name = '_' + exp_name\n",
    "    ax1.plot(history.history['loss'], label='train' + exp_name)\n",
    "    ax1.plot(history.history['val_loss'], label='val' + exp_name)\n",
    "    #ax1.set_ylim(0., 2.2)\n",
    "    ax1.set_title('loss')\n",
    "    ax1.legend()\n",
    "\n",
    "    ax2.plot(history.history['accuracy'], label='train accuracy'  + exp_name)\n",
    "    ax2.plot(history.history['val_accuracy'], label='val accuracy'  + exp_name)\n",
    "    #ax2.set_ylim(0.25, 1.)\n",
    "    ax2.set_title('Accuracy')\n",
    "    ax2.legend()\n",
    "    return (ax1, ax2)"
   ]
  },
  {
   "cell_type": "code",
   "execution_count": null,
   "id": "28559b36",
   "metadata": {
    "scrolled": true
   },
   "outputs": [],
   "source": [
    "plot_history(history)"
   ]
  },
  {
   "cell_type": "markdown",
   "id": "d3422796",
   "metadata": {},
   "source": [
    "# Historique"
   ]
  },
  {
   "cell_type": "code",
   "execution_count": 27,
   "id": "329e77a6",
   "metadata": {},
   "outputs": [
    {
     "name": "stderr",
     "output_type": "stream",
     "text": [
      "Clipping input data to the valid range for imshow with RGB data ([0..1] for floats or [0..255] for integers).\n"
     ]
    },
    {
     "data": {
      "text/plain": [
       "<matplotlib.image.AxesImage at 0x15e1ab0d0>"
      ]
     },
     "execution_count": 27,
     "metadata": {},
     "output_type": "execute_result"
    },
    {
     "data": {
      "image/png": "[encoded data removed]",
      "text/plain": [
       "<Figure size 432x288 with 1 Axes>"
      ]
     },
     "metadata": {
      "needs_background": "light"
     },
     "output_type": "display_data"
    }
   ],
   "source": [
    "plt.imshow(X_train[0])"
   ]
  },
  {
   "cell_type": "code",
   "execution_count": 40,
   "id": "6569cb16",
   "metadata": {},
   "outputs": [
    {
     "data": {
      "text/plain": [
       "(256, 256, 3)"
      ]
     },
     "execution_count": 40,
     "metadata": {},
     "output_type": "execute_result"
    }
   ],
   "source": [
    "X_train[0].shape"
   ]
  },
  {
   "cell_type": "code",
   "execution_count": 41,
   "id": "accc3500",
   "metadata": {},
   "outputs": [
    {
     "name": "stdout",
     "output_type": "stream",
     "text": [
      "Epoch 1/15\n",
      "63/63 [==============================] - 475s 8s/step - loss: 7.9878 - accuracy: 0.0370 - val_loss: 4.4140 - val_accuracy: 0.0300\n",
      "Epoch 2/15\n",
      "63/63 [==============================] - 518s 8s/step - loss: 5.0610 - accuracy: 0.0680 - val_loss: 4.2911 - val_accuracy: 0.0450\n",
      "Epoch 3/15\n",
      "63/63 [==============================] - 508s 8s/step - loss: 4.8457 - accuracy: 0.1010 - val_loss: 4.0548 - val_accuracy: 0.0950\n",
      "Epoch 4/15\n",
      "63/63 [==============================] - 782s 12s/step - loss: 4.6902 - accuracy: 0.1140 - val_loss: 4.0477 - val_accuracy: 0.0750\n",
      "Epoch 5/15\n",
      "63/63 [==============================] - 467s 7s/step - loss: 4.5394 - accuracy: 0.1260 - val_loss: 4.1062 - val_accuracy: 0.0750\n",
      "Epoch 6/15\n",
      "63/63 [==============================] - 507s 8s/step - loss: 4.4539 - accuracy: 0.1270 - val_loss: 3.8763 - val_accuracy: 0.1000\n",
      "Restoring model weights from the end of the best epoch.\n",
      "Epoch 00006: early stopping\n",
      "7/7 [==============================] - 73s 10s/step - loss: 4.4448 - accuracy: 0.0300\n"
     ]
    },
    {
     "data": {
      "text/plain": [
       "'test_accuracy_vgg = 3.0 %'"
      ]
     },
     "execution_count": 41,
     "metadata": {},
     "output_type": "execute_result"
    }
   ],
   "source": [
    "model_VGG16(X_train, y_train_cat, X_val, y_val_cat, X_test, y_test_cat, X_train[0].shape, 5, 0.001, 15, 130)"
   ]
  },
  {
   "cell_type": "code",
   "execution_count": null,
   "id": "a8c8d144",
   "metadata": {
    "scrolled": true
   },
   "outputs": [],
   "source": [
    "model = load_model()\n",
    "model.summary()"
   ]
  },
  {
   "cell_type": "code",
   "execution_count": null,
   "id": "e96057c5",
   "metadata": {},
   "outputs": [],
   "source": [
    "def set_nontrainable_layers(model):\n",
    "    # Set the first layers to be untrainable\n",
    "    model.trainable = False\n",
    "    \n",
    "    return model\n",
    "\n",
    "model\n",
    "model = set_nontrainable_layers(model)\n",
    "\n",
    "model.summary()"
   ]
  },
  {
   "cell_type": "code",
   "execution_count": null,
   "id": "8d4c2ce8",
   "metadata": {},
   "outputs": [],
   "source": [
    "from tensorflow.keras import layers, models\n",
    "\n",
    "def add_last_layers(model):\n",
    "    '''Take a pre-trained model, set its parameters as non-trainables, and add additional trainable layers on top'''\n",
    "    # $CHALLENGIFY_BEGIN\n",
    "    base_model = set_nontrainable_layers(model)\n",
    "    flatten_layer = layers.Flatten()\n",
    "    dense_layer = layers.Dense(130, activation='relu')\n",
    "    prediction_layer = layers.Dense(248, activation='softmax')\n",
    "    \n",
    "    \n",
    "    model = models.Sequential([\n",
    "        base_model,\n",
    "        flatten_layer,\n",
    "        dense_layer,\n",
    "        prediction_layer\n",
    "    ])\n",
    "    # $CHALLENGIFY_END\n",
    "    return model"
   ]
  },
  {
   "cell_type": "code",
   "execution_count": null,
   "id": "c651dada",
   "metadata": {},
   "outputs": [],
   "source": [
    "model = add_last_layers(model)\n",
    "model.summary()"
   ]
  },
  {
   "cell_type": "code",
   "execution_count": null,
   "id": "9b24d911",
   "metadata": {},
   "outputs": [],
   "source": [
    "from tensorflow.keras import optimizers\n",
    "\n",
    "def build_model():\n",
    "    # $CHALLENGIFY_BEGIN    \n",
    "    model = load_model()\n",
    "    model = add_last_layers(model)\n",
    "    \n",
    "    opt = optimizers.Adam(learning_rate=1e-3)\n",
    "    model.compile(loss='categorical_crossentropy',\n",
    "                  optimizer=opt,\n",
    "                  metrics=['accuracy'])\n",
    "    return model\n",
    "    # $CHALLENGIFY_END"
   ]
  },
  {
   "cell_type": "code",
   "execution_count": null,
   "id": "4c91629d",
   "metadata": {},
   "outputs": [],
   "source": [
    "model = build_model()"
   ]
  },
  {
   "cell_type": "code",
   "execution_count": null,
   "id": "8ee1121c",
   "metadata": {},
   "outputs": [],
   "source": [
    "from tensorflow.keras.applications.vgg16 import VGG16\n",
    "\n",
    "def load_model():\n",
    "    # $CHALLENGIFY_BEGIN\n",
    "    model = VGG16(weights=\"imagenet\", include_top=False, input_shape=image[0].shape)\n",
    "    # $CHALLENGIFY_END\n",
    "    \n",
    "    return model"
   ]
  },
  {
   "cell_type": "code",
   "execution_count": null,
   "id": "6e58f45f",
   "metadata": {},
   "outputs": [],
   "source": [
    "X_train.shape"
   ]
  },
  {
   "cell_type": "code",
   "execution_count": null,
   "id": "285fd348",
   "metadata": {},
   "outputs": [],
   "source": [
    "X_val.shape"
   ]
  },
  {
   "cell_type": "code",
   "execution_count": null,
   "id": "ca2d83b8",
   "metadata": {},
   "outputs": [],
   "source": [
    "y_train"
   ]
  },
  {
   "cell_type": "code",
   "execution_count": null,
   "id": "1a636cfc",
   "metadata": {
    "scrolled": true
   },
   "outputs": [],
   "source": [
    "y_train.shape"
   ]
  },
  {
   "cell_type": "code",
   "execution_count": null,
   "id": "373dc7d2",
   "metadata": {
    "scrolled": true
   },
   "outputs": [],
   "source": [
    "y_val.shape"
   ]
  },
  {
   "cell_type": "code",
   "execution_count": null,
   "id": "cccbd91a",
   "metadata": {},
   "outputs": [],
   "source": [
    "y_cat.shape"
   ]
  },
  {
   "cell_type": "code",
   "execution_count": null,
   "id": "b8494bd2",
   "metadata": {},
   "outputs": [],
   "source": [
    "y_val_cat.shape"
   ]
  },
  {
   "cell_type": "code",
   "execution_count": null,
   "id": "f5b744d4",
   "metadata": {
    "scrolled": true
   },
   "outputs": [],
   "source": [
    "X_train.shape"
   ]
  },
  {
   "cell_type": "code",
   "execution_count": null,
   "id": "9794fd8d",
   "metadata": {},
   "outputs": [],
   "source": [
    "X_val.shape"
   ]
  },
  {
   "cell_type": "code",
   "execution_count": null,
   "id": "d58c31b5",
   "metadata": {},
   "outputs": [],
   "source": [
    "from tensorflow.keras.callbacks import EarlyStopping\n",
    "\n",
    "es = EarlyStopping(monitor='val_loss', mode='max', patience=2, verbose=1, restore_best_weights=True)\n",
    "\n",
    "history = model.fit(X_train, y_cat, \n",
    "                    validation_data=(X_val, y_val_cat), \n",
    "                    epochs=20, \n",
    "                    batch_size=16, \n",
    "                    callbacks=[es])"
   ]
  },
  {
   "cell_type": "code",
   "execution_count": null,
   "id": "3430842f",
   "metadata": {},
   "outputs": [],
   "source": [
    "res_vgg = model.evaluate(X_test, y_test_cat)\n",
    "\n",
    "test_accuracy_vgg = res_vgg[-1]\n",
    "\n",
    "print(f\"test_accuracy_vgg = {round(test_accuracy_vgg,2)*100} %\")"
   ]
  }
 ],
 "metadata": {
  "kernelspec": {
   "display_name": "Python 3 (ipykernel)",
   "language": "python",
   "name": "python3"
  },
  "language_info": {
   "codemirror_mode": {
    "name": "ipython",
    "version": 3
   },
   "file_extension": ".py",
   "mimetype": "text/x-python",
   "name": "python",
   "nbconvert_exporter": "python",
   "pygments_lexer": "ipython3",
   "version": "3.8.6"
  },
  "toc": {
   "base_numbering": 1,
   "nav_menu": {},
   "number_sections": true,
   "sideBar": true,
   "skip_h1_title": false,
   "title_cell": "Table of Contents",
   "title_sidebar": "Contents",
   "toc_cell": false,
   "toc_position": {},
   "toc_section_display": true,
   "toc_window_display": false
  }
 },
 "nbformat": 4,
 "nbformat_minor": 5
}

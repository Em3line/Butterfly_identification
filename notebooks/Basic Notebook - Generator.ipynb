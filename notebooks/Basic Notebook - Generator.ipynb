{
 "cells": [
  {
   "cell_type": "code",
   "execution_count": 1,
   "id": "1364514a",
   "metadata": {},
   "outputs": [],
   "source": [
    "%load_ext autoreload\n",
    "%autoreload 2"
   ]
  },
  {
   "cell_type": "code",
   "execution_count": 2,
   "id": "d0f7b6d2",
   "metadata": {},
   "outputs": [],
   "source": [
    "import pandas as pd\n",
    "import numpy as np\n",
    "from PIL import Image\n",
    "import Butterfly_identification.preprocessbutterfly as preproc\n",
    "# from tensorflow.keras.preprocessing.image import ImageDataGenerator"
   ]
  },
  {
   "cell_type": "code",
   "execution_count": 3,
   "id": "973c5a05",
   "metadata": {},
   "outputs": [],
   "source": [
    "import os\n",
    "from tensorflow.data import Dataset, AUTOTUNE\n",
    "from tensorflow.strings import split\n",
    "from tensorflow.io import decode_jpeg, read_file\n",
    "from tensorflow import argmax\n",
    "import matplotlib.pyplot as plt\n",
    "from tensorflow.keras import Sequential, layers"
   ]
  },
  {
   "cell_type": "code",
   "execution_count": 4,
   "id": "f3723fef",
   "metadata": {},
   "outputs": [],
   "source": [
    "from tensorflow.data.experimental import cardinality"
   ]
  },
  {
   "cell_type": "markdown",
   "id": "11431f06",
   "metadata": {},
   "source": [
    "# Get Data"
   ]
  },
  {
   "cell_type": "code",
   "execution_count": 5,
   "id": "45833058",
   "metadata": {},
   "outputs": [],
   "source": [
    "df_train,df_val,df_test = preproc.get_data()"
   ]
  },
  {
   "cell_type": "code",
   "execution_count": 6,
   "id": "837fb93e",
   "metadata": {},
   "outputs": [
    {
     "data": {
      "text/plain": [
       "(36536, 15)"
      ]
     },
     "execution_count": 6,
     "metadata": {},
     "output_type": "execute_result"
    }
   ],
   "source": [
    "df_train.shape"
   ]
  },
  {
   "cell_type": "code",
   "execution_count": 7,
   "id": "9412c7f8",
   "metadata": {},
   "outputs": [],
   "source": [
    "df_train = preproc.feature_engineering(df_train)\n",
    "df_val = preproc.feature_engineering(df_val)\n",
    "df_test = preproc.feature_engineering(df_test)"
   ]
  },
  {
   "cell_type": "markdown",
   "id": "0d1742cd",
   "metadata": {},
   "source": [
    "## Generator implementation"
   ]
  },
  {
   "cell_type": "code",
   "execution_count": 8,
   "id": "63b29253",
   "metadata": {},
   "outputs": [],
   "source": [
    "PATH_TRAIN = '/home/zac/code/Em3line/Butterfly_identification/raw_data/IGM_labels/Train/'\n",
    "PATH_VAL = '/home/zac/code/Em3line/Butterfly_identification/raw_data/IGM_labels/Val/'\n",
    "PATH_TEST = '/home/zac/code/Em3line/Butterfly_identification/raw_data/IGM_labels/Test/'"
   ]
  },
  {
   "cell_type": "code",
   "execution_count": 9,
   "id": "989bdcb0",
   "metadata": {},
   "outputs": [],
   "source": [
    "df_train = preproc.get_data_minphoto(df_train)\n",
    "df_train = preproc.resampling(df_train)"
   ]
  },
  {
   "cell_type": "code",
   "execution_count": 10,
   "id": "f748772a",
   "metadata": {},
   "outputs": [],
   "source": [
    "df_val = preproc.filter_val_test(df_train, df_val)\n",
    "df_test = preproc.filter_val_test(df_train, df_test)"
   ]
  },
  {
   "cell_type": "code",
   "execution_count": 11,
   "id": "a570972b",
   "metadata": {},
   "outputs": [],
   "source": [
    "df_train['full_path'] = df_train['species']+'/'+df_train['image_name']\n",
    "df_val['full_path'] = df_val['species']+'/'+df_val['image_name']\n",
    "df_test['full_path'] = df_test['species']+'/'+df_test['image_name']"
   ]
  },
  {
   "cell_type": "code",
   "execution_count": 12,
   "id": "78dfec47",
   "metadata": {},
   "outputs": [],
   "source": [
    "black_list = list(PATH_TRAIN + df_train['full_path'])\n",
    "black_list_val = list(PATH_VAL + df_val['full_path'])\n",
    "black_list_test = list(PATH_TEST + df_test['full_path'])"
   ]
  },
  {
   "cell_type": "code",
   "execution_count": 13,
   "id": "d64e3f55",
   "metadata": {},
   "outputs": [],
   "source": [
    "train_names = df_train['species'].drop_duplicates()"
   ]
  },
  {
   "cell_type": "code",
   "execution_count": 14,
   "id": "2ae9fef3",
   "metadata": {},
   "outputs": [],
   "source": [
    "del df_train\n",
    "del df_val\n",
    "del df_test"
   ]
  },
  {
   "cell_type": "code",
   "execution_count": 15,
   "id": "899f69d4",
   "metadata": {},
   "outputs": [],
   "source": [
    "filtered_train = [os.path.join(PATH_TRAIN, species) for species in black_list]\n",
    "filtered_val = [os.path.join(PATH_VAL, species) for species in black_list_val]\n",
    "filtered_test = [os.path.join(PATH_TEST, species) for species in black_list_test]"
   ]
  },
  {
   "cell_type": "code",
   "execution_count": 16,
   "id": "fad79cbe",
   "metadata": {},
   "outputs": [
    {
     "name": "stderr",
     "output_type": "stream",
     "text": [
      "2021-08-30 12:28:36.384467: I tensorflow/stream_executor/cuda/cuda_gpu_executor.cc:937] successful NUMA node read from SysFS had negative value (-1), but there must be at least one NUMA node, so returning NUMA node zero\n",
      "2021-08-30 12:28:36.631420: I tensorflow/stream_executor/cuda/cuda_gpu_executor.cc:937] successful NUMA node read from SysFS had negative value (-1), but there must be at least one NUMA node, so returning NUMA node zero\n",
      "2021-08-30 12:28:36.632641: I tensorflow/stream_executor/cuda/cuda_gpu_executor.cc:937] successful NUMA node read from SysFS had negative value (-1), but there must be at least one NUMA node, so returning NUMA node zero\n",
      "2021-08-30 12:28:36.652756: I tensorflow/core/platform/cpu_feature_guard.cc:142] This TensorFlow binary is optimized with oneAPI Deep Neural Network Library (oneDNN) to use the following CPU instructions in performance-critical operations:  AVX2 FMA\n",
      "To enable them in other operations, rebuild TensorFlow with the appropriate compiler flags.\n",
      "2021-08-30 12:28:36.653942: I tensorflow/stream_executor/cuda/cuda_gpu_executor.cc:937] successful NUMA node read from SysFS had negative value (-1), but there must be at least one NUMA node, so returning NUMA node zero\n",
      "2021-08-30 12:28:36.655705: I tensorflow/stream_executor/cuda/cuda_gpu_executor.cc:937] successful NUMA node read from SysFS had negative value (-1), but there must be at least one NUMA node, so returning NUMA node zero\n",
      "2021-08-30 12:28:36.657143: I tensorflow/stream_executor/cuda/cuda_gpu_executor.cc:937] successful NUMA node read from SysFS had negative value (-1), but there must be at least one NUMA node, so returning NUMA node zero\n",
      "2021-08-30 12:28:37.041213: I tensorflow/stream_executor/cuda/cuda_gpu_executor.cc:937] successful NUMA node read from SysFS had negative value (-1), but there must be at least one NUMA node, so returning NUMA node zero\n",
      "2021-08-30 12:28:37.041520: I tensorflow/stream_executor/cuda/cuda_gpu_executor.cc:937] successful NUMA node read from SysFS had negative value (-1), but there must be at least one NUMA node, so returning NUMA node zero\n",
      "2021-08-30 12:28:37.041777: I tensorflow/stream_executor/cuda/cuda_gpu_executor.cc:937] successful NUMA node read from SysFS had negative value (-1), but there must be at least one NUMA node, so returning NUMA node zero\n",
      "2021-08-30 12:28:37.042012: I tensorflow/core/common_runtime/gpu/gpu_device.cc:1510] Created device /job:localhost/replica:0/task:0/device:GPU:0 with 2947 MB memory:  -> device: 0, name: NVIDIA GeForce GTX 1050 Ti, pci bus id: 0000:01:00.0, compute capability: 6.1\n"
     ]
    }
   ],
   "source": [
    "train_ds = Dataset.from_tensor_slices(filtered_train)\n",
    "val_ds = Dataset.from_tensor_slices(filtered_val)\n",
    "test_ds = Dataset.from_tensor_slices(filtered_test)"
   ]
  },
  {
   "cell_type": "code",
   "execution_count": 17,
   "id": "8e96cc1f",
   "metadata": {},
   "outputs": [],
   "source": [
    "def get_label(file_path,class_names=train_names):\n",
    "  # convert the path to a list of path components\n",
    "  parts = split(file_path, os.path.sep)\n",
    "  # The second to last is the class-directory\n",
    "  one_hot = parts[-2] == class_names\n",
    "  # Integer encode the label\n",
    "  return argmax(one_hot)"
   ]
  },
  {
   "cell_type": "code",
   "execution_count": 18,
   "id": "0de3e5e6",
   "metadata": {},
   "outputs": [],
   "source": [
    "def decode_img(img):\n",
    "  # convert the compressed string to a 3D uint8 tensor\n",
    "  img = decode_jpeg(img, channels=3)\n",
    "  # resize the image to the desired size\n",
    "  return img\n"
   ]
  },
  {
   "cell_type": "code",
   "execution_count": 19,
   "id": "09d41c55",
   "metadata": {},
   "outputs": [],
   "source": [
    "def process_path(file_path, class_names=train_names):\n",
    "    label = get_label(file_path, class_names)\n",
    "    # load the raw data from the file as a string\n",
    "    img = read_file(file_path)\n",
    "    img = decode_img(img)\n",
    "    return img, label"
   ]
  },
  {
   "cell_type": "code",
   "execution_count": 20,
   "id": "7a79473c",
   "metadata": {},
   "outputs": [],
   "source": [
    "AUTOTUNE = AUTOTUNE"
   ]
  },
  {
   "cell_type": "code",
   "execution_count": 21,
   "id": "d087c6e6",
   "metadata": {},
   "outputs": [],
   "source": [
    "train_ds = train_ds.map(process_path, num_parallel_calls=AUTOTUNE)\n",
    "val_ds = val_ds.map(process_path, num_parallel_calls=AUTOTUNE)\n",
    "test_ds = test_ds.map(process_path, num_parallel_calls=AUTOTUNE)"
   ]
  },
  {
   "cell_type": "code",
   "execution_count": 22,
   "id": "01dd24f5",
   "metadata": {},
   "outputs": [],
   "source": [
    "def configure_for_performance(ds):\n",
    "    ds = ds.cache()\n",
    "    ds = ds.shuffle(buffer_size=1000)\n",
    "    ds = ds.batch(batch_size=32)\n",
    "    ds = ds.prefetch(buffer_size=AUTOTUNE)\n",
    "    return ds\n",
    "\n",
    "train_ds = configure_for_performance(train_ds)\n",
    "val_ds = configure_for_performance(val_ds)"
   ]
  },
  {
   "cell_type": "markdown",
   "id": "fd626289",
   "metadata": {},
   "source": [
    "# Data Augmentation"
   ]
  },
  {
   "cell_type": "code",
   "execution_count": 23,
   "id": "c2eb7a18",
   "metadata": {},
   "outputs": [],
   "source": [
    "data_augmentation = Sequential([\n",
    "  layers.experimental.preprocessing.RandomFlip(\"horizontal_and_vertical\"),\n",
    "  layers.experimental.preprocessing.RandomRotation(0.2),\n",
    "])"
   ]
  },
  {
   "cell_type": "code",
   "execution_count": 24,
   "id": "11b6be06",
   "metadata": {},
   "outputs": [],
   "source": [
    "IMG_SIZE = 128\n",
    "\n",
    "resize_and_rescale = Sequential([\n",
    "  layers.experimental.preprocessing.Resizing(IMG_SIZE, IMG_SIZE),\n",
    "  layers.experimental.preprocessing.Rescaling(1./255)\n",
    "])\n"
   ]
  },
  {
   "cell_type": "markdown",
   "id": "ea75ff12",
   "metadata": {},
   "source": [
    "#augmentation = ImageDataGenerator(rotation_range=25, width_shift_range=0.2,\n",
    "                  height_shift_range=0.2,  \n",
    "                  zoom_range=0.1, horizontal_flip=True)"
   ]
  },
  {
   "cell_type": "code",
   "execution_count": 25,
   "id": "ad816a1c",
   "metadata": {},
   "outputs": [],
   "source": [
    "batch_size = 32\n",
    "def prepare(ds, shuffle=False, augment=False):\n",
    "    # Resize and rescale all datasets\n",
    "    ds = ds.map(lambda x, y: (resize_and_rescale(x), y), \n",
    "              num_parallel_calls=AUTOTUNE)\n",
    "\n",
    "    if shuffle:\n",
    "        ds = ds.shuffle(1000)\n",
    "\n",
    "    # Use data augmentation only on the training set\n",
    "    if augment:\n",
    "        ds = ds.map(lambda x, y: (data_augmentation(x, training=True), y), \n",
    "                num_parallel_calls=AUTOTUNE)\n",
    "\n",
    "    # Use buffered prefecting on all datasets\n",
    "    return ds.prefetch(buffer_size=AUTOTUNE)\n"
   ]
  },
  {
   "cell_type": "code",
   "execution_count": 26,
   "id": "8cc6fb68",
   "metadata": {},
   "outputs": [],
   "source": [
    "#train_ds = prepare(train_ds, shuffle=False, augment=True)"
   ]
  },
  {
   "cell_type": "markdown",
   "id": "81387b34",
   "metadata": {},
   "source": [
    "image_batch, label_batch = next(iter(train_ds))\n",
    "print(len(label_batch))\n",
    "plt.figure(figsize=(10, 10))\n",
    "for i in range(9):\n",
    "    ax = plt.subplot(3, 3, i + 1)\n",
    "    print(image_batch.shape)\n",
    "    plt.imshow(image_batch[i].numpy().astype(\"uint8\"))\n",
    "    label = label_batch[i]\n",
    "    plt.title(train_names[label])\n",
    "    plt.axis(\"off\")"
   ]
  },
  {
   "cell_type": "code",
   "execution_count": 27,
   "id": "930016a6",
   "metadata": {},
   "outputs": [],
   "source": [
    "#train_ds = train_ds.map(augmentation.flow, num_parallel_calls=AUTOTUNE)"
   ]
  },
  {
   "cell_type": "markdown",
   "id": "15ad7144",
   "metadata": {},
   "source": [
    "# Model"
   ]
  },
  {
   "cell_type": "code",
   "execution_count": 28,
   "id": "d261229e",
   "metadata": {},
   "outputs": [],
   "source": [
    "from tensorflow.keras.applications.vgg16 import VGG16\n",
    "from tensorflow.keras import optimizers, layers, models\n",
    "from tensorflow.keras.callbacks import EarlyStopping"
   ]
  },
  {
   "cell_type": "code",
   "execution_count": 29,
   "id": "197dedfe",
   "metadata": {},
   "outputs": [],
   "source": [
    "def model_VGG16(train_ds, val_ds, test_ds, image_size=(128, 128, 3),  patience=2, learning_rate=0.001, nb_epochs=15, nb_couches_dense_layer=130):\n",
    "    \n",
    "    model = VGG16(weights=\"imagenet\", include_top=False, input_shape = image_size)\n",
    "\n",
    "\n",
    "\n",
    "    model.trainable = False\n",
    "    \n",
    "    #add last layers\n",
    "    \n",
    "    flatten_layer = layers.Flatten()\n",
    "    dense_layer = layers.Dense(nb_couches_dense_layer, activation='relu')\n",
    "    dropout_layer1 = layers.Dropout(.2, input_shape=(2,))\n",
    "    dense_layer2 = layers.Dense(1000, activation='relu')\n",
    "    dropout_layer2 = layers.Dropout(.2, input_shape=(2,))\n",
    "    prediction_layer = layers.Dense(1, activation='softmax')\n",
    "    model = models.Sequential([\n",
    "        data_augmentation,\n",
    "        resize_and_rescale,\n",
    "        model,\n",
    "        flatten_layer,\n",
    "        dense_layer,\n",
    "        prediction_layer\n",
    "    ])\n",
    "    \n",
    "    #build model\n",
    "    opt = optimizers.Adam(learning_rate=learning_rate)\n",
    "    model.compile(loss='categorical_crossentropy',\n",
    "                  optimizer=opt,\n",
    "                  metrics=['accuracy'])\n",
    "\n",
    "    \n",
    "    #set earlystopping\n",
    "    es = EarlyStopping(monitor='val_loss', patience=patience, verbose=1, restore_best_weights=True)\n",
    "    \n",
    "    #launch model\n",
    "    history = model.fit(train_ds, \n",
    "                    validation_data=(val_ds), \n",
    "                    epochs=nb_epochs,  \n",
    "                    callbacks=[es])\n",
    "    \n",
    "    model.summary()\n",
    "    \n",
    "    #evaluate model\n",
    "    res_vgg = model.evaluate(test_ds)\n",
    "    \n",
    "    test_accuracy_vgg = res_vgg[-1]\n",
    "    \n",
    "    return (f\"test_accuracy_vgg = {round(test_accuracy_vgg,2)*100} %\"), history"
   ]
  },
  {
   "cell_type": "code",
   "execution_count": 30,
   "id": "b7f00f3a",
   "metadata": {},
   "outputs": [],
   "source": [
    "from Butterfly_identification.trainer import plot_history"
   ]
  },
  {
   "cell_type": "code",
   "execution_count": null,
   "id": "37c2c06a",
   "metadata": {},
   "outputs": [
    {
     "name": "stdout",
     "output_type": "stream",
     "text": [
      "Epoch 1/2\n"
     ]
    },
    {
     "name": "stderr",
     "output_type": "stream",
     "text": [
      "2021-08-30 12:28:40.183677: I tensorflow/compiler/mlir/mlir_graph_optimization_pass.cc:185] None of the MLIR Optimization Passes are enabled (registered 2)\n",
      "2021-08-30 12:28:50.340134: I tensorflow/core/kernels/data/shuffle_dataset_op.cc:175] Filling up shuffle buffer (this may take a while): 786 of 1000\n",
      "2021-08-30 12:28:52.937875: I tensorflow/core/kernels/data/shuffle_dataset_op.cc:228] Shuffle buffer filled.\n",
      "2021-08-30 12:28:54.023621: I tensorflow/stream_executor/cuda/cuda_dnn.cc:369] Loaded cuDNN version 8202\n",
      "2021-08-30 12:28:55.729935: W tensorflow/core/common_runtime/bfc_allocator.cc:272] Allocator (GPU_0_bfc) ran out of memory trying to allocate 3.04GiB with freed_by_count=0. The caller indicates that this is not a failure, but may mean that there could be performance gains if more memory were available.\n"
     ]
    },
    {
     "name": "stdout",
     "output_type": "stream",
     "text": [
      "193/193 [==============================] - ETA: 0s - loss: 0.0000e+00 - accuracy: 0.0044"
     ]
    }
   ],
   "source": [
    "model = model_VGG16(train_ds, val_ds, test_ds, nb_epochs=2, nb_couches_dense_layer=130)"
   ]
  },
  {
   "cell_type": "code",
   "execution_count": null,
   "id": "ebbf79b8",
   "metadata": {},
   "outputs": [],
   "source": []
  }
 ],
 "metadata": {
  "kernelspec": {
   "display_name": "Python 3",
   "language": "python",
   "name": "python3"
  },
  "language_info": {
   "codemirror_mode": {
    "name": "ipython",
    "version": 3
   },
   "file_extension": ".py",
   "mimetype": "text/x-python",
   "name": "python",
   "nbconvert_exporter": "python",
   "pygments_lexer": "ipython3",
   "version": "3.8.6"
  },
  "toc": {
   "base_numbering": 1,
   "nav_menu": {},
   "number_sections": true,
   "sideBar": true,
   "skip_h1_title": false,
   "title_cell": "Table of Contents",
   "title_sidebar": "Contents",
   "toc_cell": false,
   "toc_position": {},
   "toc_section_display": true,
   "toc_window_display": false
  }
 },
 "nbformat": 4,
 "nbformat_minor": 5
}

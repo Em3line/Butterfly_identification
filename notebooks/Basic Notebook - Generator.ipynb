{
 "cells": [
  {
   "cell_type": "code",
   "execution_count": 1,
   "id": "1364514a",
   "metadata": {},
   "outputs": [],
   "source": [
    "%load_ext autoreload\n",
    "%autoreload 2"
   ]
  },
  {
   "cell_type": "code",
   "execution_count": 2,
   "id": "d0f7b6d2",
   "metadata": {},
   "outputs": [],
   "source": [
    "import pandas as pd\n",
    "import numpy as np\n",
    "from PIL import Image\n",
    "import Butterfly_identification.preprocessbutterfly as preproc\n",
    "from tensorflow.keras.applications import ResNet50\n",
    "from tensorflow.keras.metrics import CategoricalAccuracy\n",
    "\n",
    "from tensorflow.keras.applications.vgg16 import preprocess_input\n",
    "# from tensorflow.keras.preprocessing.image import ImageDataGenerator"
   ]
  },
  {
   "cell_type": "code",
   "execution_count": 3,
   "id": "973c5a05",
   "metadata": {},
   "outputs": [],
   "source": [
    "from os.path import join, sep\n",
    "from tensorflow.data import Dataset, AUTOTUNE\n",
    "from tensorflow.strings import split\n",
    "from tensorflow.io import decode_jpeg, read_file\n",
    "from tensorflow import argmax\n",
    "import matplotlib.pyplot as plt\n",
    "from tensorflow.keras import Sequential, layers\n",
    "import gc\n",
    "from tensorflow.compat.v1 import ConfigProto , Session, InteractiveSession\n",
    "from tensorflow.compat.v1.keras.backend import set_session"
   ]
  },
  {
   "cell_type": "code",
   "execution_count": 4,
   "id": "f3723fef",
   "metadata": {},
   "outputs": [],
   "source": [
    "from tensorflow.data.experimental import cardinality\n",
    "from IPython.display import Audio\n",
    "from IPython.display import Audio\n",
    "sound_file = 'treasure.mp3' #un son dans votre ordi ou une url\n"
   ]
  },
  {
   "cell_type": "code",
   "execution_count": 5,
   "id": "c0fb1922",
   "metadata": {},
   "outputs": [
    {
     "name": "stderr",
     "output_type": "stream",
     "text": [
      "2021-08-31 10:42:29.281302: I tensorflow/core/platform/cpu_feature_guard.cc:142] This TensorFlow binary is optimized with oneAPI Deep Neural Network Library (oneDNN) to use the following CPU instructions in performance-critical operations:  AVX2 FMA\n",
      "To enable them in other operations, rebuild TensorFlow with the appropriate compiler flags.\n",
      "2021-08-31 10:42:29.867983: I tensorflow/stream_executor/cuda/cuda_gpu_executor.cc:937] successful NUMA node read from SysFS had negative value (-1), but there must be at least one NUMA node, so returning NUMA node zero\n",
      "2021-08-31 10:42:30.869959: I tensorflow/stream_executor/cuda/cuda_gpu_executor.cc:937] successful NUMA node read from SysFS had negative value (-1), but there must be at least one NUMA node, so returning NUMA node zero\n",
      "2021-08-31 10:42:30.871439: I tensorflow/stream_executor/cuda/cuda_gpu_executor.cc:937] successful NUMA node read from SysFS had negative value (-1), but there must be at least one NUMA node, so returning NUMA node zero\n",
      "2021-08-31 10:42:37.735578: I tensorflow/stream_executor/cuda/cuda_gpu_executor.cc:937] successful NUMA node read from SysFS had negative value (-1), but there must be at least one NUMA node, so returning NUMA node zero\n",
      "2021-08-31 10:42:37.736739: I tensorflow/stream_executor/cuda/cuda_gpu_executor.cc:937] successful NUMA node read from SysFS had negative value (-1), but there must be at least one NUMA node, so returning NUMA node zero\n",
      "2021-08-31 10:42:37.737816: I tensorflow/stream_executor/cuda/cuda_gpu_executor.cc:937] successful NUMA node read from SysFS had negative value (-1), but there must be at least one NUMA node, so returning NUMA node zero\n",
      "2021-08-31 10:42:37.756002: I tensorflow/core/common_runtime/gpu/gpu_device.cc:1510] Created device /job:localhost/replica:0/task:0/device:GPU:0 with 2021 MB memory:  -> device: 0, name: NVIDIA GeForce GTX 1050 Ti, pci bus id: 0000:01:00.0, compute capability: 6.1\n",
      "2021-08-31 10:42:37.758925: I tensorflow/stream_executor/cuda/cuda_gpu_executor.cc:937] successful NUMA node read from SysFS had negative value (-1), but there must be at least one NUMA node, so returning NUMA node zero\n",
      "2021-08-31 10:42:37.760146: I tensorflow/stream_executor/cuda/cuda_gpu_executor.cc:937] successful NUMA node read from SysFS had negative value (-1), but there must be at least one NUMA node, so returning NUMA node zero\n",
      "2021-08-31 10:42:37.761206: I tensorflow/stream_executor/cuda/cuda_gpu_executor.cc:937] successful NUMA node read from SysFS had negative value (-1), but there must be at least one NUMA node, so returning NUMA node zero\n",
      "2021-08-31 10:42:37.762366: I tensorflow/stream_executor/cuda/cuda_gpu_executor.cc:937] successful NUMA node read from SysFS had negative value (-1), but there must be at least one NUMA node, so returning NUMA node zero\n",
      "2021-08-31 10:42:37.763456: I tensorflow/stream_executor/cuda/cuda_gpu_executor.cc:937] successful NUMA node read from SysFS had negative value (-1), but there must be at least one NUMA node, so returning NUMA node zero\n",
      "2021-08-31 10:42:37.764370: I tensorflow/core/common_runtime/gpu/gpu_device.cc:1510] Created device /job:localhost/replica:0/task:0/device:GPU:0 with 2021 MB memory:  -> device: 0, name: NVIDIA GeForce GTX 1050 Ti, pci bus id: 0000:01:00.0, compute capability: 6.1\n"
     ]
    }
   ],
   "source": [
    "config = ConfigProto()\n",
    "config.gpu_options.per_process_gpu_memory_fraction = 0.5\n",
    "set_session(Session(config=config));\n",
    "config.gpu_options.allow_growth = True\n",
    "session = InteractiveSession(config=config)"
   ]
  },
  {
   "cell_type": "markdown",
   "id": "11431f06",
   "metadata": {},
   "source": [
    "# Get Data"
   ]
  },
  {
   "cell_type": "code",
   "execution_count": 47,
   "id": "45833058",
   "metadata": {},
   "outputs": [],
   "source": [
    "df_train,df_val,df_test = preproc.get_data()"
   ]
  },
  {
   "cell_type": "code",
   "execution_count": 49,
   "id": "837fb93e",
   "metadata": {},
   "outputs": [
    {
     "data": {
      "text/plain": [
       "(36536, 15)"
      ]
     },
     "execution_count": 49,
     "metadata": {},
     "output_type": "execute_result"
    }
   ],
   "source": [
    "df_train.shape"
   ]
  },
  {
   "cell_type": "code",
   "execution_count": 50,
   "id": "9412c7f8",
   "metadata": {},
   "outputs": [],
   "source": [
    "df_train, df_val, df_test = preproc.feature_engineering(df_train, df_val, df_test)"
   ]
  },
  {
   "cell_type": "markdown",
   "id": "0d1742cd",
   "metadata": {},
   "source": [
    "## Generator implementation"
   ]
  },
  {
   "cell_type": "code",
   "execution_count": 51,
   "id": "63b29253",
   "metadata": {},
   "outputs": [],
   "source": [
    "PATH_TRAIN = '/home/zac/code/Em3line/Butterfly_identification/raw_data/IGM_labels/Train/'\n",
    "PATH_VAL = '/home/zac/code/Em3line/Butterfly_identification/raw_data/IGM_labels/Val/'\n",
    "PATH_TEST = '/home/zac/code/Em3line/Butterfly_identification/raw_data/IGM_labels/Test/'"
   ]
  },
  {
   "cell_type": "code",
   "execution_count": 52,
   "id": "989bdcb0",
   "metadata": {},
   "outputs": [],
   "source": [
    "df_train = preproc.get_data_minphoto(df_train)\n",
    "df_train = preproc.resampling(df_train)"
   ]
  },
  {
   "cell_type": "code",
   "execution_count": 88,
   "id": "bfb156ab",
   "metadata": {},
   "outputs": [
    {
     "data": {
      "text/plain": [
       "author                                                       Stichel, 1912\n",
       "barcode                                                    ETHZ-ENT0006752\n",
       "country                                                        Switzerland\n",
       "dec_lat                                                          46.793029\n",
       "dec_long                                                          9.821343\n",
       "family                                                        Papilionidae\n",
       "genus                                                           Parnassius\n",
       "image_name                                ETHZ_ENT01_2017_03_16_003602.JPG\n",
       "image_path               Parnassius_apollo/ETHZ_ENT01_2017_03_16_003602...\n",
       "infraspecific_epithet                                                 None\n",
       "primary_division                                                   Grisons\n",
       "specific_epithet                                                    apollo\n",
       "subfamily                                                     Parnassiinae\n",
       "subspecific_epithet                                          bartholomaeus\n",
       "token                                 604e9278-7c76-47f2-9a14-5eedc7c703a1\n",
       "species                                                  Parnassius_apollo\n",
       "full_path                Parnassius_apollo/ETHZ_ENT01_2017_03_16_003602...\n",
       "Name: 604e9278-7c76-47f2-9a14-5eedc7c703a1, dtype: object"
      ]
     },
     "execution_count": 88,
     "metadata": {},
     "output_type": "execute_result"
    }
   ],
   "source": [
    "df_train.iloc[0]"
   ]
  },
  {
   "cell_type": "code",
   "execution_count": 11,
   "id": "f748772a",
   "metadata": {},
   "outputs": [],
   "source": [
    "df_val = preproc.filter_val_test(df_train, df_val)\n",
    "df_test = preproc.filter_val_test(df_train, df_test)"
   ]
  },
  {
   "cell_type": "code",
   "execution_count": 56,
   "id": "a570972b",
   "metadata": {},
   "outputs": [],
   "source": [
    "df_train['full_path'] = df_train['species']+'/'+df_train['image_name']\n",
    "df_val['full_path'] = df_val['species']+'/'+df_val['image_name']\n",
    "df_test['full_path'] = df_test['species']+'/'+df_test['image_name']"
   ]
  },
  {
   "cell_type": "code",
   "execution_count": 13,
   "id": "78dfec47",
   "metadata": {},
   "outputs": [],
   "source": [
    "black_list = list(PATH_TRAIN + df_train['full_path'])\n",
    "black_list_val = list(PATH_VAL + df_val['full_path'])\n",
    "black_list_test = list(PATH_TEST + df_test['full_path'])"
   ]
  },
  {
   "cell_type": "code",
   "execution_count": 14,
   "id": "d64e3f55",
   "metadata": {},
   "outputs": [],
   "source": [
    "train_names = df_train['species'].drop_duplicates()"
   ]
  },
  {
   "cell_type": "code",
   "execution_count": null,
   "id": "8a09bb35",
   "metadata": {},
   "outputs": [],
   "source": []
  },
  {
   "cell_type": "code",
   "execution_count": 95,
   "id": "17bbb733",
   "metadata": {},
   "outputs": [],
   "source": [
    "test_predict = df_train['full_path'][0]"
   ]
  },
  {
   "cell_type": "code",
   "execution_count": 94,
   "id": "59ee9edd",
   "metadata": {},
   "outputs": [
    {
     "data": {
      "text/plain": [
       "'Parnassius_apollo/ETHZ_ENT01_2017_03_15_003015.JPG'"
      ]
     },
     "execution_count": 94,
     "metadata": {},
     "output_type": "execute_result"
    }
   ],
   "source": [
    "test_predict"
   ]
  },
  {
   "cell_type": "code",
   "execution_count": 16,
   "id": "2ae9fef3",
   "metadata": {},
   "outputs": [],
   "source": [
    "del df_train\n",
    "del df_val\n",
    "del df_test"
   ]
  },
  {
   "cell_type": "code",
   "execution_count": 17,
   "id": "899f69d4",
   "metadata": {},
   "outputs": [],
   "source": [
    "filtered_train = [join(PATH_TRAIN, species) for species in black_list]\n",
    "filtered_val = [join(PATH_VAL, species) for species in black_list_val]\n",
    "filtered_test = [join(PATH_TEST, species) for species in black_list_test]"
   ]
  },
  {
   "cell_type": "code",
   "execution_count": 18,
   "id": "fad79cbe",
   "metadata": {},
   "outputs": [
    {
     "name": "stderr",
     "output_type": "stream",
     "text": [
      "2021-08-31 10:42:50.335950: I tensorflow/stream_executor/cuda/cuda_gpu_executor.cc:937] successful NUMA node read from SysFS had negative value (-1), but there must be at least one NUMA node, so returning NUMA node zero\n",
      "2021-08-31 10:42:50.336626: I tensorflow/stream_executor/cuda/cuda_gpu_executor.cc:937] successful NUMA node read from SysFS had negative value (-1), but there must be at least one NUMA node, so returning NUMA node zero\n",
      "2021-08-31 10:42:50.337133: I tensorflow/stream_executor/cuda/cuda_gpu_executor.cc:937] successful NUMA node read from SysFS had negative value (-1), but there must be at least one NUMA node, so returning NUMA node zero\n",
      "2021-08-31 10:42:50.337928: I tensorflow/stream_executor/cuda/cuda_gpu_executor.cc:937] successful NUMA node read from SysFS had negative value (-1), but there must be at least one NUMA node, so returning NUMA node zero\n",
      "2021-08-31 10:42:50.338447: I tensorflow/stream_executor/cuda/cuda_gpu_executor.cc:937] successful NUMA node read from SysFS had negative value (-1), but there must be at least one NUMA node, so returning NUMA node zero\n",
      "2021-08-31 10:42:50.338942: I tensorflow/stream_executor/cuda/cuda_gpu_executor.cc:937] successful NUMA node read from SysFS had negative value (-1), but there must be at least one NUMA node, so returning NUMA node zero\n",
      "2021-08-31 10:42:50.339537: I tensorflow/stream_executor/cuda/cuda_gpu_executor.cc:937] successful NUMA node read from SysFS had negative value (-1), but there must be at least one NUMA node, so returning NUMA node zero\n",
      "2021-08-31 10:42:50.340043: I tensorflow/stream_executor/cuda/cuda_gpu_executor.cc:937] successful NUMA node read from SysFS had negative value (-1), but there must be at least one NUMA node, so returning NUMA node zero\n",
      "2021-08-31 10:42:50.340479: I tensorflow/core/common_runtime/gpu/gpu_device.cc:1510] Created device /job:localhost/replica:0/task:0/device:GPU:0 with 2021 MB memory:  -> device: 0, name: NVIDIA GeForce GTX 1050 Ti, pci bus id: 0000:01:00.0, compute capability: 6.1\n"
     ]
    }
   ],
   "source": [
    "train_ds = Dataset.from_tensor_slices(filtered_train)\n",
    "val_ds = Dataset.from_tensor_slices(filtered_val)\n",
    "test_ds = Dataset.from_tensor_slices(filtered_test)"
   ]
  },
  {
   "cell_type": "code",
   "execution_count": 19,
   "id": "21cd36dd",
   "metadata": {},
   "outputs": [],
   "source": [
    "del filtered_train\n",
    "del filtered_test\n",
    "del filtered_val"
   ]
  },
  {
   "cell_type": "code",
   "execution_count": 20,
   "id": "8e96cc1f",
   "metadata": {},
   "outputs": [],
   "source": [
    "def get_label(file_path,class_names=train_names):\n",
    "  # convert the path to a list of path components\n",
    "  parts = split(file_path, sep)\n",
    "  # The second to last is the class-directory\n",
    "  one_hot = parts[-2] == class_names\n",
    "  # Integer encode the label\n",
    "  return argmax(one_hot)"
   ]
  },
  {
   "cell_type": "code",
   "execution_count": 21,
   "id": "0de3e5e6",
   "metadata": {},
   "outputs": [],
   "source": [
    "def decode_img(img):\n",
    "    # convert the compressed string to a 3D uint8 tensor\n",
    "    img = decode_jpeg(img, channels=3)\n",
    "    img = preprocess_input(img)\n",
    "    # resize the image to the desired size\n",
    "    return img\n"
   ]
  },
  {
   "cell_type": "code",
   "execution_count": 22,
   "id": "09d41c55",
   "metadata": {},
   "outputs": [],
   "source": [
    "def process_path(file_path, class_names=train_names):\n",
    "    label = get_label(file_path, class_names)\n",
    "    # load the raw data from the file as a string\n",
    "    img = read_file(file_path)\n",
    "    img = decode_img(img)\n",
    "    return img, label"
   ]
  },
  {
   "cell_type": "code",
   "execution_count": 23,
   "id": "7a79473c",
   "metadata": {},
   "outputs": [],
   "source": [
    "AUTOTUNE = AUTOTUNE"
   ]
  },
  {
   "cell_type": "code",
   "execution_count": 24,
   "id": "d087c6e6",
   "metadata": {},
   "outputs": [],
   "source": [
    "train_ds = train_ds.map(process_path, num_parallel_calls=AUTOTUNE)\n",
    "val_ds = val_ds.map(process_path, num_parallel_calls=AUTOTUNE)\n",
    "test_ds = test_ds.map(process_path, num_parallel_calls=AUTOTUNE)"
   ]
  },
  {
   "cell_type": "code",
   "execution_count": 99,
   "id": "04d1d242",
   "metadata": {},
   "outputs": [
    {
     "data": {
      "text/plain": [
       "<tf.Tensor: shape=(32,), dtype=int64, numpy=\n",
       "array([22,  5, 24, 29, 30, 34, 20,  0, 23, 16, 27, 28,  0, 15, 21,  2, 22,\n",
       "        9, 26, 29, 16, 17, 23, 29, 32, 12, 35, 24,  0, 31, 35,  6])>"
      ]
     },
     "execution_count": 99,
     "metadata": {},
     "output_type": "execute_result"
    }
   ],
   "source": [
    "image, label = next(iter(train_ds))\n",
    "label"
   ]
  },
  {
   "cell_type": "code",
   "execution_count": 25,
   "id": "01dd24f5",
   "metadata": {},
   "outputs": [],
   "source": [
    "def configure_for_performance(ds):\n",
    "    #ds = ds.cache()\n",
    "    ds = ds.shuffle(buffer_size=1000)\n",
    "    ds = ds.batch(batch_size=32)\n",
    "    ds = ds.prefetch(buffer_size=AUTOTUNE)\n",
    "    return ds\n",
    "\n",
    "train_ds = configure_for_performance(train_ds)\n",
    "val_ds = configure_for_performance(val_ds)\n",
    "test_ds = configure_for_performance(test_ds)"
   ]
  },
  {
   "cell_type": "code",
   "execution_count": 26,
   "id": "884dccba",
   "metadata": {},
   "outputs": [
    {
     "data": {
      "text/plain": [
       "tensorflow.python.data.ops.dataset_ops.PrefetchDataset"
      ]
     },
     "execution_count": 26,
     "metadata": {},
     "output_type": "execute_result"
    }
   ],
   "source": [
    "type(train_ds)"
   ]
  },
  {
   "cell_type": "markdown",
   "id": "fd626289",
   "metadata": {},
   "source": [
    "# Data Augmentation"
   ]
  },
  {
   "cell_type": "code",
   "execution_count": 27,
   "id": "c2eb7a18",
   "metadata": {},
   "outputs": [],
   "source": [
    "data_augmentation = Sequential([\n",
    "  layers.experimental.preprocessing.RandomFlip(\"horizontal_and_vertical\"),\n",
    "  layers.experimental.preprocessing.RandomRotation(0.2),\n",
    "])"
   ]
  },
  {
   "cell_type": "code",
   "execution_count": 28,
   "id": "11b6be06",
   "metadata": {},
   "outputs": [],
   "source": [
    "IMG_SIZE = 128\n",
    "\n",
    "resize_and_rescale = Sequential([\n",
    "  layers.experimental.preprocessing.Resizing(IMG_SIZE, IMG_SIZE),\n",
    "  layers.experimental.preprocessing.Rescaling(1./255)\n",
    "])\n"
   ]
  },
  {
   "cell_type": "code",
   "execution_count": 29,
   "id": "d1cced25",
   "metadata": {},
   "outputs": [
    {
     "data": {
      "text/plain": [
       "<PrefetchDataset shapes: ((None, None, None, 3), (None,)), types: (tf.uint8, tf.int64)>"
      ]
     },
     "execution_count": 29,
     "metadata": {},
     "output_type": "execute_result"
    }
   ],
   "source": [
    "train_ds"
   ]
  },
  {
   "cell_type": "markdown",
   "id": "ea75ff12",
   "metadata": {},
   "source": [
    "#augmentation = ImageDataGenerator(rotation_range=25, width_shift_range=0.2,\n",
    "                  height_shift_range=0.2,  \n",
    "                  zoom_range=0.1, horizontal_flip=True)"
   ]
  },
  {
   "cell_type": "code",
   "execution_count": 30,
   "id": "ad816a1c",
   "metadata": {},
   "outputs": [],
   "source": [
    "batch_size = 32\n",
    "def prepare(ds, shuffle=False, augment=False):\n",
    "    # Resize and rescale all datasets\n",
    "    ds = ds.map(lambda x, y: (resize_and_rescale(x), y), \n",
    "              num_parallel_calls=AUTOTUNE)\n",
    "\n",
    "    if shuffle:\n",
    "        ds = ds.shuffle(1000)\n",
    "\n",
    "    # Use data augmentation only on the training set\n",
    "    if augment:\n",
    "        ds = ds.map(lambda x, y: (data_augmentation(x, training=True), y), \n",
    "                num_parallel_calls=AUTOTUNE)\n",
    "\n",
    "    # Use buffered prefecting on all datasets\n",
    "    return ds.prefetch(buffer_size=AUTOTUNE)\n"
   ]
  },
  {
   "cell_type": "code",
   "execution_count": 31,
   "id": "8cc6fb68",
   "metadata": {},
   "outputs": [],
   "source": [
    "#train_ds = prepare(train_ds, shuffle=False, augment=True)"
   ]
  },
  {
   "cell_type": "markdown",
   "id": "81387b34",
   "metadata": {},
   "source": [
    "image_batch, label_batch = next(iter(train_ds))\n",
    "print(len(label_batch))\n",
    "plt.figure(figsize=(10, 10))\n",
    "for i in range(9):\n",
    "    ax = plt.subplot(3, 3, i + 1)\n",
    "    print(image_batch.shape)\n",
    "    plt.imshow(image_batch[i].numpy().astype(\"uint8\"))\n",
    "    label = label_batch[i]\n",
    "    plt.title(train_names[label])\n",
    "    plt.axis(\"off\")"
   ]
  },
  {
   "cell_type": "code",
   "execution_count": 32,
   "id": "930016a6",
   "metadata": {},
   "outputs": [],
   "source": [
    "#train_ds = train_ds.map(augmentation.flow, num_parallel_calls=AUTOTUNE)"
   ]
  },
  {
   "cell_type": "code",
   "execution_count": null,
   "id": "db1530fb",
   "metadata": {},
   "outputs": [],
   "source": []
  },
  {
   "cell_type": "code",
   "execution_count": 33,
   "id": "99235fa3",
   "metadata": {},
   "outputs": [],
   "source": [
    "# y_train = list(map(lambda x: x[1].numpy(), train_ds))"
   ]
  },
  {
   "cell_type": "code",
   "execution_count": 34,
   "id": "b6cf7a9e",
   "metadata": {},
   "outputs": [],
   "source": [
    "# pd.DataFrame(y_train).max()"
   ]
  },
  {
   "cell_type": "code",
   "execution_count": 35,
   "id": "7a3860a8",
   "metadata": {},
   "outputs": [],
   "source": [
    "# y_train"
   ]
  },
  {
   "cell_type": "markdown",
   "id": "15ad7144",
   "metadata": {},
   "source": [
    "# Model"
   ]
  },
  {
   "cell_type": "code",
   "execution_count": 36,
   "id": "d261229e",
   "metadata": {},
   "outputs": [],
   "source": [
    "from tensorflow.keras.applications.vgg16 import VGG16\n",
    "from tensorflow.keras import optimizers, layers, models\n",
    "from tensorflow.keras.callbacks import EarlyStopping"
   ]
  },
  {
   "cell_type": "code",
   "execution_count": 37,
   "id": "197dedfe",
   "metadata": {},
   "outputs": [],
   "source": [
    "def model_VGG16(train_ds, val_ds, test_ds, image_size=(128, 128, 3),  patience=10, learning_rate=0.001, nb_epochs=15, nb_couches_dense_layer=130):\n",
    "    \n",
    "    model = VGG16(weights=\"imagenet\", include_top=False, input_shape = image_size)\n",
    "    \n",
    "    \n",
    "\n",
    "\n",
    "\n",
    "    model.trainable = False\n",
    "    \n",
    "    #add last layers\n",
    "    \n",
    "    flatten_layer = layers.Flatten()\n",
    "    dense_layer = layers.Dense(nb_couches_dense_layer, activation='relu')\n",
    "    '''dropout_layer1 = layers.Dropout(.2, input_shape=(2,))\n",
    "    dense_layer2 = layers.Dense(1000, activation='relu')\n",
    "    dropout_layer2 = layers.Dropout(.2, input_shape=(2,))'''\n",
    "    prediction_layer = layers.Dense(228, activation='softmax')\n",
    "    model_final = models.Sequential([\n",
    "        data_augmentation,\n",
    "        resize_and_rescale,\n",
    "        model,\n",
    "        flatten_layer,\n",
    "        dense_layer,\n",
    "        prediction_layer\n",
    "    ])\n",
    "    \n",
    "    #build model\n",
    "    opt = optimizers.Adam(learning_rate=learning_rate)\n",
    "    model_final.compile(loss='sparse_categorical_crossentropy',\n",
    "                  optimizer=opt,\n",
    "                  metrics=['accuracy'])\n",
    "    \n",
    "    \n",
    "\n",
    "    \n",
    "    #set earlystopping\n",
    "    es = EarlyStopping(monitor='val_loss', patience=patience, verbose=1, restore_best_weights=True)\n",
    "    \n",
    "    #launch model\n",
    "    history = model_final.fit(train_ds, \n",
    "                    validation_data=val_ds, \n",
    "                    epochs=nb_epochs,  \n",
    "                    callbacks=[es])\n",
    "    \n",
    "    model_final.summary()\n",
    "    \n",
    "    #evaluate model\n",
    "    res_vgg = model_final.evaluate(test_ds)\n",
    "    \n",
    "    test_accuracy_vgg = res_vgg[-1]\n",
    "    \n",
    "    \n",
    "    return (f\"test_accuracy_vgg = {round(test_accuracy_vgg,2)*100} %\"), model_final, history"
   ]
  },
  {
   "cell_type": "code",
   "execution_count": 38,
   "id": "b7f00f3a",
   "metadata": {},
   "outputs": [],
   "source": [
    "from Butterfly_identification.trainer import plot_history"
   ]
  },
  {
   "cell_type": "code",
   "execution_count": 39,
   "id": "37c2c06a",
   "metadata": {},
   "outputs": [
    {
     "name": "stdout",
     "output_type": "stream",
     "text": [
      "Epoch 1/50\n"
     ]
    },
    {
     "name": "stderr",
     "output_type": "stream",
     "text": [
      "2021-08-31 10:42:54.109094: I tensorflow/compiler/mlir/mlir_graph_optimization_pass.cc:185] None of the MLIR Optimization Passes are enabled (registered 2)\n",
      "2021-08-31 10:43:04.445865: I tensorflow/core/kernels/data/shuffle_dataset_op.cc:175] Filling up shuffle buffer (this may take a while): 779 of 1000\n",
      "2021-08-31 10:43:07.136671: I tensorflow/core/kernels/data/shuffle_dataset_op.cc:228] Shuffle buffer filled.\n",
      "2021-08-31 10:43:10.551704: I tensorflow/stream_executor/cuda/cuda_dnn.cc:369] Loaded cuDNN version 8202\n",
      "2021-08-31 10:43:15.680145: W tensorflow/core/common_runtime/bfc_allocator.cc:272] Allocator (GPU_0_bfc) ran out of memory trying to allocate 1.02GiB with freed_by_count=0. The caller indicates that this is not a failure, but may mean that there could be performance gains if more memory were available.\n",
      "2021-08-31 10:43:24.117597: W tensorflow/core/common_runtime/bfc_allocator.cc:272] Allocator (GPU_0_bfc) ran out of memory trying to allocate 1.14GiB with freed_by_count=0. The caller indicates that this is not a failure, but may mean that there could be performance gains if more memory were available.\n",
      "2021-08-31 10:43:24.117682: W tensorflow/core/common_runtime/bfc_allocator.cc:272] Allocator (GPU_0_bfc) ran out of memory trying to allocate 3.04GiB with freed_by_count=0. The caller indicates that this is not a failure, but may mean that there could be performance gains if more memory were available.\n",
      "2021-08-31 10:43:24.153215: W tensorflow/core/common_runtime/bfc_allocator.cc:272] Allocator (GPU_0_bfc) ran out of memory trying to allocate 592.56MiB with freed_by_count=0. The caller indicates that this is not a failure, but may mean that there could be performance gains if more memory were available.\n",
      "2021-08-31 10:43:24.471180: W tensorflow/core/common_runtime/bfc_allocator.cc:272] Allocator (GPU_0_bfc) ran out of memory trying to allocate 1.29GiB with freed_by_count=0. The caller indicates that this is not a failure, but may mean that there could be performance gains if more memory were available.\n",
      "2021-08-31 10:43:25.066142: W tensorflow/core/common_runtime/bfc_allocator.cc:272] Allocator (GPU_0_bfc) ran out of memory trying to allocate 2.55GiB with freed_by_count=0. The caller indicates that this is not a failure, but may mean that there could be performance gains if more memory were available.\n",
      "2021-08-31 10:43:25.400015: W tensorflow/core/common_runtime/bfc_allocator.cc:272] Allocator (GPU_0_bfc) ran out of memory trying to allocate 1.18GiB with freed_by_count=0. The caller indicates that this is not a failure, but may mean that there could be performance gains if more memory were available.\n",
      "2021-08-31 10:43:25.990153: W tensorflow/core/common_runtime/bfc_allocator.cc:272] Allocator (GPU_0_bfc) ran out of memory trying to allocate 2.34GiB with freed_by_count=0. The caller indicates that this is not a failure, but may mean that there could be performance gains if more memory were available.\n",
      "2021-08-31 10:43:26.331806: W tensorflow/core/common_runtime/bfc_allocator.cc:272] Allocator (GPU_0_bfc) ran out of memory trying to allocate 1.15GiB with freed_by_count=0. The caller indicates that this is not a failure, but may mean that there could be performance gains if more memory were available.\n",
      "2021-08-31 10:43:26.922276: W tensorflow/core/common_runtime/bfc_allocator.cc:272] Allocator (GPU_0_bfc) ran out of memory trying to allocate 2.28GiB with freed_by_count=0. The caller indicates that this is not a failure, but may mean that there could be performance gains if more memory were available.\n"
     ]
    },
    {
     "name": "stdout",
     "output_type": "stream",
     "text": [
      "193/193 [==============================] - 121s 454ms/step - loss: 5.4509 - accuracy: 0.0582 - val_loss: 6.5148 - val_accuracy: 0.0239\n"
     ]
    },
    {
     "name": "stderr",
     "output_type": "stream",
     "text": [
      "2021-08-31 10:44:54.508937: W tensorflow/core/framework/cpu_allocator_impl.cc:80] Allocation of 327680000 exceeds 10% of free system memory.\n",
      "2021-08-31 10:44:54.906090: W tensorflow/core/framework/cpu_allocator_impl.cc:80] Allocation of 327680000 exceeds 10% of free system memory.\n"
     ]
    },
    {
     "name": "stdout",
     "output_type": "stream",
     "text": [
      "Epoch 2/50\n"
     ]
    },
    {
     "name": "stderr",
     "output_type": "stream",
     "text": [
      "2021-08-31 10:45:05.377476: I tensorflow/core/kernels/data/shuffle_dataset_op.cc:175] Filling up shuffle buffer (this may take a while): 715 of 1000\n",
      "2021-08-31 10:45:08.832076: I tensorflow/core/kernels/data/shuffle_dataset_op.cc:228] Shuffle buffer filled.\n"
     ]
    },
    {
     "name": "stdout",
     "output_type": "stream",
     "text": [
      "193/193 [==============================] - 98s 437ms/step - loss: 3.6402 - accuracy: 0.1665 - val_loss: 5.5108 - val_accuracy: 0.0353\n"
     ]
    },
    {
     "name": "stderr",
     "output_type": "stream",
     "text": [
      "2021-08-31 10:46:33.426013: W tensorflow/core/framework/cpu_allocator_impl.cc:80] Allocation of 327680000 exceeds 10% of free system memory.\n"
     ]
    },
    {
     "name": "stdout",
     "output_type": "stream",
     "text": [
      "Epoch 3/50\n"
     ]
    },
    {
     "name": "stderr",
     "output_type": "stream",
     "text": [
      "2021-08-31 10:46:43.816724: I tensorflow/core/kernels/data/shuffle_dataset_op.cc:175] Filling up shuffle buffer (this may take a while): 782 of 1000\n",
      "2021-08-31 10:46:46.548819: I tensorflow/core/kernels/data/shuffle_dataset_op.cc:228] Shuffle buffer filled.\n"
     ]
    },
    {
     "name": "stdout",
     "output_type": "stream",
     "text": [
      "193/193 [==============================] - 74s 317ms/step - loss: 2.9543 - accuracy: 0.2571 - val_loss: 5.1671 - val_accuracy: 0.0540\n"
     ]
    },
    {
     "name": "stderr",
     "output_type": "stream",
     "text": [
      "2021-08-31 10:47:47.970818: W tensorflow/core/framework/cpu_allocator_impl.cc:80] Allocation of 327680000 exceeds 10% of free system memory.\n"
     ]
    },
    {
     "name": "stdout",
     "output_type": "stream",
     "text": [
      "Epoch 4/50\n"
     ]
    },
    {
     "name": "stderr",
     "output_type": "stream",
     "text": [
      "2021-08-31 10:47:58.368629: I tensorflow/core/kernels/data/shuffle_dataset_op.cc:175] Filling up shuffle buffer (this may take a while): 776 of 1000\n",
      "2021-08-31 10:48:01.036593: I tensorflow/core/kernels/data/shuffle_dataset_op.cc:228] Shuffle buffer filled.\n"
     ]
    },
    {
     "name": "stdout",
     "output_type": "stream",
     "text": [
      "193/193 [==============================] - 63s 261ms/step - loss: 2.5292 - accuracy: 0.3366 - val_loss: 4.7412 - val_accuracy: 0.0783\n"
     ]
    },
    {
     "name": "stderr",
     "output_type": "stream",
     "text": [
      "2021-08-31 10:48:51.754715: W tensorflow/core/framework/cpu_allocator_impl.cc:80] Allocation of 327680000 exceeds 10% of free system memory.\n"
     ]
    },
    {
     "name": "stdout",
     "output_type": "stream",
     "text": [
      "Epoch 5/50\n",
      "193/193 [==============================] - 51s 258ms/step - loss: 2.3203 - accuracy: 0.3678 - val_loss: 4.5330 - val_accuracy: 0.0861\n",
      "Epoch 6/50\n",
      "193/193 [==============================] - 51s 259ms/step - loss: 2.1087 - accuracy: 0.4155 - val_loss: 4.2671 - val_accuracy: 0.0970\n",
      "Epoch 7/50\n",
      "193/193 [==============================] - 52s 261ms/step - loss: 2.0130 - accuracy: 0.4353 - val_loss: 4.3250 - val_accuracy: 0.0947\n",
      "Epoch 8/50\n",
      "193/193 [==============================] - 56s 281ms/step - loss: 1.8863 - accuracy: 0.4656 - val_loss: 3.9828 - val_accuracy: 0.0995\n",
      "Epoch 9/50\n",
      "193/193 [==============================] - 68s 332ms/step - loss: 1.7836 - accuracy: 0.4875 - val_loss: 3.6418 - val_accuracy: 0.1116\n",
      "Epoch 10/50\n"
     ]
    },
    {
     "name": "stderr",
     "output_type": "stream",
     "text": [
      "2021-08-31 10:53:41.483336: I tensorflow/core/kernels/data/shuffle_dataset_op.cc:175] Filling up shuffle buffer (this may take a while): 732 of 1000\n",
      "2021-08-31 10:53:45.129393: I tensorflow/core/kernels/data/shuffle_dataset_op.cc:228] Shuffle buffer filled.\n"
     ]
    },
    {
     "name": "stdout",
     "output_type": "stream",
     "text": [
      "193/193 [==============================] - 101s 450ms/step - loss: 1.7200 - accuracy: 0.4998 - val_loss: 3.9297 - val_accuracy: 0.1202\n",
      "Epoch 11/50\n"
     ]
    },
    {
     "name": "stderr",
     "output_type": "stream",
     "text": [
      "2021-08-31 10:55:22.209207: I tensorflow/core/kernels/data/shuffle_dataset_op.cc:175] Filling up shuffle buffer (this may take a while): 765 of 1000\n",
      "2021-08-31 10:55:25.387504: I tensorflow/core/kernels/data/shuffle_dataset_op.cc:228] Shuffle buffer filled.\n"
     ]
    },
    {
     "name": "stdout",
     "output_type": "stream",
     "text": [
      "193/193 [==============================] - 76s 323ms/step - loss: 1.6439 - accuracy: 0.5140 - val_loss: 3.5018 - val_accuracy: 0.1262\n",
      "Epoch 12/50\n"
     ]
    },
    {
     "name": "stderr",
     "output_type": "stream",
     "text": [
      "2021-08-31 10:56:38.486363: I tensorflow/core/kernels/data/shuffle_dataset_op.cc:175] Filling up shuffle buffer (this may take a while): 560 of 1000\n",
      "2021-08-31 10:56:48.389396: I tensorflow/core/kernels/data/shuffle_dataset_op.cc:228] Shuffle buffer filled.\n"
     ]
    },
    {
     "name": "stdout",
     "output_type": "stream",
     "text": [
      "193/193 [==============================] - 110s 463ms/step - loss: 1.5761 - accuracy: 0.5323 - val_loss: 3.8751 - val_accuracy: 0.1171\n",
      "Epoch 13/50\n"
     ]
    },
    {
     "name": "stderr",
     "output_type": "stream",
     "text": [
      "2021-08-31 10:58:28.123916: I tensorflow/core/kernels/data/shuffle_dataset_op.cc:175] Filling up shuffle buffer (this may take a while): 794 of 1000\n",
      "2021-08-31 10:58:30.655637: I tensorflow/core/kernels/data/shuffle_dataset_op.cc:228] Shuffle buffer filled.\n"
     ]
    },
    {
     "name": "stdout",
     "output_type": "stream",
     "text": [
      "193/193 [==============================] - 104s 473ms/step - loss: 1.5491 - accuracy: 0.5333 - val_loss: 3.8884 - val_accuracy: 0.1230\n",
      "Epoch 14/50\n"
     ]
    },
    {
     "name": "stderr",
     "output_type": "stream",
     "text": [
      "2021-08-31 11:00:12.289232: I tensorflow/core/kernels/data/shuffle_dataset_op.cc:175] Filling up shuffle buffer (this may take a while): 782 of 1000\n",
      "2021-08-31 11:00:15.005122: I tensorflow/core/kernels/data/shuffle_dataset_op.cc:228] Shuffle buffer filled.\n"
     ]
    },
    {
     "name": "stdout",
     "output_type": "stream",
     "text": [
      "193/193 [==============================] - 89s 394ms/step - loss: 1.5225 - accuracy: 0.5351 - val_loss: 3.5729 - val_accuracy: 0.1357\n",
      "Epoch 15/50\n"
     ]
    },
    {
     "name": "stderr",
     "output_type": "stream",
     "text": [
      "2021-08-31 11:01:41.286563: I tensorflow/core/kernels/data/shuffle_dataset_op.cc:175] Filling up shuffle buffer (this may take a while): 797 of 1000\n",
      "2021-08-31 11:01:43.941934: I tensorflow/core/kernels/data/shuffle_dataset_op.cc:228] Shuffle buffer filled.\n"
     ]
    },
    {
     "name": "stdout",
     "output_type": "stream",
     "text": [
      "193/193 [==============================] - 79s 344ms/step - loss: 1.4777 - accuracy: 0.5556 - val_loss: 3.5785 - val_accuracy: 0.1546\n",
      "Epoch 16/50\n"
     ]
    },
    {
     "name": "stderr",
     "output_type": "stream",
     "text": [
      "2021-08-31 11:03:00.679666: I tensorflow/core/kernels/data/shuffle_dataset_op.cc:175] Filling up shuffle buffer (this may take a while): 447 of 1000\n",
      "2021-08-31 11:03:07.902612: I tensorflow/core/kernels/data/shuffle_dataset_op.cc:228] Shuffle buffer filled.\n"
     ]
    },
    {
     "name": "stdout",
     "output_type": "stream",
     "text": [
      "193/193 [==============================] - 112s 490ms/step - loss: 1.4634 - accuracy: 0.5614 - val_loss: 3.3850 - val_accuracy: 0.1499\n",
      "Epoch 17/50\n"
     ]
    },
    {
     "name": "stderr",
     "output_type": "stream",
     "text": [
      "2021-08-31 11:04:53.081109: I tensorflow/core/kernels/data/shuffle_dataset_op.cc:175] Filling up shuffle buffer (this may take a while): 769 of 1000\n",
      "2021-08-31 11:04:55.921805: I tensorflow/core/kernels/data/shuffle_dataset_op.cc:228] Shuffle buffer filled.\n"
     ]
    },
    {
     "name": "stdout",
     "output_type": "stream",
     "text": [
      "193/193 [==============================] - 94s 420ms/step - loss: 1.4558 - accuracy: 0.5596 - val_loss: 3.2597 - val_accuracy: 0.1555\n",
      "Epoch 18/50\n"
     ]
    },
    {
     "name": "stderr",
     "output_type": "stream",
     "text": [
      "2021-08-31 11:06:27.506337: I tensorflow/core/kernels/data/shuffle_dataset_op.cc:175] Filling up shuffle buffer (this may take a while): 684 of 1000\n",
      "2021-08-31 11:06:31.194432: I tensorflow/core/kernels/data/shuffle_dataset_op.cc:228] Shuffle buffer filled.\n"
     ]
    },
    {
     "name": "stdout",
     "output_type": "stream",
     "text": [
      "193/193 [==============================] - 105s 471ms/step - loss: 1.3760 - accuracy: 0.5802 - val_loss: 3.5028 - val_accuracy: 0.1542\n",
      "Epoch 19/50\n"
     ]
    },
    {
     "name": "stderr",
     "output_type": "stream",
     "text": [
      "2021-08-31 11:08:12.382719: I tensorflow/core/kernels/data/shuffle_dataset_op.cc:175] Filling up shuffle buffer (this may take a while): 747 of 1000\n",
      "2021-08-31 11:08:15.676509: I tensorflow/core/kernels/data/shuffle_dataset_op.cc:228] Shuffle buffer filled.\n"
     ]
    },
    {
     "name": "stdout",
     "output_type": "stream",
     "text": [
      "193/193 [==============================] - 107s 483ms/step - loss: 1.3733 - accuracy: 0.5827 - val_loss: 3.4293 - val_accuracy: 0.1653\n",
      "Epoch 20/50\n"
     ]
    },
    {
     "name": "stderr",
     "output_type": "stream",
     "text": [
      "2021-08-31 11:09:59.097526: I tensorflow/core/kernels/data/shuffle_dataset_op.cc:175] Filling up shuffle buffer (this may take a while): 790 of 1000\n",
      "2021-08-31 11:10:01.725106: I tensorflow/core/kernels/data/shuffle_dataset_op.cc:228] Shuffle buffer filled.\n"
     ]
    },
    {
     "name": "stdout",
     "output_type": "stream",
     "text": [
      "193/193 [==============================] - 103s 466ms/step - loss: 1.3017 - accuracy: 0.5939 - val_loss: 3.4797 - val_accuracy: 0.1694\n",
      "Epoch 21/50\n"
     ]
    },
    {
     "name": "stderr",
     "output_type": "stream",
     "text": [
      "2021-08-31 11:11:41.839534: I tensorflow/core/kernels/data/shuffle_dataset_op.cc:175] Filling up shuffle buffer (this may take a while): 684 of 1000\n",
      "2021-08-31 11:11:46.067832: I tensorflow/core/kernels/data/shuffle_dataset_op.cc:228] Shuffle buffer filled.\n"
     ]
    },
    {
     "name": "stdout",
     "output_type": "stream",
     "text": [
      "193/193 [==============================] - 113s 509ms/step - loss: 1.2780 - accuracy: 0.6139 - val_loss: 3.4271 - val_accuracy: 0.1656\n",
      "Epoch 22/50\n"
     ]
    },
    {
     "name": "stderr",
     "output_type": "stream",
     "text": [
      "2021-08-31 11:13:34.703617: I tensorflow/core/kernels/data/shuffle_dataset_op.cc:175] Filling up shuffle buffer (this may take a while): 717 of 1000\n",
      "2021-08-31 11:13:38.355232: I tensorflow/core/kernels/data/shuffle_dataset_op.cc:228] Shuffle buffer filled.\n"
     ]
    },
    {
     "name": "stdout",
     "output_type": "stream",
     "text": [
      "193/193 [==============================] - 118s 539ms/step - loss: 1.2820 - accuracy: 0.6085 - val_loss: 3.3969 - val_accuracy: 0.1767\n",
      "Epoch 23/50\n"
     ]
    },
    {
     "name": "stderr",
     "output_type": "stream",
     "text": [
      "2021-08-31 11:15:32.434781: I tensorflow/core/kernels/data/shuffle_dataset_op.cc:175] Filling up shuffle buffer (this may take a while): 797 of 1000\n",
      "2021-08-31 11:15:35.188777: I tensorflow/core/kernels/data/shuffle_dataset_op.cc:228] Shuffle buffer filled.\n"
     ]
    },
    {
     "name": "stdout",
     "output_type": "stream",
     "text": [
      "193/193 [==============================] - 105s 479ms/step - loss: 1.2379 - accuracy: 0.6131 - val_loss: 3.0902 - val_accuracy: 0.1974\n",
      "Epoch 24/50\n"
     ]
    },
    {
     "name": "stderr",
     "output_type": "stream",
     "text": [
      "2021-08-31 11:17:18.335624: I tensorflow/core/kernels/data/shuffle_dataset_op.cc:175] Filling up shuffle buffer (this may take a while): 775 of 1000\n",
      "2021-08-31 11:17:21.186363: I tensorflow/core/kernels/data/shuffle_dataset_op.cc:228] Shuffle buffer filled.\n"
     ]
    },
    {
     "name": "stdout",
     "output_type": "stream",
     "text": [
      "193/193 [==============================] - 100s 452ms/step - loss: 1.2384 - accuracy: 0.6168 - val_loss: 3.1706 - val_accuracy: 0.1913\n",
      "Epoch 25/50\n"
     ]
    },
    {
     "name": "stderr",
     "output_type": "stream",
     "text": [
      "2021-08-31 11:18:58.616603: I tensorflow/core/kernels/data/shuffle_dataset_op.cc:175] Filling up shuffle buffer (this may take a while): 768 of 1000\n",
      "2021-08-31 11:19:01.712342: I tensorflow/core/kernels/data/shuffle_dataset_op.cc:228] Shuffle buffer filled.\n"
     ]
    },
    {
     "name": "stdout",
     "output_type": "stream",
     "text": [
      "193/193 [==============================] - 105s 476ms/step - loss: 1.2104 - accuracy: 0.6217 - val_loss: 3.2039 - val_accuracy: 0.1836\n",
      "Epoch 26/50\n"
     ]
    },
    {
     "name": "stderr",
     "output_type": "stream",
     "text": [
      "2021-08-31 11:20:43.738026: I tensorflow/core/kernels/data/shuffle_dataset_op.cc:175] Filling up shuffle buffer (this may take a while): 768 of 1000\n",
      "2021-08-31 11:20:46.709871: I tensorflow/core/kernels/data/shuffle_dataset_op.cc:228] Shuffle buffer filled.\n"
     ]
    },
    {
     "name": "stdout",
     "output_type": "stream",
     "text": [
      "193/193 [==============================] - 99s 444ms/step - loss: 1.1775 - accuracy: 0.6384 - val_loss: 3.3140 - val_accuracy: 0.1879\n",
      "Epoch 27/50\n"
     ]
    },
    {
     "name": "stderr",
     "output_type": "stream",
     "text": [
      "2021-08-31 11:22:22.783887: I tensorflow/core/kernels/data/shuffle_dataset_op.cc:175] Filling up shuffle buffer (this may take a while): 588 of 1000\n",
      "2021-08-31 11:22:28.613315: I tensorflow/core/kernels/data/shuffle_dataset_op.cc:228] Shuffle buffer filled.\n"
     ]
    },
    {
     "name": "stdout",
     "output_type": "stream",
     "text": [
      "193/193 [==============================] - 108s 474ms/step - loss: 1.1815 - accuracy: 0.6342 - val_loss: 3.0057 - val_accuracy: 0.2129\n",
      "Epoch 28/50\n"
     ]
    },
    {
     "name": "stderr",
     "output_type": "stream",
     "text": [
      "2021-08-31 11:24:10.815960: I tensorflow/core/kernels/data/shuffle_dataset_op.cc:175] Filling up shuffle buffer (this may take a while): 782 of 1000\n",
      "2021-08-31 11:24:13.768086: I tensorflow/core/kernels/data/shuffle_dataset_op.cc:228] Shuffle buffer filled.\n"
     ]
    },
    {
     "name": "stdout",
     "output_type": "stream",
     "text": [
      "193/193 [==============================] - 89s 394ms/step - loss: 1.1492 - accuracy: 0.6374 - val_loss: 3.1102 - val_accuracy: 0.1965\n",
      "Epoch 29/50\n"
     ]
    },
    {
     "name": "stderr",
     "output_type": "stream",
     "text": [
      "2021-08-31 11:25:40.133947: I tensorflow/core/kernels/data/shuffle_dataset_op.cc:175] Filling up shuffle buffer (this may take a while): 731 of 1000\n",
      "2021-08-31 11:25:43.506861: I tensorflow/core/kernels/data/shuffle_dataset_op.cc:228] Shuffle buffer filled.\n"
     ]
    },
    {
     "name": "stdout",
     "output_type": "stream",
     "text": [
      "193/193 [==============================] - 94s 416ms/step - loss: 1.1430 - accuracy: 0.6449 - val_loss: 2.9872 - val_accuracy: 0.2120\n",
      "Epoch 30/50\n",
      "193/193 [==============================] - 70s 350ms/step - loss: 1.1177 - accuracy: 0.6577 - val_loss: 2.8530 - val_accuracy: 0.2346\n",
      "Epoch 31/50\n",
      "193/193 [==============================] - 73s 357ms/step - loss: 1.1065 - accuracy: 0.6524 - val_loss: 2.8503 - val_accuracy: 0.2405\n",
      "Epoch 32/50\n"
     ]
    },
    {
     "name": "stderr",
     "output_type": "stream",
     "text": [
      "2021-08-31 11:29:41.300144: I tensorflow/core/kernels/data/shuffle_dataset_op.cc:175] Filling up shuffle buffer (this may take a while): 980 of 1000\n",
      "2021-08-31 11:29:41.329215: I tensorflow/core/kernels/data/shuffle_dataset_op.cc:228] Shuffle buffer filled.\n"
     ]
    },
    {
     "name": "stdout",
     "output_type": "stream",
     "text": [
      "193/193 [==============================] - 80s 365ms/step - loss: 1.0927 - accuracy: 0.6542 - val_loss: 3.1422 - val_accuracy: 0.2166\n",
      "Epoch 33/50\n"
     ]
    },
    {
     "name": "stderr",
     "output_type": "stream",
     "text": [
      "2021-08-31 11:31:01.752617: I tensorflow/core/kernels/data/shuffle_dataset_op.cc:175] Filling up shuffle buffer (this may take a while): 754 of 1000\n",
      "2021-08-31 11:31:04.927027: I tensorflow/core/kernels/data/shuffle_dataset_op.cc:228] Shuffle buffer filled.\n"
     ]
    },
    {
     "name": "stdout",
     "output_type": "stream",
     "text": [
      "193/193 [==============================] - 88s 384ms/step - loss: 1.0725 - accuracy: 0.6680 - val_loss: 3.4800 - val_accuracy: 0.1865\n",
      "Epoch 34/50\n"
     ]
    },
    {
     "name": "stderr",
     "output_type": "stream",
     "text": [
      "2021-08-31 11:32:29.384821: I tensorflow/core/kernels/data/shuffle_dataset_op.cc:175] Filling up shuffle buffer (this may take a while): 886 of 1000\n",
      "2021-08-31 11:32:30.813944: I tensorflow/core/kernels/data/shuffle_dataset_op.cc:228] Shuffle buffer filled.\n"
     ]
    },
    {
     "name": "stdout",
     "output_type": "stream",
     "text": [
      "193/193 [==============================] - 86s 384ms/step - loss: 1.0942 - accuracy: 0.6533 - val_loss: 2.8594 - val_accuracy: 0.2398\n",
      "Epoch 35/50\n"
     ]
    },
    {
     "name": "stderr",
     "output_type": "stream",
     "text": [
      "2021-08-31 11:33:57.490289: I tensorflow/core/kernels/data/shuffle_dataset_op.cc:175] Filling up shuffle buffer (this may take a while): 353 of 1000\n",
      "2021-08-31 11:34:07.270559: I tensorflow/core/kernels/data/shuffle_dataset_op.cc:175] Filling up shuffle buffer (this may take a while): 841 of 1000\n",
      "2021-08-31 11:34:10.868147: I tensorflow/core/kernels/data/shuffle_dataset_op.cc:228] Shuffle buffer filled.\n"
     ]
    },
    {
     "name": "stdout",
     "output_type": "stream",
     "text": [
      "193/193 [==============================] - 136s 542ms/step - loss: 1.0574 - accuracy: 0.6725 - val_loss: 3.0595 - val_accuracy: 0.2280\n",
      "Epoch 36/50\n",
      "193/193 [==============================] - 60s 302ms/step - loss: 1.0377 - accuracy: 0.6668 - val_loss: 3.1296 - val_accuracy: 0.2257\n",
      "Epoch 37/50\n",
      "193/193 [==============================] - 59s 302ms/step - loss: 1.0644 - accuracy: 0.6587 - val_loss: 3.0855 - val_accuracy: 0.2289\n",
      "Epoch 38/50\n",
      "193/193 [==============================] - 59s 301ms/step - loss: 1.0053 - accuracy: 0.6814 - val_loss: 3.2207 - val_accuracy: 0.2250\n",
      "Epoch 39/50\n",
      "193/193 [==============================] - 59s 299ms/step - loss: 1.0107 - accuracy: 0.6792 - val_loss: 3.0641 - val_accuracy: 0.2421\n",
      "Epoch 40/50\n",
      "193/193 [==============================] - 59s 299ms/step - loss: 0.9975 - accuracy: 0.6784 - val_loss: 2.9410 - val_accuracy: 0.2412\n",
      "Epoch 41/50\n",
      "193/193 [==============================] - 60s 304ms/step - loss: 0.9973 - accuracy: 0.6847 - val_loss: 2.7186 - val_accuracy: 0.2735\n",
      "Epoch 42/50\n",
      "193/193 [==============================] - 60s 302ms/step - loss: 0.9761 - accuracy: 0.6855 - val_loss: 2.8174 - val_accuracy: 0.2573\n",
      "Epoch 43/50\n",
      "193/193 [==============================] - 66s 301ms/step - loss: 1.0020 - accuracy: 0.6779 - val_loss: 2.8452 - val_accuracy: 0.2642\n",
      "Epoch 44/50\n",
      "193/193 [==============================] - 60s 303ms/step - loss: 0.9513 - accuracy: 0.6957 - val_loss: 2.7392 - val_accuracy: 0.2653\n",
      "Epoch 45/50\n",
      "193/193 [==============================] - 60s 304ms/step - loss: 0.9665 - accuracy: 0.6951 - val_loss: 2.7630 - val_accuracy: 0.2737\n",
      "Epoch 46/50\n",
      "193/193 [==============================] - 60s 303ms/step - loss: 0.9527 - accuracy: 0.6888 - val_loss: 2.9495 - val_accuracy: 0.2469\n",
      "Epoch 47/50\n",
      "193/193 [==============================] - 60s 303ms/step - loss: 0.9609 - accuracy: 0.6931 - val_loss: 2.9256 - val_accuracy: 0.2587\n",
      "Epoch 48/50\n",
      "193/193 [==============================] - 59s 302ms/step - loss: 0.9640 - accuracy: 0.6860 - val_loss: 2.7821 - val_accuracy: 0.2781\n",
      "Epoch 49/50\n",
      "193/193 [==============================] - 60s 303ms/step - loss: 0.9409 - accuracy: 0.7001 - val_loss: 2.8282 - val_accuracy: 0.2819\n",
      "Epoch 50/50\n",
      "193/193 [==============================] - 60s 304ms/step - loss: 0.9307 - accuracy: 0.6943 - val_loss: 2.7951 - val_accuracy: 0.2815\n",
      "Model: \"sequential_2\"\n",
      "_________________________________________________________________\n",
      "Layer (type)                 Output Shape              Param #   \n",
      "=================================================================\n",
      "sequential (Sequential)      (None, None, None, 3)     0         \n",
      "_________________________________________________________________\n",
      "sequential_1 (Sequential)    (None, 128, 128, 3)       0         \n",
      "_________________________________________________________________\n",
      "vgg16 (Functional)           (None, 4, 4, 512)         14714688  \n",
      "_________________________________________________________________\n",
      "flatten (Flatten)            (None, 8192)              0         \n",
      "_________________________________________________________________\n",
      "dense (Dense)                (None, 10000)             81930000  \n",
      "_________________________________________________________________\n",
      "dense_1 (Dense)              (None, 228)               2280228   \n",
      "=================================================================\n",
      "Total params: 98,924,916\n",
      "Trainable params: 84,210,228\n",
      "Non-trainable params: 14,714,688\n",
      "_________________________________________________________________\n",
      "135/135 [==============================] - 22s 135ms/step - loss: 3.7332 - accuracy: 0.2093\n"
     ]
    },
    {
     "data": {
      "text/html": [
       "\n",
       "                <audio  controls=\"controls\" autoplay=\"autoplay\">\n",
       "                    <source src=\"data:audio/mpeg;base64,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\" type=\"audio/mpeg\" />\n",
       "                    Your browser does not support the audio element.\n",
       "                </audio>\n",
       "              "
      ],
      "text/plain": [
       "<IPython.lib.display.Audio object>"
      ]
     },
     "execution_count": 39,
     "metadata": {},
     "output_type": "execute_result"
    }
   ],
   "source": [
    "check, model, history = model_VGG16(train_ds, val_ds, test_ds, nb_epochs=50, nb_couches_dense_layer=10000)\n",
    "Audio(sound_file, autoplay=True)"
   ]
  },
  {
   "cell_type": "code",
   "execution_count": 87,
   "id": "ebbf79b8",
   "metadata": {},
   "outputs": [
    {
     "data": {
      "text/plain": [
       "225"
      ]
     },
     "execution_count": 87,
     "metadata": {},
     "output_type": "execute_result"
    }
   ],
   "source": [
    "from PIL import Image\n",
    "model.predict(preprocess_input(np.expand_dims(np.array(Image.open(PATH_TRAIN+test_predict)), axis=0))).argmax()\n"
   ]
  },
  {
   "cell_type": "code",
   "execution_count": 79,
   "id": "b2c5af40",
   "metadata": {},
   "outputs": [
    {
     "data": {
      "text/plain": [
       "'Parnassius_charltonius'"
      ]
     },
     "execution_count": 79,
     "metadata": {},
     "output_type": "execute_result"
    }
   ],
   "source": [
    "train_names.iloc[225]"
   ]
  },
  {
   "cell_type": "code",
   "execution_count": 41,
   "id": "eb1d8ca7",
   "metadata": {},
   "outputs": [],
   "source": [
    "def plot_history(history, title='', axs=None, exp_name=\"\"):\n",
    "    if axs is not None:\n",
    "        ax1, ax2 = axs\n",
    "    else:\n",
    "        f, (ax1, ax2) = plt.subplots(1, 2, figsize=(12, 4))\n",
    "    \n",
    "    if len(exp_name) > 0 and exp_name[0] != '_':\n",
    "        exp_name = '_' + exp_name\n",
    "    ax1.plot(history.history['loss'], label='train' + exp_name)\n",
    "    ax1.plot(history.history['val_loss'], label='val' + exp_name)\n",
    "    #ax1.set_ylim(0., 2.2)\n",
    "    ax1.set_title('loss')\n",
    "    ax1.legend()\n",
    "\n",
    "    ax2.plot(history.history['accuracy'], label='train accuracy'  + exp_name)\n",
    "    ax2.plot(history.history['val_accuracy'], label='val accuracy'  + exp_name)\n",
    "    #ax2.set_ylim(0.25, 1.)\n",
    "    ax2.set_title('Accuracy')\n",
    "    ax2.legend()\n",
    "    return (ax1, ax2)"
   ]
  },
  {
   "cell_type": "code",
   "execution_count": 100,
   "id": "fe4dff8b",
   "metadata": {},
   "outputs": [
    {
     "data": {
      "text/plain": [
       "(<AxesSubplot:title={'center':'loss'}>,\n",
       " <AxesSubplot:title={'center':'Accuracy'}>)"
      ]
     },
     "execution_count": 100,
     "metadata": {},
     "output_type": "execute_result"
    },
    {
     "data": {
      "image/png": "[encoded data removed]",
      "text/plain": [
       "<Figure size 864x288 with 2 Axes>"
      ]
     },
     "metadata": {
      "needs_background": "light"
     },
     "output_type": "display_data"
    }
   ],
   "source": [
    "plot_history(history)"
   ]
  },
  {
   "cell_type": "code",
   "execution_count": 101,
   "id": "6a9d3c56",
   "metadata": {},
   "outputs": [
    {
     "name": "stderr",
     "output_type": "stream",
     "text": [
      "2021-08-31 12:16:11.985250: W tensorflow/python/util/util.cc:348] Sets are not currently considered sequences, but this may change in the future, so consider avoiding using them.\n"
     ]
    },
    {
     "name": "stdout",
     "output_type": "stream",
     "text": [
      "INFO:tensorflow:Assets written to: API_FTW/assets\n"
     ]
    }
   ],
   "source": [
    "model.save('API_FTW')"
   ]
  },
  {
   "cell_type": "code",
   "execution_count": null,
   "id": "655c1a28",
   "metadata": {},
   "outputs": [],
   "source": []
  }
 ],
 "metadata": {
  "kernelspec": {
   "display_name": "Python 3",
   "language": "python",
   "name": "python3"
  },
  "language_info": {
   "codemirror_mode": {
    "name": "ipython",
    "version": 3
   },
   "file_extension": ".py",
   "mimetype": "text/x-python",
   "name": "python",
   "nbconvert_exporter": "python",
   "pygments_lexer": "ipython3",
   "version": "3.8.6"
  },
  "toc": {
   "base_numbering": 1,
   "nav_menu": {},
   "number_sections": true,
   "sideBar": true,
   "skip_h1_title": false,
   "title_cell": "Table of Contents",
   "title_sidebar": "Contents",
   "toc_cell": false,
   "toc_position": {},
   "toc_section_display": true,
   "toc_window_display": false
  }
 },
 "nbformat": 4,
 "nbformat_minor": 5
}

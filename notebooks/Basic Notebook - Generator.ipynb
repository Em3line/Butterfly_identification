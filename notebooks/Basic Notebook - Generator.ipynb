{
 "cells": [
  {
   "cell_type": "code",
   "execution_count": 1,
   "id": "1364514a",
   "metadata": {},
   "outputs": [],
   "source": [
    "%load_ext autoreload\n",
    "%autoreload 2"
   ]
  },
  {
   "cell_type": "code",
   "execution_count": 2,
   "id": "d0f7b6d2",
   "metadata": {},
   "outputs": [],
   "source": [
    "import pandas as pd\n",
    "import numpy as np\n",
    "from PIL import Image\n",
    "import Butterfly_identification.preprocessbutterfly as preproc\n",
    "from tensorflow.keras.applications import ResNet50\n",
    "from tensorflow.keras.metrics import CategoricalAccuracy\n",
    "\n",
    "from tensorflow.keras.applications.vgg16 import preprocess_input\n",
    "# from tensorflow.keras.preprocessing.image import ImageDataGenerator"
   ]
  },
  {
   "cell_type": "code",
   "execution_count": 3,
   "id": "973c5a05",
   "metadata": {},
   "outputs": [],
   "source": [
    "from os.path import join, sep\n",
    "from tensorflow.data import Dataset, AUTOTUNE\n",
    "from tensorflow.strings import split\n",
    "from tensorflow.io import decode_jpeg, read_file\n",
    "from tensorflow import argmax\n",
    "import matplotlib.pyplot as plt\n",
    "from tensorflow.keras import Sequential, layers\n",
    "import gc\n",
    "from tensorflow.compat.v1 import ConfigProto , Session, InteractiveSession\n",
    "from tensorflow.compat.v1.keras.backend import set_session"
   ]
  },
  {
   "cell_type": "code",
   "execution_count": 4,
   "id": "f3723fef",
   "metadata": {},
   "outputs": [],
   "source": [
    "from tensorflow.data.experimental import cardinality\n",
    "from IPython.display import Audio\n",
    "from IPython.display import Audio\n",
    "sound_file = 'treasure.mp3' #un son dans votre ordi ou une url\n"
   ]
  },
  {
   "cell_type": "code",
   "execution_count": null,
   "id": "5cb71db8",
   "metadata": {},
   "outputs": [],
   "source": []
  },
  {
   "cell_type": "code",
   "execution_count": 5,
   "id": "c0fb1922",
   "metadata": {},
   "outputs": [
    {
     "name": "stderr",
     "output_type": "stream",
     "text": [
      "2021-08-31 09:17:30.271607: I tensorflow/core/platform/cpu_feature_guard.cc:142] This TensorFlow binary is optimized with oneAPI Deep Neural Network Library (oneDNN) to use the following CPU instructions in performance-critical operations:  AVX2 FMA\n",
      "To enable them in other operations, rebuild TensorFlow with the appropriate compiler flags.\n",
      "2021-08-31 09:17:30.343860: I tensorflow/stream_executor/cuda/cuda_gpu_executor.cc:937] successful NUMA node read from SysFS had negative value (-1), but there must be at least one NUMA node, so returning NUMA node zero\n",
      "2021-08-31 09:17:30.365460: I tensorflow/stream_executor/cuda/cuda_gpu_executor.cc:937] successful NUMA node read from SysFS had negative value (-1), but there must be at least one NUMA node, so returning NUMA node zero\n",
      "2021-08-31 09:17:30.366246: I tensorflow/stream_executor/cuda/cuda_gpu_executor.cc:937] successful NUMA node read from SysFS had negative value (-1), but there must be at least one NUMA node, so returning NUMA node zero\n",
      "2021-08-31 09:17:30.736348: I tensorflow/stream_executor/cuda/cuda_gpu_executor.cc:937] successful NUMA node read from SysFS had negative value (-1), but there must be at least one NUMA node, so returning NUMA node zero\n",
      "2021-08-31 09:17:30.736713: I tensorflow/stream_executor/cuda/cuda_gpu_executor.cc:937] successful NUMA node read from SysFS had negative value (-1), but there must be at least one NUMA node, so returning NUMA node zero\n",
      "2021-08-31 09:17:30.737014: I tensorflow/stream_executor/cuda/cuda_gpu_executor.cc:937] successful NUMA node read from SysFS had negative value (-1), but there must be at least one NUMA node, so returning NUMA node zero\n",
      "2021-08-31 09:17:30.737279: I tensorflow/core/common_runtime/gpu/gpu_device.cc:1510] Created device /job:localhost/replica:0/task:0/device:GPU:0 with 2021 MB memory:  -> device: 0, name: NVIDIA GeForce GTX 1050 Ti, pci bus id: 0000:01:00.0, compute capability: 6.1\n",
      "2021-08-31 09:17:30.738103: I tensorflow/stream_executor/cuda/cuda_gpu_executor.cc:937] successful NUMA node read from SysFS had negative value (-1), but there must be at least one NUMA node, so returning NUMA node zero\n",
      "2021-08-31 09:17:30.738416: I tensorflow/stream_executor/cuda/cuda_gpu_executor.cc:937] successful NUMA node read from SysFS had negative value (-1), but there must be at least one NUMA node, so returning NUMA node zero\n",
      "2021-08-31 09:17:30.738697: I tensorflow/stream_executor/cuda/cuda_gpu_executor.cc:937] successful NUMA node read from SysFS had negative value (-1), but there must be at least one NUMA node, so returning NUMA node zero\n",
      "2021-08-31 09:17:30.739001: I tensorflow/stream_executor/cuda/cuda_gpu_executor.cc:937] successful NUMA node read from SysFS had negative value (-1), but there must be at least one NUMA node, so returning NUMA node zero\n",
      "2021-08-31 09:17:30.739294: I tensorflow/stream_executor/cuda/cuda_gpu_executor.cc:937] successful NUMA node read from SysFS had negative value (-1), but there must be at least one NUMA node, so returning NUMA node zero\n",
      "2021-08-31 09:17:30.739539: I tensorflow/core/common_runtime/gpu/gpu_device.cc:1510] Created device /job:localhost/replica:0/task:0/device:GPU:0 with 2021 MB memory:  -> device: 0, name: NVIDIA GeForce GTX 1050 Ti, pci bus id: 0000:01:00.0, compute capability: 6.1\n"
     ]
    }
   ],
   "source": [
    "config = ConfigProto()\n",
    "config.gpu_options.per_process_gpu_memory_fraction = 0.5\n",
    "set_session(Session(config=config));\n",
    "config.gpu_options.allow_growth = True\n",
    "session = InteractiveSession(config=config)"
   ]
  },
  {
   "cell_type": "markdown",
   "id": "11431f06",
   "metadata": {},
   "source": [
    "# Get Data"
   ]
  },
  {
   "cell_type": "code",
   "execution_count": 43,
   "id": "45833058",
   "metadata": {},
   "outputs": [],
   "source": [
    "df_train,df_val,df_test = preproc.get_data()"
   ]
  },
  {
   "cell_type": "code",
   "execution_count": 44,
   "id": "837fb93e",
   "metadata": {},
   "outputs": [
    {
     "data": {
      "text/plain": [
       "(36536, 15)"
      ]
     },
     "execution_count": 44,
     "metadata": {},
     "output_type": "execute_result"
    }
   ],
   "source": [
    "df_train.shape"
   ]
  },
  {
   "cell_type": "code",
   "execution_count": 45,
   "id": "9412c7f8",
   "metadata": {},
   "outputs": [],
   "source": [
    "df_train = preproc.feature_engineering(df_train)\n",
    "df_val = preproc.feature_engineering(df_val)\n",
    "df_test = preproc.feature_engineering(df_test)"
   ]
  },
  {
   "cell_type": "markdown",
   "id": "0d1742cd",
   "metadata": {},
   "source": [
    "## Generator implementation"
   ]
  },
  {
   "cell_type": "code",
   "execution_count": 46,
   "id": "63b29253",
   "metadata": {},
   "outputs": [],
   "source": [
    "PATH_TRAIN = '/home/zac/code/Em3line/Butterfly_identification/raw_data/IGM_labels/Train/'\n",
    "PATH_VAL = '/home/zac/code/Em3line/Butterfly_identification/raw_data/IGM_labels/Val/'\n",
    "PATH_TEST = '/home/zac/code/Em3line/Butterfly_identification/raw_data/IGM_labels/Test/'"
   ]
  },
  {
   "cell_type": "code",
   "execution_count": 47,
   "id": "989bdcb0",
   "metadata": {},
   "outputs": [],
   "source": [
    "#df_train = preproc.get_data_minphoto(df_train)\n",
    "df_train = preproc.resampling(df_train)"
   ]
  },
  {
   "cell_type": "code",
   "execution_count": 48,
   "id": "f748772a",
   "metadata": {},
   "outputs": [],
   "source": [
    "df_val = preproc.filter_val_test(df_train, df_val)\n",
    "df_test = preproc.filter_val_test(df_train, df_test)"
   ]
  },
  {
   "cell_type": "code",
   "execution_count": 49,
   "id": "a570972b",
   "metadata": {},
   "outputs": [],
   "source": [
    "df_train['full_path'] = df_train['species']+'/'+df_train['image_name']\n",
    "df_val['full_path'] = df_val['species']+'/'+df_val['image_name']\n",
    "df_test['full_path'] = df_test['species']+'/'+df_test['image_name']"
   ]
  },
  {
   "cell_type": "code",
   "execution_count": 50,
   "id": "78dfec47",
   "metadata": {},
   "outputs": [],
   "source": [
    "black_list = list(PATH_TRAIN + df_train['full_path'])\n",
    "black_list_val = list(PATH_VAL + df_val['full_path'])\n",
    "black_list_test = list(PATH_TEST + df_test['full_path'])"
   ]
  },
  {
   "cell_type": "code",
   "execution_count": 51,
   "id": "d64e3f55",
   "metadata": {},
   "outputs": [],
   "source": [
    "train_names = df_train['species'].drop_duplicates()"
   ]
  },
  {
   "cell_type": "code",
   "execution_count": 54,
   "id": "8a09bb35",
   "metadata": {},
   "outputs": [
    {
     "data": {
      "text/html": [
       "<div>\n",
       "<style scoped>\n",
       "    .dataframe tbody tr th:only-of-type {\n",
       "        vertical-align: middle;\n",
       "    }\n",
       "\n",
       "    .dataframe tbody tr th {\n",
       "        vertical-align: top;\n",
       "    }\n",
       "\n",
       "    .dataframe thead th {\n",
       "        text-align: right;\n",
       "    }\n",
       "</style>\n",
       "<table border=\"1\" class=\"dataframe\">\n",
       "  <thead>\n",
       "    <tr style=\"text-align: right;\">\n",
       "      <th></th>\n",
       "      <th>author</th>\n",
       "      <th>barcode</th>\n",
       "      <th>country</th>\n",
       "      <th>dec_lat</th>\n",
       "      <th>dec_long</th>\n",
       "      <th>family</th>\n",
       "      <th>genus</th>\n",
       "      <th>image_name</th>\n",
       "      <th>image_path</th>\n",
       "      <th>infraspecific_epithet</th>\n",
       "      <th>primary_division</th>\n",
       "      <th>specific_epithet</th>\n",
       "      <th>subfamily</th>\n",
       "      <th>subspecific_epithet</th>\n",
       "      <th>token</th>\n",
       "      <th>path_to_image</th>\n",
       "      <th>species</th>\n",
       "      <th>full_path</th>\n",
       "    </tr>\n",
       "  </thead>\n",
       "  <tbody>\n",
       "    <tr>\n",
       "      <th>7054c858-89e7-4288-8f63-d9b49e53c394</th>\n",
       "      <td>Fruhstorfer, 1906</td>\n",
       "      <td>ETHZ-ENT0119779</td>\n",
       "      <td>France</td>\n",
       "      <td>46.4864</td>\n",
       "      <td>6.0625</td>\n",
       "      <td>Papilionidae</td>\n",
       "      <td>Parnassius</td>\n",
       "      <td>ETHZ_ENT01_2018_03_19_136064.JPG</td>\n",
       "      <td>2018_03_19R</td>\n",
       "      <td>None</td>\n",
       "      <td>Bourgogne-Franche-Comté</td>\n",
       "      <td>apollo</td>\n",
       "      <td>Parnassiinae</td>\n",
       "      <td>nivatus</td>\n",
       "      <td>7054c858-89e7-4288-8f63-d9b49e53c394</td>\n",
       "      <td>../raw_data/IMG/ETHZ_ENT01_2018_03_19_136064.JPG</td>\n",
       "      <td>Parnassius_apollo</td>\n",
       "      <td>Parnassius_apollo/ETHZ_ENT01_2018_03_19_136064...</td>\n",
       "    </tr>\n",
       "    <tr>\n",
       "      <th>4f354c85-954a-4bd9-9a1b-3ab603b55bc2</th>\n",
       "      <td>(Linnaeus, 1758)</td>\n",
       "      <td>ETHZ-ENT0014820</td>\n",
       "      <td>Switzerland</td>\n",
       "      <td>47.412495</td>\n",
       "      <td>8.592223</td>\n",
       "      <td>Pieridae</td>\n",
       "      <td>Pieris</td>\n",
       "      <td>ETHZ_ENT01_2017_04_07_012909.JPG</td>\n",
       "      <td>2017_04_07R</td>\n",
       "      <td>None</td>\n",
       "      <td>Zurich</td>\n",
       "      <td>napi</td>\n",
       "      <td>Pierinae</td>\n",
       "      <td>None</td>\n",
       "      <td>4f354c85-954a-4bd9-9a1b-3ab603b55bc2</td>\n",
       "      <td>../raw_data/IMG/ETHZ_ENT01_2017_04_07_012909.JPG</td>\n",
       "      <td>Pieris_napi</td>\n",
       "      <td>Pieris_napi/ETHZ_ENT01_2017_04_07_012909.JPG</td>\n",
       "    </tr>\n",
       "    <tr>\n",
       "      <th>56c54b5c-2d3f-410c-9df8-895f5f16e55e</th>\n",
       "      <td>(Rottemburg, 1775)</td>\n",
       "      <td>ETHZ-ENT0026790</td>\n",
       "      <td>Switzerland</td>\n",
       "      <td>47.36591</td>\n",
       "      <td>8.35644</td>\n",
       "      <td>Lycaenidae</td>\n",
       "      <td>Polyommatus</td>\n",
       "      <td>ETHZ_ENT01_2017_05_08_026461.JPG</td>\n",
       "      <td>2017_05_08R</td>\n",
       "      <td>None</td>\n",
       "      <td>Aargau</td>\n",
       "      <td>icarus</td>\n",
       "      <td>Polyommatinae</td>\n",
       "      <td>None</td>\n",
       "      <td>56c54b5c-2d3f-410c-9df8-895f5f16e55e</td>\n",
       "      <td>../raw_data/IMG/ETHZ_ENT01_2017_05_08_026461.JPG</td>\n",
       "      <td>Polyommatus_icarus</td>\n",
       "      <td>Polyommatus_icarus/ETHZ_ENT01_2017_05_08_02646...</td>\n",
       "    </tr>\n",
       "    <tr>\n",
       "      <th>e611e40d-d19c-463b-b4ea-1f86886a65de</th>\n",
       "      <td>(Linnaeus, 1761)</td>\n",
       "      <td>ETHZ-ENT0022428</td>\n",
       "      <td>Switzerland</td>\n",
       "      <td>46.25785</td>\n",
       "      <td>7.54104</td>\n",
       "      <td>Lycaenidae</td>\n",
       "      <td>Plebejus</td>\n",
       "      <td>ETHZ_ENT01_2017_04_28_021611.JPG</td>\n",
       "      <td>2017_04_28R</td>\n",
       "      <td>None</td>\n",
       "      <td>Valais</td>\n",
       "      <td>idas</td>\n",
       "      <td>Polyommatinae</td>\n",
       "      <td>None</td>\n",
       "      <td>e611e40d-d19c-463b-b4ea-1f86886a65de</td>\n",
       "      <td>../raw_data/IMG/ETHZ_ENT01_2017_04_28_021611.JPG</td>\n",
       "      <td>Plebejus_idas</td>\n",
       "      <td>Plebejus_idas/ETHZ_ENT01_2017_04_28_021611.JPG</td>\n",
       "    </tr>\n",
       "    <tr>\n",
       "      <th>47834000-94aa-4910-a5ac-5b6c15850847</th>\n",
       "      <td>(Rottemburg, 1775)</td>\n",
       "      <td>ETHZ-ENT0013616</td>\n",
       "      <td>Switzerland</td>\n",
       "      <td>46.02629</td>\n",
       "      <td>8.90882</td>\n",
       "      <td>Nymphalidae</td>\n",
       "      <td>Melitaea</td>\n",
       "      <td>ETHZ_ENT01_2017_04_06_012709.JPG</td>\n",
       "      <td>2017_04_06R</td>\n",
       "      <td>None</td>\n",
       "      <td>Ticino</td>\n",
       "      <td>athalia</td>\n",
       "      <td>Nymphalinae</td>\n",
       "      <td>None</td>\n",
       "      <td>47834000-94aa-4910-a5ac-5b6c15850847</td>\n",
       "      <td>../raw_data/IMG/ETHZ_ENT01_2017_04_06_012709.JPG</td>\n",
       "      <td>Melitaea_athalia</td>\n",
       "      <td>Melitaea_athalia/ETHZ_ENT01_2017_04_06_012709.JPG</td>\n",
       "    </tr>\n",
       "    <tr>\n",
       "      <th>...</th>\n",
       "      <td>...</td>\n",
       "      <td>...</td>\n",
       "      <td>...</td>\n",
       "      <td>...</td>\n",
       "      <td>...</td>\n",
       "      <td>...</td>\n",
       "      <td>...</td>\n",
       "      <td>...</td>\n",
       "      <td>...</td>\n",
       "      <td>...</td>\n",
       "      <td>...</td>\n",
       "      <td>...</td>\n",
       "      <td>...</td>\n",
       "      <td>...</td>\n",
       "      <td>...</td>\n",
       "      <td>...</td>\n",
       "      <td>...</td>\n",
       "      <td>...</td>\n",
       "    </tr>\n",
       "    <tr>\n",
       "      <th>e6920036-f1d3-47da-9549-cdaed0591d0b</th>\n",
       "      <td>(Linnaeus, 1763)</td>\n",
       "      <td>ETHZ-ENT0028876</td>\n",
       "      <td>Japan</td>\n",
       "      <td>None</td>\n",
       "      <td>None</td>\n",
       "      <td>Nymphalidae</td>\n",
       "      <td>Nymphalis</td>\n",
       "      <td>ETHZ_ENT01_2017_05_11_028859.JPG</td>\n",
       "      <td>2017_05_11R</td>\n",
       "      <td>None</td>\n",
       "      <td>None</td>\n",
       "      <td>canace</td>\n",
       "      <td>Nymphalinae</td>\n",
       "      <td>None</td>\n",
       "      <td>e6920036-f1d3-47da-9549-cdaed0591d0b</td>\n",
       "      <td>../raw_data/IMG/ETHZ_ENT01_2017_05_11_028859.JPG</td>\n",
       "      <td>Nymphalis_canace</td>\n",
       "      <td>Nymphalis_canace/ETHZ_ENT01_2017_05_11_028859.JPG</td>\n",
       "    </tr>\n",
       "    <tr>\n",
       "      <th>e93e05a0-6b56-42ce-8660-88534293c0d9</th>\n",
       "      <td>Oberthür, 1876</td>\n",
       "      <td>ETHZ-ENT0016036</td>\n",
       "      <td>China</td>\n",
       "      <td>32.131936</td>\n",
       "      <td>119.078137</td>\n",
       "      <td>Pieridae</td>\n",
       "      <td>Anthocharis</td>\n",
       "      <td>ETHZ_ENT01_2017_04_10_014280.JPG</td>\n",
       "      <td>2017_04_10R</td>\n",
       "      <td>None</td>\n",
       "      <td>Jiangsu</td>\n",
       "      <td>bambusarum</td>\n",
       "      <td>Pierinae</td>\n",
       "      <td>None</td>\n",
       "      <td>e93e05a0-6b56-42ce-8660-88534293c0d9</td>\n",
       "      <td>../raw_data/IMG/ETHZ_ENT01_2017_04_10_014280.JPG</td>\n",
       "      <td>Anthocharis_bambusarum</td>\n",
       "      <td>Anthocharis_bambusarum/ETHZ_ENT01_2017_04_10_0...</td>\n",
       "    </tr>\n",
       "    <tr>\n",
       "      <th>ea18eec5-c4cc-475e-b17e-7ff963693601</th>\n",
       "      <td>(Kindermann, 1853)</td>\n",
       "      <td>ETHZ-ENT0117097</td>\n",
       "      <td>Russia</td>\n",
       "      <td>50.632499</td>\n",
       "      <td>87.022384</td>\n",
       "      <td>Papilionidae</td>\n",
       "      <td>Parnassius</td>\n",
       "      <td>ETHZ_ENT01_2018_03_08_132516.JPG</td>\n",
       "      <td>2018_03_08R</td>\n",
       "      <td>None</td>\n",
       "      <td>Altai</td>\n",
       "      <td>ariadne</td>\n",
       "      <td>Parnassiinae</td>\n",
       "      <td>ariadne</td>\n",
       "      <td>ea18eec5-c4cc-475e-b17e-7ff963693601</td>\n",
       "      <td>../raw_data/IMG/ETHZ_ENT01_2018_03_08_132516.JPG</td>\n",
       "      <td>Parnassius_ariadne</td>\n",
       "      <td>Parnassius_ariadne/ETHZ_ENT01_2018_03_08_13251...</td>\n",
       "    </tr>\n",
       "    <tr>\n",
       "      <th>ecb10995-6293-46d2-b0a9-3e2e2afa828e</th>\n",
       "      <td>Géné, 1839</td>\n",
       "      <td>ETHZ-ENT0007658</td>\n",
       "      <td>France</td>\n",
       "      <td>41.8082</td>\n",
       "      <td>9.1763</td>\n",
       "      <td>Papilionidae</td>\n",
       "      <td>Papilio</td>\n",
       "      <td>ETHZ_ENT01_2017_03_20_004671.JPG</td>\n",
       "      <td>2017_03_20R</td>\n",
       "      <td>None</td>\n",
       "      <td>Corsica</td>\n",
       "      <td>hospiton</td>\n",
       "      <td>Papilioninae</td>\n",
       "      <td>None</td>\n",
       "      <td>ecb10995-6293-46d2-b0a9-3e2e2afa828e</td>\n",
       "      <td>../raw_data/IMG/ETHZ_ENT01_2017_03_20_004671.JPG</td>\n",
       "      <td>Papilio_hospiton</td>\n",
       "      <td>Papilio_hospiton/ETHZ_ENT01_2017_03_20_004671.JPG</td>\n",
       "    </tr>\n",
       "    <tr>\n",
       "      <th>14ce36f4-427c-11ea-a529-887873dd81ef</th>\n",
       "      <td>(Klug, 1832)</td>\n",
       "      <td>ETHZ-ENT0039040</td>\n",
       "      <td>Palestine</td>\n",
       "      <td>None</td>\n",
       "      <td>None</td>\n",
       "      <td>Nymphalidae</td>\n",
       "      <td>Ypthima</td>\n",
       "      <td>ETHZ_ENT01_2017_06_06_040263.JPG</td>\n",
       "      <td>2017_06_06R</td>\n",
       "      <td>None</td>\n",
       "      <td>Jericho</td>\n",
       "      <td>asterope</td>\n",
       "      <td>Satyrinae</td>\n",
       "      <td>None</td>\n",
       "      <td>14ce36f4-427c-11ea-a529-887873dd81ef</td>\n",
       "      <td>../raw_data/IMG/ETHZ_ENT01_2017_06_06_040263.JPG</td>\n",
       "      <td>Ypthima_asterope</td>\n",
       "      <td>Ypthima_asterope/ETHZ_ENT01_2017_06_06_040263.JPG</td>\n",
       "    </tr>\n",
       "  </tbody>\n",
       "</table>\n",
       "<p>705 rows × 18 columns</p>\n",
       "</div>"
      ],
      "text/plain": [
       "                                                  author          barcode  \\\n",
       "7054c858-89e7-4288-8f63-d9b49e53c394   Fruhstorfer, 1906  ETHZ-ENT0119779   \n",
       "4f354c85-954a-4bd9-9a1b-3ab603b55bc2    (Linnaeus, 1758)  ETHZ-ENT0014820   \n",
       "56c54b5c-2d3f-410c-9df8-895f5f16e55e  (Rottemburg, 1775)  ETHZ-ENT0026790   \n",
       "e611e40d-d19c-463b-b4ea-1f86886a65de    (Linnaeus, 1761)  ETHZ-ENT0022428   \n",
       "47834000-94aa-4910-a5ac-5b6c15850847  (Rottemburg, 1775)  ETHZ-ENT0013616   \n",
       "...                                                  ...              ...   \n",
       "e6920036-f1d3-47da-9549-cdaed0591d0b    (Linnaeus, 1763)  ETHZ-ENT0028876   \n",
       "e93e05a0-6b56-42ce-8660-88534293c0d9      Oberthür, 1876  ETHZ-ENT0016036   \n",
       "ea18eec5-c4cc-475e-b17e-7ff963693601  (Kindermann, 1853)  ETHZ-ENT0117097   \n",
       "ecb10995-6293-46d2-b0a9-3e2e2afa828e          Géné, 1839  ETHZ-ENT0007658   \n",
       "14ce36f4-427c-11ea-a529-887873dd81ef        (Klug, 1832)  ETHZ-ENT0039040   \n",
       "\n",
       "                                          country    dec_lat    dec_long  \\\n",
       "7054c858-89e7-4288-8f63-d9b49e53c394       France    46.4864      6.0625   \n",
       "4f354c85-954a-4bd9-9a1b-3ab603b55bc2  Switzerland  47.412495    8.592223   \n",
       "56c54b5c-2d3f-410c-9df8-895f5f16e55e  Switzerland   47.36591     8.35644   \n",
       "e611e40d-d19c-463b-b4ea-1f86886a65de  Switzerland   46.25785     7.54104   \n",
       "47834000-94aa-4910-a5ac-5b6c15850847  Switzerland   46.02629     8.90882   \n",
       "...                                           ...        ...         ...   \n",
       "e6920036-f1d3-47da-9549-cdaed0591d0b        Japan       None        None   \n",
       "e93e05a0-6b56-42ce-8660-88534293c0d9        China  32.131936  119.078137   \n",
       "ea18eec5-c4cc-475e-b17e-7ff963693601       Russia  50.632499   87.022384   \n",
       "ecb10995-6293-46d2-b0a9-3e2e2afa828e       France    41.8082      9.1763   \n",
       "14ce36f4-427c-11ea-a529-887873dd81ef    Palestine       None        None   \n",
       "\n",
       "                                            family        genus  \\\n",
       "7054c858-89e7-4288-8f63-d9b49e53c394  Papilionidae   Parnassius   \n",
       "4f354c85-954a-4bd9-9a1b-3ab603b55bc2      Pieridae       Pieris   \n",
       "56c54b5c-2d3f-410c-9df8-895f5f16e55e    Lycaenidae  Polyommatus   \n",
       "e611e40d-d19c-463b-b4ea-1f86886a65de    Lycaenidae     Plebejus   \n",
       "47834000-94aa-4910-a5ac-5b6c15850847   Nymphalidae     Melitaea   \n",
       "...                                            ...          ...   \n",
       "e6920036-f1d3-47da-9549-cdaed0591d0b   Nymphalidae    Nymphalis   \n",
       "e93e05a0-6b56-42ce-8660-88534293c0d9      Pieridae  Anthocharis   \n",
       "ea18eec5-c4cc-475e-b17e-7ff963693601  Papilionidae   Parnassius   \n",
       "ecb10995-6293-46d2-b0a9-3e2e2afa828e  Papilionidae      Papilio   \n",
       "14ce36f4-427c-11ea-a529-887873dd81ef   Nymphalidae      Ypthima   \n",
       "\n",
       "                                                            image_name  \\\n",
       "7054c858-89e7-4288-8f63-d9b49e53c394  ETHZ_ENT01_2018_03_19_136064.JPG   \n",
       "4f354c85-954a-4bd9-9a1b-3ab603b55bc2  ETHZ_ENT01_2017_04_07_012909.JPG   \n",
       "56c54b5c-2d3f-410c-9df8-895f5f16e55e  ETHZ_ENT01_2017_05_08_026461.JPG   \n",
       "e611e40d-d19c-463b-b4ea-1f86886a65de  ETHZ_ENT01_2017_04_28_021611.JPG   \n",
       "47834000-94aa-4910-a5ac-5b6c15850847  ETHZ_ENT01_2017_04_06_012709.JPG   \n",
       "...                                                                ...   \n",
       "e6920036-f1d3-47da-9549-cdaed0591d0b  ETHZ_ENT01_2017_05_11_028859.JPG   \n",
       "e93e05a0-6b56-42ce-8660-88534293c0d9  ETHZ_ENT01_2017_04_10_014280.JPG   \n",
       "ea18eec5-c4cc-475e-b17e-7ff963693601  ETHZ_ENT01_2018_03_08_132516.JPG   \n",
       "ecb10995-6293-46d2-b0a9-3e2e2afa828e  ETHZ_ENT01_2017_03_20_004671.JPG   \n",
       "14ce36f4-427c-11ea-a529-887873dd81ef  ETHZ_ENT01_2017_06_06_040263.JPG   \n",
       "\n",
       "                                       image_path infraspecific_epithet  \\\n",
       "7054c858-89e7-4288-8f63-d9b49e53c394  2018_03_19R                  None   \n",
       "4f354c85-954a-4bd9-9a1b-3ab603b55bc2  2017_04_07R                  None   \n",
       "56c54b5c-2d3f-410c-9df8-895f5f16e55e  2017_05_08R                  None   \n",
       "e611e40d-d19c-463b-b4ea-1f86886a65de  2017_04_28R                  None   \n",
       "47834000-94aa-4910-a5ac-5b6c15850847  2017_04_06R                  None   \n",
       "...                                           ...                   ...   \n",
       "e6920036-f1d3-47da-9549-cdaed0591d0b  2017_05_11R                  None   \n",
       "e93e05a0-6b56-42ce-8660-88534293c0d9  2017_04_10R                  None   \n",
       "ea18eec5-c4cc-475e-b17e-7ff963693601  2018_03_08R                  None   \n",
       "ecb10995-6293-46d2-b0a9-3e2e2afa828e  2017_03_20R                  None   \n",
       "14ce36f4-427c-11ea-a529-887873dd81ef  2017_06_06R                  None   \n",
       "\n",
       "                                             primary_division  \\\n",
       "7054c858-89e7-4288-8f63-d9b49e53c394  Bourgogne-Franche-Comté   \n",
       "4f354c85-954a-4bd9-9a1b-3ab603b55bc2                   Zurich   \n",
       "56c54b5c-2d3f-410c-9df8-895f5f16e55e                   Aargau   \n",
       "e611e40d-d19c-463b-b4ea-1f86886a65de                   Valais   \n",
       "47834000-94aa-4910-a5ac-5b6c15850847                   Ticino   \n",
       "...                                                       ...   \n",
       "e6920036-f1d3-47da-9549-cdaed0591d0b                     None   \n",
       "e93e05a0-6b56-42ce-8660-88534293c0d9                  Jiangsu   \n",
       "ea18eec5-c4cc-475e-b17e-7ff963693601                    Altai   \n",
       "ecb10995-6293-46d2-b0a9-3e2e2afa828e                  Corsica   \n",
       "14ce36f4-427c-11ea-a529-887873dd81ef                  Jericho   \n",
       "\n",
       "                                     specific_epithet      subfamily  \\\n",
       "7054c858-89e7-4288-8f63-d9b49e53c394           apollo   Parnassiinae   \n",
       "4f354c85-954a-4bd9-9a1b-3ab603b55bc2             napi       Pierinae   \n",
       "56c54b5c-2d3f-410c-9df8-895f5f16e55e           icarus  Polyommatinae   \n",
       "e611e40d-d19c-463b-b4ea-1f86886a65de             idas  Polyommatinae   \n",
       "47834000-94aa-4910-a5ac-5b6c15850847          athalia    Nymphalinae   \n",
       "...                                               ...            ...   \n",
       "e6920036-f1d3-47da-9549-cdaed0591d0b           canace    Nymphalinae   \n",
       "e93e05a0-6b56-42ce-8660-88534293c0d9       bambusarum       Pierinae   \n",
       "ea18eec5-c4cc-475e-b17e-7ff963693601          ariadne   Parnassiinae   \n",
       "ecb10995-6293-46d2-b0a9-3e2e2afa828e         hospiton   Papilioninae   \n",
       "14ce36f4-427c-11ea-a529-887873dd81ef         asterope      Satyrinae   \n",
       "\n",
       "                                     subspecific_epithet  \\\n",
       "7054c858-89e7-4288-8f63-d9b49e53c394             nivatus   \n",
       "4f354c85-954a-4bd9-9a1b-3ab603b55bc2                None   \n",
       "56c54b5c-2d3f-410c-9df8-895f5f16e55e                None   \n",
       "e611e40d-d19c-463b-b4ea-1f86886a65de                None   \n",
       "47834000-94aa-4910-a5ac-5b6c15850847                None   \n",
       "...                                                  ...   \n",
       "e6920036-f1d3-47da-9549-cdaed0591d0b                None   \n",
       "e93e05a0-6b56-42ce-8660-88534293c0d9                None   \n",
       "ea18eec5-c4cc-475e-b17e-7ff963693601             ariadne   \n",
       "ecb10995-6293-46d2-b0a9-3e2e2afa828e                None   \n",
       "14ce36f4-427c-11ea-a529-887873dd81ef                None   \n",
       "\n",
       "                                                                     token  \\\n",
       "7054c858-89e7-4288-8f63-d9b49e53c394  7054c858-89e7-4288-8f63-d9b49e53c394   \n",
       "4f354c85-954a-4bd9-9a1b-3ab603b55bc2  4f354c85-954a-4bd9-9a1b-3ab603b55bc2   \n",
       "56c54b5c-2d3f-410c-9df8-895f5f16e55e  56c54b5c-2d3f-410c-9df8-895f5f16e55e   \n",
       "e611e40d-d19c-463b-b4ea-1f86886a65de  e611e40d-d19c-463b-b4ea-1f86886a65de   \n",
       "47834000-94aa-4910-a5ac-5b6c15850847  47834000-94aa-4910-a5ac-5b6c15850847   \n",
       "...                                                                    ...   \n",
       "e6920036-f1d3-47da-9549-cdaed0591d0b  e6920036-f1d3-47da-9549-cdaed0591d0b   \n",
       "e93e05a0-6b56-42ce-8660-88534293c0d9  e93e05a0-6b56-42ce-8660-88534293c0d9   \n",
       "ea18eec5-c4cc-475e-b17e-7ff963693601  ea18eec5-c4cc-475e-b17e-7ff963693601   \n",
       "ecb10995-6293-46d2-b0a9-3e2e2afa828e  ecb10995-6293-46d2-b0a9-3e2e2afa828e   \n",
       "14ce36f4-427c-11ea-a529-887873dd81ef  14ce36f4-427c-11ea-a529-887873dd81ef   \n",
       "\n",
       "                                                                         path_to_image  \\\n",
       "7054c858-89e7-4288-8f63-d9b49e53c394  ../raw_data/IMG/ETHZ_ENT01_2018_03_19_136064.JPG   \n",
       "4f354c85-954a-4bd9-9a1b-3ab603b55bc2  ../raw_data/IMG/ETHZ_ENT01_2017_04_07_012909.JPG   \n",
       "56c54b5c-2d3f-410c-9df8-895f5f16e55e  ../raw_data/IMG/ETHZ_ENT01_2017_05_08_026461.JPG   \n",
       "e611e40d-d19c-463b-b4ea-1f86886a65de  ../raw_data/IMG/ETHZ_ENT01_2017_04_28_021611.JPG   \n",
       "47834000-94aa-4910-a5ac-5b6c15850847  ../raw_data/IMG/ETHZ_ENT01_2017_04_06_012709.JPG   \n",
       "...                                                                                ...   \n",
       "e6920036-f1d3-47da-9549-cdaed0591d0b  ../raw_data/IMG/ETHZ_ENT01_2017_05_11_028859.JPG   \n",
       "e93e05a0-6b56-42ce-8660-88534293c0d9  ../raw_data/IMG/ETHZ_ENT01_2017_04_10_014280.JPG   \n",
       "ea18eec5-c4cc-475e-b17e-7ff963693601  ../raw_data/IMG/ETHZ_ENT01_2018_03_08_132516.JPG   \n",
       "ecb10995-6293-46d2-b0a9-3e2e2afa828e  ../raw_data/IMG/ETHZ_ENT01_2017_03_20_004671.JPG   \n",
       "14ce36f4-427c-11ea-a529-887873dd81ef  ../raw_data/IMG/ETHZ_ENT01_2017_06_06_040263.JPG   \n",
       "\n",
       "                                                     species  \\\n",
       "7054c858-89e7-4288-8f63-d9b49e53c394       Parnassius_apollo   \n",
       "4f354c85-954a-4bd9-9a1b-3ab603b55bc2             Pieris_napi   \n",
       "56c54b5c-2d3f-410c-9df8-895f5f16e55e      Polyommatus_icarus   \n",
       "e611e40d-d19c-463b-b4ea-1f86886a65de           Plebejus_idas   \n",
       "47834000-94aa-4910-a5ac-5b6c15850847        Melitaea_athalia   \n",
       "...                                                      ...   \n",
       "e6920036-f1d3-47da-9549-cdaed0591d0b        Nymphalis_canace   \n",
       "e93e05a0-6b56-42ce-8660-88534293c0d9  Anthocharis_bambusarum   \n",
       "ea18eec5-c4cc-475e-b17e-7ff963693601      Parnassius_ariadne   \n",
       "ecb10995-6293-46d2-b0a9-3e2e2afa828e        Papilio_hospiton   \n",
       "14ce36f4-427c-11ea-a529-887873dd81ef        Ypthima_asterope   \n",
       "\n",
       "                                                                              full_path  \n",
       "7054c858-89e7-4288-8f63-d9b49e53c394  Parnassius_apollo/ETHZ_ENT01_2018_03_19_136064...  \n",
       "4f354c85-954a-4bd9-9a1b-3ab603b55bc2       Pieris_napi/ETHZ_ENT01_2017_04_07_012909.JPG  \n",
       "56c54b5c-2d3f-410c-9df8-895f5f16e55e  Polyommatus_icarus/ETHZ_ENT01_2017_05_08_02646...  \n",
       "e611e40d-d19c-463b-b4ea-1f86886a65de     Plebejus_idas/ETHZ_ENT01_2017_04_28_021611.JPG  \n",
       "47834000-94aa-4910-a5ac-5b6c15850847  Melitaea_athalia/ETHZ_ENT01_2017_04_06_012709.JPG  \n",
       "...                                                                                 ...  \n",
       "e6920036-f1d3-47da-9549-cdaed0591d0b  Nymphalis_canace/ETHZ_ENT01_2017_05_11_028859.JPG  \n",
       "e93e05a0-6b56-42ce-8660-88534293c0d9  Anthocharis_bambusarum/ETHZ_ENT01_2017_04_10_0...  \n",
       "ea18eec5-c4cc-475e-b17e-7ff963693601  Parnassius_ariadne/ETHZ_ENT01_2018_03_08_13251...  \n",
       "ecb10995-6293-46d2-b0a9-3e2e2afa828e  Papilio_hospiton/ETHZ_ENT01_2017_03_20_004671.JPG  \n",
       "14ce36f4-427c-11ea-a529-887873dd81ef  Ypthima_asterope/ETHZ_ENT01_2017_06_06_040263.JPG  \n",
       "\n",
       "[705 rows x 18 columns]"
      ]
     },
     "execution_count": 54,
     "metadata": {},
     "output_type": "execute_result"
    }
   ],
   "source": [
    "df_train"
   ]
  },
  {
   "cell_type": "code",
   "execution_count": 15,
   "id": "17bbb733",
   "metadata": {},
   "outputs": [],
   "source": [
    "test_predict = df_train['full_path'][0]"
   ]
  },
  {
   "cell_type": "code",
   "execution_count": 16,
   "id": "2ae9fef3",
   "metadata": {},
   "outputs": [],
   "source": [
    "del df_train\n",
    "del df_val\n",
    "del df_test"
   ]
  },
  {
   "cell_type": "code",
   "execution_count": 17,
   "id": "899f69d4",
   "metadata": {},
   "outputs": [],
   "source": [
    "filtered_train = [join(PATH_TRAIN, species) for species in black_list]\n",
    "filtered_val = [join(PATH_VAL, species) for species in black_list_val]\n",
    "filtered_test = [join(PATH_TEST, species) for species in black_list_test]"
   ]
  },
  {
   "cell_type": "code",
   "execution_count": 18,
   "id": "fad79cbe",
   "metadata": {},
   "outputs": [
    {
     "name": "stderr",
     "output_type": "stream",
     "text": [
      "2021-08-31 09:17:42.949639: I tensorflow/stream_executor/cuda/cuda_gpu_executor.cc:937] successful NUMA node read from SysFS had negative value (-1), but there must be at least one NUMA node, so returning NUMA node zero\n",
      "2021-08-31 09:17:42.950225: I tensorflow/stream_executor/cuda/cuda_gpu_executor.cc:937] successful NUMA node read from SysFS had negative value (-1), but there must be at least one NUMA node, so returning NUMA node zero\n",
      "2021-08-31 09:17:42.950682: I tensorflow/stream_executor/cuda/cuda_gpu_executor.cc:937] successful NUMA node read from SysFS had negative value (-1), but there must be at least one NUMA node, so returning NUMA node zero\n",
      "2021-08-31 09:17:42.951617: I tensorflow/stream_executor/cuda/cuda_gpu_executor.cc:937] successful NUMA node read from SysFS had negative value (-1), but there must be at least one NUMA node, so returning NUMA node zero\n",
      "2021-08-31 09:17:42.952104: I tensorflow/stream_executor/cuda/cuda_gpu_executor.cc:937] successful NUMA node read from SysFS had negative value (-1), but there must be at least one NUMA node, so returning NUMA node zero\n",
      "2021-08-31 09:17:42.952558: I tensorflow/stream_executor/cuda/cuda_gpu_executor.cc:937] successful NUMA node read from SysFS had negative value (-1), but there must be at least one NUMA node, so returning NUMA node zero\n",
      "2021-08-31 09:17:42.953083: I tensorflow/stream_executor/cuda/cuda_gpu_executor.cc:937] successful NUMA node read from SysFS had negative value (-1), but there must be at least one NUMA node, so returning NUMA node zero\n",
      "2021-08-31 09:17:42.953543: I tensorflow/stream_executor/cuda/cuda_gpu_executor.cc:937] successful NUMA node read from SysFS had negative value (-1), but there must be at least one NUMA node, so returning NUMA node zero\n",
      "2021-08-31 09:17:42.953938: I tensorflow/core/common_runtime/gpu/gpu_device.cc:1510] Created device /job:localhost/replica:0/task:0/device:GPU:0 with 2021 MB memory:  -> device: 0, name: NVIDIA GeForce GTX 1050 Ti, pci bus id: 0000:01:00.0, compute capability: 6.1\n"
     ]
    }
   ],
   "source": [
    "train_ds = Dataset.from_tensor_slices(filtered_train)\n",
    "val_ds = Dataset.from_tensor_slices(filtered_val)\n",
    "test_ds = Dataset.from_tensor_slices(filtered_test)"
   ]
  },
  {
   "cell_type": "code",
   "execution_count": 19,
   "id": "21cd36dd",
   "metadata": {},
   "outputs": [],
   "source": [
    "del filtered_train\n",
    "del filtered_test\n",
    "del filtered_val"
   ]
  },
  {
   "cell_type": "code",
   "execution_count": 20,
   "id": "8e96cc1f",
   "metadata": {},
   "outputs": [],
   "source": [
    "def get_label(file_path,class_names=train_names):\n",
    "  # convert the path to a list of path components\n",
    "  parts = split(file_path, sep)\n",
    "  # The second to last is the class-directory\n",
    "  one_hot = parts[-2] == class_names\n",
    "  # Integer encode the label\n",
    "  return argmax(one_hot)"
   ]
  },
  {
   "cell_type": "code",
   "execution_count": 21,
   "id": "0de3e5e6",
   "metadata": {},
   "outputs": [],
   "source": [
    "def decode_img(img):\n",
    "    # convert the compressed string to a 3D uint8 tensor\n",
    "    img = decode_jpeg(img, channels=3)\n",
    "    img = preprocess_input(img)\n",
    "    # resize the image to the desired size\n",
    "    return img\n"
   ]
  },
  {
   "cell_type": "code",
   "execution_count": 22,
   "id": "09d41c55",
   "metadata": {},
   "outputs": [],
   "source": [
    "def process_path(file_path, class_names=train_names):\n",
    "    label = get_label(file_path, class_names)\n",
    "    # load the raw data from the file as a string\n",
    "    img = read_file(file_path)\n",
    "    img = decode_img(img)\n",
    "    return img, label"
   ]
  },
  {
   "cell_type": "code",
   "execution_count": 23,
   "id": "7a79473c",
   "metadata": {},
   "outputs": [],
   "source": [
    "AUTOTUNE = AUTOTUNE"
   ]
  },
  {
   "cell_type": "code",
   "execution_count": 24,
   "id": "d087c6e6",
   "metadata": {},
   "outputs": [],
   "source": [
    "train_ds = train_ds.map(process_path, num_parallel_calls=AUTOTUNE)\n",
    "val_ds = val_ds.map(process_path, num_parallel_calls=AUTOTUNE)\n",
    "test_ds = test_ds.map(process_path, num_parallel_calls=AUTOTUNE)"
   ]
  },
  {
   "cell_type": "code",
   "execution_count": null,
   "id": "04d1d242",
   "metadata": {},
   "outputs": [],
   "source": []
  },
  {
   "cell_type": "code",
   "execution_count": 25,
   "id": "01dd24f5",
   "metadata": {},
   "outputs": [],
   "source": [
    "def configure_for_performance(ds):\n",
    "    #ds = ds.cache()\n",
    "    ds = ds.shuffle(buffer_size=1000)\n",
    "    ds = ds.batch(batch_size=32)\n",
    "    ds = ds.prefetch(buffer_size=AUTOTUNE)\n",
    "    return ds\n",
    "\n",
    "train_ds = configure_for_performance(train_ds)\n",
    "val_ds = configure_for_performance(val_ds)\n",
    "test_ds = configure_for_performance(test_ds)"
   ]
  },
  {
   "cell_type": "code",
   "execution_count": 26,
   "id": "884dccba",
   "metadata": {},
   "outputs": [
    {
     "data": {
      "text/plain": [
       "tensorflow.python.data.ops.dataset_ops.PrefetchDataset"
      ]
     },
     "execution_count": 26,
     "metadata": {},
     "output_type": "execute_result"
    }
   ],
   "source": [
    "type(train_ds)"
   ]
  },
  {
   "cell_type": "markdown",
   "id": "fd626289",
   "metadata": {},
   "source": [
    "# Data Augmentation"
   ]
  },
  {
   "cell_type": "code",
   "execution_count": 27,
   "id": "c2eb7a18",
   "metadata": {},
   "outputs": [],
   "source": [
    "data_augmentation = Sequential([\n",
    "  layers.experimental.preprocessing.RandomFlip(\"horizontal_and_vertical\"),\n",
    "  layers.experimental.preprocessing.RandomRotation(0.2),\n",
    "])"
   ]
  },
  {
   "cell_type": "code",
   "execution_count": 28,
   "id": "11b6be06",
   "metadata": {},
   "outputs": [],
   "source": [
    "IMG_SIZE = 128\n",
    "\n",
    "resize_and_rescale = Sequential([\n",
    "  layers.experimental.preprocessing.Resizing(IMG_SIZE, IMG_SIZE),\n",
    "  layers.experimental.preprocessing.Rescaling(1./255)\n",
    "])\n"
   ]
  },
  {
   "cell_type": "code",
   "execution_count": 29,
   "id": "d1cced25",
   "metadata": {},
   "outputs": [
    {
     "data": {
      "text/plain": [
       "<PrefetchDataset shapes: ((None, None, None, 3), (None,)), types: (tf.uint8, tf.int64)>"
      ]
     },
     "execution_count": 29,
     "metadata": {},
     "output_type": "execute_result"
    }
   ],
   "source": [
    "train_ds"
   ]
  },
  {
   "cell_type": "markdown",
   "id": "ea75ff12",
   "metadata": {},
   "source": [
    "#augmentation = ImageDataGenerator(rotation_range=25, width_shift_range=0.2,\n",
    "                  height_shift_range=0.2,  \n",
    "                  zoom_range=0.1, horizontal_flip=True)"
   ]
  },
  {
   "cell_type": "code",
   "execution_count": 30,
   "id": "ad816a1c",
   "metadata": {},
   "outputs": [],
   "source": [
    "batch_size = 32\n",
    "def prepare(ds, shuffle=False, augment=False):\n",
    "    # Resize and rescale all datasets\n",
    "    ds = ds.map(lambda x, y: (resize_and_rescale(x), y), \n",
    "              num_parallel_calls=AUTOTUNE)\n",
    "\n",
    "    if shuffle:\n",
    "        ds = ds.shuffle(1000)\n",
    "\n",
    "    # Use data augmentation only on the training set\n",
    "    if augment:\n",
    "        ds = ds.map(lambda x, y: (data_augmentation(x, training=True), y), \n",
    "                num_parallel_calls=AUTOTUNE)\n",
    "\n",
    "    # Use buffered prefecting on all datasets\n",
    "    return ds.prefetch(buffer_size=AUTOTUNE)\n"
   ]
  },
  {
   "cell_type": "code",
   "execution_count": 31,
   "id": "8cc6fb68",
   "metadata": {},
   "outputs": [],
   "source": [
    "#train_ds = prepare(train_ds, shuffle=False, augment=True)"
   ]
  },
  {
   "cell_type": "markdown",
   "id": "81387b34",
   "metadata": {},
   "source": [
    "image_batch, label_batch = next(iter(train_ds))\n",
    "print(len(label_batch))\n",
    "plt.figure(figsize=(10, 10))\n",
    "for i in range(9):\n",
    "    ax = plt.subplot(3, 3, i + 1)\n",
    "    print(image_batch.shape)\n",
    "    plt.imshow(image_batch[i].numpy().astype(\"uint8\"))\n",
    "    label = label_batch[i]\n",
    "    plt.title(train_names[label])\n",
    "    plt.axis(\"off\")"
   ]
  },
  {
   "cell_type": "code",
   "execution_count": 32,
   "id": "930016a6",
   "metadata": {},
   "outputs": [],
   "source": [
    "#train_ds = train_ds.map(augmentation.flow, num_parallel_calls=AUTOTUNE)"
   ]
  },
  {
   "cell_type": "code",
   "execution_count": null,
   "id": "db1530fb",
   "metadata": {},
   "outputs": [],
   "source": []
  },
  {
   "cell_type": "code",
   "execution_count": 33,
   "id": "99235fa3",
   "metadata": {},
   "outputs": [],
   "source": [
    "# y_train = list(map(lambda x: x[1].numpy(), train_ds))"
   ]
  },
  {
   "cell_type": "code",
   "execution_count": 34,
   "id": "b6cf7a9e",
   "metadata": {},
   "outputs": [],
   "source": [
    "# pd.DataFrame(y_train).max()"
   ]
  },
  {
   "cell_type": "code",
   "execution_count": 35,
   "id": "7a3860a8",
   "metadata": {},
   "outputs": [],
   "source": [
    "# y_train"
   ]
  },
  {
   "cell_type": "markdown",
   "id": "15ad7144",
   "metadata": {},
   "source": [
    "# Model"
   ]
  },
  {
   "cell_type": "code",
   "execution_count": 36,
   "id": "d261229e",
   "metadata": {},
   "outputs": [],
   "source": [
    "from tensorflow.keras.applications.vgg16 import VGG16\n",
    "from tensorflow.keras import optimizers, layers, models\n",
    "from tensorflow.keras.callbacks import EarlyStopping"
   ]
  },
  {
   "cell_type": "code",
   "execution_count": 37,
   "id": "197dedfe",
   "metadata": {},
   "outputs": [],
   "source": [
    "def model_VGG16(train_ds, val_ds, test_ds, image_size=(128, 128, 3),  patience=3, learning_rate=0.001, nb_epochs=15, nb_couches_dense_layer=130):\n",
    "    \n",
    "    model = VGG16(weights=\"imagenet\", include_top=False, input_shape = image_size)\n",
    "    \n",
    "    \n",
    "\n",
    "\n",
    "\n",
    "    model.trainable = False\n",
    "    \n",
    "    #add last layers\n",
    "    \n",
    "    flatten_layer = layers.Flatten()\n",
    "    dense_layer = layers.Dense(nb_couches_dense_layer, activation='relu')\n",
    "    '''dropout_layer1 = layers.Dropout(.2, input_shape=(2,))\n",
    "    dense_layer2 = layers.Dense(1000, activation='relu')\n",
    "    dropout_layer2 = layers.Dropout(.2, input_shape=(2,))'''\n",
    "    prediction_layer = layers.Dense(228, activation='softmax')\n",
    "    model_final = models.Sequential([\n",
    "        data_augmentation,\n",
    "        resize_and_rescale,\n",
    "        model,\n",
    "        flatten_layer,\n",
    "        dense_layer,\n",
    "        prediction_layer\n",
    "    ])\n",
    "    \n",
    "    #build model\n",
    "    opt = optimizers.Adam(learning_rate=learning_rate)\n",
    "    model_final.compile(loss='sparse_categorical_crossentropy',\n",
    "                  optimizer=opt,\n",
    "                  metrics=['accuracy'])\n",
    "    \n",
    "    \n",
    "\n",
    "    \n",
    "    #set earlystopping\n",
    "    es = EarlyStopping(monitor='val_loss', patience=patience, verbose=1, restore_best_weights=True)\n",
    "    \n",
    "    #launch model\n",
    "    history = model_final.fit(train_ds, \n",
    "                    validation_data=val_ds, \n",
    "                    epochs=nb_epochs,  \n",
    "                    callbacks=[es])\n",
    "    \n",
    "    model_final.summary()\n",
    "    \n",
    "    #evaluate model\n",
    "    res_vgg = model_final.evaluate(test_ds)\n",
    "    \n",
    "    test_accuracy_vgg = res_vgg[-1]\n",
    "    \n",
    "    \n",
    "    return (f\"test_accuracy_vgg = {round(test_accuracy_vgg,2)*100} %\"), model_final"
   ]
  },
  {
   "cell_type": "code",
   "execution_count": 38,
   "id": "b7f00f3a",
   "metadata": {},
   "outputs": [],
   "source": [
    "from Butterfly_identification.trainer import plot_history"
   ]
  },
  {
   "cell_type": "code",
   "execution_count": 39,
   "id": "37c2c06a",
   "metadata": {},
   "outputs": [
    {
     "name": "stdout",
     "output_type": "stream",
     "text": [
      "Epoch 1/50\n"
     ]
    },
    {
     "name": "stderr",
     "output_type": "stream",
     "text": [
      "2021-08-31 09:17:46.476092: I tensorflow/compiler/mlir/mlir_graph_optimization_pass.cc:185] None of the MLIR Optimization Passes are enabled (registered 2)\n",
      "2021-08-31 09:17:52.794868: I tensorflow/stream_executor/cuda/cuda_dnn.cc:369] Loaded cuDNN version 8202\n",
      "2021-08-31 09:18:05.012189: W tensorflow/core/common_runtime/bfc_allocator.cc:272] Allocator (GPU_0_bfc) ran out of memory trying to allocate 3.04GiB with freed_by_count=0. The caller indicates that this is not a failure, but may mean that there could be performance gains if more memory were available.\n",
      "2021-08-31 09:18:06.138739: W tensorflow/core/common_runtime/bfc_allocator.cc:272] Allocator (GPU_0_bfc) ran out of memory trying to allocate 2.55GiB with freed_by_count=0. The caller indicates that this is not a failure, but may mean that there could be performance gains if more memory were available.\n",
      "2021-08-31 09:18:07.115490: W tensorflow/core/common_runtime/bfc_allocator.cc:272] Allocator (GPU_0_bfc) ran out of memory trying to allocate 2.34GiB with freed_by_count=0. The caller indicates that this is not a failure, but may mean that there could be performance gains if more memory were available.\n",
      "2021-08-31 09:18:08.068921: W tensorflow/core/common_runtime/bfc_allocator.cc:272] Allocator (GPU_0_bfc) ran out of memory trying to allocate 2.28GiB with freed_by_count=0. The caller indicates that this is not a failure, but may mean that there could be performance gains if more memory were available.\n"
     ]
    },
    {
     "name": "stdout",
     "output_type": "stream",
     "text": [
      "22/23 [===========================>..] - ETA: 0s - loss: nan - accuracy: 0.0014"
     ]
    },
    {
     "name": "stderr",
     "output_type": "stream",
     "text": [
      "2021-08-31 09:18:11.558714: W tensorflow/core/common_runtime/bfc_allocator.cc:272] Allocator (GPU_0_bfc) ran out of memory trying to allocate 2.06GiB with freed_by_count=0. The caller indicates that this is not a failure, but may mean that there could be performance gains if more memory were available.\n",
      "2021-08-31 09:18:11.664933: W tensorflow/core/common_runtime/bfc_allocator.cc:272] Allocator (GPU_0_bfc) ran out of memory trying to allocate 2.06GiB with freed_by_count=0. The caller indicates that this is not a failure, but may mean that there could be performance gains if more memory were available.\n",
      "2021-08-31 09:18:11.757753: W tensorflow/core/common_runtime/bfc_allocator.cc:272] Allocator (GPU_0_bfc) ran out of memory trying to allocate 2.09GiB with freed_by_count=0. The caller indicates that this is not a failure, but may mean that there could be performance gains if more memory were available.\n"
     ]
    },
    {
     "name": "stdout",
     "output_type": "stream",
     "text": [
      "\b\b\b\b\b\b\b\b\b\b\b\b\b\b\b\b\b\b\b\b\b\b\b\b\b\b\b\b\b\b\b\b\b\b\b\b\b\b\b\b\b\b\b\b\b\b\b\b\b\b\b\b\b\b\b\b\b\b\b\b\b\b\b\b\b\b\b\b\b\b\b\b\b\b\b\b\b\b\b\r",
      "23/23 [==============================] - ETA: 0s - loss: nan - accuracy: 0.0014"
     ]
    },
    {
     "name": "stderr",
     "output_type": "stream",
     "text": [
      "2021-08-31 09:18:11.857807: W tensorflow/core/common_runtime/bfc_allocator.cc:272] Allocator (GPU_0_bfc) ran out of memory trying to allocate 2.15GiB with freed_by_count=0. The caller indicates that this is not a failure, but may mean that there could be performance gains if more memory were available.\n",
      "2021-08-31 09:18:30.372426: W tensorflow/core/common_runtime/bfc_allocator.cc:272] Allocator (GPU_0_bfc) ran out of memory trying to allocate 2.82GiB with freed_by_count=0. The caller indicates that this is not a failure, but may mean that there could be performance gains if more memory were available.\n",
      "2021-08-31 09:18:31.196376: W tensorflow/core/common_runtime/bfc_allocator.cc:272] Allocator (GPU_0_bfc) ran out of memory trying to allocate 2.44GiB with freed_by_count=0. The caller indicates that this is not a failure, but may mean that there could be performance gains if more memory were available.\n"
     ]
    },
    {
     "name": "stdout",
     "output_type": "stream",
     "text": [
      "23/23 [==============================] - 47s 1s/step - loss: nan - accuracy: 0.0014 - val_loss: nan - val_accuracy: 0.0281\n",
      "Epoch 2/50\n"
     ]
    },
    {
     "ename": "KeyboardInterrupt",
     "evalue": "",
     "output_type": "error",
     "traceback": [
      "\u001b[0;31m---------------------------------------------------------------------------\u001b[0m",
      "\u001b[0;31mKeyboardInterrupt\u001b[0m                         Traceback (most recent call last)",
      "\u001b[0;32m/tmp/ipykernel_5995/1996043853.py\u001b[0m in \u001b[0;36m<module>\u001b[0;34m\u001b[0m\n\u001b[0;32m----> 1\u001b[0;31m \u001b[0mcheck\u001b[0m\u001b[0;34m,\u001b[0m \u001b[0mmodel\u001b[0m \u001b[0;34m=\u001b[0m \u001b[0mmodel_VGG16\u001b[0m\u001b[0;34m(\u001b[0m\u001b[0mtrain_ds\u001b[0m\u001b[0;34m,\u001b[0m \u001b[0mval_ds\u001b[0m\u001b[0;34m,\u001b[0m \u001b[0mtest_ds\u001b[0m\u001b[0;34m,\u001b[0m \u001b[0mnb_epochs\u001b[0m\u001b[0;34m=\u001b[0m\u001b[0;36m50\u001b[0m\u001b[0;34m,\u001b[0m \u001b[0mnb_couches_dense_layer\u001b[0m\u001b[0;34m=\u001b[0m\u001b[0;36m100\u001b[0m\u001b[0;34m)\u001b[0m\u001b[0;34m\u001b[0m\u001b[0;34m\u001b[0m\u001b[0m\n\u001b[0m\u001b[1;32m      2\u001b[0m \u001b[0mAudio\u001b[0m\u001b[0;34m(\u001b[0m\u001b[0msound_file\u001b[0m\u001b[0;34m,\u001b[0m \u001b[0mautoplay\u001b[0m\u001b[0;34m=\u001b[0m\u001b[0;32mTrue\u001b[0m\u001b[0;34m)\u001b[0m\u001b[0;34m\u001b[0m\u001b[0;34m\u001b[0m\u001b[0m\n",
      "\u001b[0;32m/tmp/ipykernel_5995/622282710.py\u001b[0m in \u001b[0;36mmodel_VGG16\u001b[0;34m(train_ds, val_ds, test_ds, image_size, patience, learning_rate, nb_epochs, nb_couches_dense_layer)\u001b[0m\n\u001b[1;32m     39\u001b[0m \u001b[0;34m\u001b[0m\u001b[0m\n\u001b[1;32m     40\u001b[0m     \u001b[0;31m#launch model\u001b[0m\u001b[0;34m\u001b[0m\u001b[0;34m\u001b[0m\u001b[0;34m\u001b[0m\u001b[0m\n\u001b[0;32m---> 41\u001b[0;31m     history = model_final.fit(train_ds, \n\u001b[0m\u001b[1;32m     42\u001b[0m                     \u001b[0mvalidation_data\u001b[0m\u001b[0;34m=\u001b[0m\u001b[0mval_ds\u001b[0m\u001b[0;34m,\u001b[0m\u001b[0;34m\u001b[0m\u001b[0;34m\u001b[0m\u001b[0m\n\u001b[1;32m     43\u001b[0m                     \u001b[0mepochs\u001b[0m\u001b[0;34m=\u001b[0m\u001b[0mnb_epochs\u001b[0m\u001b[0;34m,\u001b[0m\u001b[0;34m\u001b[0m\u001b[0;34m\u001b[0m\u001b[0m\n",
      "\u001b[0;32m~/.pyenv/versions/3.8.6/envs/butterfly/lib/python3.8/site-packages/keras/engine/training.py\u001b[0m in \u001b[0;36mfit\u001b[0;34m(self, x, y, batch_size, epochs, verbose, callbacks, validation_split, validation_data, shuffle, class_weight, sample_weight, initial_epoch, steps_per_epoch, validation_steps, validation_batch_size, validation_freq, max_queue_size, workers, use_multiprocessing)\u001b[0m\n\u001b[1;32m   1182\u001b[0m                 _r=1):\n\u001b[1;32m   1183\u001b[0m               \u001b[0mcallbacks\u001b[0m\u001b[0;34m.\u001b[0m\u001b[0mon_train_batch_begin\u001b[0m\u001b[0;34m(\u001b[0m\u001b[0mstep\u001b[0m\u001b[0;34m)\u001b[0m\u001b[0;34m\u001b[0m\u001b[0;34m\u001b[0m\u001b[0m\n\u001b[0;32m-> 1184\u001b[0;31m               \u001b[0mtmp_logs\u001b[0m \u001b[0;34m=\u001b[0m \u001b[0mself\u001b[0m\u001b[0;34m.\u001b[0m\u001b[0mtrain_function\u001b[0m\u001b[0;34m(\u001b[0m\u001b[0miterator\u001b[0m\u001b[0;34m)\u001b[0m\u001b[0;34m\u001b[0m\u001b[0;34m\u001b[0m\u001b[0m\n\u001b[0m\u001b[1;32m   1185\u001b[0m               \u001b[0;32mif\u001b[0m \u001b[0mdata_handler\u001b[0m\u001b[0;34m.\u001b[0m\u001b[0mshould_sync\u001b[0m\u001b[0;34m:\u001b[0m\u001b[0;34m\u001b[0m\u001b[0;34m\u001b[0m\u001b[0m\n\u001b[1;32m   1186\u001b[0m                 \u001b[0mcontext\u001b[0m\u001b[0;34m.\u001b[0m\u001b[0masync_wait\u001b[0m\u001b[0;34m(\u001b[0m\u001b[0;34m)\u001b[0m\u001b[0;34m\u001b[0m\u001b[0;34m\u001b[0m\u001b[0m\n",
      "\u001b[0;32m~/.pyenv/versions/3.8.6/envs/butterfly/lib/python3.8/site-packages/tensorflow/python/eager/def_function.py\u001b[0m in \u001b[0;36m__call__\u001b[0;34m(self, *args, **kwds)\u001b[0m\n\u001b[1;32m    883\u001b[0m \u001b[0;34m\u001b[0m\u001b[0m\n\u001b[1;32m    884\u001b[0m       \u001b[0;32mwith\u001b[0m \u001b[0mOptionalXlaContext\u001b[0m\u001b[0;34m(\u001b[0m\u001b[0mself\u001b[0m\u001b[0;34m.\u001b[0m\u001b[0m_jit_compile\u001b[0m\u001b[0;34m)\u001b[0m\u001b[0;34m:\u001b[0m\u001b[0;34m\u001b[0m\u001b[0;34m\u001b[0m\u001b[0m\n\u001b[0;32m--> 885\u001b[0;31m         \u001b[0mresult\u001b[0m \u001b[0;34m=\u001b[0m \u001b[0mself\u001b[0m\u001b[0;34m.\u001b[0m\u001b[0m_call\u001b[0m\u001b[0;34m(\u001b[0m\u001b[0;34m*\u001b[0m\u001b[0margs\u001b[0m\u001b[0;34m,\u001b[0m \u001b[0;34m**\u001b[0m\u001b[0mkwds\u001b[0m\u001b[0;34m)\u001b[0m\u001b[0;34m\u001b[0m\u001b[0;34m\u001b[0m\u001b[0m\n\u001b[0m\u001b[1;32m    886\u001b[0m \u001b[0;34m\u001b[0m\u001b[0m\n\u001b[1;32m    887\u001b[0m       \u001b[0mnew_tracing_count\u001b[0m \u001b[0;34m=\u001b[0m \u001b[0mself\u001b[0m\u001b[0;34m.\u001b[0m\u001b[0mexperimental_get_tracing_count\u001b[0m\u001b[0;34m(\u001b[0m\u001b[0;34m)\u001b[0m\u001b[0;34m\u001b[0m\u001b[0;34m\u001b[0m\u001b[0m\n",
      "\u001b[0;32m~/.pyenv/versions/3.8.6/envs/butterfly/lib/python3.8/site-packages/tensorflow/python/eager/def_function.py\u001b[0m in \u001b[0;36m_call\u001b[0;34m(self, *args, **kwds)\u001b[0m\n\u001b[1;32m    915\u001b[0m       \u001b[0;31m# In this case we have created variables on the first call, so we run the\u001b[0m\u001b[0;34m\u001b[0m\u001b[0;34m\u001b[0m\u001b[0;34m\u001b[0m\u001b[0m\n\u001b[1;32m    916\u001b[0m       \u001b[0;31m# defunned version which is guaranteed to never create variables.\u001b[0m\u001b[0;34m\u001b[0m\u001b[0;34m\u001b[0m\u001b[0;34m\u001b[0m\u001b[0m\n\u001b[0;32m--> 917\u001b[0;31m       \u001b[0;32mreturn\u001b[0m \u001b[0mself\u001b[0m\u001b[0;34m.\u001b[0m\u001b[0m_stateless_fn\u001b[0m\u001b[0;34m(\u001b[0m\u001b[0;34m*\u001b[0m\u001b[0margs\u001b[0m\u001b[0;34m,\u001b[0m \u001b[0;34m**\u001b[0m\u001b[0mkwds\u001b[0m\u001b[0;34m)\u001b[0m  \u001b[0;31m# pylint: disable=not-callable\u001b[0m\u001b[0;34m\u001b[0m\u001b[0;34m\u001b[0m\u001b[0m\n\u001b[0m\u001b[1;32m    918\u001b[0m     \u001b[0;32melif\u001b[0m \u001b[0mself\u001b[0m\u001b[0;34m.\u001b[0m\u001b[0m_stateful_fn\u001b[0m \u001b[0;32mis\u001b[0m \u001b[0;32mnot\u001b[0m \u001b[0;32mNone\u001b[0m\u001b[0;34m:\u001b[0m\u001b[0;34m\u001b[0m\u001b[0;34m\u001b[0m\u001b[0m\n\u001b[1;32m    919\u001b[0m       \u001b[0;31m# Release the lock early so that multiple threads can perform the call\u001b[0m\u001b[0;34m\u001b[0m\u001b[0;34m\u001b[0m\u001b[0;34m\u001b[0m\u001b[0m\n",
      "\u001b[0;32m~/.pyenv/versions/3.8.6/envs/butterfly/lib/python3.8/site-packages/tensorflow/python/eager/function.py\u001b[0m in \u001b[0;36m__call__\u001b[0;34m(self, *args, **kwargs)\u001b[0m\n\u001b[1;32m   3037\u001b[0m       (graph_function,\n\u001b[1;32m   3038\u001b[0m        filtered_flat_args) = self._maybe_define_function(args, kwargs)\n\u001b[0;32m-> 3039\u001b[0;31m     return graph_function._call_flat(\n\u001b[0m\u001b[1;32m   3040\u001b[0m         filtered_flat_args, captured_inputs=graph_function.captured_inputs)  # pylint: disable=protected-access\n\u001b[1;32m   3041\u001b[0m \u001b[0;34m\u001b[0m\u001b[0m\n",
      "\u001b[0;32m~/.pyenv/versions/3.8.6/envs/butterfly/lib/python3.8/site-packages/tensorflow/python/eager/function.py\u001b[0m in \u001b[0;36m_call_flat\u001b[0;34m(self, args, captured_inputs, cancellation_manager)\u001b[0m\n\u001b[1;32m   1961\u001b[0m         and executing_eagerly):\n\u001b[1;32m   1962\u001b[0m       \u001b[0;31m# No tape is watching; skip to running the function.\u001b[0m\u001b[0;34m\u001b[0m\u001b[0;34m\u001b[0m\u001b[0;34m\u001b[0m\u001b[0m\n\u001b[0;32m-> 1963\u001b[0;31m       return self._build_call_outputs(self._inference_function.call(\n\u001b[0m\u001b[1;32m   1964\u001b[0m           ctx, args, cancellation_manager=cancellation_manager))\n\u001b[1;32m   1965\u001b[0m     forward_backward = self._select_forward_and_backward_functions(\n",
      "\u001b[0;32m~/.pyenv/versions/3.8.6/envs/butterfly/lib/python3.8/site-packages/tensorflow/python/eager/function.py\u001b[0m in \u001b[0;36mcall\u001b[0;34m(self, ctx, args, cancellation_manager)\u001b[0m\n\u001b[1;32m    589\u001b[0m       \u001b[0;32mwith\u001b[0m \u001b[0m_InterpolateFunctionError\u001b[0m\u001b[0;34m(\u001b[0m\u001b[0mself\u001b[0m\u001b[0;34m)\u001b[0m\u001b[0;34m:\u001b[0m\u001b[0;34m\u001b[0m\u001b[0;34m\u001b[0m\u001b[0m\n\u001b[1;32m    590\u001b[0m         \u001b[0;32mif\u001b[0m \u001b[0mcancellation_manager\u001b[0m \u001b[0;32mis\u001b[0m \u001b[0;32mNone\u001b[0m\u001b[0;34m:\u001b[0m\u001b[0;34m\u001b[0m\u001b[0;34m\u001b[0m\u001b[0m\n\u001b[0;32m--> 591\u001b[0;31m           outputs = execute.execute(\n\u001b[0m\u001b[1;32m    592\u001b[0m               \u001b[0mstr\u001b[0m\u001b[0;34m(\u001b[0m\u001b[0mself\u001b[0m\u001b[0;34m.\u001b[0m\u001b[0msignature\u001b[0m\u001b[0;34m.\u001b[0m\u001b[0mname\u001b[0m\u001b[0;34m)\u001b[0m\u001b[0;34m,\u001b[0m\u001b[0;34m\u001b[0m\u001b[0;34m\u001b[0m\u001b[0m\n\u001b[1;32m    593\u001b[0m               \u001b[0mnum_outputs\u001b[0m\u001b[0;34m=\u001b[0m\u001b[0mself\u001b[0m\u001b[0;34m.\u001b[0m\u001b[0m_num_outputs\u001b[0m\u001b[0;34m,\u001b[0m\u001b[0;34m\u001b[0m\u001b[0;34m\u001b[0m\u001b[0m\n",
      "\u001b[0;32m~/.pyenv/versions/3.8.6/envs/butterfly/lib/python3.8/site-packages/tensorflow/python/eager/execute.py\u001b[0m in \u001b[0;36mquick_execute\u001b[0;34m(op_name, num_outputs, inputs, attrs, ctx, name)\u001b[0m\n\u001b[1;32m     57\u001b[0m   \u001b[0;32mtry\u001b[0m\u001b[0;34m:\u001b[0m\u001b[0;34m\u001b[0m\u001b[0;34m\u001b[0m\u001b[0m\n\u001b[1;32m     58\u001b[0m     \u001b[0mctx\u001b[0m\u001b[0;34m.\u001b[0m\u001b[0mensure_initialized\u001b[0m\u001b[0;34m(\u001b[0m\u001b[0;34m)\u001b[0m\u001b[0;34m\u001b[0m\u001b[0;34m\u001b[0m\u001b[0m\n\u001b[0;32m---> 59\u001b[0;31m     tensors = pywrap_tfe.TFE_Py_Execute(ctx._handle, device_name, op_name,\n\u001b[0m\u001b[1;32m     60\u001b[0m                                         inputs, attrs, num_outputs)\n\u001b[1;32m     61\u001b[0m   \u001b[0;32mexcept\u001b[0m \u001b[0mcore\u001b[0m\u001b[0;34m.\u001b[0m\u001b[0m_NotOkStatusException\u001b[0m \u001b[0;32mas\u001b[0m \u001b[0me\u001b[0m\u001b[0;34m:\u001b[0m\u001b[0;34m\u001b[0m\u001b[0;34m\u001b[0m\u001b[0m\n",
      "\u001b[0;31mKeyboardInterrupt\u001b[0m: "
     ]
    }
   ],
   "source": [
    "check, model = model_VGG16(train_ds, val_ds, test_ds, nb_epochs=50, nb_couches_dense_layer=100)\n",
    "Audio(sound_file, autoplay=True)"
   ]
  },
  {
   "cell_type": "code",
   "execution_count": null,
   "id": "ebbf79b8",
   "metadata": {},
   "outputs": [],
   "source": [
    "from PIL import Image\n",
    "test_predict = Image.open(PATH_TRAIN+test_predict)\n",
    "model.predict(preprocess_input(np.expand_dims(np.array(test_predict), axis=0)))\n",
    "# PATH_TRAIN+test_predict"
   ]
  },
  {
   "cell_type": "code",
   "execution_count": null,
   "id": "b2c5af40",
   "metadata": {},
   "outputs": [],
   "source": []
  },
  {
   "cell_type": "code",
   "execution_count": null,
   "id": "eb1d8ca7",
   "metadata": {},
   "outputs": [],
   "source": []
  },
  {
   "cell_type": "code",
   "execution_count": null,
   "id": "fe4dff8b",
   "metadata": {},
   "outputs": [],
   "source": []
  },
  {
   "cell_type": "code",
   "execution_count": null,
   "id": "6a9d3c56",
   "metadata": {},
   "outputs": [],
   "source": []
  }
 ],
 "metadata": {
  "kernelspec": {
   "display_name": "Python 3",
   "language": "python",
   "name": "python3"
  },
  "language_info": {
   "codemirror_mode": {
    "name": "ipython",
    "version": 3
   },
   "file_extension": ".py",
   "mimetype": "text/x-python",
   "name": "python",
   "nbconvert_exporter": "python",
   "pygments_lexer": "ipython3",
   "version": "3.8.6"
  },
  "toc": {
   "base_numbering": 1,
   "nav_menu": {},
   "number_sections": true,
   "sideBar": true,
   "skip_h1_title": false,
   "title_cell": "Table of Contents",
   "title_sidebar": "Contents",
   "toc_cell": false,
   "toc_position": {},
   "toc_section_display": true,
   "toc_window_display": false
  }
 },
 "nbformat": 4,
 "nbformat_minor": 5
}

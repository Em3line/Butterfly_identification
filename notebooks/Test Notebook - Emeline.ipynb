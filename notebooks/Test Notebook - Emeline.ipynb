{
 "cells": [
  {
   "cell_type": "code",
   "execution_count": 3,
   "id": "1364514a",
   "metadata": {
    "ExecuteTime": {
     "end_time": "2021-08-27T13:21:55.058096Z",
     "start_time": "2021-08-27T13:21:55.047881Z"
    }
   },
   "outputs": [],
   "source": [
    "%load_ext autoreload\n",
    "%autoreload 2"
   ]
  },
  {
   "cell_type": "code",
   "execution_count": 4,
   "id": "d0f7b6d2",
   "metadata": {
    "ExecuteTime": {
     "end_time": "2021-08-27T13:21:55.914266Z",
     "start_time": "2021-08-27T13:21:55.318592Z"
    }
   },
   "outputs": [],
   "source": [
    "import pandas as pd\n",
    "import numpy as np\n",
    "from PIL import Image\n",
    "from sklearn.preprocessing import OneHotEncoder\n",
    "import Butterfly_identification.preprocessbutterfly as preproc"
   ]
  },
  {
   "cell_type": "markdown",
   "id": "11431f06",
   "metadata": {},
   "source": [
    "# Get Data"
   ]
  },
  {
   "cell_type": "code",
   "execution_count": 91,
   "id": "45833058",
   "metadata": {
    "ExecuteTime": {
     "end_time": "2021-08-27T16:04:38.383062Z",
     "start_time": "2021-08-27T16:04:27.381970Z"
    }
   },
   "outputs": [],
   "source": [
    "# Import data\n",
    "df_train,df_val,df_test = preproc.get_data()"
   ]
  },
  {
   "cell_type": "code",
   "execution_count": 92,
   "id": "5efaf594",
   "metadata": {
    "ExecuteTime": {
     "end_time": "2021-08-27T16:04:38.397750Z",
     "start_time": "2021-08-27T16:04:38.384934Z"
    }
   },
   "outputs": [],
   "source": [
    "assert df_train.shape == (36536, 15)"
   ]
  },
  {
   "cell_type": "code",
   "execution_count": 93,
   "id": "9412c7f8",
   "metadata": {
    "ExecuteTime": {
     "end_time": "2021-08-27T16:04:38.665750Z",
     "start_time": "2021-08-27T16:04:38.399217Z"
    }
   },
   "outputs": [],
   "source": [
    "# Ajoute les deux colonnes species et path_to_image\n",
    "df_train = preproc.feature_engineering(df_train)\n",
    "df_val = preproc.feature_engineering(df_val)\n",
    "df_test = preproc.feature_engineering(df_test)"
   ]
  },
  {
   "cell_type": "code",
   "execution_count": 94,
   "id": "8c18750e",
   "metadata": {
    "ExecuteTime": {
     "end_time": "2021-08-27T16:04:38.753937Z",
     "start_time": "2021-08-27T16:04:38.667848Z"
    }
   },
   "outputs": [],
   "source": [
    "assert (df_train.shape[1], df_val.shape[1], df_test.shape[1]) == (17,17,17)"
   ]
  },
  {
   "cell_type": "code",
   "execution_count": 95,
   "id": "91e5ea7f",
   "metadata": {
    "ExecuteTime": {
     "end_time": "2021-08-27T16:04:39.304011Z",
     "start_time": "2021-08-27T16:04:38.757523Z"
    }
   },
   "outputs": [],
   "source": [
    "# Choisir un seuil du nombre minimum de photo par espèce (drop les autres)\n",
    "num_photo = 25\n",
    "df_train = preproc.get_data_minphoto(df_train, num_photo)"
   ]
  },
  {
   "cell_type": "code",
   "execution_count": 96,
   "id": "aba68c69",
   "metadata": {
    "ExecuteTime": {
     "end_time": "2021-08-27T16:04:39.323346Z",
     "start_time": "2021-08-27T16:04:39.305546Z"
    }
   },
   "outputs": [
    {
     "ename": "AssertionError",
     "evalue": "",
     "output_type": "error",
     "traceback": [
      "\u001b[0;31m---------------------------------------------------------------------------\u001b[0m",
      "\u001b[0;31mAssertionError\u001b[0m                            Traceback (most recent call last)",
      "\u001b[0;32m/tmp/ipykernel_37877/1580982054.py\u001b[0m in \u001b[0;36m<module>\u001b[0;34m\u001b[0m\n\u001b[1;32m      1\u001b[0m \u001b[0;32mif\u001b[0m \u001b[0mnum_photo\u001b[0m \u001b[0;32min\u001b[0m \u001b[0;34m[\u001b[0m\u001b[0;36m25\u001b[0m\u001b[0;34m,\u001b[0m\u001b[0;36m26\u001b[0m\u001b[0;34m,\u001b[0m\u001b[0;36m27\u001b[0m\u001b[0;34m]\u001b[0m\u001b[0;34m:\u001b[0m\u001b[0;34m\u001b[0m\u001b[0;34m\u001b[0m\u001b[0m\n\u001b[0;32m----> 2\u001b[0;31m     \u001b[0;32massert\u001b[0m \u001b[0mdf_train\u001b[0m\u001b[0;34m.\u001b[0m\u001b[0mshape\u001b[0m\u001b[0;34m[\u001b[0m\u001b[0;36m0\u001b[0m\u001b[0;34m]\u001b[0m \u001b[0;34m==\u001b[0m \u001b[0;36m6156\u001b[0m\u001b[0;34m\u001b[0m\u001b[0;34m\u001b[0m\u001b[0m\n\u001b[0m\u001b[1;32m      3\u001b[0m \u001b[0;32melif\u001b[0m \u001b[0mnum_photo\u001b[0m\u001b[0;34m!=\u001b[0m \u001b[0;36m1\u001b[0m\u001b[0;34m:\u001b[0m\u001b[0;34m\u001b[0m\u001b[0;34m\u001b[0m\u001b[0m\n\u001b[1;32m      4\u001b[0m     \u001b[0;32massert\u001b[0m \u001b[0mdf_train\u001b[0m\u001b[0;34m.\u001b[0m\u001b[0mshape\u001b[0m\u001b[0;34m[\u001b[0m\u001b[0;36m0\u001b[0m\u001b[0;34m]\u001b[0m \u001b[0;34m<\u001b[0m \u001b[0;36m36536\u001b[0m\u001b[0;34m\u001b[0m\u001b[0;34m\u001b[0m\u001b[0m\n\u001b[1;32m      5\u001b[0m \u001b[0;32melse\u001b[0m \u001b[0;34m:\u001b[0m\u001b[0;34m\u001b[0m\u001b[0;34m\u001b[0m\u001b[0m\n",
      "\u001b[0;31mAssertionError\u001b[0m: "
     ]
    }
   ],
   "source": [
    "if num_photo!= 1:\n",
    "    assert df_train.shape[0] < 36536\n",
    "else :\n",
    "    assert df_train.shape[0] == 36536"
   ]
  },
  {
   "cell_type": "code",
   "execution_count": 53,
   "id": "cc0331bb",
   "metadata": {
    "ExecuteTime": {
     "end_time": "2021-08-27T14:13:26.995798Z",
     "start_time": "2021-08-27T14:13:26.981347Z"
    }
   },
   "outputs": [
    {
     "data": {
      "text/plain": [
       "((5017, 17), (4794, 17))"
      ]
     },
     "execution_count": 53,
     "metadata": {},
     "output_type": "execute_result"
    }
   ],
   "source": [
    "df_val.shape , df_test.shape"
   ]
  },
  {
   "cell_type": "code",
   "execution_count": 61,
   "id": "dc133f0d",
   "metadata": {
    "ExecuteTime": {
     "end_time": "2021-08-27T14:14:23.532391Z",
     "start_time": "2021-08-27T14:14:23.503702Z"
    }
   },
   "outputs": [
    {
     "data": {
      "text/html": [
       "<div>\n",
       "<style scoped>\n",
       "    .dataframe tbody tr th:only-of-type {\n",
       "        vertical-align: middle;\n",
       "    }\n",
       "\n",
       "    .dataframe tbody tr th {\n",
       "        vertical-align: top;\n",
       "    }\n",
       "\n",
       "    .dataframe thead th {\n",
       "        text-align: right;\n",
       "    }\n",
       "</style>\n",
       "<table border=\"1\" class=\"dataframe\">\n",
       "  <thead>\n",
       "    <tr style=\"text-align: right;\">\n",
       "      <th></th>\n",
       "      <th>author</th>\n",
       "      <th>barcode</th>\n",
       "      <th>country</th>\n",
       "      <th>dec_lat</th>\n",
       "      <th>dec_long</th>\n",
       "      <th>family</th>\n",
       "      <th>genus</th>\n",
       "      <th>image_name</th>\n",
       "      <th>image_path</th>\n",
       "      <th>infraspecific_epithet</th>\n",
       "      <th>primary_division</th>\n",
       "      <th>specific_epithet</th>\n",
       "      <th>subfamily</th>\n",
       "      <th>subspecific_epithet</th>\n",
       "      <th>token</th>\n",
       "      <th>path_to_image</th>\n",
       "      <th>species</th>\n",
       "    </tr>\n",
       "  </thead>\n",
       "  <tbody>\n",
       "    <tr>\n",
       "      <th>0000e73d-4d1e-4241-a577-88103fc0961c</th>\n",
       "      <td>(Mayer, 1851)</td>\n",
       "      <td>ETHZ-ENT0012714</td>\n",
       "      <td>Switzerland</td>\n",
       "      <td>46.31</td>\n",
       "      <td>7.8</td>\n",
       "      <td>Pieridae</td>\n",
       "      <td>Pieris</td>\n",
       "      <td>ETHZ_ENT01_2017_04_03_010614.JPG</td>\n",
       "      <td>2017_04_03R</td>\n",
       "      <td>None</td>\n",
       "      <td>Valais</td>\n",
       "      <td>mannii</td>\n",
       "      <td>Pierinae</td>\n",
       "      <td>None</td>\n",
       "      <td>0000e73d-4d1e-4241-a577-88103fc0961c</td>\n",
       "      <td>../raw_data/IMG/ETHZ_ENT01_2017_04_03_010614.JPG</td>\n",
       "      <td>Pieris_mannii</td>\n",
       "    </tr>\n",
       "    <tr>\n",
       "      <th>000156fb-6f29-4057-b26f-eca7ce9e9460</th>\n",
       "      <td>(Hübner, 1806)</td>\n",
       "      <td>ETHZ-ENT0015323</td>\n",
       "      <td>Switzerland</td>\n",
       "      <td>46.76594</td>\n",
       "      <td>9.89316</td>\n",
       "      <td>Pieridae</td>\n",
       "      <td>Pieris</td>\n",
       "      <td>ETHZ_ENT01_2017_04_07_013503.JPG</td>\n",
       "      <td>2017_04_07R</td>\n",
       "      <td>None</td>\n",
       "      <td>Grisons</td>\n",
       "      <td>bryoniae</td>\n",
       "      <td>Pierinae</td>\n",
       "      <td>None</td>\n",
       "      <td>000156fb-6f29-4057-b26f-eca7ce9e9460</td>\n",
       "      <td>../raw_data/IMG/ETHZ_ENT01_2017_04_07_013503.JPG</td>\n",
       "      <td>Pieris_bryoniae</td>\n",
       "    </tr>\n",
       "    <tr>\n",
       "      <th>00025400-f7bd-477b-9363-18defd2d5466</th>\n",
       "      <td>(Linnaeus, 1767)</td>\n",
       "      <td>ETHZ-ENT0019906</td>\n",
       "      <td>Morocco</td>\n",
       "      <td>30.2804</td>\n",
       "      <td>-9.1599</td>\n",
       "      <td>Lycaenidae</td>\n",
       "      <td>Leptotes</td>\n",
       "      <td>ETHZ_ENT01_2017_04_24_018779.JPG</td>\n",
       "      <td>2017_04_24R</td>\n",
       "      <td>None</td>\n",
       "      <td>Souss-Massa</td>\n",
       "      <td>pirithous</td>\n",
       "      <td>Polyommatinae</td>\n",
       "      <td>None</td>\n",
       "      <td>00025400-f7bd-477b-9363-18defd2d5466</td>\n",
       "      <td>../raw_data/IMG/ETHZ_ENT01_2017_04_24_018779.JPG</td>\n",
       "      <td>Leptotes_pirithous</td>\n",
       "    </tr>\n",
       "    <tr>\n",
       "      <th>0006c590-29cd-4a3d-8d81-26023ac346a0</th>\n",
       "      <td>(Rottemburg, 1775)</td>\n",
       "      <td>ETHZ-ENT0013615</td>\n",
       "      <td>Switzerland</td>\n",
       "      <td>47.37659</td>\n",
       "      <td>7.740225</td>\n",
       "      <td>Nymphalidae</td>\n",
       "      <td>Melitaea</td>\n",
       "      <td>ETHZ_ENT01_2017_04_06_012762.JPG</td>\n",
       "      <td>2017_04_06R</td>\n",
       "      <td>None</td>\n",
       "      <td>Basel-Landschaft</td>\n",
       "      <td>athalia</td>\n",
       "      <td>Nymphalinae</td>\n",
       "      <td>None</td>\n",
       "      <td>0006c590-29cd-4a3d-8d81-26023ac346a0</td>\n",
       "      <td>../raw_data/IMG/ETHZ_ENT01_2017_04_06_012762.JPG</td>\n",
       "      <td>Melitaea_athalia</td>\n",
       "    </tr>\n",
       "    <tr>\n",
       "      <th>000b01ec-1bc7-4a3c-8599-0ad88fa654e3</th>\n",
       "      <td>(Denis &amp; Schiffermüller, 1775)</td>\n",
       "      <td>ETHZ-ENT0042254</td>\n",
       "      <td>Switzerland</td>\n",
       "      <td>47.36836</td>\n",
       "      <td>7.73113</td>\n",
       "      <td>Nymphalidae</td>\n",
       "      <td>Erebia</td>\n",
       "      <td>ETHZ_ENT01_2017_06_13_043879.JPG</td>\n",
       "      <td>2017_06_13R</td>\n",
       "      <td>None</td>\n",
       "      <td>Basel-Landschaft</td>\n",
       "      <td>medusa</td>\n",
       "      <td>Satyrinae</td>\n",
       "      <td>None</td>\n",
       "      <td>000b01ec-1bc7-4a3c-8599-0ad88fa654e3</td>\n",
       "      <td>../raw_data/IMG/ETHZ_ENT01_2017_06_13_043879.JPG</td>\n",
       "      <td>Erebia_medusa</td>\n",
       "    </tr>\n",
       "    <tr>\n",
       "      <th>...</th>\n",
       "      <td>...</td>\n",
       "      <td>...</td>\n",
       "      <td>...</td>\n",
       "      <td>...</td>\n",
       "      <td>...</td>\n",
       "      <td>...</td>\n",
       "      <td>...</td>\n",
       "      <td>...</td>\n",
       "      <td>...</td>\n",
       "      <td>...</td>\n",
       "      <td>...</td>\n",
       "      <td>...</td>\n",
       "      <td>...</td>\n",
       "      <td>...</td>\n",
       "      <td>...</td>\n",
       "      <td>...</td>\n",
       "      <td>...</td>\n",
       "    </tr>\n",
       "    <tr>\n",
       "      <th>fff678fc-110c-4c23-a7f3-43d42c518bd8</th>\n",
       "      <td>(Borkhausen, 1788)</td>\n",
       "      <td>ETHZ-ENT0038949</td>\n",
       "      <td>Switzerland</td>\n",
       "      <td>47.760713</td>\n",
       "      <td>8.609417</td>\n",
       "      <td>Nymphalidae</td>\n",
       "      <td>Coenonympha</td>\n",
       "      <td>ETHZ_ENT01_2017_06_06_040155.JPG</td>\n",
       "      <td>2017_06_06R</td>\n",
       "      <td>None</td>\n",
       "      <td>Schaffhausen</td>\n",
       "      <td>glycerion</td>\n",
       "      <td>Satyrinae</td>\n",
       "      <td>None</td>\n",
       "      <td>fff678fc-110c-4c23-a7f3-43d42c518bd8</td>\n",
       "      <td>../raw_data/IMG/ETHZ_ENT01_2017_06_06_040155.JPG</td>\n",
       "      <td>Coenonympha_glycerion</td>\n",
       "    </tr>\n",
       "    <tr>\n",
       "      <th>fff93a91-e33e-4b9b-ba15-309180ed1baf</th>\n",
       "      <td>(Oberthür, 1909)</td>\n",
       "      <td>ETHZ-ENT0034744</td>\n",
       "      <td>Switzerland</td>\n",
       "      <td>46.46991</td>\n",
       "      <td>8.7193</td>\n",
       "      <td>Nymphalidae</td>\n",
       "      <td>Euphydryas</td>\n",
       "      <td>ETHZ_ENT01_2017_05_26_035522.JPG</td>\n",
       "      <td>2017_05_26R</td>\n",
       "      <td>None</td>\n",
       "      <td>Ticino</td>\n",
       "      <td>aurinia</td>\n",
       "      <td>Nymphalinae</td>\n",
       "      <td>debilis</td>\n",
       "      <td>fff93a91-e33e-4b9b-ba15-309180ed1baf</td>\n",
       "      <td>../raw_data/IMG/ETHZ_ENT01_2017_05_26_035522.JPG</td>\n",
       "      <td>Euphydryas_aurinia</td>\n",
       "    </tr>\n",
       "    <tr>\n",
       "      <th>fffe1dd9-d013-41ed-b03a-21075fc87b20</th>\n",
       "      <td>(Zeller, 1847)</td>\n",
       "      <td>ETHZ-ENT0004748</td>\n",
       "      <td>Switzerland</td>\n",
       "      <td>47.16099</td>\n",
       "      <td>8.74659</td>\n",
       "      <td>Hesperiidae</td>\n",
       "      <td>Carcharodus</td>\n",
       "      <td>ETHZ_ENT01_2017_03_10_001370.JPG</td>\n",
       "      <td>2017_03_10R</td>\n",
       "      <td>None</td>\n",
       "      <td>Schwyz</td>\n",
       "      <td>floccifera</td>\n",
       "      <td>Pyrginae</td>\n",
       "      <td>None</td>\n",
       "      <td>fffe1dd9-d013-41ed-b03a-21075fc87b20</td>\n",
       "      <td>../raw_data/IMG/ETHZ_ENT01_2017_03_10_001370.JPG</td>\n",
       "      <td>Carcharodus_floccifera</td>\n",
       "    </tr>\n",
       "    <tr>\n",
       "      <th>fffe9e18-3374-4ada-9660-700a748fca61</th>\n",
       "      <td>(Denis &amp; Schiffermüller, 1775)</td>\n",
       "      <td>ETHZ-ENT0029923</td>\n",
       "      <td>Switzerland</td>\n",
       "      <td>47.61174</td>\n",
       "      <td>8.62291</td>\n",
       "      <td>Nymphalidae</td>\n",
       "      <td>Fabriciana</td>\n",
       "      <td>ETHZ_ENT01_2017_05_15_030061.JPG</td>\n",
       "      <td>2017_05_15R</td>\n",
       "      <td>None</td>\n",
       "      <td>Zurich</td>\n",
       "      <td>adippe</td>\n",
       "      <td>Heliconiinae</td>\n",
       "      <td>None</td>\n",
       "      <td>fffe9e18-3374-4ada-9660-700a748fca61</td>\n",
       "      <td>../raw_data/IMG/ETHZ_ENT01_2017_05_15_030061.JPG</td>\n",
       "      <td>Fabriciana_adippe</td>\n",
       "    </tr>\n",
       "    <tr>\n",
       "      <th>fffea077-86f3-40cc-ac0c-85e35d36a424</th>\n",
       "      <td>(Denis &amp; Schiffermüller, 1775)</td>\n",
       "      <td>ETHZ-ENT0018330</td>\n",
       "      <td>Switzerland</td>\n",
       "      <td>None</td>\n",
       "      <td>None</td>\n",
       "      <td>Lycaenidae</td>\n",
       "      <td>Lycaena</td>\n",
       "      <td>ETHZ_ENT01_2017_04_19_017011.JPG</td>\n",
       "      <td>2017_04_19R</td>\n",
       "      <td>None</td>\n",
       "      <td>Bern</td>\n",
       "      <td>helle</td>\n",
       "      <td>Lycaeninae</td>\n",
       "      <td>None</td>\n",
       "      <td>fffea077-86f3-40cc-ac0c-85e35d36a424</td>\n",
       "      <td>../raw_data/IMG/ETHZ_ENT01_2017_04_19_017011.JPG</td>\n",
       "      <td>Lycaena_helle</td>\n",
       "    </tr>\n",
       "  </tbody>\n",
       "</table>\n",
       "<p>34656 rows × 17 columns</p>\n",
       "</div>"
      ],
      "text/plain": [
       "                                                              author  \\\n",
       "0000e73d-4d1e-4241-a577-88103fc0961c                   (Mayer, 1851)   \n",
       "000156fb-6f29-4057-b26f-eca7ce9e9460                  (Hübner, 1806)   \n",
       "00025400-f7bd-477b-9363-18defd2d5466                (Linnaeus, 1767)   \n",
       "0006c590-29cd-4a3d-8d81-26023ac346a0              (Rottemburg, 1775)   \n",
       "000b01ec-1bc7-4a3c-8599-0ad88fa654e3  (Denis & Schiffermüller, 1775)   \n",
       "...                                                              ...   \n",
       "fff678fc-110c-4c23-a7f3-43d42c518bd8              (Borkhausen, 1788)   \n",
       "fff93a91-e33e-4b9b-ba15-309180ed1baf                (Oberthür, 1909)   \n",
       "fffe1dd9-d013-41ed-b03a-21075fc87b20                  (Zeller, 1847)   \n",
       "fffe9e18-3374-4ada-9660-700a748fca61  (Denis & Schiffermüller, 1775)   \n",
       "fffea077-86f3-40cc-ac0c-85e35d36a424  (Denis & Schiffermüller, 1775)   \n",
       "\n",
       "                                              barcode      country    dec_lat  \\\n",
       "0000e73d-4d1e-4241-a577-88103fc0961c  ETHZ-ENT0012714  Switzerland      46.31   \n",
       "000156fb-6f29-4057-b26f-eca7ce9e9460  ETHZ-ENT0015323  Switzerland   46.76594   \n",
       "00025400-f7bd-477b-9363-18defd2d5466  ETHZ-ENT0019906      Morocco    30.2804   \n",
       "0006c590-29cd-4a3d-8d81-26023ac346a0  ETHZ-ENT0013615  Switzerland   47.37659   \n",
       "000b01ec-1bc7-4a3c-8599-0ad88fa654e3  ETHZ-ENT0042254  Switzerland   47.36836   \n",
       "...                                               ...          ...        ...   \n",
       "fff678fc-110c-4c23-a7f3-43d42c518bd8  ETHZ-ENT0038949  Switzerland  47.760713   \n",
       "fff93a91-e33e-4b9b-ba15-309180ed1baf  ETHZ-ENT0034744  Switzerland   46.46991   \n",
       "fffe1dd9-d013-41ed-b03a-21075fc87b20  ETHZ-ENT0004748  Switzerland   47.16099   \n",
       "fffe9e18-3374-4ada-9660-700a748fca61  ETHZ-ENT0029923  Switzerland   47.61174   \n",
       "fffea077-86f3-40cc-ac0c-85e35d36a424  ETHZ-ENT0018330  Switzerland       None   \n",
       "\n",
       "                                      dec_long       family        genus  \\\n",
       "0000e73d-4d1e-4241-a577-88103fc0961c       7.8     Pieridae       Pieris   \n",
       "000156fb-6f29-4057-b26f-eca7ce9e9460   9.89316     Pieridae       Pieris   \n",
       "00025400-f7bd-477b-9363-18defd2d5466   -9.1599   Lycaenidae     Leptotes   \n",
       "0006c590-29cd-4a3d-8d81-26023ac346a0  7.740225  Nymphalidae     Melitaea   \n",
       "000b01ec-1bc7-4a3c-8599-0ad88fa654e3   7.73113  Nymphalidae       Erebia   \n",
       "...                                        ...          ...          ...   \n",
       "fff678fc-110c-4c23-a7f3-43d42c518bd8  8.609417  Nymphalidae  Coenonympha   \n",
       "fff93a91-e33e-4b9b-ba15-309180ed1baf    8.7193  Nymphalidae   Euphydryas   \n",
       "fffe1dd9-d013-41ed-b03a-21075fc87b20   8.74659  Hesperiidae  Carcharodus   \n",
       "fffe9e18-3374-4ada-9660-700a748fca61   8.62291  Nymphalidae   Fabriciana   \n",
       "fffea077-86f3-40cc-ac0c-85e35d36a424      None   Lycaenidae      Lycaena   \n",
       "\n",
       "                                                            image_name  \\\n",
       "0000e73d-4d1e-4241-a577-88103fc0961c  ETHZ_ENT01_2017_04_03_010614.JPG   \n",
       "000156fb-6f29-4057-b26f-eca7ce9e9460  ETHZ_ENT01_2017_04_07_013503.JPG   \n",
       "00025400-f7bd-477b-9363-18defd2d5466  ETHZ_ENT01_2017_04_24_018779.JPG   \n",
       "0006c590-29cd-4a3d-8d81-26023ac346a0  ETHZ_ENT01_2017_04_06_012762.JPG   \n",
       "000b01ec-1bc7-4a3c-8599-0ad88fa654e3  ETHZ_ENT01_2017_06_13_043879.JPG   \n",
       "...                                                                ...   \n",
       "fff678fc-110c-4c23-a7f3-43d42c518bd8  ETHZ_ENT01_2017_06_06_040155.JPG   \n",
       "fff93a91-e33e-4b9b-ba15-309180ed1baf  ETHZ_ENT01_2017_05_26_035522.JPG   \n",
       "fffe1dd9-d013-41ed-b03a-21075fc87b20  ETHZ_ENT01_2017_03_10_001370.JPG   \n",
       "fffe9e18-3374-4ada-9660-700a748fca61  ETHZ_ENT01_2017_05_15_030061.JPG   \n",
       "fffea077-86f3-40cc-ac0c-85e35d36a424  ETHZ_ENT01_2017_04_19_017011.JPG   \n",
       "\n",
       "                                       image_path infraspecific_epithet  \\\n",
       "0000e73d-4d1e-4241-a577-88103fc0961c  2017_04_03R                  None   \n",
       "000156fb-6f29-4057-b26f-eca7ce9e9460  2017_04_07R                  None   \n",
       "00025400-f7bd-477b-9363-18defd2d5466  2017_04_24R                  None   \n",
       "0006c590-29cd-4a3d-8d81-26023ac346a0  2017_04_06R                  None   \n",
       "000b01ec-1bc7-4a3c-8599-0ad88fa654e3  2017_06_13R                  None   \n",
       "...                                           ...                   ...   \n",
       "fff678fc-110c-4c23-a7f3-43d42c518bd8  2017_06_06R                  None   \n",
       "fff93a91-e33e-4b9b-ba15-309180ed1baf  2017_05_26R                  None   \n",
       "fffe1dd9-d013-41ed-b03a-21075fc87b20  2017_03_10R                  None   \n",
       "fffe9e18-3374-4ada-9660-700a748fca61  2017_05_15R                  None   \n",
       "fffea077-86f3-40cc-ac0c-85e35d36a424  2017_04_19R                  None   \n",
       "\n",
       "                                      primary_division specific_epithet  \\\n",
       "0000e73d-4d1e-4241-a577-88103fc0961c            Valais           mannii   \n",
       "000156fb-6f29-4057-b26f-eca7ce9e9460           Grisons         bryoniae   \n",
       "00025400-f7bd-477b-9363-18defd2d5466       Souss-Massa        pirithous   \n",
       "0006c590-29cd-4a3d-8d81-26023ac346a0  Basel-Landschaft          athalia   \n",
       "000b01ec-1bc7-4a3c-8599-0ad88fa654e3  Basel-Landschaft           medusa   \n",
       "...                                                ...              ...   \n",
       "fff678fc-110c-4c23-a7f3-43d42c518bd8      Schaffhausen        glycerion   \n",
       "fff93a91-e33e-4b9b-ba15-309180ed1baf            Ticino          aurinia   \n",
       "fffe1dd9-d013-41ed-b03a-21075fc87b20            Schwyz       floccifera   \n",
       "fffe9e18-3374-4ada-9660-700a748fca61            Zurich           adippe   \n",
       "fffea077-86f3-40cc-ac0c-85e35d36a424              Bern            helle   \n",
       "\n",
       "                                          subfamily subspecific_epithet  \\\n",
       "0000e73d-4d1e-4241-a577-88103fc0961c       Pierinae                None   \n",
       "000156fb-6f29-4057-b26f-eca7ce9e9460       Pierinae                None   \n",
       "00025400-f7bd-477b-9363-18defd2d5466  Polyommatinae                None   \n",
       "0006c590-29cd-4a3d-8d81-26023ac346a0    Nymphalinae                None   \n",
       "000b01ec-1bc7-4a3c-8599-0ad88fa654e3      Satyrinae                None   \n",
       "...                                             ...                 ...   \n",
       "fff678fc-110c-4c23-a7f3-43d42c518bd8      Satyrinae                None   \n",
       "fff93a91-e33e-4b9b-ba15-309180ed1baf    Nymphalinae             debilis   \n",
       "fffe1dd9-d013-41ed-b03a-21075fc87b20       Pyrginae                None   \n",
       "fffe9e18-3374-4ada-9660-700a748fca61   Heliconiinae                None   \n",
       "fffea077-86f3-40cc-ac0c-85e35d36a424     Lycaeninae                None   \n",
       "\n",
       "                                                                     token  \\\n",
       "0000e73d-4d1e-4241-a577-88103fc0961c  0000e73d-4d1e-4241-a577-88103fc0961c   \n",
       "000156fb-6f29-4057-b26f-eca7ce9e9460  000156fb-6f29-4057-b26f-eca7ce9e9460   \n",
       "00025400-f7bd-477b-9363-18defd2d5466  00025400-f7bd-477b-9363-18defd2d5466   \n",
       "0006c590-29cd-4a3d-8d81-26023ac346a0  0006c590-29cd-4a3d-8d81-26023ac346a0   \n",
       "000b01ec-1bc7-4a3c-8599-0ad88fa654e3  000b01ec-1bc7-4a3c-8599-0ad88fa654e3   \n",
       "...                                                                    ...   \n",
       "fff678fc-110c-4c23-a7f3-43d42c518bd8  fff678fc-110c-4c23-a7f3-43d42c518bd8   \n",
       "fff93a91-e33e-4b9b-ba15-309180ed1baf  fff93a91-e33e-4b9b-ba15-309180ed1baf   \n",
       "fffe1dd9-d013-41ed-b03a-21075fc87b20  fffe1dd9-d013-41ed-b03a-21075fc87b20   \n",
       "fffe9e18-3374-4ada-9660-700a748fca61  fffe9e18-3374-4ada-9660-700a748fca61   \n",
       "fffea077-86f3-40cc-ac0c-85e35d36a424  fffea077-86f3-40cc-ac0c-85e35d36a424   \n",
       "\n",
       "                                                                         path_to_image  \\\n",
       "0000e73d-4d1e-4241-a577-88103fc0961c  ../raw_data/IMG/ETHZ_ENT01_2017_04_03_010614.JPG   \n",
       "000156fb-6f29-4057-b26f-eca7ce9e9460  ../raw_data/IMG/ETHZ_ENT01_2017_04_07_013503.JPG   \n",
       "00025400-f7bd-477b-9363-18defd2d5466  ../raw_data/IMG/ETHZ_ENT01_2017_04_24_018779.JPG   \n",
       "0006c590-29cd-4a3d-8d81-26023ac346a0  ../raw_data/IMG/ETHZ_ENT01_2017_04_06_012762.JPG   \n",
       "000b01ec-1bc7-4a3c-8599-0ad88fa654e3  ../raw_data/IMG/ETHZ_ENT01_2017_06_13_043879.JPG   \n",
       "...                                                                                ...   \n",
       "fff678fc-110c-4c23-a7f3-43d42c518bd8  ../raw_data/IMG/ETHZ_ENT01_2017_06_06_040155.JPG   \n",
       "fff93a91-e33e-4b9b-ba15-309180ed1baf  ../raw_data/IMG/ETHZ_ENT01_2017_05_26_035522.JPG   \n",
       "fffe1dd9-d013-41ed-b03a-21075fc87b20  ../raw_data/IMG/ETHZ_ENT01_2017_03_10_001370.JPG   \n",
       "fffe9e18-3374-4ada-9660-700a748fca61  ../raw_data/IMG/ETHZ_ENT01_2017_05_15_030061.JPG   \n",
       "fffea077-86f3-40cc-ac0c-85e35d36a424  ../raw_data/IMG/ETHZ_ENT01_2017_04_19_017011.JPG   \n",
       "\n",
       "                                                     species  \n",
       "0000e73d-4d1e-4241-a577-88103fc0961c           Pieris_mannii  \n",
       "000156fb-6f29-4057-b26f-eca7ce9e9460         Pieris_bryoniae  \n",
       "00025400-f7bd-477b-9363-18defd2d5466      Leptotes_pirithous  \n",
       "0006c590-29cd-4a3d-8d81-26023ac346a0        Melitaea_athalia  \n",
       "000b01ec-1bc7-4a3c-8599-0ad88fa654e3           Erebia_medusa  \n",
       "...                                                      ...  \n",
       "fff678fc-110c-4c23-a7f3-43d42c518bd8   Coenonympha_glycerion  \n",
       "fff93a91-e33e-4b9b-ba15-309180ed1baf      Euphydryas_aurinia  \n",
       "fffe1dd9-d013-41ed-b03a-21075fc87b20  Carcharodus_floccifera  \n",
       "fffe9e18-3374-4ada-9660-700a748fca61       Fabriciana_adippe  \n",
       "fffea077-86f3-40cc-ac0c-85e35d36a424           Lycaena_helle  \n",
       "\n",
       "[34656 rows x 17 columns]"
      ]
     },
     "execution_count": 61,
     "metadata": {},
     "output_type": "execute_result"
    }
   ],
   "source": [
    "df_train"
   ]
  },
  {
   "cell_type": "code",
   "execution_count": 64,
   "id": "9bae0476",
   "metadata": {
    "ExecuteTime": {
     "end_time": "2021-08-27T14:25:15.015441Z",
     "start_time": "2021-08-27T14:25:14.862999Z"
    }
   },
   "outputs": [],
   "source": [
    "df_val = preproc.filter_val_test(df_train, df_val)\n",
    "df_test = preproc.filter_val_test(df_train, df_test)"
   ]
  },
  {
   "cell_type": "code",
   "execution_count": 65,
   "id": "a13b8ff1",
   "metadata": {
    "ExecuteTime": {
     "end_time": "2021-08-27T14:25:15.146967Z",
     "start_time": "2021-08-27T14:25:15.122515Z"
    }
   },
   "outputs": [],
   "source": [
    "assert df_val.shape[0] < 5017\n",
    "assert df_test.shape[0] < 4794"
   ]
  },
  {
   "cell_type": "code",
   "execution_count": 99,
   "id": "521ef8a6",
   "metadata": {
    "ExecuteTime": {
     "end_time": "2021-08-27T16:06:43.802433Z",
     "start_time": "2021-08-27T16:06:42.286120Z"
    }
   },
   "outputs": [],
   "source": [
    "df_train = preproc.resampling(df_train)"
   ]
  },
  {
   "cell_type": "code",
   "execution_count": 100,
   "id": "d850010f",
   "metadata": {
    "ExecuteTime": {
     "end_time": "2021-08-27T16:06:43.819471Z",
     "start_time": "2021-08-27T16:06:43.804043Z"
    }
   },
   "outputs": [],
   "source": [
    "if num_photo in [25,26,27]:\n",
    "    assert df_train.shape[0] == 6156\n",
    "elif num_photo < 25:\n",
    "    assert df_train.shape[0] < 6156\n",
    "elif num_photo > 25:\n",
    "    assert df_train.shape[0] > 6156"
   ]
  },
  {
   "cell_type": "code",
   "execution_count": 101,
   "id": "09994827",
   "metadata": {
    "ExecuteTime": {
     "end_time": "2021-08-27T16:06:47.723669Z",
     "start_time": "2021-08-27T16:06:47.708967Z"
    }
   },
   "outputs": [],
   "source": [
    "y_train, y_val, y_test = np.array(df_train.species), np.array(df_val.species), np.array(df_test.species)"
   ]
  },
  {
   "cell_type": "code",
   "execution_count": 102,
   "id": "8052d83f",
   "metadata": {
    "ExecuteTime": {
     "end_time": "2021-08-27T16:06:54.996783Z",
     "start_time": "2021-08-27T16:06:54.949288Z"
    }
   },
   "outputs": [],
   "source": [
    "y_cat_train, y_cat_val, y_cat_test = preproc.cat_encoder(y_train, y_val, y_test)"
   ]
  },
  {
   "cell_type": "code",
   "execution_count": 105,
   "id": "86550d35",
   "metadata": {
    "ExecuteTime": {
     "end_time": "2021-08-27T16:15:38.989274Z",
     "start_time": "2021-08-27T16:15:38.974064Z"
    }
   },
   "outputs": [],
   "source": [
    "assert y_cat_train.shape[1]>1\n",
    "assert y_cat_val.shape[1]>1\n",
    "assert y_cat_test.shape[1]>1"
   ]
  },
  {
   "cell_type": "code",
   "execution_count": 104,
   "id": "768a0f8a",
   "metadata": {
    "ExecuteTime": {
     "end_time": "2021-08-27T16:13:54.534375Z",
     "start_time": "2021-08-27T16:13:54.517947Z"
    }
   },
   "outputs": [
    {
     "data": {
      "text/plain": [
       "10125.0"
      ]
     },
     "execution_count": 104,
     "metadata": {},
     "output_type": "execute_result"
    }
   ],
   "source": [
    "45*300*(75/100)"
   ]
  },
  {
   "cell_type": "markdown",
   "id": "46798bc0",
   "metadata": {},
   "source": [
    "# Test"
   ]
  },
  {
   "cell_type": "code",
   "execution_count": 36,
   "id": "cf3cbccf",
   "metadata": {
    "ExecuteTime": {
     "end_time": "2021-08-27T13:58:42.179460Z",
     "start_time": "2021-08-27T13:58:42.165103Z"
    }
   },
   "outputs": [
    {
     "data": {
      "text/plain": [
       "(6156, 228)"
      ]
     },
     "execution_count": 36,
     "metadata": {},
     "output_type": "execute_result"
    }
   ],
   "source": [
    "# verif qu'il y ait pas des espèces dans val test qui sont pas dans le train"
   ]
  },
  {
   "cell_type": "code",
   "execution_count": null,
   "id": "af266252",
   "metadata": {},
   "outputs": [],
   "source": [
    "# Tester que les objets existent\n",
    "# Tester que la taille des objets a diminué\n",
    "# Tester que les y sont onehotencoded\n",
    "assert y_cat_train\n",
    "assert y_cat_val \n",
    "assert y_cat_test"
   ]
  },
  {
   "cell_type": "code",
   "execution_count": 34,
   "id": "96510b33",
   "metadata": {
    "ExecuteTime": {
     "end_time": "2021-08-27T13:54:40.382984Z",
     "start_time": "2021-08-27T13:54:40.365557Z"
    }
   },
   "outputs": [
    {
     "ename": "AssertionError",
     "evalue": "",
     "output_type": "error",
     "traceback": [
      "\u001b[0;31m---------------------------------------------------------------------------\u001b[0m",
      "\u001b[0;31mAssertionError\u001b[0m                            Traceback (most recent call last)",
      "\u001b[0;32m/tmp/ipykernel_37877/515627638.py\u001b[0m in \u001b[0;36m<module>\u001b[0;34m\u001b[0m\n\u001b[0;32m----> 1\u001b[0;31m \u001b[0;32massert\u001b[0m \u001b[0mdf_train\u001b[0m\u001b[0;34m.\u001b[0m\u001b[0mshape\u001b[0m\u001b[0;34m[\u001b[0m\u001b[0;36m0\u001b[0m\u001b[0;34m]\u001b[0m \u001b[0;34m<\u001b[0m \u001b[0;36m1\u001b[0m\u001b[0;34m\u001b[0m\u001b[0;34m\u001b[0m\u001b[0m\n\u001b[0m",
      "\u001b[0;31mAssertionError\u001b[0m: "
     ]
    }
   ],
   "source": [
    "assert df_train.shape[0] > 1\n"
   ]
  },
  {
   "cell_type": "markdown",
   "id": "15ad7144",
   "metadata": {},
   "source": [
    "# Model"
   ]
  },
  {
   "cell_type": "code",
   "execution_count": null,
   "id": "1a364f6e",
   "metadata": {},
   "outputs": [],
   "source": [
    "# X_y creation based on generator --> to be updated"
   ]
  },
  {
   "cell_type": "code",
   "execution_count": 28,
   "id": "74e73544",
   "metadata": {
    "ExecuteTime": {
     "end_time": "2021-08-27T13:31:45.709809Z",
     "start_time": "2021-08-27T13:31:45.694513Z"
    }
   },
   "outputs": [],
   "source": [
    "A = iter([1,2,3])"
   ]
  },
  {
   "cell_type": "code",
   "execution_count": 32,
   "id": "e7ce689a",
   "metadata": {
    "ExecuteTime": {
     "end_time": "2021-08-27T13:31:55.520949Z",
     "start_time": "2021-08-27T13:31:55.502308Z"
    }
   },
   "outputs": [
    {
     "ename": "StopIteration",
     "evalue": "",
     "output_type": "error",
     "traceback": [
      "\u001b[0;31m---------------------------------------------------------------------------\u001b[0m",
      "\u001b[0;31mStopIteration\u001b[0m                             Traceback (most recent call last)",
      "\u001b[0;32m/tmp/ipykernel_37877/1844343699.py\u001b[0m in \u001b[0;36m<module>\u001b[0;34m\u001b[0m\n\u001b[0;32m----> 1\u001b[0;31m \u001b[0mnext\u001b[0m\u001b[0;34m(\u001b[0m\u001b[0mA\u001b[0m\u001b[0;34m)\u001b[0m\u001b[0;34m\u001b[0m\u001b[0;34m\u001b[0m\u001b[0m\n\u001b[0m",
      "\u001b[0;31mStopIteration\u001b[0m: "
     ]
    }
   ],
   "source": [
    "next(A)"
   ]
  },
  {
   "cell_type": "code",
   "execution_count": 26,
   "id": "36c7f39e",
   "metadata": {
    "ExecuteTime": {
     "end_time": "2021-08-27T13:31:39.293661Z",
     "start_time": "2021-08-27T13:31:39.260122Z"
    }
   },
   "outputs": [
    {
     "data": {
      "text/plain": [
       "False"
      ]
     },
     "execution_count": 26,
     "metadata": {},
     "output_type": "execute_result"
    }
   ],
   "source": [
    "A == True"
   ]
  },
  {
   "cell_type": "code",
   "execution_count": null,
   "id": "1573994e",
   "metadata": {},
   "outputs": [],
   "source": [
    "iter_X, iter_y = iter(df[])\n",
    "for i in range 32"
   ]
  },
  {
   "cell_type": "code",
   "execution_count": null,
   "id": "8cff6b27",
   "metadata": {},
   "outputs": [],
   "source": []
  },
  {
   "cell_type": "code",
   "execution_count": null,
   "id": "2117724d",
   "metadata": {},
   "outputs": [],
   "source": []
  },
  {
   "cell_type": "code",
   "execution_count": 69,
   "id": "3780bad0",
   "metadata": {
    "ExecuteTime": {
     "end_time": "2021-08-27T14:55:05.783225Z",
     "start_time": "2021-08-27T14:55:05.751736Z"
    }
   },
   "outputs": [],
   "source": [
    "espece = df_train.species.unique()"
   ]
  },
  {
   "cell_type": "code",
   "execution_count": 70,
   "id": "64e6d543",
   "metadata": {
    "ExecuteTime": {
     "end_time": "2021-08-27T14:55:09.394784Z",
     "start_time": "2021-08-27T14:55:09.380837Z"
    }
   },
   "outputs": [
    {
     "data": {
      "text/plain": [
       "(228,)"
      ]
     },
     "execution_count": 70,
     "metadata": {},
     "output_type": "execute_result"
    }
   ],
   "source": [
    "espece.shape"
   ]
  },
  {
   "cell_type": "code",
   "execution_count": 81,
   "id": "07093332",
   "metadata": {
    "ExecuteTime": {
     "end_time": "2021-08-27T14:58:29.604032Z",
     "start_time": "2021-08-27T14:58:29.525323Z"
    }
   },
   "outputs": [
    {
     "data": {
      "text/plain": [
       "00067585-e9d2-49e7-a5ac-a3843da09d71    False\n",
       "0013a898-f433-4d2f-ab85-39dea02ee581     True\n",
       "001c7105-2b88-43dc-a948-565c5dda3aff    False\n",
       "00314498-1380-4a03-ae5c-c7f7ec055478     True\n",
       "00371b10-5f47-4e74-b153-ac1b7413062b     True\n",
       "                                        ...  \n",
       "ffcc8e3c-2f36-4102-aa5d-989915616a84     True\n",
       "ffdde789-a352-4cea-99cc-70af81e7c24f    False\n",
       "ffde052f-aaf7-423f-8106-52f0952f171c     True\n",
       "ffe54ca9-9429-4f9a-b560-ff18f011923f     True\n",
       "fff2d047-c85b-4908-b77a-a951cebed822     True\n",
       "Name: species, Length: 5017, dtype: bool"
      ]
     },
     "execution_count": 81,
     "metadata": {},
     "output_type": "execute_result"
    }
   ],
   "source": [
    "df_val['species'].map(lambda x : x in espece)"
   ]
  },
  {
   "cell_type": "code",
   "execution_count": null,
   "id": "e09b253b",
   "metadata": {},
   "outputs": [],
   "source": []
  }
 ],
 "metadata": {
  "kernelspec": {
   "display_name": "Python 3 (ipykernel)",
   "language": "python",
   "name": "python3"
  },
  "language_info": {
   "codemirror_mode": {
    "name": "ipython",
    "version": 3
   },
   "file_extension": ".py",
   "mimetype": "text/x-python",
   "name": "python",
   "nbconvert_exporter": "python",
   "pygments_lexer": "ipython3",
   "version": "3.8.6"
  },
  "toc": {
   "base_numbering": 1,
   "nav_menu": {},
   "number_sections": true,
   "sideBar": true,
   "skip_h1_title": false,
   "title_cell": "Table of Contents",
   "title_sidebar": "Contents",
   "toc_cell": false,
   "toc_position": {},
   "toc_section_display": true,
   "toc_window_display": false
  }
 },
 "nbformat": 4,
 "nbformat_minor": 5
}

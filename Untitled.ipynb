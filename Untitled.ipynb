{
 "cells": [
  {
   "cell_type": "code",
   "execution_count": 5,
   "id": "e1f10ea8",
   "metadata": {},
   "outputs": [],
   "source": [
    "import pickle\n",
    "import pandas as pd\n",
    "\n",
    "infile = open(\"/Users/prunelle/code/Em3line/Butterfly_identification/raw_data/Docker/species_table\",'rb')\n",
    "table = pickle.load(infile)"
   ]
  },
  {
   "cell_type": "code",
   "execution_count": 3,
   "id": "2e5c9d85",
   "metadata": {},
   "outputs": [
    {
     "data": {
      "text/plain": [
       "fff5a40f-4c3e-4dcd-aa8c-adcf0e4dbfdf           Parnassius_apollo\n",
       "4ab247cf-5714-435f-9bdf-a02b4a5b78ec                 Pieris_napi\n",
       "e2ea5a14-1bcb-47c3-b0ee-f486244c8714          Polyommatus_icarus\n",
       "4a2d8f29-400a-40c6-b9eb-9c9990affbce               Plebejus_idas\n",
       "9e00d19e-1841-4b61-a49c-8828d42403a6            Melitaea_athalia\n",
       "                                                  ...           \n",
       "27ab55cd-1579-4f50-8479-25dc97931379             Colias_wiskotti\n",
       "f7c5e197-c7e0-4264-90ec-01dbfc2440b2    Parnassius_stubbendorfii\n",
       "dbe97e63-dd5c-40d0-8a62-a1bd5f517559      Parnassius_charltonius\n",
       "34b806ab-2bfa-4db0-bdca-8c470bcc8661          Euphydryas_maturna\n",
       "b809444a-a3e1-47ec-95ec-7b989b13633f            Pontia_daplidice\n",
       "Name: species, Length: 228, dtype: object"
      ]
     },
     "execution_count": 3,
     "metadata": {},
     "output_type": "execute_result"
    }
   ],
   "source": [
    "table"
   ]
  },
  {
   "cell_type": "code",
   "execution_count": 7,
   "id": "91011979",
   "metadata": {
    "scrolled": true
   },
   "outputs": [
    {
     "data": {
      "text/html": [
       "<div>\n",
       "<style scoped>\n",
       "    .dataframe tbody tr th:only-of-type {\n",
       "        vertical-align: middle;\n",
       "    }\n",
       "\n",
       "    .dataframe tbody tr th {\n",
       "        vertical-align: top;\n",
       "    }\n",
       "\n",
       "    .dataframe thead th {\n",
       "        text-align: right;\n",
       "    }\n",
       "</style>\n",
       "<table border=\"1\" class=\"dataframe\">\n",
       "  <thead>\n",
       "    <tr style=\"text-align: right;\">\n",
       "      <th></th>\n",
       "      <th>species</th>\n",
       "    </tr>\n",
       "  </thead>\n",
       "  <tbody>\n",
       "    <tr>\n",
       "      <th>fff5a40f-4c3e-4dcd-aa8c-adcf0e4dbfdf</th>\n",
       "      <td>Parnassius_apollo</td>\n",
       "    </tr>\n",
       "    <tr>\n",
       "      <th>4ab247cf-5714-435f-9bdf-a02b4a5b78ec</th>\n",
       "      <td>Pieris_napi</td>\n",
       "    </tr>\n",
       "    <tr>\n",
       "      <th>e2ea5a14-1bcb-47c3-b0ee-f486244c8714</th>\n",
       "      <td>Polyommatus_icarus</td>\n",
       "    </tr>\n",
       "    <tr>\n",
       "      <th>4a2d8f29-400a-40c6-b9eb-9c9990affbce</th>\n",
       "      <td>Plebejus_idas</td>\n",
       "    </tr>\n",
       "    <tr>\n",
       "      <th>9e00d19e-1841-4b61-a49c-8828d42403a6</th>\n",
       "      <td>Melitaea_athalia</td>\n",
       "    </tr>\n",
       "    <tr>\n",
       "      <th>160a64ac-364f-40de-bd7d-f3b1836984d2</th>\n",
       "      <td>Lysandra_coridon</td>\n",
       "    </tr>\n",
       "    <tr>\n",
       "      <th>549b4547-2479-4aa1-b5b5-72598c6df74e</th>\n",
       "      <td>Melitaea_didyma</td>\n",
       "    </tr>\n",
       "    <tr>\n",
       "      <th>8ea1395d-6ea5-486d-a68c-8c5732364b55</th>\n",
       "      <td>Pieris_rapae</td>\n",
       "    </tr>\n",
       "    <tr>\n",
       "      <th>2146234d-df2d-4e52-bebd-875ca707450f</th>\n",
       "      <td>Cyaniris_semiargus</td>\n",
       "    </tr>\n",
       "    <tr>\n",
       "      <th>1613ff85-ad63-4391-bf0c-235389eb435f</th>\n",
       "      <td>Lysandra_bellargus</td>\n",
       "    </tr>\n",
       "    <tr>\n",
       "      <th>d7e12df1-135f-4054-9b36-0eb09ab1f861</th>\n",
       "      <td>Euphydryas_aurinia</td>\n",
       "    </tr>\n",
       "    <tr>\n",
       "      <th>a3bfa12a-600b-448c-a162-4bb795b57f77</th>\n",
       "      <td>Lycaena_tityrus</td>\n",
       "    </tr>\n",
       "    <tr>\n",
       "      <th>87bcbf2d-b435-43c9-9eb6-a10e1e25afc6</th>\n",
       "      <td>Parnassius_mnemosyne</td>\n",
       "    </tr>\n",
       "    <tr>\n",
       "      <th>1ab00d7a-bfdc-477e-b935-f40820c225c4</th>\n",
       "      <td>Erebia_euryale</td>\n",
       "    </tr>\n",
       "    <tr>\n",
       "      <th>cec2be6e-01d2-484b-add7-78f5f758a973</th>\n",
       "      <td>Colias_croceus</td>\n",
       "    </tr>\n",
       "    <tr>\n",
       "      <th>3944b9d6-8821-4fd0-be02-dc549248c39e</th>\n",
       "      <td>Leptidea_sinapis</td>\n",
       "    </tr>\n",
       "    <tr>\n",
       "      <th>58cc5319-77b7-4cf3-ac83-003d40112870</th>\n",
       "      <td>Plebejus_argus</td>\n",
       "    </tr>\n",
       "    <tr>\n",
       "      <th>2b00f7cd-8be0-4c0d-a40f-11dded560c99</th>\n",
       "      <td>Lycaena_hippothoe</td>\n",
       "    </tr>\n",
       "    <tr>\n",
       "      <th>36afc0da-13d2-4cf9-a568-b229bc80bbda</th>\n",
       "      <td>Maniola_jurtina</td>\n",
       "    </tr>\n",
       "    <tr>\n",
       "      <th>d487550c-6276-41e7-a198-2f58a14c4ed5</th>\n",
       "      <td>Melanargia_galathea</td>\n",
       "    </tr>\n",
       "    <tr>\n",
       "      <th>9ace68d2-4850-4668-831f-e8fc3d113250</th>\n",
       "      <td>Parnassius_sacerdos</td>\n",
       "    </tr>\n",
       "    <tr>\n",
       "      <th>76532a96-729c-4eea-8f8e-5cc8f6b91830</th>\n",
       "      <td>Erebia_tyndarus</td>\n",
       "    </tr>\n",
       "    <tr>\n",
       "      <th>39c9f770-d7a1-491f-92f8-c3a954ae5b0c</th>\n",
       "      <td>Lycaena_virgaureae</td>\n",
       "    </tr>\n",
       "    <tr>\n",
       "      <th>328dcfc3-829f-448f-a3da-d05a4e51ab17</th>\n",
       "      <td>Colias_phicomone</td>\n",
       "    </tr>\n",
       "    <tr>\n",
       "      <th>8a7382c7-d92c-4594-aeee-90b4262a35b4</th>\n",
       "      <td>Coenonympha_pamphilus</td>\n",
       "    </tr>\n",
       "    <tr>\n",
       "      <th>49dc0f5d-1e29-4e3a-8899-e2a465906c59</th>\n",
       "      <td>Colias_palaeno</td>\n",
       "    </tr>\n",
       "    <tr>\n",
       "      <th>2a899685-a9c6-4d9a-999c-da85b99e56d6</th>\n",
       "      <td>Erebia_melampus</td>\n",
       "    </tr>\n",
       "    <tr>\n",
       "      <th>5ef4233a-8b5a-4c40-bc45-9bc2fdbf1346</th>\n",
       "      <td>Erebia_aethiops</td>\n",
       "    </tr>\n",
       "    <tr>\n",
       "      <th>200c612e-58a3-491b-937a-66a7b5b93c60</th>\n",
       "      <td>Araschnia_levana</td>\n",
       "    </tr>\n",
       "    <tr>\n",
       "      <th>69d1aef6-5aae-46b3-90c5-a75296a5b9ee</th>\n",
       "      <td>Melitaea_diamina</td>\n",
       "    </tr>\n",
       "  </tbody>\n",
       "</table>\n",
       "</div>"
      ],
      "text/plain": [
       "                                                    species\n",
       "fff5a40f-4c3e-4dcd-aa8c-adcf0e4dbfdf      Parnassius_apollo\n",
       "4ab247cf-5714-435f-9bdf-a02b4a5b78ec            Pieris_napi\n",
       "e2ea5a14-1bcb-47c3-b0ee-f486244c8714     Polyommatus_icarus\n",
       "4a2d8f29-400a-40c6-b9eb-9c9990affbce          Plebejus_idas\n",
       "9e00d19e-1841-4b61-a49c-8828d42403a6       Melitaea_athalia\n",
       "160a64ac-364f-40de-bd7d-f3b1836984d2       Lysandra_coridon\n",
       "549b4547-2479-4aa1-b5b5-72598c6df74e        Melitaea_didyma\n",
       "8ea1395d-6ea5-486d-a68c-8c5732364b55           Pieris_rapae\n",
       "2146234d-df2d-4e52-bebd-875ca707450f     Cyaniris_semiargus\n",
       "1613ff85-ad63-4391-bf0c-235389eb435f     Lysandra_bellargus\n",
       "d7e12df1-135f-4054-9b36-0eb09ab1f861     Euphydryas_aurinia\n",
       "a3bfa12a-600b-448c-a162-4bb795b57f77        Lycaena_tityrus\n",
       "87bcbf2d-b435-43c9-9eb6-a10e1e25afc6   Parnassius_mnemosyne\n",
       "1ab00d7a-bfdc-477e-b935-f40820c225c4         Erebia_euryale\n",
       "cec2be6e-01d2-484b-add7-78f5f758a973         Colias_croceus\n",
       "3944b9d6-8821-4fd0-be02-dc549248c39e       Leptidea_sinapis\n",
       "58cc5319-77b7-4cf3-ac83-003d40112870         Plebejus_argus\n",
       "2b00f7cd-8be0-4c0d-a40f-11dded560c99      Lycaena_hippothoe\n",
       "36afc0da-13d2-4cf9-a568-b229bc80bbda        Maniola_jurtina\n",
       "d487550c-6276-41e7-a198-2f58a14c4ed5    Melanargia_galathea\n",
       "9ace68d2-4850-4668-831f-e8fc3d113250    Parnassius_sacerdos\n",
       "76532a96-729c-4eea-8f8e-5cc8f6b91830        Erebia_tyndarus\n",
       "39c9f770-d7a1-491f-92f8-c3a954ae5b0c     Lycaena_virgaureae\n",
       "328dcfc3-829f-448f-a3da-d05a4e51ab17       Colias_phicomone\n",
       "8a7382c7-d92c-4594-aeee-90b4262a35b4  Coenonympha_pamphilus\n",
       "49dc0f5d-1e29-4e3a-8899-e2a465906c59         Colias_palaeno\n",
       "2a899685-a9c6-4d9a-999c-da85b99e56d6        Erebia_melampus\n",
       "5ef4233a-8b5a-4c40-bc45-9bc2fdbf1346        Erebia_aethiops\n",
       "200c612e-58a3-491b-937a-66a7b5b93c60       Araschnia_levana\n",
       "69d1aef6-5aae-46b3-90c5-a75296a5b9ee       Melitaea_diamina"
      ]
     },
     "execution_count": 7,
     "metadata": {},
     "output_type": "execute_result"
    }
   ],
   "source": [
    "df = pd.DataFrame(table)\n",
    "df.head(30)"
   ]
  },
  {
   "cell_type": "code",
   "execution_count": 11,
   "id": "dbf23b9d",
   "metadata": {},
   "outputs": [
    {
     "data": {
      "text/plain": [
       "(228, 1)"
      ]
     },
     "execution_count": 11,
     "metadata": {},
     "output_type": "execute_result"
    }
   ],
   "source": [
    "df.shape"
   ]
  },
  {
   "cell_type": "code",
   "execution_count": 9,
   "id": "8baa0c14",
   "metadata": {},
   "outputs": [],
   "source": [
    "df.iloc[169,:]= \"Iphiclides_podalirius\""
   ]
  },
  {
   "cell_type": "code",
   "execution_count": 10,
   "id": "b568dece",
   "metadata": {},
   "outputs": [],
   "source": [
    "df.iloc[140,:]= \"Iphiclides_podalirius\""
   ]
  },
  {
   "cell_type": "code",
   "execution_count": 13,
   "id": "0134db76",
   "metadata": {},
   "outputs": [],
   "source": [
    "df.iloc[57,:]=\"Vanessa_vulcania\""
   ]
  },
  {
   "cell_type": "code",
   "execution_count": 21,
   "id": "adf69885",
   "metadata": {},
   "outputs": [],
   "source": [
    "file = open(\"/Users/prunelle/code/Em3line/Butterfly_identification/raw_data/Docker/species_table\",'wb')\n",
    "pickle.dump(df, file)\n",
    "file.close()\n"
   ]
  },
  {
   "cell_type": "code",
   "execution_count": 22,
   "id": "4700198c",
   "metadata": {},
   "outputs": [],
   "source": [
    "file = open(\"/Users/prunelle/code/Em3line/Butterfly_identification/raw_data/Docker/species_table\",'rb')\n",
    "table2 = pickle.load(file)\n",
    "file.close()"
   ]
  },
  {
   "cell_type": "code",
   "execution_count": 23,
   "id": "016feb35",
   "metadata": {},
   "outputs": [
    {
     "data": {
      "text/html": [
       "<div>\n",
       "<style scoped>\n",
       "    .dataframe tbody tr th:only-of-type {\n",
       "        vertical-align: middle;\n",
       "    }\n",
       "\n",
       "    .dataframe tbody tr th {\n",
       "        vertical-align: top;\n",
       "    }\n",
       "\n",
       "    .dataframe thead th {\n",
       "        text-align: right;\n",
       "    }\n",
       "</style>\n",
       "<table border=\"1\" class=\"dataframe\">\n",
       "  <thead>\n",
       "    <tr style=\"text-align: right;\">\n",
       "      <th></th>\n",
       "      <th>species</th>\n",
       "    </tr>\n",
       "  </thead>\n",
       "  <tbody>\n",
       "    <tr>\n",
       "      <th>fff5a40f-4c3e-4dcd-aa8c-adcf0e4dbfdf</th>\n",
       "      <td>Parnassius_apollo</td>\n",
       "    </tr>\n",
       "    <tr>\n",
       "      <th>4ab247cf-5714-435f-9bdf-a02b4a5b78ec</th>\n",
       "      <td>Pieris_napi</td>\n",
       "    </tr>\n",
       "    <tr>\n",
       "      <th>e2ea5a14-1bcb-47c3-b0ee-f486244c8714</th>\n",
       "      <td>Polyommatus_icarus</td>\n",
       "    </tr>\n",
       "    <tr>\n",
       "      <th>4a2d8f29-400a-40c6-b9eb-9c9990affbce</th>\n",
       "      <td>Plebejus_idas</td>\n",
       "    </tr>\n",
       "    <tr>\n",
       "      <th>9e00d19e-1841-4b61-a49c-8828d42403a6</th>\n",
       "      <td>Melitaea_athalia</td>\n",
       "    </tr>\n",
       "    <tr>\n",
       "      <th>...</th>\n",
       "      <td>...</td>\n",
       "    </tr>\n",
       "    <tr>\n",
       "      <th>27ab55cd-1579-4f50-8479-25dc97931379</th>\n",
       "      <td>Colias_wiskotti</td>\n",
       "    </tr>\n",
       "    <tr>\n",
       "      <th>f7c5e197-c7e0-4264-90ec-01dbfc2440b2</th>\n",
       "      <td>Parnassius_stubbendorfii</td>\n",
       "    </tr>\n",
       "    <tr>\n",
       "      <th>dbe97e63-dd5c-40d0-8a62-a1bd5f517559</th>\n",
       "      <td>Parnassius_charltonius</td>\n",
       "    </tr>\n",
       "    <tr>\n",
       "      <th>34b806ab-2bfa-4db0-bdca-8c470bcc8661</th>\n",
       "      <td>Euphydryas_maturna</td>\n",
       "    </tr>\n",
       "    <tr>\n",
       "      <th>b809444a-a3e1-47ec-95ec-7b989b13633f</th>\n",
       "      <td>Pontia_daplidice</td>\n",
       "    </tr>\n",
       "  </tbody>\n",
       "</table>\n",
       "<p>228 rows × 1 columns</p>\n",
       "</div>"
      ],
      "text/plain": [
       "                                                       species\n",
       "fff5a40f-4c3e-4dcd-aa8c-adcf0e4dbfdf         Parnassius_apollo\n",
       "4ab247cf-5714-435f-9bdf-a02b4a5b78ec               Pieris_napi\n",
       "e2ea5a14-1bcb-47c3-b0ee-f486244c8714        Polyommatus_icarus\n",
       "4a2d8f29-400a-40c6-b9eb-9c9990affbce             Plebejus_idas\n",
       "9e00d19e-1841-4b61-a49c-8828d42403a6          Melitaea_athalia\n",
       "...                                                        ...\n",
       "27ab55cd-1579-4f50-8479-25dc97931379           Colias_wiskotti\n",
       "f7c5e197-c7e0-4264-90ec-01dbfc2440b2  Parnassius_stubbendorfii\n",
       "dbe97e63-dd5c-40d0-8a62-a1bd5f517559    Parnassius_charltonius\n",
       "34b806ab-2bfa-4db0-bdca-8c470bcc8661        Euphydryas_maturna\n",
       "b809444a-a3e1-47ec-95ec-7b989b13633f          Pontia_daplidice\n",
       "\n",
       "[228 rows x 1 columns]"
      ]
     },
     "execution_count": 23,
     "metadata": {},
     "output_type": "execute_result"
    }
   ],
   "source": [
    "table2"
   ]
  },
  {
   "cell_type": "code",
   "execution_count": 24,
   "id": "1e903b3f",
   "metadata": {},
   "outputs": [
    {
     "data": {
      "text/plain": [
       "species    Iphiclides_podalirius\n",
       "Name: 6c28b503-de33-4a96-8f68-9a6dde8b324d, dtype: object"
      ]
     },
     "execution_count": 24,
     "metadata": {},
     "output_type": "execute_result"
    }
   ],
   "source": [
    "table2.iloc[169,:]"
   ]
  },
  {
   "cell_type": "code",
   "execution_count": 25,
   "id": "ea578a4d",
   "metadata": {},
   "outputs": [
    {
     "data": {
      "text/plain": [
       "species    Iphiclides_podalirius\n",
       "Name: 20405d40-245b-470a-bafd-20fda56736d0, dtype: object"
      ]
     },
     "execution_count": 25,
     "metadata": {},
     "output_type": "execute_result"
    }
   ],
   "source": [
    "table2.iloc[140,:]"
   ]
  },
  {
   "cell_type": "code",
   "execution_count": 26,
   "id": "3ee4ab4e",
   "metadata": {},
   "outputs": [
    {
     "data": {
      "text/plain": [
       "(228, 1)"
      ]
     },
     "execution_count": 26,
     "metadata": {},
     "output_type": "execute_result"
    }
   ],
   "source": [
    "table2.shape"
   ]
  },
  {
   "cell_type": "code",
   "execution_count": null,
   "id": "e07780b7",
   "metadata": {},
   "outputs": [],
   "source": []
  }
 ],
 "metadata": {
  "kernelspec": {
   "display_name": "Python 3 (ipykernel)",
   "language": "python",
   "name": "python3"
  },
  "language_info": {
   "codemirror_mode": {
    "name": "ipython",
    "version": 3
   },
   "file_extension": ".py",
   "mimetype": "text/x-python",
   "name": "python",
   "nbconvert_exporter": "python",
   "pygments_lexer": "ipython3",
   "version": "3.8.6"
  },
  "toc": {
   "base_numbering": 1,
   "nav_menu": {},
   "number_sections": true,
   "sideBar": true,
   "skip_h1_title": false,
   "title_cell": "Table of Contents",
   "title_sidebar": "Contents",
   "toc_cell": false,
   "toc_position": {},
   "toc_section_display": true,
   "toc_window_display": false
  }
 },
 "nbformat": 4,
 "nbformat_minor": 5
}

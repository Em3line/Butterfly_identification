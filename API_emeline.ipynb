{
 "cells": [
  {
   "cell_type": "code",
   "execution_count": 1,
   "id": "aa47c8fe",
   "metadata": {
    "ExecuteTime": {
     "end_time": "2021-09-02T09:28:42.607327Z",
     "start_time": "2021-09-02T09:28:42.589953Z"
    }
   },
   "outputs": [],
   "source": [
    "%load_ext autoreload\n",
    "%autoreload 2"
   ]
  },
  {
   "cell_type": "code",
   "execution_count": 2,
   "id": "f5bfe6a1",
   "metadata": {
    "ExecuteTime": {
     "end_time": "2021-09-02T09:28:44.725597Z",
     "start_time": "2021-09-02T09:28:42.636332Z"
    }
   },
   "outputs": [],
   "source": [
    "from tensorflow.keras.models import load_model\n",
    "from tensorflow.keras.applications.vgg16 import preprocess_input\n",
    "import numpy as np\n",
    "import pandas as pd\n",
    "import pickle\n",
    "from PIL import Image\n",
    "import matplotlib.pyplot as plt\n",
    "import os\n",
    "\n",
    "from Butterfly_identification.preprocessbutterfly import get_data, feature_engineering"
   ]
  },
  {
   "cell_type": "code",
   "execution_count": null,
   "id": "029724c8",
   "metadata": {
    "ExecuteTime": {
     "end_time": "2021-09-02T09:28:46.280517Z",
     "start_time": "2021-09-02T09:28:44.727644Z"
    }
   },
   "outputs": [],
   "source": [
    "# prunelle : je change le path modèle\n",
    "our_model = load_model('../raw_data/Docker/models/API_FTW-dysf/')"
   ]
  },
  {
   "cell_type": "code",
   "execution_count": null,
   "id": "8dc499eb",
   "metadata": {
    "ExecuteTime": {
     "end_time": "2021-09-02T09:38:17.600317Z",
     "start_time": "2021-09-02T09:38:17.399631Z"
    },
    "scrolled": false
   },
   "outputs": [],
   "source": [
    "img = plt.imread('../raw_data/IGM_labels/Test/Papilio_machaon/ETHZ_ENT01_2017_03_18_004443.JPG')\n",
    "#('../raw_data/IGM_labels/Test/Papilio_machaon/ETHZ_ENT01_2017_03_18_004443.JPG')\n",
    "#(\"/Users/prunelle/Downloads/stickers-specimen-de-machaon-commune-papilio-machaon.jpg.jpg\")\n",
    "#('../raw_data/IGM_labels/Train/Agehana_elwesi/ETHZ_ENT01_2018_03_27_138350.JPG')\n",
    "plt.imshow(img)"
   ]
  },
  {
   "cell_type": "code",
   "execution_count": null,
   "id": "0b517307",
   "metadata": {
    "ExecuteTime": {
     "end_time": "2021-09-02T09:38:17.865915Z",
     "start_time": "2021-09-02T09:38:17.825313Z"
    }
   },
   "outputs": [],
   "source": [
    "def prepare_image (img): \n",
    "    img = preprocess_input(img)\n",
    "    img = np.expand_dims(img,axis = 0)\n",
    "    return img\n",
    "img = prepare_image(img)\n",
    "\n",
    "assert img.shape[0] == 1\n",
    "resultat = pd.DataFrame(our_model.predict(img)).T\n",
    "# Load prediction table of species\n",
    "infile = open(\"../raw_data/Docker/species_table\",'rb')\n",
    "table = pickle.load(infile)\n",
    "# merge result and total\n",
    "table = pd.DataFrame(table).reset_index(drop = True)\n",
    "total = resultat.merge(table, right_index=True, left_index=True)\n",
    "total.columns = ['score', 'species']\n",
    "#= Créer la table de correspondance avec les noms communs\n",
    "table_nom_commun = pd.read_json('../raw_data/Docker/table_commun.json')\n",
    "table_nom_commun = table_nom_commun.replace(' ', '_', regex = True)\n",
    "table_nom_commun.columns = ['species', 'nom_commun']\n",
    "\n",
    "# Affiche la table de prédiction\n",
    "table_pred = total.merge(table_nom_commun, how = 'left', on = 'species')\n",
    "\n",
    "total_sort = table_pred.sort_values(ascending=False, by = 'score').head(5)\n",
    "\n",
    "total_sort.iloc[0,2]\n",
    "\n",
    "if total_sort.iloc[0,2] != np.nan:\n",
    "    print('AH')\n",
    "    \n",
    "total_sort['species'].iloc[0]"
   ]
  },
  {
   "cell_type": "code",
   "execution_count": null,
   "id": "8bfbca24",
   "metadata": {},
   "outputs": [],
   "source": [
    "total_sort"
   ]
  },
  {
   "cell_type": "markdown",
   "id": "4746e90f",
   "metadata": {},
   "source": [
    "# Prediction transformer"
   ]
  },
  {
   "cell_type": "markdown",
   "id": "ccfcb156",
   "metadata": {},
   "source": [
    "## Add table_nom_commun"
   ]
  },
  {
   "cell_type": "code",
   "execution_count": null,
   "id": "a86b5c57",
   "metadata": {
    "ExecuteTime": {
     "end_time": "2021-09-02T09:31:35.642938Z",
     "start_time": "2021-09-02T09:31:35.604239Z"
    }
   },
   "outputs": [],
   "source": [
    "table"
   ]
  },
  {
   "cell_type": "code",
   "execution_count": null,
   "id": "a5c9e5b0",
   "metadata": {
    "ExecuteTime": {
     "end_time": "2021-09-02T09:30:54.830732Z",
     "start_time": "2021-09-02T09:30:54.789733Z"
    }
   },
   "outputs": [],
   "source": [
    "#= Créer la table de correspondance avec les noms communs\n",
    "table_nom_commun = pd.read_json('../raw_data/Docker/table_commun.json')\n",
    "table_nom_commun = table_nom_commun.replace(' ', '_', regex = True)\n",
    "table_nom_commun.columns = ['species', 'nom_commun']\n",
    "\n",
    "# Affiche la table de prédiction\n",
    "table_pred = total.merge(table_nom_commun, how = 'left', on = 'species')"
   ]
  },
  {
   "cell_type": "code",
   "execution_count": null,
   "id": "0288aa15",
   "metadata": {
    "ExecuteTime": {
     "end_time": "2021-09-02T09:31:00.437541Z",
     "start_time": "2021-09-02T09:31:00.381024Z"
    }
   },
   "outputs": [],
   "source": [
    "table_pred"
   ]
  },
  {
   "cell_type": "markdown",
   "id": "66b25145",
   "metadata": {},
   "source": [
    "## Return prediction"
   ]
  },
  {
   "cell_type": "code",
   "execution_count": null,
   "id": "24bc83cf",
   "metadata": {
    "ExecuteTime": {
     "end_time": "2021-09-02T09:31:20.480946Z",
     "start_time": "2021-09-02T09:31:20.449425Z"
    }
   },
   "outputs": [],
   "source": [
    "total_sort"
   ]
  },
  {
   "cell_type": "code",
   "execution_count": null,
   "id": "e726d4cd",
   "metadata": {
    "ExecuteTime": {
     "end_time": "2021-09-01T13:47:37.996935Z",
     "start_time": "2021-09-01T13:47:37.966389Z"
    }
   },
   "outputs": [],
   "source": [
    "prediction = total_sort.set_index('species', drop = True).to_dict()['score']"
   ]
  },
  {
   "cell_type": "code",
   "execution_count": null,
   "id": "ba451344",
   "metadata": {
    "ExecuteTime": {
     "end_time": "2021-09-01T13:56:27.033598Z",
     "start_time": "2021-09-01T13:56:26.981745Z"
    }
   },
   "outputs": [],
   "source": [
    "def get_prediction_pictures(species, path = '../raw_data/Docker/'):\n",
    "    ''' This function take one species, the path of the photos folder and the number of photos to return and create a pickle file with the number of photos by species and return the path of this pickle file'''\n",
    "    new_path = path + 'Photos/' + species\n",
    "    all_photos = os.listdir(new_path)\n",
    "    file = open(path + 'Pickle/' + f'pickle_{species}.pkl','wb')\n",
    "    dico = {}\n",
    "    for num, name_path in enumerate(all_photos) :\n",
    "        img = Image.open(new_path + '/' + name_path)\n",
    "        dico[num] = img\n",
    "    pickle.dump(dico,file)\n",
    "    file.close()\n",
    "    return path + 'Pickle/' + f'pickle_{species}.pkl'"
   ]
  },
  {
   "cell_type": "code",
   "execution_count": null,
   "id": "2d413ab8",
   "metadata": {
    "ExecuteTime": {
     "end_time": "2021-09-01T13:56:27.995816Z",
     "start_time": "2021-09-01T13:56:27.943128Z"
    }
   },
   "outputs": [],
   "source": [
    "get_prediction_pictures('Parnassius_apollo')"
   ]
  },
  {
   "cell_type": "code",
   "execution_count": null,
   "id": "81cf89e4",
   "metadata": {
    "ExecuteTime": {
     "end_time": "2021-09-01T13:59:14.164221Z",
     "start_time": "2021-09-01T13:59:14.003110Z"
    }
   },
   "outputs": [],
   "source": [
    "dico = {}\n",
    "for i in prediction.keys():\n",
    "    nom_latin = i\n",
    "    pkl_files = get_prediction_pictures(i)\n",
    "    dico[prediction[i]] = (nom_latin, pkl_files)\n",
    "dico"
   ]
  },
  {
   "cell_type": "markdown",
   "id": "f21ed9f0",
   "metadata": {},
   "source": [
    "*iterlique"
   ]
  },
  {
   "cell_type": "code",
   "execution_count": null,
   "id": "da27f62c",
   "metadata": {
    "ExecuteTime": {
     "end_time": "2021-09-01T14:11:17.722929Z",
     "start_time": "2021-09-01T14:11:17.673709Z"
    }
   },
   "outputs": [],
   "source": [
    "pkl_file = open(dico[0.8924148678779602][1], 'rb')\n",
    "image = pickle.load(pkl_file)\n",
    "pkl_file.close()\n",
    "image"
   ]
  },
  {
   "cell_type": "code",
   "execution_count": null,
   "id": "8879180a",
   "metadata": {
    "ExecuteTime": {
     "end_time": "2021-09-01T14:15:40.570849Z",
     "start_time": "2021-09-01T14:15:40.350667Z"
    }
   },
   "outputs": [],
   "source": [
    "plt.imshow(image[0])"
   ]
  },
  {
   "cell_type": "code",
   "execution_count": null,
   "id": "85026a7e",
   "metadata": {
    "ExecuteTime": {
     "end_time": "2021-09-01T14:10:30.048013Z",
     "start_time": "2021-09-01T14:10:29.996731Z"
    }
   },
   "outputs": [],
   "source": [
    "image = []\n",
    "for i in dico.keys():\n",
    "    pkl_file = open(dico[i][1], 'rb')\n",
    "    image.append(pickle.load(pkl_file))\n",
    "    pkl_file.close()\n",
    "image"
   ]
  },
  {
   "cell_type": "raw",
   "id": "cda7269d",
   "metadata": {
    "ExecuteTime": {
     "end_time": "2021-09-01T09:31:54.607696Z",
     "start_time": "2021-09-01T09:31:54.593397Z"
    }
   },
   "source": [
    "from io import BytesIO\n",
    "uploaded_file = open('../raw_data/20180815_110738.jpg')\n",
    "file = BytesIO(uploaded_file.read())\n",
    "content = file.read()\n",
    "image = Image.open(BytesIO(content)).convert(\"RGB\")\n",
    "uploaded_file.close()"
   ]
  },
  {
   "cell_type": "markdown",
   "id": "418e4bdf",
   "metadata": {},
   "source": [
    "# Modifier le dossier"
   ]
  },
  {
   "cell_type": "markdown",
   "id": "07ab9d13",
   "metadata": {},
   "source": [
    "A partir du dossier (3 images par espèce), faire une fonction qui prend les espèces retenu de la prédiction et qui ressort les images ou un pickle avec les images"
   ]
  },
  {
   "cell_type": "raw",
   "id": "0d5bac2a",
   "metadata": {},
   "source": [
    "import os\n",
    "import shutil\n",
    "import Butterfly_identification.preprocessbutterfly as preproc\n",
    "if __name__ == \"__main__\" :\n",
    "    df_train, df_val, df_test = preproc.get_data(data=[\"train\", \"val\", \"test\"])\n",
    "    print(\">>>>>>>>>>>>>>>>>>>>>>>>        Data loaded        <<<<<<<<<<<<<<<<<<<<<<<<<<<<<\")\n",
    "    df_train, df_val, df_test = preproc.feature_engineering(df_train, df_val, df_test)\n",
    "    print(\">>>>>>>>>>>>>>>>>>>>>>>>      Preprocess done      <<<<<<<<<<<<<<<<<<<<<<<<<<<<<\")\n",
    "    parts =  os.getcwd().split(\"/\")\n",
    "    ABS_PATH = \"/\" + parts[1] + \"/\" + parts[2] + \"/\"\n",
    "    os.chdir(ABS_PATH + \"code/Em3line/Butterfly_identification/raw_data/\")\n",
    "    data_dir = ABS_PATH + \"code/Em3line/Butterfly_identification/raw_data/\"\n",
    "    folder_name_docker = 'Docker/'\n",
    "    os.mkdir(f'{data_dir + folder_name_docker}')\n",
    "    print(f\">>>>>>>>>>>>>>>>>>>>>>>>    {folder_name_docker} created   <<<<<<<<<<<<<<<<<<<<<<<<<<<<<\")\n",
    "    folder_name = 'Photos/'\n",
    "    os.mkdir(f'{data_dir + folder_name_docker + folder_name}')\n",
    "    print(f\">>>>>>>>>>>>>>>>>>>>>>>>    {folder_name} created   <<<<<<<<<<<<<<<<<<<<<<<<<<<<<\")\n",
    "    path = data_dir + folder_name_docker + folder_name\n",
    "    for folder in list(df_train[\"species\"].unique()):\n",
    "        os.mkdir(f\"{path + folder}\")\n",
    "    print(f\">>>>>>>>>>>>>>>>>>>>>>>>    Species folders created   <<<<<<<<<<<<<<<<<<<<<<<<<<<<<\")\n",
    "    images_dir = ABS_PATH + \"code/Em3line/Butterfly_identification/raw_data/IGM_labels/Train/\"\n",
    "    for specie in list(df_train[\"species\"].unique()):\n",
    "        path_to_image = df_train.loc[df_train['species'] == specie, 'image_path'][:3]\n",
    "        for image in path_to_image :\n",
    "            old_path = images_dir + image\n",
    "            new_path = path + image\n",
    "            shutil.copyfile(old_path,new_path)\n",
    "    print(f\">>>>>>>>>>>>>>>>>>>>>>>>   3 images by species copied   <<<<<<<<<<<<<<<<<<<<<<<<<<<<<\")\n",
    "    print(f\">>>>>>>>>>>>>>>>>>>>>>>>   All done. Go check !   <<<<<<<<<<<<<<<<<<<<<<<<<<<<<\")\n",
    "   "
   ]
  },
  {
   "cell_type": "code",
   "execution_count": null,
   "id": "ccf0ce13",
   "metadata": {
    "ExecuteTime": {
     "end_time": "2021-09-01T08:55:47.660139Z",
     "start_time": "2021-09-01T08:55:47.644979Z"
    }
   },
   "outputs": [],
   "source": [
    "plt.imshow(plt.imread('/home/schiryn/code/Em3line/Butterfly_identification/raw_data/IMG_labels/Train/Pieris_mannii/ETHZ_ENT01_2017_04_03_010561.JPG'))"
   ]
  },
  {
   "cell_type": "markdown",
   "id": "ea705e0c",
   "metadata": {},
   "source": [
    "# API "
   ]
  },
  {
   "cell_type": "code",
   "execution_count": null,
   "id": "5ce52035",
   "metadata": {
    "ExecuteTime": {
     "end_time": "2021-09-01T09:31:54.607696Z",
     "start_time": "2021-09-01T09:31:54.593397Z"
    }
   },
   "outputs": [],
   "source": [
    "from io import BytesIO\n",
    "uploaded_file = open('../raw_data/20180815_110738.jpg')\n",
    "file = BytesIO(uploaded_file.read())\n",
    "content = file.read()\n",
    "image = Image.open(BytesIO(content)).convert(\"RGB\")\n",
    "uploaded_file.close()"
   ]
  },
  {
   "cell_type": "markdown",
   "id": "0510c68a",
   "metadata": {},
   "source": [
    "# Fonction"
   ]
  },
  {
   "cell_type": "markdown",
   "id": "82b57e88",
   "metadata": {},
   "source": [
    "A partir du dossier (3 images par espèce), faire une fonction qui prend les espèces retenu de la prédiction et qui ressort les images ou un pickle avec les images"
   ]
  },
  {
   "cell_type": "code",
   "execution_count": null,
   "id": "80f1177a",
   "metadata": {
    "ExecuteTime": {
     "end_time": "2021-09-01T09:42:15.490647Z",
     "start_time": "2021-09-01T09:42:15.478867Z"
    }
   },
   "outputs": [],
   "source": [
    "path + 'Parnassius_apollo'\n",
    "os.listdir(new_path)"
   ]
  },
  {
   "cell_type": "code",
   "execution_count": null,
   "id": "5089d537",
   "metadata": {
    "ExecuteTime": {
     "end_time": "2021-09-01T09:41:07.117014Z",
     "start_time": "2021-09-01T09:41:07.114497Z"
    }
   },
   "outputs": [],
   "source": [
    "path = '/home/schiryn/code/Em3line/Butterfly_identification/raw_data/Docker/Photos/'"
   ]
  },
  {
   "cell_type": "code",
   "execution_count": null,
   "id": "2069d848",
   "metadata": {},
   "outputs": [],
   "source": [
    "import pickle\n",
    "import os\n",
    "# Entree\n",
    "def get_pickle_images(species,path = '/home/schiryn/code/Em3line/Butterfly_identification/raw_data/Docker/',number = 3):\n",
    "    ''' This function take one species, the path of the photos folder and the number of photos to return and\n",
    "    create a pickle file with the number of photos by species and return the path of this pickle file'''\n",
    "    new_path = path + 'Photos/' + species\n",
    "    all_photos = os.listdir(new_path)\n",
    "    file = open(path + 'Pickle/' + f'pickle_{species}.pkl','wb')\n",
    "    dico = {}\n",
    "    for num, name_path in enumerate(all_photos) :\n",
    "        img = Image.open(new_path + '/' + name_path)\n",
    "        dico[num] = img\n",
    "    pickle.dump(dico,file)\n",
    "    file.close()\n",
    "    return path + 'Pickle/' + f'pickle_{species}.pkl'\n",
    "        \n",
    "        \n",
    "# Voir à faire un fonction qui vide le dossier Pickle ?\n",
    "# if f'pickle_{species}.pkl' existe :\n",
    "# pickle.load\n",
    "# else \n",
    "# pkl_path = get_pickle_images()\n",
    "# file = open(pkl_path,'wb')\n",
    "# pickle.load(file)\n",
    "# file.close()"
   ]
  },
  {
   "cell_type": "code",
   "execution_count": null,
   "id": "f036ef18",
   "metadata": {
    "ExecuteTime": {
     "end_time": "2021-09-01T10:26:25.024871Z",
     "start_time": "2021-09-01T10:26:24.987109Z"
    }
   },
   "outputs": [],
   "source": [
    "all_photos"
   ]
  },
  {
   "cell_type": "code",
   "execution_count": null,
   "id": "f0553e53",
   "metadata": {
    "ExecuteTime": {
     "end_time": "2021-09-01T10:26:15.205205Z",
     "start_time": "2021-09-01T10:26:15.175146Z"
    }
   },
   "outputs": [],
   "source": [
    "for num, paths in enumerate(all_photos):\n",
    "    print(num, paths)"
   ]
  },
  {
   "cell_type": "code",
   "execution_count": null,
   "id": "76d00b28",
   "metadata": {
    "ExecuteTime": {
     "end_time": "2021-09-01T09:53:19.929722Z",
     "start_time": "2021-09-01T09:53:19.924359Z"
    }
   },
   "outputs": [],
   "source": [
    "pkl_file = open('pickle_to_suppr.pkl', 'rb')\n",
    "image = pickle.load(pkl_file)\n",
    "pkl_file.close()"
   ]
  },
  {
   "cell_type": "code",
   "execution_count": null,
   "id": "7a606eb6",
   "metadata": {
    "ExecuteTime": {
     "end_time": "2021-09-01T09:55:39.832794Z",
     "start_time": "2021-09-01T09:55:39.625120Z"
    }
   },
   "outputs": [],
   "source": [
    "for i in image :\n",
    "    plt.subplot(1,len(image),i+1)\n",
    "    fig = plt.imshow(image[i])\n",
    "    fig.axes.get_xaxis().set_visible(False)\n",
    "    fig.axes.get_yaxis().set_visible(False)"
   ]
  },
  {
   "cell_type": "code",
   "execution_count": null,
   "id": "daff8f3f",
   "metadata": {
    "ExecuteTime": {
     "end_time": "2021-09-01T10:54:12.705470Z",
     "start_time": "2021-09-01T10:54:12.676586Z"
    }
   },
   "outputs": [],
   "source": [
    "all_photos[:1]"
   ]
  },
  {
   "cell_type": "markdown",
   "id": "d3f3572e",
   "metadata": {},
   "source": [
    "## Prediction"
   ]
  },
  {
   "cell_type": "code",
   "execution_count": null,
   "id": "44d639b9",
   "metadata": {
    "ExecuteTime": {
     "end_time": "2021-08-31T21:42:17.085697Z",
     "start_time": "2021-08-31T21:42:16.960890Z"
    }
   },
   "outputs": [],
   "source": [
    "total_sort"
   ]
  },
  {
   "cell_type": "markdown",
   "id": "fbf104c9",
   "metadata": {},
   "source": [
    "## Get data"
   ]
  },
  {
   "cell_type": "code",
   "execution_count": null,
   "id": "5b64b395",
   "metadata": {
    "ExecuteTime": {
     "end_time": "2021-08-31T21:43:24.402357Z",
     "start_time": "2021-08-31T21:43:12.916430Z"
    }
   },
   "outputs": [],
   "source": [
    "df_train, df_val, df_test = preproc.get_data(data=[\"train\", \"val\", \"test\"])\n",
    "print(\">>>>>>>>>>>>>>>>>>>>>>>>        Data loaded        <<<<<<<<<<<<<<<<<<<<<<<<<<<<<\")\n",
    "df_train, df_val, df_test = preproc.feature_engineering(df_train, df_val, df_test)\n",
    "print(\">>>>>>>>>>>>>>>>>>>>>>>>      Preprocess done      <<<<<<<<<<<<<<<<<<<<<<<<<<<<<\")"
   ]
  },
  {
   "cell_type": "markdown",
   "id": "254dfee5",
   "metadata": {},
   "source": [
    "## Select pictures (n photos from n species)"
   ]
  },
  {
   "cell_type": "code",
   "execution_count": null,
   "id": "9cd6cc17",
   "metadata": {
    "ExecuteTime": {
     "end_time": "2021-08-31T21:44:24.015420Z",
     "start_time": "2021-08-31T21:44:24.004790Z"
    },
    "scrolled": true
   },
   "outputs": [],
   "source": [
    "df = df_train\n",
    "data_to_sample = df.loc[df['species'] == 'Parnassius_apollo', 'image_path']\n",
    "data_to_sample = '../raw_data/Docker/Photos/' + data_to_sample"
   ]
  },
  {
   "cell_type": "code",
   "execution_count": null,
   "id": "b7c26bd6",
   "metadata": {
    "ExecuteTime": {
     "end_time": "2021-08-31T21:44:25.193884Z",
     "start_time": "2021-08-31T21:44:25.180546Z"
    }
   },
   "outputs": [],
   "source": [
    "plt.imread(Image.open(data_to_sample[10]))"
   ]
  },
  {
   "cell_type": "code",
   "execution_count": null,
   "id": "0b1538e7",
   "metadata": {
    "ExecuteTime": {
     "end_time": "2021-08-31T16:08:27.092279Z",
     "start_time": "2021-08-31T16:08:27.081432Z"
    }
   },
   "outputs": [],
   "source": [
    "species = 'Parnassius_apollo'\n",
    "df = df_train\n",
    "data_to_sample = df.loc[df['species'] == species, 'image_path']\n",
    "data_to_sample = '../raw_data/IMG_labels/Train/' + data_to_sample\n",
    "sampling = data_to_sample.sample(3)"
   ]
  },
  {
   "cell_type": "code",
   "execution_count": null,
   "id": "86c4129d",
   "metadata": {
    "ExecuteTime": {
     "end_time": "2021-08-31T16:10:17.913931Z",
     "start_time": "2021-08-31T16:10:17.910236Z"
    }
   },
   "outputs": [],
   "source": [
    "sampling[0]"
   ]
  },
  {
   "cell_type": "code",
   "execution_count": null,
   "id": "d7697a2f",
   "metadata": {
    "ExecuteTime": {
     "end_time": "2021-08-31T21:40:38.540729Z",
     "start_time": "2021-08-31T21:40:38.533303Z"
    }
   },
   "outputs": [],
   "source": [
    "plt.imshow(Image.open(sampling[0]))"
   ]
  },
  {
   "cell_type": "code",
   "execution_count": null,
   "id": "d63c8303",
   "metadata": {
    "ExecuteTime": {
     "end_time": "2021-08-31T16:10:52.334158Z",
     "start_time": "2021-08-31T16:10:52.326819Z"
    }
   },
   "outputs": [],
   "source": [
    "def find_picture(species, df, nb_image = 3):\n",
    "    data_to_sample = df.loc[df['species'] == species, 'image_path']\n",
    "    data_to_sample = '../raw_data/IMG_labels/Train/' + data_to_sample\n",
    "    sampling = data_to_sample.sample(nb_image)\n",
    "    fig, ax = plt.subplots(figsize=(7, 3))\n",
    "    for i,j in enumerate(sampling) :\n",
    "        plt.subplot(1,len(sampling),i+1)\n",
    "        img = Image.open(j)\n",
    "        fig = plt.imshow(img)\n",
    "        fig.axes.get_xaxis().set_visible(False)\n",
    "        fig.axes.get_yaxis().set_visible(False)\n",
    "    return fig"
   ]
  },
  {
   "cell_type": "code",
   "execution_count": null,
   "id": "96cb725c",
   "metadata": {},
   "outputs": [],
   "source": [
    "def find_picture(species, df, nb_image = 3):\n",
    "    data_to_sample = df.loc[df['species'] == species, 'image_path']\n",
    "    fig, ax = plt.subplots(figsize=(7, 3))\n",
    "    for i,j in enumerate(data_to_sample) :\n",
    "        plt.subplot(1,len(sampling),i+1)\n",
    "        img = Image.open('../raw_data/IMG_labels/'j)\n",
    "        fig = plt.imshow(img)\n",
    "        fig.axes.get_xaxis().set_visible(False)\n",
    "        fig.axes.get_yaxis().set_visible(False)\n",
    "    return fig"
   ]
  },
  {
   "cell_type": "code",
   "execution_count": null,
   "id": "b8ca0a2c",
   "metadata": {
    "ExecuteTime": {
     "end_time": "2021-08-31T15:29:09.866642Z",
     "start_time": "2021-08-31T15:28:58.536849Z"
    }
   },
   "outputs": [],
   "source": [
    "df_train, df_val, df_test = get_data()\n",
    "df_train, df_val, df_test = feature_engineering(df_train, df_val,df_test)"
   ]
  },
  {
   "cell_type": "code",
   "execution_count": null,
   "id": "fe4a50cb",
   "metadata": {
    "ExecuteTime": {
     "end_time": "2021-08-31T16:06:31.329857Z",
     "start_time": "2021-08-31T16:06:31.324630Z"
    }
   },
   "outputs": [],
   "source": [
    "img = Image.open('../raw_data/IGM_labels/Train/Parnassius_apollonius/ETHZ_ENT01_2018_03_12_133969.JPG')"
   ]
  },
  {
   "cell_type": "code",
   "execution_count": null,
   "id": "f6d4f0e6",
   "metadata": {
    "ExecuteTime": {
     "end_time": "2021-08-31T16:06:40.043151Z",
     "start_time": "2021-08-31T16:06:39.676554Z"
    }
   },
   "outputs": [],
   "source": [
    "plt.imshow(img)"
   ]
  },
  {
   "cell_type": "code",
   "execution_count": null,
   "id": "10c5d6d7",
   "metadata": {
    "ExecuteTime": {
     "end_time": "2021-08-31T16:10:57.766116Z",
     "start_time": "2021-08-31T16:10:57.635337Z"
    }
   },
   "outputs": [],
   "source": [
    "for i in total_sort['species']:\n",
    "    find_picture(i, df_train, 1)"
   ]
  },
  {
   "cell_type": "code",
   "execution_count": null,
   "id": "d850addb",
   "metadata": {},
   "outputs": [],
   "source": [
    "image = Image.open(BytesIO(content)).convert('RGB')"
   ]
  },
  {
   "cell_type": "markdown",
   "id": "73a9b360",
   "metadata": {},
   "source": [
    "# Pickle"
   ]
  },
  {
   "cell_type": "code",
   "execution_count": null,
   "id": "906f4014",
   "metadata": {},
   "outputs": [],
   "source": [
    "import pickle\n",
    "file = open('model.pkl','wb')\n",
    "pickle.dump(images_predict, file)\n",
    "file.close()"
   ]
  }
 ],
 "metadata": {
  "kernelspec": {
   "display_name": "Python 3 (ipykernel)",
   "language": "python",
   "name": "python3"
  },
  "language_info": {
   "codemirror_mode": {
    "name": "ipython",
    "version": 3
   },
   "file_extension": ".py",
   "mimetype": "text/x-python",
   "name": "python",
   "nbconvert_exporter": "python",
   "pygments_lexer": "ipython3",
   "version": "3.8.6"
  },
  "toc": {
   "base_numbering": 1,
   "nav_menu": {},
   "number_sections": true,
   "sideBar": true,
   "skip_h1_title": false,
   "title_cell": "Table of Contents",
   "title_sidebar": "Contents",
   "toc_cell": false,
   "toc_position": {},
   "toc_section_display": true,
   "toc_window_display": false
  }
 },
 "nbformat": 4,
 "nbformat_minor": 5
}
